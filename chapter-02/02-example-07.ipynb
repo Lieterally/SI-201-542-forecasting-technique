{
 "cells": [
  {
   "cell_type": "code",
   "execution_count": 1,
   "metadata": {},
   "outputs": [],
   "source": [
    "import numpy as np\n",
    "import pandas as pd\n",
    "import scipy.stats as sc_stats\n",
    "import matplotlib.pyplot as plt"
   ]
  },
  {
   "cell_type": "code",
   "execution_count": 2,
   "metadata": {},
   "outputs": [],
   "source": [
    "plt.rcParams.update(plt.rcParamsDefault)\n",
    "plt.rcParams.update({\n",
    "  'font.size': 12,\n",
    "  'grid.alpha': 0.25})"
   ]
  },
  {
   "cell_type": "markdown",
   "metadata": {},
   "source": [
    "## Function declarations\n",
    "\n",
    "### Read `ods` to `DataFrame`\n"
   ]
  },
  {
   "cell_type": "code",
   "execution_count": 3,
   "metadata": {},
   "outputs": [],
   "source": [
    "def read_ods(filename, columns):\n",
    "  key_arr = (k for k in columns.keys())\n",
    "  df = pd.read_excel(filename, engine=\"odf\", header=0,\n",
    "                     usecols=columns)\n",
    "  df = df.rename(columns=columns)\n",
    "  return df"
   ]
  },
  {
   "cell_type": "markdown",
   "metadata": {},
   "source": [
    "### Standard error of autocorrelation\n"
   ]
  },
  {
   "cell_type": "code",
   "execution_count": 4,
   "metadata": {},
   "outputs": [],
   "source": [
    "def std_error(r_k_arr, k, n):\n",
    "  r_k_arr = np.array(r_k_arr)\n",
    "  r_k_arr = r_k_arr[:k-1] if len(r_k_arr) > 1 else [0]\n",
    "  r_k_arr = np.array(r_k_arr)\n",
    "  return np.sqrt((1 + 2*sum(r_k_arr**2))/n)\n"
   ]
  },
  {
   "cell_type": "markdown",
   "metadata": {},
   "source": [
    "### Compute `r_k`, `t_test`, and `LBQ`"
   ]
  },
  {
   "cell_type": "code",
   "execution_count": 5,
   "metadata": {},
   "outputs": [],
   "source": [
    "def get_correlogram(dataframe, up_to_lag, columns=[None, None], \n",
    "                    significance_lvl=0.05):\n",
    "  df = dataframe.copy()\n",
    "\n",
    "  Y_t = df[columns[1]].to_numpy()\n",
    "\n",
    "  mean_Y_t = np.mean(Y_t)\n",
    "\n",
    "  r_lag_arr = np.empty(up_to_lag)\n",
    "  denom = np.sum((Y_t - mean_Y_t)**2)\n",
    "\n",
    "  num_of_samples = len(Y_t)\n",
    "  dof = num_of_samples - 1   # degree of freedom\n",
    "  l_bound = sc_stats.t.ppf(significance_lvl/2, dof)\n",
    "  u_bound = sc_stats.t.ppf(1-significance_lvl/2, dof)\n",
    "  #print(f\"[l_bound, r_bound] = [{l_bound}, {u_bound}]\")\n",
    "\n",
    "  std_error_arr = np.empty(up_to_lag)\n",
    "  significance_lim_arr = np.empty([up_to_lag, 2])\n",
    "\n",
    "  t_test_arr = np.empty(up_to_lag)\n",
    "\n",
    "  # Ljung-Box Q statistic\n",
    "  coeff = num_of_samples*(num_of_samples + 2)\n",
    "  LBQ_arr = np.empty(up_to_lag)\n",
    "\n",
    "  for lag in range(1, up_to_lag+1):\n",
    "    numer = (Y_t[:-lag]  - mean_Y_t) * (Y_t[lag:] - mean_Y_t)\n",
    "    numer = np.sum(numer)\n",
    "    # print(f\"numer = {numer}\")\n",
    "    # print(f\"denom = {denom}\")\n",
    "    r_lag = numer / denom\n",
    "    r_lag_arr[lag-1] = r_lag \n",
    "    std_error_arr[lag-1] = std_error(r_lag_arr[:lag], lag, num_of_samples)\n",
    "    #print(f\"std_error_r_{lag:<2d}: {std_error_arr[lag-1]}\")\n",
    "    significance_lim_arr[lag-1, 0] = l_bound*std_error_arr[lag-1]\n",
    "    significance_lim_arr[lag-1, 1] = u_bound*std_error_arr[lag-1]\n",
    "\n",
    "    t_test_arr[lag-1] = r_lag / std_error_arr[lag-1]\n",
    "    # print(f\"r_{lag:<2d} = {r_lag_arr[lag-1]:9.6f}\")\n",
    "\n",
    "    LBQ_arr[lag-1] = coeff*np.sum((r_lag_arr[:lag]**2)/(num_of_samples - np.arange(1, lag+1)))\n",
    "\n",
    "\n",
    "  df_result = pd.DataFrame({\n",
    "    \"k\": np.arange(1, up_to_lag+1), \n",
    "    \"r_k\": r_lag_arr, \n",
    "    \"t_test\": t_test_arr, \n",
    "    \"LBQ\": LBQ_arr,\n",
    "    \"l_bound\": significance_lim_arr[:,0],\n",
    "    \"u_bound\": significance_lim_arr[:,1]  \n",
    "  })\n",
    "  return df_result"
   ]
  },
  {
   "cell_type": "markdown",
   "metadata": {},
   "source": [
    "### Plot of autocorrelation function"
   ]
  },
  {
   "cell_type": "code",
   "execution_count": 6,
   "metadata": {},
   "outputs": [],
   "source": [
    "def plot_autocorr_func(df_acorr_analysis):\n",
    "  fig, ax = plt.subplots(figsize=(7, 3))\n",
    "\n",
    "  lag_arr = df_acorr_analysis[\"k\"].to_numpy()\n",
    "  stem_handler = ax.stem(lag_arr, df_acorr_analysis[\"r_k\"].to_numpy())\n",
    "\n",
    "  ax.plot(lag_arr, df_acorr_analysis[\"l_bound\"], linestyle='--', color=\"gray\")\n",
    "  ax.plot(lag_arr, df_acorr_analysis[\"u_bound\"], linestyle='--', color=\"gray\")\n",
    "\n",
    "  # [0] = markerline handler\n",
    "  # [1] = stemlines handler\n",
    "  # [2] = baseline handler\n",
    "  stem_handler[0].set_marker(None)\n",
    "  stem_handler[1].set_linewidth(4)\n",
    "  stem_handler[2].set_alpha(0)\n",
    "\n",
    "  ax.grid(\"on\")\n",
    "  ax.set_ylim([-1.1, 1.1])\n",
    "  ax.set_xlabel(\"Lag\")\n",
    "  ax.set_ylabel(\"Autocorrelation\")\n",
    "  ax.set_title(\"Autocorrelation Function for Yt\\n\"\n",
    "    + \"(with 5% significance limits for the autocorrelations)\")\n",
    "\n",
    "  plt.show(fig)\n"
   ]
  },
  {
   "cell_type": "code",
   "execution_count": 7,
   "metadata": {},
   "outputs": [
    {
     "data": {
      "text/html": [
       "<div>\n",
       "<style scoped>\n",
       "    .dataframe tbody tr th:only-of-type {\n",
       "        vertical-align: middle;\n",
       "    }\n",
       "\n",
       "    .dataframe tbody tr th {\n",
       "        vertical-align: top;\n",
       "    }\n",
       "\n",
       "    .dataframe thead th {\n",
       "        text-align: right;\n",
       "    }\n",
       "</style>\n",
       "<table border=\"1\" class=\"dataframe\">\n",
       "  <thead>\n",
       "    <tr style=\"text-align: right;\">\n",
       "      <th></th>\n",
       "      <th>t</th>\n",
       "      <th>Y_t</th>\n",
       "    </tr>\n",
       "  </thead>\n",
       "  <tbody>\n",
       "    <tr>\n",
       "      <th>0</th>\n",
       "      <td>1955</td>\n",
       "      <td>3307</td>\n",
       "    </tr>\n",
       "    <tr>\n",
       "      <th>1</th>\n",
       "      <td>1956</td>\n",
       "      <td>3556</td>\n",
       "    </tr>\n",
       "    <tr>\n",
       "      <th>2</th>\n",
       "      <td>1957</td>\n",
       "      <td>3601</td>\n",
       "    </tr>\n",
       "    <tr>\n",
       "      <th>3</th>\n",
       "      <td>1958</td>\n",
       "      <td>3721</td>\n",
       "    </tr>\n",
       "    <tr>\n",
       "      <th>4</th>\n",
       "      <td>1959</td>\n",
       "      <td>4036</td>\n",
       "    </tr>\n",
       "  </tbody>\n",
       "</table>\n",
       "</div>"
      ],
      "text/plain": [
       "      t   Y_t\n",
       "0  1955  3307\n",
       "1  1956  3556\n",
       "2  1957  3601\n",
       "3  1958  3721\n",
       "4  1959  4036"
      ]
     },
     "execution_count": 7,
     "metadata": {},
     "output_type": "execute_result"
    }
   ],
   "source": [
    "filename = \"02-table-04-sears-operating-revenue.ods\"\n",
    "df = read_ods(filename, {\"Year\": \"t\", \"Yt\": \"Y_t\"})\n",
    "df.head()"
   ]
  },
  {
   "cell_type": "code",
   "execution_count": 8,
   "metadata": {},
   "outputs": [
    {
     "data": {
      "image/png": "[encoded data removed]",
      "text/plain": [
       "<Figure size 600x300 with 1 Axes>"
      ]
     },
     "metadata": {},
     "output_type": "display_data"
    }
   ],
   "source": [
    "fig, ax = plt.subplots(figsize=(6, 3))\n",
    "\n",
    "ax.plot(df[\"t\"], df[\"Y_t\"], marker='o', markersize=4)\n",
    "ax.set_xlabel(\"Year\")\n",
    "ax.set_ylabel(\"Operating revenue\")\n",
    "ax.set_title(\"Sears Operating Revenue: 1955-2004\")\n",
    "ax.grid(\"on\")\n",
    "plt.show(fig)"
   ]
  },
  {
   "cell_type": "markdown",
   "metadata": {},
   "source": [
    "## Moving average residuals"
   ]
  },
  {
   "cell_type": "code",
   "execution_count": 9,
   "metadata": {},
   "outputs": [
    {
     "data": {
      "text/html": [
       "<div>\n",
       "<style scoped>\n",
       "    .dataframe tbody tr th:only-of-type {\n",
       "        vertical-align: middle;\n",
       "    }\n",
       "\n",
       "    .dataframe tbody tr th {\n",
       "        vertical-align: top;\n",
       "    }\n",
       "\n",
       "    .dataframe thead th {\n",
       "        text-align: right;\n",
       "    }\n",
       "</style>\n",
       "<table border=\"1\" class=\"dataframe\">\n",
       "  <thead>\n",
       "    <tr style=\"text-align: right;\">\n",
       "      <th></th>\n",
       "      <th>t</th>\n",
       "      <th>Y_t</th>\n",
       "      <th>hat_Y_t</th>\n",
       "      <th>e_t</th>\n",
       "    </tr>\n",
       "  </thead>\n",
       "  <tbody>\n",
       "    <tr>\n",
       "      <th>0</th>\n",
       "      <td>1960</td>\n",
       "      <td>4134</td>\n",
       "      <td>3644.2</td>\n",
       "      <td>489.8</td>\n",
       "    </tr>\n",
       "    <tr>\n",
       "      <th>1</th>\n",
       "      <td>1961</td>\n",
       "      <td>4268</td>\n",
       "      <td>3809.6</td>\n",
       "      <td>458.4</td>\n",
       "    </tr>\n",
       "    <tr>\n",
       "      <th>2</th>\n",
       "      <td>1962</td>\n",
       "      <td>4578</td>\n",
       "      <td>3952.0</td>\n",
       "      <td>626.0</td>\n",
       "    </tr>\n",
       "    <tr>\n",
       "      <th>3</th>\n",
       "      <td>1963</td>\n",
       "      <td>5093</td>\n",
       "      <td>4147.4</td>\n",
       "      <td>945.6</td>\n",
       "    </tr>\n",
       "    <tr>\n",
       "      <th>4</th>\n",
       "      <td>1964</td>\n",
       "      <td>5716</td>\n",
       "      <td>4421.8</td>\n",
       "      <td>1294.2</td>\n",
       "    </tr>\n",
       "  </tbody>\n",
       "</table>\n",
       "</div>"
      ],
      "text/plain": [
       "      t   Y_t  hat_Y_t     e_t\n",
       "0  1960  4134   3644.2   489.8\n",
       "1  1961  4268   3809.6   458.4\n",
       "2  1962  4578   3952.0   626.0\n",
       "3  1963  5093   4147.4   945.6\n",
       "4  1964  5716   4421.8  1294.2"
      ]
     },
     "execution_count": 9,
     "metadata": {},
     "output_type": "execute_result"
    }
   ],
   "source": [
    "df_movave = df.copy()\n",
    "df_movave[\"hat_Y_t\"] = df_movave[\"Y_t\"].rolling(window=5).mean().shift(1)\n",
    "df_movave[\"e_t\"] = df_movave[\"Y_t\"] - df_movave[\"hat_Y_t\"]\n",
    "df_movave = df_movave.dropna().reset_index(drop=True)\n",
    "df_movave.head()"
   ]
  },
  {
   "cell_type": "code",
   "execution_count": 10,
   "metadata": {},
   "outputs": [
    {
     "data": {
      "text/html": [
       "<div>\n",
       "<style scoped>\n",
       "    .dataframe tbody tr th:only-of-type {\n",
       "        vertical-align: middle;\n",
       "    }\n",
       "\n",
       "    .dataframe tbody tr th {\n",
       "        vertical-align: top;\n",
       "    }\n",
       "\n",
       "    .dataframe thead th {\n",
       "        text-align: right;\n",
       "    }\n",
       "</style>\n",
       "<table border=\"1\" class=\"dataframe\">\n",
       "  <thead>\n",
       "    <tr style=\"text-align: right;\">\n",
       "      <th></th>\n",
       "      <th>k</th>\n",
       "      <th>r_k</th>\n",
       "      <th>t_test</th>\n",
       "      <th>LBQ</th>\n",
       "      <th>l_bound</th>\n",
       "      <th>u_bound</th>\n",
       "    </tr>\n",
       "  </thead>\n",
       "  <tbody>\n",
       "    <tr>\n",
       "      <th>0</th>\n",
       "      <td>1</td>\n",
       "      <td>0.767355</td>\n",
       "      <td>5.147571</td>\n",
       "      <td>28.304134</td>\n",
       "      <td>-0.300433</td>\n",
       "      <td>0.300433</td>\n",
       "    </tr>\n",
       "    <tr>\n",
       "      <th>1</th>\n",
       "      <td>2</td>\n",
       "      <td>0.577829</td>\n",
       "      <td>2.626699</td>\n",
       "      <td>44.726707</td>\n",
       "      <td>-0.443347</td>\n",
       "      <td>0.443347</td>\n",
       "    </tr>\n",
       "    <tr>\n",
       "      <th>2</th>\n",
       "      <td>3</td>\n",
       "      <td>0.452556</td>\n",
       "      <td>1.799716</td>\n",
       "      <td>55.040208</td>\n",
       "      <td>-0.506784</td>\n",
       "      <td>0.506784</td>\n",
       "    </tr>\n",
       "    <tr>\n",
       "      <th>3</th>\n",
       "      <td>4</td>\n",
       "      <td>0.302645</td>\n",
       "      <td>1.125281</td>\n",
       "      <td>59.765121</td>\n",
       "      <td>-0.542035</td>\n",
       "      <td>0.542035</td>\n",
       "    </tr>\n",
       "    <tr>\n",
       "      <th>4</th>\n",
       "      <td>5</td>\n",
       "      <td>0.242298</td>\n",
       "      <td>0.876572</td>\n",
       "      <td>62.869320</td>\n",
       "      <td>-0.557078</td>\n",
       "      <td>0.557078</td>\n",
       "    </tr>\n",
       "    <tr>\n",
       "      <th>5</th>\n",
       "      <td>6</td>\n",
       "      <td>0.260305</td>\n",
       "      <td>0.926039</td>\n",
       "      <td>66.543934</td>\n",
       "      <td>-0.566511</td>\n",
       "      <td>0.566511</td>\n",
       "    </tr>\n",
       "    <tr>\n",
       "      <th>6</th>\n",
       "      <td>7</td>\n",
       "      <td>0.263140</td>\n",
       "      <td>0.918779</td>\n",
       "      <td>70.397844</td>\n",
       "      <td>-0.577205</td>\n",
       "      <td>0.577205</td>\n",
       "    </tr>\n",
       "    <tr>\n",
       "      <th>7</th>\n",
       "      <td>8</td>\n",
       "      <td>0.213366</td>\n",
       "      <td>0.731392</td>\n",
       "      <td>73.000143</td>\n",
       "      <td>-0.587934</td>\n",
       "      <td>0.587934</td>\n",
       "    </tr>\n",
       "    <tr>\n",
       "      <th>8</th>\n",
       "      <td>9</td>\n",
       "      <td>0.092468</td>\n",
       "      <td>0.313266</td>\n",
       "      <td>73.502471</td>\n",
       "      <td>-0.594881</td>\n",
       "      <td>0.594881</td>\n",
       "    </tr>\n",
       "    <tr>\n",
       "      <th>9</th>\n",
       "      <td>10</td>\n",
       "      <td>-0.080688</td>\n",
       "      <td>-0.272764</td>\n",
       "      <td>73.895892</td>\n",
       "      <td>-0.596177</td>\n",
       "      <td>0.596177</td>\n",
       "    </tr>\n",
       "  </tbody>\n",
       "</table>\n",
       "</div>"
      ],
      "text/plain": [
       "    k       r_k    t_test        LBQ   l_bound   u_bound\n",
       "0   1  0.767355  5.147571  28.304134 -0.300433  0.300433\n",
       "1   2  0.577829  2.626699  44.726707 -0.443347  0.443347\n",
       "2   3  0.452556  1.799716  55.040208 -0.506784  0.506784\n",
       "3   4  0.302645  1.125281  59.765121 -0.542035  0.542035\n",
       "4   5  0.242298  0.876572  62.869320 -0.557078  0.557078\n",
       "5   6  0.260305  0.926039  66.543934 -0.566511  0.566511\n",
       "6   7  0.263140  0.918779  70.397844 -0.577205  0.577205\n",
       "7   8  0.213366  0.731392  73.000143 -0.587934  0.587934\n",
       "8   9  0.092468  0.313266  73.502471 -0.594881  0.594881\n",
       "9  10 -0.080688 -0.272764  73.895892 -0.596177  0.596177"
      ]
     },
     "execution_count": 10,
     "metadata": {},
     "output_type": "execute_result"
    }
   ],
   "source": [
    "num_of_rk = 10\n",
    "df_acorr_analysis = get_correlogram(df_movave, num_of_rk, columns=['t', \"e_t\"])\n",
    "df_acorr_analysis\n"
   ]
  },
  {
   "cell_type": "code",
   "execution_count": 11,
   "metadata": {},
   "outputs": [
    {
     "data": {
      "image/png": "[encoded data removed]",
      "text/plain": [
       "<Figure size 700x300 with 1 Axes>"
      ]
     },
     "metadata": {},
     "output_type": "display_data"
    }
   ],
   "source": [
    "plot_autocorr_func(df_acorr_analysis)\n"
   ]
  },
  {
   "cell_type": "markdown",
   "metadata": {},
   "source": [
    "## Holt's linear exponential smoothing\n",
    "\n",
    "We will cover this topic in the next lecture. "
   ]
  },
  {
   "cell_type": "markdown",
   "metadata": {},
   "source": []
  }
 ],
 "metadata": {
  "kernelspec": {
   "display_name": "Python 3.8.10 ('base')",
   "language": "python",
   "name": "python3"
  },
  "language_info": {
   "codemirror_mode": {
    "name": "ipython",
    "version": 3
   },
   "file_extension": ".py",
   "mimetype": "text/x-python",
   "name": "python",
   "nbconvert_exporter": "python",
   "pygments_lexer": "ipython3",
   "version": "3.8.10"
  },
  "orig_nbformat": 4,
  "vscode": {
   "interpreter": {
    "hash": "b68217c4fa6011267e0d81cc47bb50822e9770eb46de3a1f506be20c9f89249d"
   }
  }
 },
 "nbformat": 4,
 "nbformat_minor": 2
}
