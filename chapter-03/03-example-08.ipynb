{
 "cells": [
  {
   "cell_type": "markdown",
   "metadata": {},
   "source": [
    "# Example 8\n",
    "\n",
    "This is a copy of Example 6 with optimal $\\alpha$"
   ]
  },
  {
   "cell_type": "code",
   "execution_count": 3,
   "metadata": {},
   "outputs": [],
   "source": [
    "import matplotlib.pyplot as plt\n",
    "import numpy as np\n",
    "import pandas as pd\n",
    "import scipy.stats as sc_stats"
   ]
  },
  {
   "cell_type": "code",
   "execution_count": 4,
   "metadata": {},
   "outputs": [],
   "source": [
    "plt.rcParams.update(plt.rcParamsDefault)\n",
    "plt.rcParams.update({\n",
    "  'font.size': 12,\n",
    "  'grid.alpha': 0.25})\n"
   ]
  },
  {
   "cell_type": "markdown",
   "metadata": {},
   "source": [
    "## Function declarations\n",
    "\n",
    "### Read `ods` to `DataFrame`\n"
   ]
  },
  {
   "cell_type": "code",
   "execution_count": 5,
   "metadata": {},
   "outputs": [],
   "source": [
    "def read_ods(filename, columns):\n",
    "  key_arr = (k for k in columns.keys())\n",
    "  df = pd.read_excel(filename, engine=\"odf\", header=0,\n",
    "                     usecols=columns)\n",
    "  df = df.rename(columns=columns)\n",
    "  return df\n"
   ]
  },
  {
   "cell_type": "markdown",
   "metadata": {},
   "source": [
    "### Get accuracy measures"
   ]
  },
  {
   "cell_type": "code",
   "execution_count": 6,
   "metadata": {},
   "outputs": [],
   "source": [
    "def get_accuracy_measures(dataframe, columns=[\"Y_t\", \"hat_Y_t\"]):\n",
    "  Y_t = dataframe[columns[0]]\n",
    "  hat_Y_t = dataframe[columns[1]]\n",
    "\n",
    "  MAPE = (((Y_t - hat_Y_t).abs())/Y_t.abs()).mean()\n",
    "  MAD = (Y_t - hat_Y_t).abs().mean()\n",
    "  MSD = ((Y_t - hat_Y_t)**2).mean()\n",
    "  \n",
    "  return MAPE, MAD, MSD\n",
    "\n",
    "  "
   ]
  },
  {
   "cell_type": "markdown",
   "metadata": {},
   "source": [
    "### Standard error of autocorrelation\n"
   ]
  },
  {
   "cell_type": "code",
   "execution_count": 7,
   "metadata": {},
   "outputs": [],
   "source": [
    "def std_error(r_k_arr, k, n):\n",
    "  r_k_arr = np.array(r_k_arr)\n",
    "  r_k_arr = r_k_arr[:k-1] if len(r_k_arr) > 1 else [0]\n",
    "  r_k_arr = np.array(r_k_arr)\n",
    "  return np.sqrt((1 + 2*sum(r_k_arr**2))/n)\n"
   ]
  },
  {
   "cell_type": "markdown",
   "metadata": {},
   "source": [
    "### Compute `r_k`, `t_test`, and `LBQ`"
   ]
  },
  {
   "cell_type": "code",
   "execution_count": 8,
   "metadata": {},
   "outputs": [],
   "source": [
    "def get_correlogram(dataframe, up_to_lag, columns=[None, None], \n",
    "                    significance_lvl=0.05):\n",
    "  df = dataframe.copy()\n",
    "\n",
    "  Y_t = df[columns[1]].to_numpy()\n",
    "\n",
    "  mean_Y_t = np.mean(Y_t)\n",
    "\n",
    "  r_lag_arr = np.empty(up_to_lag)\n",
    "  denom = np.sum((Y_t - mean_Y_t)**2)\n",
    "\n",
    "  num_of_samples = len(Y_t)\n",
    "  dof = num_of_samples - 1   # degree of freedom\n",
    "  l_bound = sc_stats.t.ppf(significance_lvl/2, dof)\n",
    "  u_bound = sc_stats.t.ppf(1-significance_lvl/2, dof)\n",
    "  #print(f\"[l_bound, r_bound] = [{l_bound}, {u_bound}]\")\n",
    "\n",
    "  std_error_arr = np.empty(up_to_lag)\n",
    "  significance_lim_arr = np.empty([up_to_lag, 2])\n",
    "\n",
    "  t_test_arr = np.empty(up_to_lag)\n",
    "\n",
    "  # Ljung-Box Q statistic\n",
    "  coeff = num_of_samples*(num_of_samples + 2)\n",
    "  LBQ_arr = np.empty(up_to_lag)\n",
    "\n",
    "  for lag in range(1, up_to_lag+1):\n",
    "    numer = (Y_t[:-lag]  - mean_Y_t) * (Y_t[lag:] - mean_Y_t)\n",
    "    numer = np.sum(numer)\n",
    "    # print(f\"numer = {numer}\")\n",
    "    # print(f\"denom = {denom}\")\n",
    "    r_lag = numer / denom\n",
    "    r_lag_arr[lag-1] = r_lag \n",
    "    std_error_arr[lag-1] = std_error(r_lag_arr[:lag], lag, num_of_samples)\n",
    "    #print(f\"std_error_r_{lag:<2d}: {std_error_arr[lag-1]}\")\n",
    "    significance_lim_arr[lag-1, 0] = l_bound*std_error_arr[lag-1]\n",
    "    significance_lim_arr[lag-1, 1] = u_bound*std_error_arr[lag-1]\n",
    "\n",
    "    t_test_arr[lag-1] = r_lag / std_error_arr[lag-1]\n",
    "    # print(f\"r_{lag:<2d} = {r_lag_arr[lag-1]:9.6f}\")\n",
    "\n",
    "    LBQ_arr[lag-1] = coeff*np.sum((r_lag_arr[:lag]**2)/(num_of_samples - np.arange(1, lag+1)))\n",
    "\n",
    "\n",
    "  df_result = pd.DataFrame({\n",
    "    \"k\": np.arange(1, up_to_lag+1), \n",
    "    \"r_k\": r_lag_arr, \n",
    "    \"t_test\": t_test_arr, \n",
    "    \"LBQ\": LBQ_arr,\n",
    "    \"l_bound\": significance_lim_arr[:,0],\n",
    "    \"u_bound\": significance_lim_arr[:,1]  \n",
    "  })\n",
    "  return df_result"
   ]
  },
  {
   "cell_type": "markdown",
   "metadata": {},
   "source": [
    "### Plot of autocorrelation function"
   ]
  },
  {
   "cell_type": "code",
   "execution_count": 9,
   "metadata": {},
   "outputs": [],
   "source": [
    "def plot_autocorr_func(df_acorr_analysis, title=None):\n",
    "  fig, ax = plt.subplots(figsize=(7, 3))\n",
    "\n",
    "  lag_arr = df_acorr_analysis[\"k\"].to_numpy()\n",
    "  stem_handler = ax.stem(lag_arr, df_acorr_analysis[\"r_k\"].to_numpy())\n",
    "\n",
    "  ax.plot(lag_arr, df_acorr_analysis[\"l_bound\"], linestyle='--', color=\"gray\")\n",
    "  ax.plot(lag_arr, df_acorr_analysis[\"u_bound\"], linestyle='--', color=\"gray\")\n",
    "\n",
    "  # [0] = markerline handler\n",
    "  # [1] = stemlines handler\n",
    "  # [2] = baseline handler\n",
    "  stem_handler[0].set_marker(None)\n",
    "  stem_handler[1].set_linewidth(4)\n",
    "  stem_handler[2].set_alpha(0)\n",
    "\n",
    "  ax.grid(\"on\")\n",
    "  ax.set_ylim([-1.1, 1.1])\n",
    "  ax.set_xlabel(\"Lag\")\n",
    "  ax.set_ylabel(\"Autocorrelation\")\n",
    "  ax.set_title(f\"Autocorrelation Function for {title}\\n\"\n",
    "    + \"(with 5% significance limits for the autocorrelations)\")\n",
    "\n",
    "  plt.show(fig)\n"
   ]
  },
  {
   "cell_type": "markdown",
   "metadata": {},
   "source": [
    "## Load the data"
   ]
  },
  {
   "cell_type": "code",
   "execution_count": 10,
   "metadata": {},
   "outputs": [
    {
     "data": {
      "text/html": [
       "<div>\n",
       "<style scoped>\n",
       "    .dataframe tbody tr th:only-of-type {\n",
       "        vertical-align: middle;\n",
       "    }\n",
       "\n",
       "    .dataframe tbody tr th {\n",
       "        vertical-align: top;\n",
       "    }\n",
       "\n",
       "    .dataframe thead th {\n",
       "        text-align: right;\n",
       "    }\n",
       "</style>\n",
       "<table border=\"1\" class=\"dataframe\">\n",
       "  <thead>\n",
       "    <tr style=\"text-align: right;\">\n",
       "      <th></th>\n",
       "      <th>t</th>\n",
       "      <th>Y_t</th>\n",
       "    </tr>\n",
       "  </thead>\n",
       "  <tbody>\n",
       "    <tr>\n",
       "      <th>0</th>\n",
       "      <td>1</td>\n",
       "      <td>500</td>\n",
       "    </tr>\n",
       "    <tr>\n",
       "      <th>1</th>\n",
       "      <td>2</td>\n",
       "      <td>350</td>\n",
       "    </tr>\n",
       "    <tr>\n",
       "      <th>2</th>\n",
       "      <td>3</td>\n",
       "      <td>250</td>\n",
       "    </tr>\n",
       "    <tr>\n",
       "      <th>3</th>\n",
       "      <td>4</td>\n",
       "      <td>400</td>\n",
       "    </tr>\n",
       "    <tr>\n",
       "      <th>4</th>\n",
       "      <td>5</td>\n",
       "      <td>450</td>\n",
       "    </tr>\n",
       "    <tr>\n",
       "      <th>5</th>\n",
       "      <td>6</td>\n",
       "      <td>350</td>\n",
       "    </tr>\n",
       "    <tr>\n",
       "      <th>6</th>\n",
       "      <td>7</td>\n",
       "      <td>200</td>\n",
       "    </tr>\n",
       "    <tr>\n",
       "      <th>7</th>\n",
       "      <td>8</td>\n",
       "      <td>300</td>\n",
       "    </tr>\n",
       "    <tr>\n",
       "      <th>8</th>\n",
       "      <td>9</td>\n",
       "      <td>350</td>\n",
       "    </tr>\n",
       "    <tr>\n",
       "      <th>9</th>\n",
       "      <td>10</td>\n",
       "      <td>200</td>\n",
       "    </tr>\n",
       "    <tr>\n",
       "      <th>10</th>\n",
       "      <td>11</td>\n",
       "      <td>150</td>\n",
       "    </tr>\n",
       "    <tr>\n",
       "      <th>11</th>\n",
       "      <td>12</td>\n",
       "      <td>400</td>\n",
       "    </tr>\n",
       "    <tr>\n",
       "      <th>12</th>\n",
       "      <td>13</td>\n",
       "      <td>550</td>\n",
       "    </tr>\n",
       "    <tr>\n",
       "      <th>13</th>\n",
       "      <td>14</td>\n",
       "      <td>350</td>\n",
       "    </tr>\n",
       "    <tr>\n",
       "      <th>14</th>\n",
       "      <td>15</td>\n",
       "      <td>250</td>\n",
       "    </tr>\n",
       "    <tr>\n",
       "      <th>15</th>\n",
       "      <td>16</td>\n",
       "      <td>550</td>\n",
       "    </tr>\n",
       "    <tr>\n",
       "      <th>16</th>\n",
       "      <td>17</td>\n",
       "      <td>550</td>\n",
       "    </tr>\n",
       "    <tr>\n",
       "      <th>17</th>\n",
       "      <td>18</td>\n",
       "      <td>400</td>\n",
       "    </tr>\n",
       "    <tr>\n",
       "      <th>18</th>\n",
       "      <td>19</td>\n",
       "      <td>350</td>\n",
       "    </tr>\n",
       "    <tr>\n",
       "      <th>19</th>\n",
       "      <td>20</td>\n",
       "      <td>600</td>\n",
       "    </tr>\n",
       "    <tr>\n",
       "      <th>20</th>\n",
       "      <td>21</td>\n",
       "      <td>750</td>\n",
       "    </tr>\n",
       "    <tr>\n",
       "      <th>21</th>\n",
       "      <td>22</td>\n",
       "      <td>500</td>\n",
       "    </tr>\n",
       "    <tr>\n",
       "      <th>22</th>\n",
       "      <td>23</td>\n",
       "      <td>400</td>\n",
       "    </tr>\n",
       "    <tr>\n",
       "      <th>23</th>\n",
       "      <td>24</td>\n",
       "      <td>650</td>\n",
       "    </tr>\n",
       "  </tbody>\n",
       "</table>\n",
       "</div>"
      ],
      "text/plain": [
       "     t  Y_t\n",
       "0    1  500\n",
       "1    2  350\n",
       "2    3  250\n",
       "3    4  400\n",
       "4    5  450\n",
       "5    6  350\n",
       "6    7  200\n",
       "7    8  300\n",
       "8    9  350\n",
       "9   10  200\n",
       "10  11  150\n",
       "11  12  400\n",
       "12  13  550\n",
       "13  14  350\n",
       "14  15  250\n",
       "15  16  550\n",
       "16  17  550\n",
       "17  18  400\n",
       "18  19  350\n",
       "19  20  600\n",
       "20  21  750\n",
       "21  22  500\n",
       "22  23  400\n",
       "23  24  650"
      ]
     },
     "execution_count": 10,
     "metadata": {},
     "output_type": "execute_result"
    }
   ],
   "source": [
    "filename = \"03-table-01-sales-of-saws-for-acme-tool.ods\"\n",
    "df = read_ods(filename, \n",
    "  {\"t\": \"t\", \n",
    "   \"Sales\": \"Y_t\"})\n",
    "\n",
    "# add one additional row at the end of dataframe\n",
    "# df.loc[len(df)] = [16, np.NaN]\n",
    "num_of_quarters = 24\n",
    "df_compute = df[:num_of_quarters]\n",
    "df_test = df[num_of_quarters:]\n",
    "\n",
    "df_compute"
   ]
  },
  {
   "cell_type": "code",
   "execution_count": 11,
   "metadata": {},
   "outputs": [
    {
     "data": {
      "text/html": [
       "<div>\n",
       "<style scoped>\n",
       "    .dataframe tbody tr th:only-of-type {\n",
       "        vertical-align: middle;\n",
       "    }\n",
       "\n",
       "    .dataframe tbody tr th {\n",
       "        vertical-align: top;\n",
       "    }\n",
       "\n",
       "    .dataframe thead th {\n",
       "        text-align: right;\n",
       "    }\n",
       "</style>\n",
       "<table border=\"1\" class=\"dataframe\">\n",
       "  <thead>\n",
       "    <tr style=\"text-align: right;\">\n",
       "      <th></th>\n",
       "      <th>t</th>\n",
       "      <th>Y_t</th>\n",
       "    </tr>\n",
       "  </thead>\n",
       "  <tbody>\n",
       "    <tr>\n",
       "      <th>24</th>\n",
       "      <td>25</td>\n",
       "      <td>850</td>\n",
       "    </tr>\n",
       "    <tr>\n",
       "      <th>25</th>\n",
       "      <td>26</td>\n",
       "      <td>600</td>\n",
       "    </tr>\n",
       "    <tr>\n",
       "      <th>26</th>\n",
       "      <td>27</td>\n",
       "      <td>450</td>\n",
       "    </tr>\n",
       "    <tr>\n",
       "      <th>27</th>\n",
       "      <td>28</td>\n",
       "      <td>700</td>\n",
       "    </tr>\n",
       "  </tbody>\n",
       "</table>\n",
       "</div>"
      ],
      "text/plain": [
       "     t  Y_t\n",
       "24  25  850\n",
       "25  26  600\n",
       "26  27  450\n",
       "27  28  700"
      ]
     },
     "execution_count": 11,
     "metadata": {},
     "output_type": "execute_result"
    }
   ],
   "source": [
    "df_test"
   ]
  },
  {
   "cell_type": "code",
   "execution_count": 12,
   "metadata": {},
   "outputs": [
    {
     "data": {
      "image/png": "[encoded data removed]",
      "text/plain": [
       "<Figure size 600x300 with 1 Axes>"
      ]
     },
     "metadata": {},
     "output_type": "display_data"
    }
   ],
   "source": [
    "fig, ax = plt.subplots(figsize=(6, 3))\n",
    "\n",
    "# exclude the last row\n",
    "ax.plot(df_compute[\"t\"], df_compute[\"Y_t\"], marker='o', markersize=5, \n",
    "  markerfacecolor=\"white\")\n",
    "ax.set_xlabel(\"Quarter\")\n",
    "ax.set_ylabel(\"Saws\")\n",
    "ax.set_title(\"Sales of saws for Acme Tool\")\n",
    "ax.grid(\"on\")\n",
    "plt.show(fig)\n"
   ]
  },
  {
   "cell_type": "markdown",
   "metadata": {},
   "source": [
    "## Forecasting (exponential smoothed values)\n",
    "\n",
    "We set that \n",
    "$$\\hat{Y}_1 = \\frac{1}{k} \\sum^k_{t=1} Y_t$$"
   ]
  },
  {
   "cell_type": "code",
   "execution_count": 13,
   "metadata": {},
   "outputs": [
    {
     "data": {
      "text/html": [
       "<div>\n",
       "<style scoped>\n",
       "    .dataframe tbody tr th:only-of-type {\n",
       "        vertical-align: middle;\n",
       "    }\n",
       "\n",
       "    .dataframe tbody tr th {\n",
       "        vertical-align: top;\n",
       "    }\n",
       "\n",
       "    .dataframe thead th {\n",
       "        text-align: right;\n",
       "    }\n",
       "</style>\n",
       "<table border=\"1\" class=\"dataframe\">\n",
       "  <thead>\n",
       "    <tr style=\"text-align: right;\">\n",
       "      <th></th>\n",
       "      <th>Y_t</th>\n",
       "      <th>t</th>\n",
       "      <th>hat_Y_t_alpha_0.266</th>\n",
       "      <th>e_t_alpha_0.266</th>\n",
       "    </tr>\n",
       "  </thead>\n",
       "  <tbody>\n",
       "    <tr>\n",
       "      <th>0</th>\n",
       "      <td>500.0</td>\n",
       "      <td>1.0</td>\n",
       "      <td>383.333333</td>\n",
       "      <td>116.666667</td>\n",
       "    </tr>\n",
       "    <tr>\n",
       "      <th>1</th>\n",
       "      <td>350.0</td>\n",
       "      <td>2.0</td>\n",
       "      <td>414.408317</td>\n",
       "      <td>-64.408317</td>\n",
       "    </tr>\n",
       "    <tr>\n",
       "      <th>2</th>\n",
       "      <td>250.0</td>\n",
       "      <td>3.0</td>\n",
       "      <td>397.252711</td>\n",
       "      <td>-147.252711</td>\n",
       "    </tr>\n",
       "    <tr>\n",
       "      <th>3</th>\n",
       "      <td>400.0</td>\n",
       "      <td>4.0</td>\n",
       "      <td>358.030920</td>\n",
       "      <td>41.969080</td>\n",
       "    </tr>\n",
       "    <tr>\n",
       "      <th>4</th>\n",
       "      <td>450.0</td>\n",
       "      <td>5.0</td>\n",
       "      <td>369.209679</td>\n",
       "      <td>80.790321</td>\n",
       "    </tr>\n",
       "    <tr>\n",
       "      <th>5</th>\n",
       "      <td>350.0</td>\n",
       "      <td>6.0</td>\n",
       "      <td>390.728746</td>\n",
       "      <td>-40.728746</td>\n",
       "    </tr>\n",
       "    <tr>\n",
       "      <th>6</th>\n",
       "      <td>200.0</td>\n",
       "      <td>7.0</td>\n",
       "      <td>379.880360</td>\n",
       "      <td>-179.880360</td>\n",
       "    </tr>\n",
       "    <tr>\n",
       "      <th>7</th>\n",
       "      <td>300.0</td>\n",
       "      <td>8.0</td>\n",
       "      <td>331.967967</td>\n",
       "      <td>-31.967967</td>\n",
       "    </tr>\n",
       "    <tr>\n",
       "      <th>8</th>\n",
       "      <td>350.0</td>\n",
       "      <td>9.0</td>\n",
       "      <td>323.453075</td>\n",
       "      <td>26.546925</td>\n",
       "    </tr>\n",
       "    <tr>\n",
       "      <th>9</th>\n",
       "      <td>200.0</td>\n",
       "      <td>10.0</td>\n",
       "      <td>330.524034</td>\n",
       "      <td>-130.524034</td>\n",
       "    </tr>\n",
       "    <tr>\n",
       "      <th>10</th>\n",
       "      <td>150.0</td>\n",
       "      <td>11.0</td>\n",
       "      <td>295.758044</td>\n",
       "      <td>-145.758044</td>\n",
       "    </tr>\n",
       "    <tr>\n",
       "      <th>11</th>\n",
       "      <td>400.0</td>\n",
       "      <td>12.0</td>\n",
       "      <td>256.934369</td>\n",
       "      <td>143.065631</td>\n",
       "    </tr>\n",
       "    <tr>\n",
       "      <th>12</th>\n",
       "      <td>550.0</td>\n",
       "      <td>13.0</td>\n",
       "      <td>295.040901</td>\n",
       "      <td>254.959099</td>\n",
       "    </tr>\n",
       "    <tr>\n",
       "      <th>13</th>\n",
       "      <td>350.0</td>\n",
       "      <td>14.0</td>\n",
       "      <td>362.951042</td>\n",
       "      <td>-12.951042</td>\n",
       "    </tr>\n",
       "    <tr>\n",
       "      <th>14</th>\n",
       "      <td>250.0</td>\n",
       "      <td>15.0</td>\n",
       "      <td>359.501441</td>\n",
       "      <td>-109.501441</td>\n",
       "    </tr>\n",
       "    <tr>\n",
       "      <th>15</th>\n",
       "      <td>550.0</td>\n",
       "      <td>16.0</td>\n",
       "      <td>330.334966</td>\n",
       "      <td>219.665034</td>\n",
       "    </tr>\n",
       "    <tr>\n",
       "      <th>16</th>\n",
       "      <td>550.0</td>\n",
       "      <td>17.0</td>\n",
       "      <td>388.844285</td>\n",
       "      <td>161.155715</td>\n",
       "    </tr>\n",
       "    <tr>\n",
       "      <th>17</th>\n",
       "      <td>400.0</td>\n",
       "      <td>18.0</td>\n",
       "      <td>431.769238</td>\n",
       "      <td>-31.769238</td>\n",
       "    </tr>\n",
       "    <tr>\n",
       "      <th>18</th>\n",
       "      <td>350.0</td>\n",
       "      <td>19.0</td>\n",
       "      <td>423.307279</td>\n",
       "      <td>-73.307279</td>\n",
       "    </tr>\n",
       "    <tr>\n",
       "      <th>19</th>\n",
       "      <td>600.0</td>\n",
       "      <td>20.0</td>\n",
       "      <td>403.781372</td>\n",
       "      <td>196.218628</td>\n",
       "    </tr>\n",
       "    <tr>\n",
       "      <th>20</th>\n",
       "      <td>750.0</td>\n",
       "      <td>21.0</td>\n",
       "      <td>456.045577</td>\n",
       "      <td>293.954423</td>\n",
       "    </tr>\n",
       "    <tr>\n",
       "      <th>21</th>\n",
       "      <td>500.0</td>\n",
       "      <td>22.0</td>\n",
       "      <td>534.342395</td>\n",
       "      <td>-34.342395</td>\n",
       "    </tr>\n",
       "    <tr>\n",
       "      <th>22</th>\n",
       "      <td>400.0</td>\n",
       "      <td>23.0</td>\n",
       "      <td>525.195058</td>\n",
       "      <td>-125.195058</td>\n",
       "    </tr>\n",
       "    <tr>\n",
       "      <th>23</th>\n",
       "      <td>650.0</td>\n",
       "      <td>24.0</td>\n",
       "      <td>491.848478</td>\n",
       "      <td>158.151522</td>\n",
       "    </tr>\n",
       "  </tbody>\n",
       "</table>\n",
       "</div>"
      ],
      "text/plain": [
       "      Y_t     t  hat_Y_t_alpha_0.266  e_t_alpha_0.266\n",
       "0   500.0   1.0           383.333333       116.666667\n",
       "1   350.0   2.0           414.408317       -64.408317\n",
       "2   250.0   3.0           397.252711      -147.252711\n",
       "3   400.0   4.0           358.030920        41.969080\n",
       "4   450.0   5.0           369.209679        80.790321\n",
       "5   350.0   6.0           390.728746       -40.728746\n",
       "6   200.0   7.0           379.880360      -179.880360\n",
       "7   300.0   8.0           331.967967       -31.967967\n",
       "8   350.0   9.0           323.453075        26.546925\n",
       "9   200.0  10.0           330.524034      -130.524034\n",
       "10  150.0  11.0           295.758044      -145.758044\n",
       "11  400.0  12.0           256.934369       143.065631\n",
       "12  550.0  13.0           295.040901       254.959099\n",
       "13  350.0  14.0           362.951042       -12.951042\n",
       "14  250.0  15.0           359.501441      -109.501441\n",
       "15  550.0  16.0           330.334966       219.665034\n",
       "16  550.0  17.0           388.844285       161.155715\n",
       "17  400.0  18.0           431.769238       -31.769238\n",
       "18  350.0  19.0           423.307279       -73.307279\n",
       "19  600.0  20.0           403.781372       196.218628\n",
       "20  750.0  21.0           456.045577       293.954423\n",
       "21  500.0  22.0           534.342395       -34.342395\n",
       "22  400.0  23.0           525.195058      -125.195058\n",
       "23  650.0  24.0           491.848478       158.151522"
      ]
     },
     "execution_count": 13,
     "metadata": {},
     "output_type": "execute_result"
    }
   ],
   "source": [
    "df_forecast = df_compute.copy()\n",
    "\n",
    "# Append the first row with Y_1 to correc the initial data\n",
    "# for hat_Y_t\n",
    "init_hat_Y_t = (df_forecast[\"Y_t\"][:6]).mean()\n",
    "data = []\n",
    "data.insert(0, {\"Y_t\": init_hat_Y_t})\n",
    "df_forecast = pd.concat([pd.DataFrame(data), df_forecast], ignore_index=True)\n",
    "\n",
    "alpha = 0.266357   # optimal alpha (we have to find it using gradient descent)\n",
    "              # I skipped the implementation to find this optimal alpha=0.266357 \n",
    "forecast_key = f\"hat_Y_t_alpha_{alpha:.3f}\"\n",
    "residual_key = f\"e_t_alpha_{alpha:.3f}\"\n",
    "df_forecast[forecast_key] = df_forecast[\"Y_t\"].ewm(alpha=alpha, adjust=False).mean().shift(1)\n",
    "df_forecast[residual_key] = df_forecast[\"Y_t\"] - df_forecast[forecast_key]\n",
    "\n",
    "df_forecast = df_forecast.drop([0]).reset_index(drop=True)\n",
    "\n",
    "df_forecast\n"
   ]
  },
  {
   "cell_type": "code",
   "execution_count": 14,
   "metadata": {},
   "outputs": [
    {
     "data": {
      "image/png": "[encoded data removed]",
      "text/plain": [
       "<Figure size 600x300 with 1 Axes>"
      ]
     },
     "metadata": {},
     "output_type": "display_data"
    }
   ],
   "source": [
    "fig, ax = plt.subplots(figsize=(6, 3))\n",
    "\n",
    "ax.plot(df_forecast[\"t\"], df_forecast[\"Y_t\"], \n",
    "  marker='o', markersize=5, markerfacecolor='white',\n",
    "  label=\"actual\")\n",
    "\n",
    "alpha = 0.266\n",
    "forecast_key = f\"hat_Y_t_alpha_{alpha:.3f}\"\n",
    "ax.plot(df_forecast[\"t\"], df_forecast[forecast_key], \n",
    "  marker='+', markersize=6, linestyle='--', \n",
    "  label=r\"$\\alpha = $\"+f\"{alpha}\")\n",
    "\n",
    "ax.set_xlabel(\"Quarter\")\n",
    "ax.set_ylabel(\"Saws\")\n",
    "ax.set_title(\"Single Exponential Smoothing Plot for Saws\")\n",
    "ax.legend(loc=\"upper left\", bbox_to_anchor=[1.01, 1.04])\n",
    "ax.grid(\"on\")\n",
    "plt.show(fig)\n",
    "\n"
   ]
  },
  {
   "cell_type": "markdown",
   "metadata": {},
   "source": [
    "### Accuracy measures"
   ]
  },
  {
   "cell_type": "code",
   "execution_count": 15,
   "metadata": {},
   "outputs": [
    {
     "name": "stdout",
     "output_type": "stream",
     "text": [
      "alpha = 0.266\n",
      "  MSE      19,449 \n",
      "  MAPE         32.2%\n"
     ]
    }
   ],
   "source": [
    "alpha = 0.266\n",
    "forecast_key = f\"hat_Y_t_alpha_{alpha:.3f}\"\n",
    "MAPE, _ , MSE = get_accuracy_measures(df_forecast, columns=[\"Y_t\", forecast_key])\n",
    "print(f\"alpha = {alpha}\")\n",
    "print(f\"  MSE   {MSE:>9,.0f} \")\n",
    "print(f\"  MAPE    {MAPE*100:>9.1f}%\")"
   ]
  },
  {
   "cell_type": "markdown",
   "metadata": {},
   "source": [
    "#### Autocorrelation function for exponential smoothing residuals ($\\alpha$ = 0.266)"
   ]
  },
  {
   "cell_type": "code",
   "execution_count": 20,
   "metadata": {},
   "outputs": [
    {
     "data": {
      "text/html": [
       "<div>\n",
       "<style scoped>\n",
       "    .dataframe tbody tr th:only-of-type {\n",
       "        vertical-align: middle;\n",
       "    }\n",
       "\n",
       "    .dataframe tbody tr th {\n",
       "        vertical-align: top;\n",
       "    }\n",
       "\n",
       "    .dataframe thead th {\n",
       "        text-align: right;\n",
       "    }\n",
       "</style>\n",
       "<table border=\"1\" class=\"dataframe\">\n",
       "  <thead>\n",
       "    <tr style=\"text-align: right;\">\n",
       "      <th></th>\n",
       "      <th>k</th>\n",
       "      <th>r_k</th>\n",
       "      <th>t_test</th>\n",
       "      <th>LBQ</th>\n",
       "      <th>l_bound</th>\n",
       "      <th>u_bound</th>\n",
       "    </tr>\n",
       "  </thead>\n",
       "  <tbody>\n",
       "    <tr>\n",
       "      <th>0</th>\n",
       "      <td>1</td>\n",
       "      <td>0.124087</td>\n",
       "      <td>0.607899</td>\n",
       "      <td>0.417742</td>\n",
       "      <td>-0.422263</td>\n",
       "      <td>0.422263</td>\n",
       "    </tr>\n",
       "    <tr>\n",
       "      <th>1</th>\n",
       "      <td>2</td>\n",
       "      <td>-0.585007</td>\n",
       "      <td>-2.822801</td>\n",
       "      <td>10.124709</td>\n",
       "      <td>-0.428715</td>\n",
       "      <td>0.428715</td>\n",
       "    </tr>\n",
       "    <tr>\n",
       "      <th>2</th>\n",
       "      <td>3</td>\n",
       "      <td>0.110512</td>\n",
       "      <td>0.413381</td>\n",
       "      <td>10.487608</td>\n",
       "      <td>-0.553029</td>\n",
       "      <td>0.553029</td>\n",
       "    </tr>\n",
       "    <tr>\n",
       "      <th>3</th>\n",
       "      <td>4</td>\n",
       "      <td>0.647374</td>\n",
       "      <td>2.404502</td>\n",
       "      <td>23.563296</td>\n",
       "      <td>-0.556953</td>\n",
       "      <td>0.556953</td>\n",
       "    </tr>\n",
       "    <tr>\n",
       "      <th>4</th>\n",
       "      <td>5</td>\n",
       "      <td>-0.004408</td>\n",
       "      <td>-0.013449</td>\n",
       "      <td>23.563934</td>\n",
       "      <td>-0.677975</td>\n",
       "      <td>0.677975</td>\n",
       "    </tr>\n",
       "    <tr>\n",
       "      <th>5</th>\n",
       "      <td>6</td>\n",
       "      <td>-0.538804</td>\n",
       "      <td>-1.644002</td>\n",
       "      <td>33.627996</td>\n",
       "      <td>-0.677980</td>\n",
       "      <td>0.677980</td>\n",
       "    </tr>\n",
       "  </tbody>\n",
       "</table>\n",
       "</div>"
      ],
      "text/plain": [
       "   k       r_k    t_test        LBQ   l_bound   u_bound\n",
       "0  1  0.124087  0.607899   0.417742 -0.422263  0.422263\n",
       "1  2 -0.585007 -2.822801  10.124709 -0.428715  0.428715\n",
       "2  3  0.110512  0.413381  10.487608 -0.553029  0.553029\n",
       "3  4  0.647374  2.404502  23.563296 -0.556953  0.556953\n",
       "4  5 -0.004408 -0.013449  23.563934 -0.677975  0.677975\n",
       "5  6 -0.538804 -1.644002  33.627996 -0.677980  0.677980"
      ]
     },
     "execution_count": 20,
     "metadata": {},
     "output_type": "execute_result"
    }
   ],
   "source": [
    "num_of_rk = 6 \n",
    "alpha = 0.266\n",
    "residual_key = f\"e_t_alpha_{alpha:.3f}\"\n",
    "df_exp_smooth = df_forecast.copy()\n",
    "df_exp_smooth = df_exp_smooth.dropna().reset_index(drop=True)\n",
    "df_acorr_analysis = get_correlogram(df_exp_smooth, num_of_rk, columns=['t', residual_key])\n",
    "df_acorr_analysis\n"
   ]
  },
  {
   "cell_type": "code",
   "execution_count": 19,
   "metadata": {},
   "outputs": [
    {
     "data": {
      "image/png": "[encoded data removed]",
      "text/plain": [
       "<Figure size 700x300 with 1 Axes>"
      ]
     },
     "metadata": {},
     "output_type": "display_data"
    }
   ],
   "source": [
    "plot_autocorr_func(df_acorr_analysis, title=\"exp. smoothing\\n\"r\"(optimal $\\alpha$=0.266) Residuals\")"
   ]
  },
  {
   "cell_type": "markdown",
   "metadata": {},
   "source": [
    "If the forecast errors are approximately normally distributed about a mean of zero, there is about a 95% chance (if we choose significant level of 5%) that the actual observavtion will fall within two standard deviations of the forecast or within"
   ]
  },
  {
   "cell_type": "code",
   "execution_count": 25,
   "metadata": {},
   "outputs": [
    {
     "name": "stdout",
     "output_type": "stream",
     "text": [
      "RMSE = 139.4586532170126\n"
     ]
    }
   ],
   "source": [
    "RMSE = np.sqrt(MSE)\n",
    "\n",
    "print(f\"RMSE = {RMSE}\")"
   ]
  },
  {
   "cell_type": "code",
   "execution_count": 28,
   "metadata": {},
   "outputs": [
    {
     "name": "stdout",
     "output_type": "stream",
     "text": [
      "(l_bound, u_bound) = -1.96, 1.96\n"
     ]
    }
   ],
   "source": [
    "significance_lvl = 0.05\n",
    "l_bound = sc_stats.norm.ppf(significance_lvl/2)\n",
    "u_bound = sc_stats.norm.ppf(1 - significance_lvl/2)\n",
    "\n",
    "print(f\"(l_bound, u_bound) = {l_bound:.2f}, {u_bound:.2f}\")"
   ]
  },
  {
   "cell_type": "code",
   "execution_count": 39,
   "metadata": {},
   "outputs": [
    {
     "data": {
      "image/png": "[encoded data removed]",
      "text/plain": [
       "<Figure size 600x300 with 1 Axes>"
      ]
     },
     "metadata": {},
     "output_type": "display_data"
    }
   ],
   "source": [
    "fig, ax = plt.subplots(figsize=(6, 3))\n",
    "\n",
    "x = np.linspace(sc_stats.norm.ppf(0.0001),\n",
    "                sc_stats.norm.ppf(0.9999), 100)\n",
    "ax.plot(x, sc_stats.norm.pdf(x), label='norm')\n",
    "\n",
    "\n",
    "u_bound = sc_stats.norm.ppf(significance_lvl/2)\n",
    "l_bound = sc_stats.norm.ppf(1 - significance_lvl/2)\n",
    "ax.plot([l_bound, l_bound], [0, sc_stats.norm.pdf(l_bound)])\n",
    "ax.plot([u_bound, u_bound], [0, sc_stats.norm.pdf(u_bound)])\n",
    "\n",
    "\n",
    "\n",
    "ax.set_xlabel(r'$x/\\sigma$')\n",
    "ax.set_ylabel(\"pdf\")\n",
    "ax.grid(\"on\")\n",
    "ax.set_title(r\"normal distribution ($\\mu$ = 0, $\\sigma$=1)\")\n",
    "\n",
    "plt.show(fig)"
   ]
  },
  {
   "cell_type": "code",
   "execution_count": null,
   "metadata": {},
   "outputs": [],
   "source": []
  }
 ],
 "metadata": {
  "kernelspec": {
   "display_name": "Python 3.8.10 ('base')",
   "language": "python",
   "name": "python3"
  },
  "language_info": {
   "codemirror_mode": {
    "name": "ipython",
    "version": 3
   },
   "file_extension": ".py",
   "mimetype": "text/x-python",
   "name": "python",
   "nbconvert_exporter": "python",
   "pygments_lexer": "ipython3",
   "version": "3.8.10"
  },
  "orig_nbformat": 4,
  "vscode": {
   "interpreter": {
    "hash": "b68217c4fa6011267e0d81cc47bb50822e9770eb46de3a1f506be20c9f89249d"
   }
  }
 },
 "nbformat": 4,
 "nbformat_minor": 2
}
