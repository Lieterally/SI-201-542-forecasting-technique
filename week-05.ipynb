{
 "cells": [
  {
   "cell_type": "markdown",
   "metadata": {},
   "source": [
    "Logs:\n",
    "[2023/09/05] \n",
    "- Implementation of AR(p) in `from statsmodels.tsa.arima_model import ARMA, ARIMA`.    \n",
    "  is deprecated. Use SARIMAX.\n"
   ]
  },
  {
   "cell_type": "code",
   "execution_count": 2,
   "metadata": {},
   "outputs": [],
   "source": [
    "import numpy as np\n",
    "import matplotlib.pyplot as plt\n",
    "import matplotlib.dates as mdates\n",
    "import pandas as pd\n",
    "\n",
    "from statsmodels.graphics.tsaplots import plot_acf\n",
    "from statsmodels.tsa.stattools import adfuller\n",
    "from statsmodels.tsa.statespace.sarimax import SARIMAX\n",
    "\n",
    "from sklearn.metrics import mean_squared_error, mean_absolute_error\n"
   ]
  },
  {
   "cell_type": "code",
   "execution_count": 11,
   "metadata": {},
   "outputs": [],
   "source": [
    "plt.rcParams.update(plt.rcParamsDefault)\n",
    "plt.rcParams.update({\n",
    "  \"font.size\": 16,\n",
    "  \"grid.alpha\": 0.25})\n"
   ]
  },
  {
   "cell_type": "markdown",
   "metadata": {},
   "source": [
    "**Function declarations**"
   ]
  },
  {
   "cell_type": "code",
   "execution_count": 6,
   "metadata": {},
   "outputs": [],
   "source": [
    "def plot_time_series(x, y, xlabel=\"Time\", ylabel=\"Value\", figsize=(10, 4)):\n",
    "  fig, ax = plt.subplots(figsize=figsize)\n",
    "\n",
    "  ax.plot(x, y)\n",
    "\n",
    "  formatter = mdates.DateFormatter(\"%Y\")\n",
    "  locator = mdates.YearLocator(base=2)\n",
    "  # locator = mdates.MonthLocator(bymonthday=1, bymonth=range(1, 13, 2))\n",
    "  ax.xaxis.set_major_formatter(formatter)\n",
    "  ax.xaxis.set_major_locator(locator)\n",
    "\n",
    "  ax.grid(\"on\")\n",
    "  ax.set_xlabel(xlabel)\n",
    "  ax.set_ylabel(ylabel)\n",
    "\n",
    "  for j, label in enumerate(ax.get_xticklabels()):\n",
    "    label.set_rotation(40)\n",
    "    label.set_horizontalalignment('right')\n",
    "\n",
    "  plt.show(fig)\n",
    "\n"
   ]
  },
  {
   "cell_type": "markdown",
   "metadata": {},
   "source": [
    "## 5.1 Predicting the average weekly foot traffic in a retail store"
   ]
  },
  {
   "cell_type": "markdown",
   "metadata": {},
   "source": [
    "Suppose that you want to forecast the average weekly foot traffic in \n",
    "a retail store so that the store manager can better manage the staff's schedule.\n",
    "Note that this is fictional data."
   ]
  },
  {
   "cell_type": "code",
   "execution_count": 9,
   "metadata": {},
   "outputs": [
    {
     "data": {
      "text/html": [
       "<div>\n",
       "<style scoped>\n",
       "    .dataframe tbody tr th:only-of-type {\n",
       "        vertical-align: middle;\n",
       "    }\n",
       "\n",
       "    .dataframe tbody tr th {\n",
       "        vertical-align: top;\n",
       "    }\n",
       "\n",
       "    .dataframe thead th {\n",
       "        text-align: right;\n",
       "    }\n",
       "</style>\n",
       "<table border=\"1\" class=\"dataframe\">\n",
       "  <thead>\n",
       "    <tr style=\"text-align: right;\">\n",
       "      <th></th>\n",
       "      <th>date</th>\n",
       "      <th>foot_traffic</th>\n",
       "    </tr>\n",
       "  </thead>\n",
       "  <tbody>\n",
       "    <tr>\n",
       "      <th>0</th>\n",
       "      <td>2000-01-02</td>\n",
       "      <td>500.496714</td>\n",
       "    </tr>\n",
       "    <tr>\n",
       "      <th>1</th>\n",
       "      <td>2000-01-09</td>\n",
       "      <td>500.522366</td>\n",
       "    </tr>\n",
       "    <tr>\n",
       "      <th>2</th>\n",
       "      <td>2000-01-16</td>\n",
       "      <td>501.426876</td>\n",
       "    </tr>\n",
       "    <tr>\n",
       "      <th>3</th>\n",
       "      <td>2000-01-23</td>\n",
       "      <td>503.295990</td>\n",
       "    </tr>\n",
       "    <tr>\n",
       "      <th>4</th>\n",
       "      <td>2000-01-30</td>\n",
       "      <td>504.132695</td>\n",
       "    </tr>\n",
       "    <tr>\n",
       "      <th>...</th>\n",
       "      <td>...</td>\n",
       "      <td>...</td>\n",
       "    </tr>\n",
       "    <tr>\n",
       "      <th>995</th>\n",
       "      <td>2019-01-27</td>\n",
       "      <td>706.009031</td>\n",
       "    </tr>\n",
       "    <tr>\n",
       "      <th>996</th>\n",
       "      <td>2019-02-03</td>\n",
       "      <td>705.610549</td>\n",
       "    </tr>\n",
       "    <tr>\n",
       "      <th>997</th>\n",
       "      <td>2019-02-10</td>\n",
       "      <td>704.771335</td>\n",
       "    </tr>\n",
       "    <tr>\n",
       "      <th>998</th>\n",
       "      <td>2019-02-17</td>\n",
       "      <td>703.559920</td>\n",
       "    </tr>\n",
       "    <tr>\n",
       "      <th>999</th>\n",
       "      <td>2019-02-24</td>\n",
       "      <td>703.285236</td>\n",
       "    </tr>\n",
       "  </tbody>\n",
       "</table>\n",
       "<p>1000 rows × 2 columns</p>\n",
       "</div>"
      ],
      "text/plain": [
       "          date  foot_traffic\n",
       "0   2000-01-02    500.496714\n",
       "1   2000-01-09    500.522366\n",
       "2   2000-01-16    501.426876\n",
       "3   2000-01-23    503.295990\n",
       "4   2000-01-30    504.132695\n",
       "..         ...           ...\n",
       "995 2019-01-27    706.009031\n",
       "996 2019-02-03    705.610549\n",
       "997 2019-02-10    704.771335\n",
       "998 2019-02-17    703.559920\n",
       "999 2019-02-24    703.285236\n",
       "\n",
       "[1000 rows x 2 columns]"
      ]
     },
     "execution_count": 9,
     "metadata": {},
     "output_type": "execute_result"
    }
   ],
   "source": [
    "file_path = \"./datasets/foot_traffic_with_date.csv\"\n",
    "df_foot_traffic = pd.read_csv(file_path, parse_dates=[0])\n",
    "# df_foot_traffic = pd.read_csv(file_path)\n",
    "df_foot_traffic\n"
   ]
  },
  {
   "cell_type": "code",
   "execution_count": 12,
   "metadata": {},
   "outputs": [
    {
     "data": {
      "image/png": "[encoded data removed]",
      "text/plain": [
       "<Figure size 1000x400 with 1 Axes>"
      ]
     },
     "metadata": {},
     "output_type": "display_data"
    }
   ],
   "source": [
    "plot_time_series(df_foot_traffic[\"date\"], df_foot_traffic[\"foot_traffic\"],  \n",
    "  \"Time\", \"Average weekly foot traffic\")"
   ]
  },
  {
   "cell_type": "markdown",
   "metadata": {},
   "source": [
    "## 5.2 Defining the autoregressive process"
   ]
  },
  {
   "cell_type": "markdown",
   "metadata": {},
   "source": [
    "**Autoregressive process**    \n",
    "An autoregressive process is a regression of a variable against itself.    \n",
    "In a time series, this means that the present value is linearly dependent\n",
    "on its past values.   \n",
    "\n",
    "The autoregressive process is denoted as $\\text{AR(p)}$, where $p$ is the order.   \n",
    "The general expression of an $\\text{AR}(p)$ model is\n",
    "$$\n",
    "  y_t = C + \\phi_1 y_{t-1} + \\phi_2 y_{t-2} + \\ldots + \\phi_p y_{t-p} + \\epsilon_t\n",
    "$$"
   ]
  },
  {
   "cell_type": "markdown",
   "metadata": {},
   "source": [
    "The random walk process is a special case of an autoregressive process,\n",
    "where the order $p = 1$, and $\\phi_1 = 1$."
   ]
  },
  {
   "cell_type": "markdown",
   "metadata": {},
   "source": [
    "## 5.3 Finding the order of a stationary autoregressive process"
   ]
  },
  {
   "cell_type": "code",
   "execution_count": null,
   "metadata": {},
   "outputs": [],
   "source": []
  },
  {
   "cell_type": "markdown",
   "metadata": {},
   "source": [
    "## 5.4 Forecasting an autoregressive process"
   ]
  },
  {
   "cell_type": "markdown",
   "metadata": {},
   "source": [
    "## 5.5 Next steps"
   ]
  },
  {
   "cell_type": "markdown",
   "metadata": {},
   "source": [
    "## Fix some bugs in data"
   ]
  },
  {
   "cell_type": "markdown",
   "metadata": {},
   "source": [
    "Add date to `foot_traffic.csv`. Frequency of the time is weekly."
   ]
  },
  {
   "cell_type": "code",
   "execution_count": 5,
   "metadata": {},
   "outputs": [
    {
     "data": {
      "text/html": [
       "<div>\n",
       "<style scoped>\n",
       "    .dataframe tbody tr th:only-of-type {\n",
       "        vertical-align: middle;\n",
       "    }\n",
       "\n",
       "    .dataframe tbody tr th {\n",
       "        vertical-align: top;\n",
       "    }\n",
       "\n",
       "    .dataframe thead th {\n",
       "        text-align: right;\n",
       "    }\n",
       "</style>\n",
       "<table border=\"1\" class=\"dataframe\">\n",
       "  <thead>\n",
       "    <tr style=\"text-align: right;\">\n",
       "      <th></th>\n",
       "      <th>date</th>\n",
       "      <th>foot_traffic</th>\n",
       "    </tr>\n",
       "  </thead>\n",
       "  <tbody>\n",
       "    <tr>\n",
       "      <th>0</th>\n",
       "      <td>2000-01-02</td>\n",
       "      <td>500.496714</td>\n",
       "    </tr>\n",
       "    <tr>\n",
       "      <th>1</th>\n",
       "      <td>2000-01-09</td>\n",
       "      <td>500.522366</td>\n",
       "    </tr>\n",
       "    <tr>\n",
       "      <th>2</th>\n",
       "      <td>2000-01-16</td>\n",
       "      <td>501.426876</td>\n",
       "    </tr>\n",
       "    <tr>\n",
       "      <th>3</th>\n",
       "      <td>2000-01-23</td>\n",
       "      <td>503.295990</td>\n",
       "    </tr>\n",
       "    <tr>\n",
       "      <th>4</th>\n",
       "      <td>2000-01-30</td>\n",
       "      <td>504.132695</td>\n",
       "    </tr>\n",
       "    <tr>\n",
       "      <th>...</th>\n",
       "      <td>...</td>\n",
       "      <td>...</td>\n",
       "    </tr>\n",
       "    <tr>\n",
       "      <th>995</th>\n",
       "      <td>2019-01-27</td>\n",
       "      <td>706.009031</td>\n",
       "    </tr>\n",
       "    <tr>\n",
       "      <th>996</th>\n",
       "      <td>2019-02-03</td>\n",
       "      <td>705.610549</td>\n",
       "    </tr>\n",
       "    <tr>\n",
       "      <th>997</th>\n",
       "      <td>2019-02-10</td>\n",
       "      <td>704.771335</td>\n",
       "    </tr>\n",
       "    <tr>\n",
       "      <th>998</th>\n",
       "      <td>2019-02-17</td>\n",
       "      <td>703.559920</td>\n",
       "    </tr>\n",
       "    <tr>\n",
       "      <th>999</th>\n",
       "      <td>2019-02-24</td>\n",
       "      <td>703.285236</td>\n",
       "    </tr>\n",
       "  </tbody>\n",
       "</table>\n",
       "<p>1000 rows × 2 columns</p>\n",
       "</div>"
      ],
      "text/plain": [
       "          date  foot_traffic\n",
       "0   2000-01-02    500.496714\n",
       "1   2000-01-09    500.522366\n",
       "2   2000-01-16    501.426876\n",
       "3   2000-01-23    503.295990\n",
       "4   2000-01-30    504.132695\n",
       "..         ...           ...\n",
       "995 2019-01-27    706.009031\n",
       "996 2019-02-03    705.610549\n",
       "997 2019-02-10    704.771335\n",
       "998 2019-02-17    703.559920\n",
       "999 2019-02-24    703.285236\n",
       "\n",
       "[1000 rows x 2 columns]"
      ]
     },
     "execution_count": 5,
     "metadata": {},
     "output_type": "execute_result"
    }
   ],
   "source": [
    "file_path = \"./datasets/foot_traffic.csv\"\n",
    "df_foot_traffic_with_date = pd.read_csv(file_path)\n",
    "\n",
    "df_foot_traffic_with_date[\"date\"] \\\n",
    "  = pd.date_range(start=\"2000-01-01\", periods=len(df_foot_traffic_with_date), freq=\"W\")\n",
    "df_foot_traffic_with_date = df_foot_traffic_with_date[[\"date\", \"foot_traffic\"]]\n",
    "\n",
    "df_foot_traffic_with_date.to_csv(\"./datasets/foot_traffic_with_date.csv\", index=False)\n",
    "\n",
    "df_foot_traffic_with_date\n",
    "\n"
   ]
  }
 ],
 "metadata": {
  "kernelspec": {
   "display_name": "base",
   "language": "python",
   "name": "python3"
  },
  "language_info": {
   "codemirror_mode": {
    "name": "ipython",
    "version": 3
   },
   "file_extension": ".py",
   "mimetype": "text/x-python",
   "name": "python",
   "nbconvert_exporter": "python",
   "pygments_lexer": "ipython3",
   "version": "3.8.10"
  },
  "orig_nbformat": 4
 },
 "nbformat": 4,
 "nbformat_minor": 2
}
