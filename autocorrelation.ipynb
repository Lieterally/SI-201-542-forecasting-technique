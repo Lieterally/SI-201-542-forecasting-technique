{
 "cells": [
  {
   "cell_type": "markdown",
   "metadata": {},
   "source": [
    "This notebook covers from Example 1 to Example 3"
   ]
  },
  {
   "cell_type": "code",
   "execution_count": 1,
   "metadata": {},
   "outputs": [],
   "source": [
    "import pandas as pd\n",
    "import numpy as np\n",
    "import scipy.stats as sc_stats\n",
    "import matplotlib.pyplot as plt\n"
   ]
  },
  {
   "cell_type": "code",
   "execution_count": 2,
   "metadata": {},
   "outputs": [],
   "source": [
    "plt.rcParams.update(plt.rcParamsDefault)\n",
    "plt.rcParams.update({\n",
    "  'font.size': 12,\n",
    "  'grid.alpha': 0.25})\n"
   ]
  },
  {
   "cell_type": "code",
   "execution_count": 3,
   "metadata": {},
   "outputs": [
    {
     "data": {
      "text/html": [
       "<div>\n",
       "<style scoped>\n",
       "    .dataframe tbody tr th:only-of-type {\n",
       "        vertical-align: middle;\n",
       "    }\n",
       "\n",
       "    .dataframe tbody tr th {\n",
       "        vertical-align: top;\n",
       "    }\n",
       "\n",
       "    .dataframe thead th {\n",
       "        text-align: right;\n",
       "    }\n",
       "</style>\n",
       "<table border=\"1\" class=\"dataframe\">\n",
       "  <thead>\n",
       "    <tr style=\"text-align: right;\">\n",
       "      <th></th>\n",
       "      <th>t</th>\n",
       "      <th>Y_t</th>\n",
       "    </tr>\n",
       "  </thead>\n",
       "  <tbody>\n",
       "    <tr>\n",
       "      <th>0</th>\n",
       "      <td>1</td>\n",
       "      <td>123</td>\n",
       "    </tr>\n",
       "    <tr>\n",
       "      <th>1</th>\n",
       "      <td>2</td>\n",
       "      <td>130</td>\n",
       "    </tr>\n",
       "    <tr>\n",
       "      <th>2</th>\n",
       "      <td>3</td>\n",
       "      <td>125</td>\n",
       "    </tr>\n",
       "    <tr>\n",
       "      <th>3</th>\n",
       "      <td>4</td>\n",
       "      <td>138</td>\n",
       "    </tr>\n",
       "    <tr>\n",
       "      <th>4</th>\n",
       "      <td>5</td>\n",
       "      <td>145</td>\n",
       "    </tr>\n",
       "    <tr>\n",
       "      <th>5</th>\n",
       "      <td>6</td>\n",
       "      <td>142</td>\n",
       "    </tr>\n",
       "    <tr>\n",
       "      <th>6</th>\n",
       "      <td>7</td>\n",
       "      <td>141</td>\n",
       "    </tr>\n",
       "    <tr>\n",
       "      <th>7</th>\n",
       "      <td>8</td>\n",
       "      <td>146</td>\n",
       "    </tr>\n",
       "    <tr>\n",
       "      <th>8</th>\n",
       "      <td>9</td>\n",
       "      <td>147</td>\n",
       "    </tr>\n",
       "    <tr>\n",
       "      <th>9</th>\n",
       "      <td>10</td>\n",
       "      <td>157</td>\n",
       "    </tr>\n",
       "    <tr>\n",
       "      <th>10</th>\n",
       "      <td>11</td>\n",
       "      <td>150</td>\n",
       "    </tr>\n",
       "    <tr>\n",
       "      <th>11</th>\n",
       "      <td>12</td>\n",
       "      <td>160</td>\n",
       "    </tr>\n",
       "  </tbody>\n",
       "</table>\n",
       "</div>"
      ],
      "text/plain": [
       "     t  Y_t\n",
       "0    1  123\n",
       "1    2  130\n",
       "2    3  125\n",
       "3    4  138\n",
       "4    5  145\n",
       "5    6  142\n",
       "6    7  141\n",
       "7    8  146\n",
       "8    9  147\n",
       "9   10  157\n",
       "10  11  150\n",
       "11  12  160"
      ]
     },
     "execution_count": 3,
     "metadata": {},
     "output_type": "execute_result"
    }
   ],
   "source": [
    "filename = \"02-table-01-vcr-data.ods\"\n",
    "\n",
    "df = pd.read_excel(filename, engine=\"odf\", header=0, \n",
    "                   usecols=(\"Time\", \"Original Data\"))\n",
    "\n",
    "df = df.rename(columns={\"Time\": \"t\", \"Original Data\": \"Y_t\"})\n",
    "df"
   ]
  },
  {
   "cell_type": "code",
   "execution_count": 4,
   "metadata": {},
   "outputs": [
    {
     "name": "stdout",
     "output_type": "stream",
     "text": [
      "mean_Y_t = 142.0\n",
      "r_1 = 0.572\n"
     ]
    },
    {
     "data": {
      "text/html": [
       "<div>\n",
       "<style scoped>\n",
       "    .dataframe tbody tr th:only-of-type {\n",
       "        vertical-align: middle;\n",
       "    }\n",
       "\n",
       "    .dataframe tbody tr th {\n",
       "        vertical-align: top;\n",
       "    }\n",
       "\n",
       "    .dataframe thead th {\n",
       "        text-align: right;\n",
       "    }\n",
       "</style>\n",
       "<table border=\"1\" class=\"dataframe\">\n",
       "  <thead>\n",
       "    <tr style=\"text-align: right;\">\n",
       "      <th></th>\n",
       "      <th>t</th>\n",
       "      <th>Y_t</th>\n",
       "      <th>Y_tM1</th>\n",
       "      <th>Y_t - mean_Y_t</th>\n",
       "      <th>Y_tM1 - mean_Y_t</th>\n",
       "      <th>(Y_t - mean_Y_t)^2</th>\n",
       "      <th>(Y_t - mean_Y_t)(Y_tM1 - mean_Y_t)</th>\n",
       "    </tr>\n",
       "  </thead>\n",
       "  <tbody>\n",
       "    <tr>\n",
       "      <th>0</th>\n",
       "      <td>1</td>\n",
       "      <td>123</td>\n",
       "      <td>NaN</td>\n",
       "      <td>-19.0</td>\n",
       "      <td>NaN</td>\n",
       "      <td>361.0</td>\n",
       "      <td>NaN</td>\n",
       "    </tr>\n",
       "    <tr>\n",
       "      <th>1</th>\n",
       "      <td>2</td>\n",
       "      <td>130</td>\n",
       "      <td>123.0</td>\n",
       "      <td>-12.0</td>\n",
       "      <td>-19.0</td>\n",
       "      <td>144.0</td>\n",
       "      <td>228.0</td>\n",
       "    </tr>\n",
       "    <tr>\n",
       "      <th>2</th>\n",
       "      <td>3</td>\n",
       "      <td>125</td>\n",
       "      <td>130.0</td>\n",
       "      <td>-17.0</td>\n",
       "      <td>-12.0</td>\n",
       "      <td>289.0</td>\n",
       "      <td>204.0</td>\n",
       "    </tr>\n",
       "    <tr>\n",
       "      <th>3</th>\n",
       "      <td>4</td>\n",
       "      <td>138</td>\n",
       "      <td>125.0</td>\n",
       "      <td>-4.0</td>\n",
       "      <td>-17.0</td>\n",
       "      <td>16.0</td>\n",
       "      <td>68.0</td>\n",
       "    </tr>\n",
       "    <tr>\n",
       "      <th>4</th>\n",
       "      <td>5</td>\n",
       "      <td>145</td>\n",
       "      <td>138.0</td>\n",
       "      <td>3.0</td>\n",
       "      <td>-4.0</td>\n",
       "      <td>9.0</td>\n",
       "      <td>-12.0</td>\n",
       "    </tr>\n",
       "    <tr>\n",
       "      <th>5</th>\n",
       "      <td>6</td>\n",
       "      <td>142</td>\n",
       "      <td>145.0</td>\n",
       "      <td>0.0</td>\n",
       "      <td>3.0</td>\n",
       "      <td>0.0</td>\n",
       "      <td>0.0</td>\n",
       "    </tr>\n",
       "    <tr>\n",
       "      <th>6</th>\n",
       "      <td>7</td>\n",
       "      <td>141</td>\n",
       "      <td>142.0</td>\n",
       "      <td>-1.0</td>\n",
       "      <td>0.0</td>\n",
       "      <td>1.0</td>\n",
       "      <td>-0.0</td>\n",
       "    </tr>\n",
       "    <tr>\n",
       "      <th>7</th>\n",
       "      <td>8</td>\n",
       "      <td>146</td>\n",
       "      <td>141.0</td>\n",
       "      <td>4.0</td>\n",
       "      <td>-1.0</td>\n",
       "      <td>16.0</td>\n",
       "      <td>-4.0</td>\n",
       "    </tr>\n",
       "    <tr>\n",
       "      <th>8</th>\n",
       "      <td>9</td>\n",
       "      <td>147</td>\n",
       "      <td>146.0</td>\n",
       "      <td>5.0</td>\n",
       "      <td>4.0</td>\n",
       "      <td>25.0</td>\n",
       "      <td>20.0</td>\n",
       "    </tr>\n",
       "    <tr>\n",
       "      <th>9</th>\n",
       "      <td>10</td>\n",
       "      <td>157</td>\n",
       "      <td>147.0</td>\n",
       "      <td>15.0</td>\n",
       "      <td>5.0</td>\n",
       "      <td>225.0</td>\n",
       "      <td>75.0</td>\n",
       "    </tr>\n",
       "    <tr>\n",
       "      <th>10</th>\n",
       "      <td>11</td>\n",
       "      <td>150</td>\n",
       "      <td>157.0</td>\n",
       "      <td>8.0</td>\n",
       "      <td>15.0</td>\n",
       "      <td>64.0</td>\n",
       "      <td>120.0</td>\n",
       "    </tr>\n",
       "    <tr>\n",
       "      <th>11</th>\n",
       "      <td>12</td>\n",
       "      <td>160</td>\n",
       "      <td>150.0</td>\n",
       "      <td>18.0</td>\n",
       "      <td>8.0</td>\n",
       "      <td>324.0</td>\n",
       "      <td>144.0</td>\n",
       "    </tr>\n",
       "  </tbody>\n",
       "</table>\n",
       "</div>"
      ],
      "text/plain": [
       "     t  Y_t  Y_tM1  Y_t - mean_Y_t  Y_tM1 - mean_Y_t  (Y_t - mean_Y_t)^2  \\\n",
       "0    1  123    NaN           -19.0               NaN               361.0   \n",
       "1    2  130  123.0           -12.0             -19.0               144.0   \n",
       "2    3  125  130.0           -17.0             -12.0               289.0   \n",
       "3    4  138  125.0            -4.0             -17.0                16.0   \n",
       "4    5  145  138.0             3.0              -4.0                 9.0   \n",
       "5    6  142  145.0             0.0               3.0                 0.0   \n",
       "6    7  141  142.0            -1.0               0.0                 1.0   \n",
       "7    8  146  141.0             4.0              -1.0                16.0   \n",
       "8    9  147  146.0             5.0               4.0                25.0   \n",
       "9   10  157  147.0            15.0               5.0               225.0   \n",
       "10  11  150  157.0             8.0              15.0                64.0   \n",
       "11  12  160  150.0            18.0               8.0               324.0   \n",
       "\n",
       "    (Y_t - mean_Y_t)(Y_tM1 - mean_Y_t)  \n",
       "0                                  NaN  \n",
       "1                                228.0  \n",
       "2                                204.0  \n",
       "3                                 68.0  \n",
       "4                                -12.0  \n",
       "5                                  0.0  \n",
       "6                                 -0.0  \n",
       "7                                 -4.0  \n",
       "8                                 20.0  \n",
       "9                                 75.0  \n",
       "10                               120.0  \n",
       "11                               144.0  "
      ]
     },
     "execution_count": 4,
     "metadata": {},
     "output_type": "execute_result"
    }
   ],
   "source": [
    "# adding more columns\n",
    "df_full = df.copy()\n",
    "df_full[\"Y_tM1\"] = df_full[\"Y_t\"].shift(1)\n",
    "\n",
    "mean_Y_t = df_full[\"Y_t\"].mean()\n",
    "df_full[\"Y_t - mean_Y_t\"] = df_full[\"Y_t\"] - mean_Y_t\n",
    "df_full[\"Y_tM1 - mean_Y_t\"] = df_full[\"Y_tM1\"] - mean_Y_t\n",
    "df_full[\"(Y_t - mean_Y_t)^2\"] = df_full[\"Y_t - mean_Y_t\"]**2\n",
    "df_full[\"(Y_t - mean_Y_t)(Y_tM1 - mean_Y_t)\"] = df_full[\"Y_t - mean_Y_t\"] * df_full[\"Y_tM1 - mean_Y_t\"]\n",
    "\n",
    "r_1 = df_full[\"(Y_t - mean_Y_t)(Y_tM1 - mean_Y_t)\"].sum() / df_full[\"(Y_t - mean_Y_t)^2\"].sum()\n",
    "\n",
    "print(f\"mean_Y_t = {mean_Y_t}\")\n",
    "print(f\"r_1 = {r_1:.3f}\")\n",
    "\n",
    "df_full"
   ]
  },
  {
   "cell_type": "markdown",
   "metadata": {},
   "source": [
    "## A function to compute autocorrelation"
   ]
  },
  {
   "cell_type": "code",
   "execution_count": 5,
   "metadata": {},
   "outputs": [],
   "source": [
    "def autocorr(dataframe, lag, verbose=None):\n",
    "  df = dataframe.copy()\n",
    "  label_lag = f\"Y_tM{lag}\"\n",
    "  df[label_lag] = df[\"Y_t\"].shift(lag)\n",
    "\n",
    "  mean_Y_t = df[\"Y_t\"].mean()\n",
    "  df[\"Y_t - mean_Y_t\"] = df[\"Y_t\"] - mean_Y_t\n",
    "  df[f\"{label_lag} - mean_Y_t\"] = df[label_lag] - mean_Y_t\n",
    "  df[\"(Y_t - mean_Y_t)^2\"] = df[\"Y_t - mean_Y_t\"]**2\n",
    "  df[f\"(Y_t - mean_Y_t)({label_lag} - mean_Y_t)\"] = df[\"Y_t - mean_Y_t\"] * df[f\"{label_lag} - mean_Y_t\"]\n",
    "\n",
    "  r_lag = df[f\"(Y_t - mean_Y_t)({label_lag} - mean_Y_t)\"].sum() / df[\"(Y_t - mean_Y_t)^2\"].sum()\n",
    "\n",
    "  if verbose is not None:\n",
    "    print(f\"mean_Y_t = {mean_Y_t}\")\n",
    "    print(f\"r_{lag} = {r_lag:.3f}\")\n",
    "\n",
    "  return df, r_lag\n"
   ]
  },
  {
   "cell_type": "code",
   "execution_count": 6,
   "metadata": {},
   "outputs": [],
   "source": [
    "def std_error(r_k_arr, k, n):\n",
    "  r_k_arr = np.array(r_k_arr)\n",
    "  r_k_arr = r_k_arr[:k-1] if len(r_k_arr) > 1 else [0]\n",
    "  r_k_arr = np.array(r_k_arr)\n",
    "  return np.sqrt((1 + 2*sum(r_k_arr**2))/n)\n"
   ]
  },
  {
   "cell_type": "code",
   "execution_count": 7,
   "metadata": {},
   "outputs": [
    {
     "name": "stdout",
     "output_type": "stream",
     "text": [
      "r_1 = 0.572\n",
      "r_2 = 0.463\n"
     ]
    }
   ],
   "source": [
    "lag = 1\n",
    "_, r_1 = autocorr(df, 1)\n",
    "print(f\"r_{lag} = {r_1:.3f}\")\n",
    "\n",
    "lag = 2\n",
    "_, r_2 = autocorr(df, 2)\n",
    "print(f\"r_{lag} = {r_2:.3f}\")\n"
   ]
  },
  {
   "cell_type": "code",
   "execution_count": 8,
   "metadata": {},
   "outputs": [
    {
     "name": "stdout",
     "output_type": "stream",
     "text": [
      "SE_r_1 = 0.289\n",
      "SE_r_2 = 0.371\n"
     ]
    }
   ],
   "source": [
    "SE_r_1 = std_error([r_1], 1, 12)\n",
    "print(f\"SE_r_1 = {SE_r_1:.3f}\")\n",
    "\n",
    "SE_r_2 = std_error([r_1, r_2], 2, 12)\n",
    "print(f\"SE_r_2 = {SE_r_2:.3f}\")"
   ]
  },
  {
   "cell_type": "code",
   "execution_count": 9,
   "metadata": {},
   "outputs": [],
   "source": [
    "def t_test_bound(significance_lvl, num_of_samples):\n",
    "  dof = num_of_samples - 1  # degree of freedom (n - 1)\n",
    "\n",
    "  l_bound = sc_stats.t.ppf(significance_lvl/2, dof)\n",
    "  u_bound = sc_stats.t.ppf(1-significance_lvl/2, dof)\n",
    "\n",
    "  return l_bound, u_bound\n",
    "\n",
    "def t_test_rnd_var(r_lag, SE_r_lag):\n",
    "  return r_lag/SE_r_lag\n"
   ]
  },
  {
   "cell_type": "code",
   "execution_count": 10,
   "metadata": {},
   "outputs": [
    {
     "name": "stdout",
     "output_type": "stream",
     "text": [
      "[l_bound, u_bound] = -2.2, 2.2\n",
      "[r_1] t_test = 1.98\n",
      "[r_2] t_test = 1.25\n"
     ]
    }
   ],
   "source": [
    "significance_lvl = 0.05   # two-sided\n",
    "num_of_samples = len(df_full.index)\n",
    "l_bound, u_bound = t_test_bound(significance_lvl, num_of_samples)\n",
    "r_1_t_test = t_test_rnd_var(r_1, SE_r_1)\n",
    "r_2_t_test = t_test_rnd_var(r_2, SE_r_2)\n",
    "\n",
    "print(f\"[l_bound, u_bound] = {l_bound:.1f}, {u_bound:.1f}\")\n",
    "print(f\"[r_1] t_test = {r_1_t_test:.2f}\")\n",
    "print(f\"[r_2] t_test = {r_2_t_test:.2f}\")\n",
    "\n"
   ]
  },
  {
   "cell_type": "code",
   "execution_count": 11,
   "metadata": {},
   "outputs": [],
   "source": [
    "def print_limit_time_lags(significance_lvl, lag, SE_r_lag, l_bound):\n",
    "  print(f\"lag {lag}: 0 +/- t_{significance_lvl/2:.3f} SE(r_{lag})\")\n",
    "  print(f\"  0 +/- {np.abs(l_bound):.1f}({SE_r_lag:.3f})\")\n",
    "  print(f\"  ({-np.abs(l_bound)*SE_r_lag:.3f}, {np.abs(l_bound)*SE_r_lag:.3f})\")"
   ]
  },
  {
   "cell_type": "code",
   "execution_count": 12,
   "metadata": {},
   "outputs": [
    {
     "name": "stdout",
     "output_type": "stream",
     "text": [
      "lag 1: 0 +/- t_0.025 SE(r_1)\n",
      "  0 +/- 2.2(0.289)\n",
      "  (-0.635, 0.635)\n",
      "lag 2: 0 +/- t_0.025 SE(r_2)\n",
      "  0 +/- 2.2(0.371)\n",
      "  (-0.817, 0.817)\n"
     ]
    }
   ],
   "source": [
    "print_limit_time_lags(significance_lvl, 1, SE_r_1, l_bound)\n",
    "print_limit_time_lags(significance_lvl, 2, SE_r_2, l_bound)"
   ]
  },
  {
   "cell_type": "markdown",
   "metadata": {},
   "source": [
    "## Ljung-Box $Q$\n",
    "\n",
    "Example 3"
   ]
  },
  {
   "cell_type": "code",
   "execution_count": 13,
   "metadata": {},
   "outputs": [
    {
     "data": {
      "text/html": [
       "<div>\n",
       "<style scoped>\n",
       "    .dataframe tbody tr th:only-of-type {\n",
       "        vertical-align: middle;\n",
       "    }\n",
       "\n",
       "    .dataframe tbody tr th {\n",
       "        vertical-align: top;\n",
       "    }\n",
       "\n",
       "    .dataframe thead th {\n",
       "        text-align: right;\n",
       "    }\n",
       "</style>\n",
       "<table border=\"1\" class=\"dataframe\">\n",
       "  <thead>\n",
       "    <tr style=\"text-align: right;\">\n",
       "      <th></th>\n",
       "      <th>t</th>\n",
       "      <th>Y_t</th>\n",
       "    </tr>\n",
       "  </thead>\n",
       "  <tbody>\n",
       "    <tr>\n",
       "      <th>0</th>\n",
       "      <td>1</td>\n",
       "      <td>343</td>\n",
       "    </tr>\n",
       "    <tr>\n",
       "      <th>1</th>\n",
       "      <td>2</td>\n",
       "      <td>574</td>\n",
       "    </tr>\n",
       "    <tr>\n",
       "      <th>2</th>\n",
       "      <td>3</td>\n",
       "      <td>879</td>\n",
       "    </tr>\n",
       "    <tr>\n",
       "      <th>3</th>\n",
       "      <td>4</td>\n",
       "      <td>728</td>\n",
       "    </tr>\n",
       "    <tr>\n",
       "      <th>4</th>\n",
       "      <td>5</td>\n",
       "      <td>37</td>\n",
       "    </tr>\n",
       "  </tbody>\n",
       "</table>\n",
       "</div>"
      ],
      "text/plain": [
       "   t  Y_t\n",
       "0  1  343\n",
       "1  2  574\n",
       "2  3  879\n",
       "3  4  728\n",
       "4  5   37"
      ]
     },
     "execution_count": 13,
     "metadata": {},
     "output_type": "execute_result"
    }
   ],
   "source": [
    "filename = \"02-table-03-time-series-40randomNums.ods\"\n",
    "\n",
    "df_random_num = pd.read_excel(filename, engine=\"odf\", header=0, usecols=(\"t\", \"Yt\"))\n",
    "df_random_num = df_random_num.rename(columns={\"Yt\": \"Y_t\"})\n",
    "df_random_num.head()\n"
   ]
  },
  {
   "cell_type": "code",
   "execution_count": 14,
   "metadata": {},
   "outputs": [
    {
     "name": "stdout",
     "output_type": "stream",
     "text": [
      "r_1 = -0.191\n",
      "r_2 = -0.006\n"
     ]
    }
   ],
   "source": [
    "lag = 1\n",
    "_, r_1 = autocorr(df_random_num, 1)\n",
    "print(f\"r_{lag} = {r_1:.3f}\")\n",
    "\n",
    "lag = 2\n",
    "_, r_2 = autocorr(df_random_num, 2)\n",
    "print(f\"r_{lag} = {r_2:.3f}\")\n"
   ]
  },
  {
   "cell_type": "code",
   "execution_count": 16,
   "metadata": {},
   "outputs": [
    {
     "data": {
      "image/png": "[encoded data removed]",
      "text/plain": [
       "<Figure size 1000x300 with 1 Axes>"
      ]
     },
     "metadata": {},
     "output_type": "display_data"
    }
   ],
   "source": [
    "fig, ax = plt.subplots(figsize=(10, 3))\n",
    "\n",
    "ax.plot(df_random_num[\"t\"], df_random_num[\"Y_t\"], marker='o')\n",
    "ax.set_xlabel(\"Time\")\n",
    "ax.set_ylabel(\"Y_t\")\n",
    "ax.set_title(\"40 random numbers\")\n",
    "ax.grid(\"on\")\n",
    "plt.show(fig)"
   ]
  },
  {
   "cell_type": "code",
   "execution_count": 16,
   "metadata": {},
   "outputs": [],
   "source": [
    "# From https://stackoverflow.com/q/30399534\n",
    "def shift_numpy(arr, num, fill_value=np.NaN):\n",
    "  result = np.empty_like(arr, dtype=float)\n",
    "  if num > 0:\n",
    "    result[:num] = fill_value\n",
    "    result[num:] = arr[:-num]\n",
    "  elif num < 0:\n",
    "    result[num:] = fill_value\n",
    "    result[:num] = arr[-num:]\n",
    "  else:\n",
    "    result[:] = arr\n",
    "  return result"
   ]
  },
  {
   "cell_type": "code",
   "execution_count": 17,
   "metadata": {},
   "outputs": [],
   "source": [
    "def get_correlogram(dataframe, up_to_lag, columns=[None, None], \n",
    "                    significance_lvl=0.05):\n",
    "  df = dataframe.copy()\n",
    "\n",
    "  Y_t = df[columns[1]].to_numpy()\n",
    "\n",
    "  mean_Y_t = np.mean(Y_t)\n",
    "\n",
    "  r_lag_arr = np.empty(up_to_lag)\n",
    "  denom = np.sum((Y_t - mean_Y_t)**2)\n",
    "\n",
    "  num_of_samples = len(Y_t)\n",
    "  dof = num_of_samples - 1   # degree of freedom\n",
    "  l_bound = sc_stats.t.ppf(significance_lvl/2, dof)\n",
    "  u_bound = sc_stats.t.ppf(1-significance_lvl/2, dof)\n",
    "  #print(f\"[l_bound, r_bound] = [{l_bound}, {u_bound}]\")\n",
    "\n",
    "  std_error_arr = np.empty(up_to_lag)\n",
    "  significance_lim_arr = np.empty([up_to_lag, 2])\n",
    "\n",
    "  t_test_arr = np.empty(up_to_lag)\n",
    "\n",
    "  # Ljung-Box Q statistic\n",
    "  coeff = num_of_samples*(num_of_samples + 2)\n",
    "  LBQ_arr = np.empty(up_to_lag)\n",
    "\n",
    "  for lag in range(1, up_to_lag+1):\n",
    "    numer = (Y_t[:-lag]  - mean_Y_t) * (Y_t[lag:] - mean_Y_t)\n",
    "    numer = np.sum(numer)\n",
    "    # print(f\"numer = {numer}\")\n",
    "    # print(f\"denom = {denom}\")\n",
    "    r_lag = numer / denom\n",
    "    r_lag_arr[lag-1] = r_lag \n",
    "    std_error_arr[lag-1] = std_error(r_lag_arr[:lag], lag, num_of_samples)\n",
    "    #print(f\"std_error_r_{lag:<2d}: {std_error_arr[lag-1]}\")\n",
    "    significance_lim_arr[lag-1, 0] = l_bound*std_error_arr[lag-1]\n",
    "    significance_lim_arr[lag-1, 1] = u_bound*std_error_arr[lag-1]\n",
    "\n",
    "    t_test_arr[lag-1] = r_lag / std_error_arr[lag-1]\n",
    "    # print(f\"r_{lag:<2d} = {r_lag_arr[lag-1]:9.6f}\")\n",
    "\n",
    "    LBQ_arr[lag-1] = coeff*np.sum((r_lag_arr[:lag]**2)/(num_of_samples - np.arange(1, lag+1)))\n",
    "\n",
    "\n",
    "  df_result = pd.DataFrame({\n",
    "    \"k\": np.arange(1, up_to_lag+1), \n",
    "    \"r_k\": r_lag_arr, \n",
    "    \"t_test\": t_test_arr, \n",
    "    \"LBQ\": LBQ_arr,\n",
    "    \"l_bound\": significance_lim_arr[:,0],\n",
    "    \"u_bound\": significance_lim_arr[:,1]  \n",
    "  })\n",
    "  return df_result"
   ]
  },
  {
   "cell_type": "code",
   "execution_count": 18,
   "metadata": {},
   "outputs": [
    {
     "data": {
      "text/html": [
       "<div>\n",
       "<style scoped>\n",
       "    .dataframe tbody tr th:only-of-type {\n",
       "        vertical-align: middle;\n",
       "    }\n",
       "\n",
       "    .dataframe tbody tr th {\n",
       "        vertical-align: top;\n",
       "    }\n",
       "\n",
       "    .dataframe thead th {\n",
       "        text-align: right;\n",
       "    }\n",
       "</style>\n",
       "<table border=\"1\" class=\"dataframe\">\n",
       "  <thead>\n",
       "    <tr style=\"text-align: right;\">\n",
       "      <th></th>\n",
       "      <th>k</th>\n",
       "      <th>r_k</th>\n",
       "      <th>t_test</th>\n",
       "      <th>LBQ</th>\n",
       "      <th>l_bound</th>\n",
       "      <th>u_bound</th>\n",
       "    </tr>\n",
       "  </thead>\n",
       "  <tbody>\n",
       "    <tr>\n",
       "      <th>0</th>\n",
       "      <td>1</td>\n",
       "      <td>-0.191171</td>\n",
       "      <td>-1.209074</td>\n",
       "      <td>1.574310</td>\n",
       "      <td>-0.319816</td>\n",
       "      <td>0.319816</td>\n",
       "    </tr>\n",
       "    <tr>\n",
       "      <th>1</th>\n",
       "      <td>2</td>\n",
       "      <td>-0.006293</td>\n",
       "      <td>-0.038420</td>\n",
       "      <td>1.576061</td>\n",
       "      <td>-0.331298</td>\n",
       "      <td>0.331298</td>\n",
       "    </tr>\n",
       "    <tr>\n",
       "      <th>2</th>\n",
       "      <td>3</td>\n",
       "      <td>-0.145224</td>\n",
       "      <td>-0.886609</td>\n",
       "      <td>2.533655</td>\n",
       "      <td>-0.331310</td>\n",
       "      <td>0.331310</td>\n",
       "    </tr>\n",
       "    <tr>\n",
       "      <th>3</th>\n",
       "      <td>4</td>\n",
       "      <td>0.104475</td>\n",
       "      <td>0.625657</td>\n",
       "      <td>3.043023</td>\n",
       "      <td>-0.337758</td>\n",
       "      <td>0.337758</td>\n",
       "    </tr>\n",
       "    <tr>\n",
       "      <th>4</th>\n",
       "      <td>5</td>\n",
       "      <td>-0.253756</td>\n",
       "      <td>-1.504979</td>\n",
       "      <td>6.133832</td>\n",
       "      <td>-0.341047</td>\n",
       "      <td>0.341047</td>\n",
       "    </tr>\n",
       "    <tr>\n",
       "      <th>5</th>\n",
       "      <td>6</td>\n",
       "      <td>0.028640</td>\n",
       "      <td>0.160985</td>\n",
       "      <td>6.174361</td>\n",
       "      <td>-0.359841</td>\n",
       "      <td>0.359841</td>\n",
       "    </tr>\n",
       "    <tr>\n",
       "      <th>6</th>\n",
       "      <td>7</td>\n",
       "      <td>0.169071</td>\n",
       "      <td>0.949746</td>\n",
       "      <td>7.629602</td>\n",
       "      <td>-0.360074</td>\n",
       "      <td>0.360074</td>\n",
       "    </tr>\n",
       "    <tr>\n",
       "      <th>7</th>\n",
       "      <td>8</td>\n",
       "      <td>-0.027390</td>\n",
       "      <td>-0.150504</td>\n",
       "      <td>7.668988</td>\n",
       "      <td>-0.368104</td>\n",
       "      <td>0.368104</td>\n",
       "    </tr>\n",
       "    <tr>\n",
       "      <th>8</th>\n",
       "      <td>9</td>\n",
       "      <td>-0.032551</td>\n",
       "      <td>-0.178765</td>\n",
       "      <td>7.726412</td>\n",
       "      <td>-0.368313</td>\n",
       "      <td>0.368313</td>\n",
       "    </tr>\n",
       "    <tr>\n",
       "      <th>9</th>\n",
       "      <td>10</td>\n",
       "      <td>0.021546</td>\n",
       "      <td>0.118232</td>\n",
       "      <td>7.752409</td>\n",
       "      <td>-0.368607</td>\n",
       "      <td>0.368607</td>\n",
       "    </tr>\n",
       "  </tbody>\n",
       "</table>\n",
       "</div>"
      ],
      "text/plain": [
       "    k       r_k    t_test       LBQ   l_bound   u_bound\n",
       "0   1 -0.191171 -1.209074  1.574310 -0.319816  0.319816\n",
       "1   2 -0.006293 -0.038420  1.576061 -0.331298  0.331298\n",
       "2   3 -0.145224 -0.886609  2.533655 -0.331310  0.331310\n",
       "3   4  0.104475  0.625657  3.043023 -0.337758  0.337758\n",
       "4   5 -0.253756 -1.504979  6.133832 -0.341047  0.341047\n",
       "5   6  0.028640  0.160985  6.174361 -0.359841  0.359841\n",
       "6   7  0.169071  0.949746  7.629602 -0.360074  0.360074\n",
       "7   8 -0.027390 -0.150504  7.668988 -0.368104  0.368104\n",
       "8   9 -0.032551 -0.178765  7.726412 -0.368313  0.368313\n",
       "9  10  0.021546  0.118232  7.752409 -0.368607  0.368607"
      ]
     },
     "execution_count": 18,
     "metadata": {},
     "output_type": "execute_result"
    }
   ],
   "source": [
    "df_acorr_analysis = get_correlogram(df_random_num, 10, columns=['t', \"Y_t\"])\n",
    "df_acorr_analysis"
   ]
  },
  {
   "cell_type": "code",
   "execution_count": 19,
   "metadata": {},
   "outputs": [
    {
     "data": {
      "image/png": "[encoded data removed]",
      "text/plain": [
       "<Figure size 700x300 with 1 Axes>"
      ]
     },
     "metadata": {},
     "output_type": "display_data"
    }
   ],
   "source": [
    "fig, ax = plt.subplots(figsize=(7, 3))\n",
    "\n",
    "lag_arr = df_acorr_analysis[\"k\"].to_numpy()\n",
    "stem_handler = ax.stem(lag_arr, df_acorr_analysis[\"r_k\"].to_numpy())\n",
    "\n",
    "ax.plot(lag_arr, df_acorr_analysis[\"l_bound\"], linestyle='--', color=\"gray\")\n",
    "ax.plot(lag_arr, df_acorr_analysis[\"u_bound\"], linestyle='--', color=\"gray\")\n",
    "\n",
    "# [0] = markerline handler\n",
    "# [1] = stemlines handler\n",
    "# [2] = baseline handler\n",
    "stem_handler[0].set_marker(None)\n",
    "stem_handler[1].set_linewidth(4)\n",
    "stem_handler[2].set_alpha(0)\n",
    "\n",
    "ax.grid(\"on\")\n",
    "ax.set_ylim([-1, 1])\n",
    "ax.set_xlabel(\"Lag\")\n",
    "ax.set_ylabel(\"Autocorrelation\")\n",
    "ax.set_title(\"Autocorrelation Function for Yt\\n\"\n",
    "  + \"(with 5% significance limits for the autocorrelations)\")\n",
    "\n",
    "plt.show(fig)"
   ]
  },
  {
   "cell_type": "markdown",
   "metadata": {},
   "source": [
    "If there is no autocorrelation at any lag, the $Q$ statistic has a chi-square distribution with, in this case, `dof = 10`.   \n",
    "Consequently, a large value for $Q$ (in the tail of the chi-square distribution) is evidence against the null hypothesis."
   ]
  },
  {
   "cell_type": "code",
   "execution_count": 20,
   "metadata": {},
   "outputs": [
    {
     "name": "stdout",
     "output_type": "stream",
     "text": [
      "u_bound = 18.31\n"
     ]
    }
   ],
   "source": [
    "dof = 10        # degree of freedom (number of lags under consideration)\n",
    "significance_lvl = 0.05\n",
    "u_bound = sc_stats.chi2.ppf(1-significance_lvl, df=dof)\n",
    "print(f\"u_bound = {u_bound:.2f}\")"
   ]
  },
  {
   "cell_type": "code",
   "execution_count": null,
   "metadata": {},
   "outputs": [],
   "source": []
  }
 ],
 "metadata": {
  "kernelspec": {
   "display_name": "Python 3.8.10 ('base')",
   "language": "python",
   "name": "python3"
  },
  "language_info": {
   "codemirror_mode": {
    "name": "ipython",
    "version": 3
   },
   "file_extension": ".py",
   "mimetype": "text/x-python",
   "name": "python",
   "nbconvert_exporter": "python",
   "pygments_lexer": "ipython3",
   "version": "3.8.10"
  },
  "orig_nbformat": 4,
  "vscode": {
   "interpreter": {
    "hash": "b68217c4fa6011267e0d81cc47bb50822e9770eb46de3a1f506be20c9f89249d"
   }
  }
 },
 "nbformat": 4,
 "nbformat_minor": 2
}
