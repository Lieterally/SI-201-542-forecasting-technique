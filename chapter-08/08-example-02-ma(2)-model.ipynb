{
 "cells": [
  {
   "attachments": {},
   "cell_type": "markdown",
   "metadata": {},
   "source": [
    "Logs \n",
    "- [2023/05/14]   \n",
    "  The first version of this notebook. Please restart this notebook\n",
    "  if there is a modification to the file `forecast.py`\n",
    "\n",
    "  Implementation of manual estimation of MA(2) params \n",
    "  ($\\mu$, $\\omega_1$, $\\omega_2$, $\\sigma_\\epsilon$) is not easy.\n",
    "  Some useful references:\n",
    "  - (Brockwell and Davis, 2016) - Introduction  to Time Series and \n",
    "    Forecasting, 3rd Ed. Chapter 5\n",
    "    Hannan-Rissanen algorithm and Inovative algorithm\n",
    "    are suitable for a pure moving-average models\n",
    "\n",
    "  - (Box et al, 2016) - Time Series Analysis - Forecasting and Control, \n",
    "    5th Ed."
   ]
  },
  {
   "attachments": {},
   "cell_type": "markdown",
   "metadata": {},
   "source": [
    "# Example 8.2 - MA(2) model"
   ]
  },
  {
   "cell_type": "code",
   "execution_count": 16,
   "metadata": {},
   "outputs": [],
   "source": [
    "import numpy as np\n",
    "import matplotlib.pyplot as plt\n",
    "import sys, os\n",
    "import pandas as pd\n",
    "import lmfit\n",
    "import tabulate\n",
    "import scipy.optimize as sc_optimize\n",
    "\n",
    "sys.path.append(os.path.abspath(os.path.join(\"..\")))\n",
    "\n",
    "from lib.forecast import Forecast as fcast\n",
    "\n",
    "\n",
    "from statsmodels.tsa.arima.model import ARIMA"
   ]
  },
  {
   "cell_type": "code",
   "execution_count": 4,
   "metadata": {},
   "outputs": [],
   "source": [
    "plt.rcParams.update(plt.rcParamsDefault)\n",
    "plt.rcParams.update({\n",
    "  'font.size': 16,\n",
    "  'grid.alpha': 0.25})"
   ]
  },
  {
   "attachments": {},
   "cell_type": "markdown",
   "metadata": {},
   "source": [
    "## Load data"
   ]
  },
  {
   "attachments": {},
   "cell_type": "markdown",
   "metadata": {},
   "source": [
    "### Atron process"
   ]
  },
  {
   "cell_type": "code",
   "execution_count": 5,
   "metadata": {},
   "outputs": [
    {
     "data": {
      "text/html": [
       "<div>\n",
       "<style scoped>\n",
       "    .dataframe tbody tr th:only-of-type {\n",
       "        vertical-align: middle;\n",
       "    }\n",
       "\n",
       "    .dataframe tbody tr th {\n",
       "        vertical-align: top;\n",
       "    }\n",
       "\n",
       "    .dataframe thead th {\n",
       "        text-align: right;\n",
       "    }\n",
       "</style>\n",
       "<table border=\"1\" class=\"dataframe\">\n",
       "  <thead>\n",
       "    <tr style=\"text-align: right;\">\n",
       "      <th></th>\n",
       "      <th>t</th>\n",
       "      <th>Y_t</th>\n",
       "      <th>Y_tM1</th>\n",
       "      <th>Y_tM2</th>\n",
       "    </tr>\n",
       "  </thead>\n",
       "  <tbody>\n",
       "    <tr>\n",
       "      <th>0</th>\n",
       "      <td>1</td>\n",
       "      <td>60.0</td>\n",
       "      <td>NaN</td>\n",
       "      <td>NaN</td>\n",
       "    </tr>\n",
       "    <tr>\n",
       "      <th>1</th>\n",
       "      <td>2</td>\n",
       "      <td>81.0</td>\n",
       "      <td>60.0</td>\n",
       "      <td>NaN</td>\n",
       "    </tr>\n",
       "    <tr>\n",
       "      <th>2</th>\n",
       "      <td>3</td>\n",
       "      <td>72.0</td>\n",
       "      <td>81.0</td>\n",
       "      <td>60.0</td>\n",
       "    </tr>\n",
       "    <tr>\n",
       "      <th>3</th>\n",
       "      <td>4</td>\n",
       "      <td>78.0</td>\n",
       "      <td>72.0</td>\n",
       "      <td>81.0</td>\n",
       "    </tr>\n",
       "    <tr>\n",
       "      <th>4</th>\n",
       "      <td>5</td>\n",
       "      <td>61.5</td>\n",
       "      <td>78.0</td>\n",
       "      <td>72.0</td>\n",
       "    </tr>\n",
       "    <tr>\n",
       "      <th>...</th>\n",
       "      <td>...</td>\n",
       "      <td>...</td>\n",
       "      <td>...</td>\n",
       "      <td>...</td>\n",
       "    </tr>\n",
       "    <tr>\n",
       "      <th>70</th>\n",
       "      <td>71</td>\n",
       "      <td>90.0</td>\n",
       "      <td>73.5</td>\n",
       "      <td>87.0</td>\n",
       "    </tr>\n",
       "    <tr>\n",
       "      <th>71</th>\n",
       "      <td>72</td>\n",
       "      <td>78.0</td>\n",
       "      <td>90.0</td>\n",
       "      <td>73.5</td>\n",
       "    </tr>\n",
       "    <tr>\n",
       "      <th>72</th>\n",
       "      <td>73</td>\n",
       "      <td>87.0</td>\n",
       "      <td>78.0</td>\n",
       "      <td>90.0</td>\n",
       "    </tr>\n",
       "    <tr>\n",
       "      <th>73</th>\n",
       "      <td>74</td>\n",
       "      <td>99.0</td>\n",
       "      <td>87.0</td>\n",
       "      <td>78.0</td>\n",
       "    </tr>\n",
       "    <tr>\n",
       "      <th>74</th>\n",
       "      <td>75</td>\n",
       "      <td>72.0</td>\n",
       "      <td>99.0</td>\n",
       "      <td>87.0</td>\n",
       "    </tr>\n",
       "  </tbody>\n",
       "</table>\n",
       "<p>75 rows × 4 columns</p>\n",
       "</div>"
      ],
      "text/plain": [
       "     t   Y_t  Y_tM1  Y_tM2\n",
       "0    1  60.0    NaN    NaN\n",
       "1    2  81.0   60.0    NaN\n",
       "2    3  72.0   81.0   60.0\n",
       "3    4  78.0   72.0   81.0\n",
       "4    5  61.5   78.0   72.0\n",
       "..  ..   ...    ...    ...\n",
       "70  71  90.0   73.5   87.0\n",
       "71  72  78.0   90.0   73.5\n",
       "72  73  87.0   78.0   90.0\n",
       "73  74  99.0   87.0   78.0\n",
       "74  75  72.0   99.0   87.0\n",
       "\n",
       "[75 rows x 4 columns]"
      ]
     },
     "execution_count": 5,
     "metadata": {},
     "output_type": "execute_result"
    }
   ],
   "source": [
    "filename = \"08-table-05-atron-process.ods\"\n",
    "\n",
    "df = fcast.read_ods(filename)\n",
    "\n",
    "header_names = df.columns.to_list()\n",
    "process_arr = []\n",
    "for header in header_names:\n",
    "  process_arr += df[header].to_list()\n",
    "\n",
    "process_arr = np.array(process_arr)\n",
    "process_arr = process_arr[~np.isnan(process_arr)]\n",
    "df = pd.DataFrame()\n",
    "df[\"t\"] = np.arange(1, len(process_arr) + 1, dtype=int)\n",
    "df[\"Y_t\"] = process_arr\n",
    "\n",
    "df[\"Y_tM1\"] = df[\"Y_t\"].shift(1)\n",
    "df[\"Y_tM2\"] = df[\"Y_t\"].shift(2)\n",
    "\n",
    "# display(process_arr)\n",
    "df"
   ]
  },
  {
   "attachments": {},
   "cell_type": "markdown",
   "metadata": {},
   "source": [
    "### Plot of the data"
   ]
  },
  {
   "cell_type": "code",
   "execution_count": 6,
   "metadata": {},
   "outputs": [
    {
     "data": {
      "image/png": "[encoded data removed]",
      "text/plain": [
       "<Figure size 800x400 with 1 Axes>"
      ]
     },
     "metadata": {},
     "output_type": "display_data"
    }
   ],
   "source": [
    "fig, ax = plt.subplots(figsize=(8, 4))\n",
    "\n",
    "ax.plot(df[\"t\"], df[\"Y_t\"], marker='o', markersize=6)\n",
    "\n",
    "plt.show(fig)"
   ]
  },
  {
   "attachments": {},
   "cell_type": "markdown",
   "metadata": {},
   "source": [
    "## MA(2) model"
   ]
  },
  {
   "attachments": {},
   "cell_type": "markdown",
   "metadata": {},
   "source": [
    "$$\n",
    "  Y_t = \\mu + \\varepsilon_t \n",
    "          - \\omega_1 \\varepsilon_{t-1} - \\omega_2 \\varepsilon_{t-2}\n",
    "$$\n",
    "\n",
    "$\\mu$, $\\omega_1$, and $\\omega_2$ are estimated parameters"
   ]
  },
  {
   "cell_type": "code",
   "execution_count": 43,
   "metadata": {},
   "outputs": [],
   "source": [
    "def obj_func(params, y_data):\n",
    "  mu = params[0]\n",
    "  omega1 = params[1]\n",
    "  omega2 = params[2]\n",
    "  sigma_sq = params[3]\n",
    "\n",
    "  n_data = len(y_data)\n",
    "  epsilon_arr = np.zeros(2 + n_data)\n",
    "  # epsilon_arr[:2] = [0.5, 0.5]   # We don't know this initial value\n",
    "  for t in range(n_data):\n",
    "    epsilon = y_data[t] - mu + omega1 * epsilon_arr[t+1] \\\n",
    "                              + omega2 * epsilon_arr[t]\n",
    "    epsilon_arr[t+2] = epsilon\n",
    "\n",
    "  epsilon_arr = epsilon_arr[2:]   # cut epsilon_{-1} and epsilon_0\n",
    "\n",
    "  # -- log-likelihood (see the formula in xournal++ note\n",
    "  #    chapter-08-2023-05-14-Note-09-07.xopp. In the note, we\n",
    "  #    describe the log-likelihood function for MA(1).\n",
    "  #    In her we compute for MA(2) and try to minimize (multiply\n",
    "  #    log-likelihood by -1)\n",
    "\n",
    "  return n_data*np.log(2.*np.pi)/2 + n_data*np.log(sigma_sq)/2 \\\n",
    "    + (epsilon_arr**2/(2.*sigma_sq)).sum()\n",
    "\n"
   ]
  },
  {
   "cell_type": "code",
   "execution_count": 46,
   "metadata": {},
   "outputs": [],
   "source": [
    "def get_estimated_params(df, params_init):\n",
    "  y_data = df[\"Y\"].to_numpy()\n",
    "\n",
    "  optimize_out = sc_optimize.least_squares(obj_func, params_init, \n",
    "    args=(y_data, ), ftol=1e-14)\n",
    "\n",
    "  return optimize_out.x"
   ]
  },
  {
   "cell_type": "code",
   "execution_count": 49,
   "metadata": {},
   "outputs": [
    {
     "data": {
      "text/plain": [
       "array([ 75.38104428,   0.55421311,  -0.33968501, 130.01997668])"
      ]
     },
     "execution_count": 49,
     "metadata": {},
     "output_type": "execute_result"
    }
   ],
   "source": [
    "params_init = [75., 0.55, -0.35, 130]\n",
    "df_least_sq = df[[\"t\", \"Y_t\"]]\n",
    "df_least_sq = df_least_sq.rename(columns={\"Y_t\": \"Y\"})\n",
    "# df_least_sq\n",
    "get_estimated_params(df_least_sq, params_init)"
   ]
  },
  {
   "attachments": {},
   "cell_type": "markdown",
   "metadata": {},
   "source": [
    "## Using `statsmodels`"
   ]
  },
  {
   "cell_type": "code",
   "execution_count": 9,
   "metadata": {},
   "outputs": [
    {
     "data": {
      "text/plain": [
       "array([ 60. ,  81. ,  72. ,  78. ,  61.5,  78. ,  57. ,  84. ,  72. ,\n",
       "        67.8,  99. ,  25.5,  93. ,  75. ,  57. ,  88.5,  76.5,  82.5,\n",
       "        72. ,  76.5,  75. ,  78. ,  66. ,  97.5,  60. ,  97.5,  61.5,\n",
       "        96. ,  79.5,  72. ,  79.5,  64.5,  99. ,  72. ,  78. ,  63. ,\n",
       "        66. ,  84. ,  66. ,  87. ,  61.5,  81. ,  76.5,  84. ,  57. ,\n",
       "        84. ,  73.5,  78. ,  49.5,  78. ,  88.5,  51. ,  85.5,  58.5,\n",
       "        90. ,  60. ,  78. ,  66. ,  97.5,  64.5,  72. ,  66. ,  73.5,\n",
       "        66. ,  73.5, 103.5,  60. ,  81. ,  87. ,  73.5,  90. ,  78. ,\n",
       "        87. ,  99. ,  72. ])"
      ]
     },
     "execution_count": 9,
     "metadata": {},
     "output_type": "execute_result"
    }
   ],
   "source": [
    "Y_t = df[\"Y_t\"].to_numpy()\n",
    "Y_t"
   ]
  },
  {
   "cell_type": "code",
   "execution_count": 52,
   "metadata": {},
   "outputs": [
    {
     "name": "stdout",
     "output_type": "stream",
     "text": [
      "                               SARIMAX Results                                \n",
      "==============================================================================\n",
      "Dep. Variable:                      y   No. Observations:                   75\n",
      "Model:                 ARIMA(0, 0, 2)   Log Likelihood                -289.335\n",
      "Date:                Sun, 14 May 2023   AIC                            586.670\n",
      "Time:                        21:35:18   BIC                            595.940\n",
      "Sample:                             0   HQIC                           590.371\n",
      "                                 - 75                                         \n",
      "Covariance Type:                  opg                                         \n",
      "==============================================================================\n",
      "                 coef    std err          z      P>|z|      [0.025      0.975]\n",
      "------------------------------------------------------------------------------\n",
      "const         75.4099      1.056     71.407      0.000      73.340      77.480\n",
      "ma.L1         -0.5581      0.120     -4.643      0.000      -0.794      -0.323\n",
      "ma.L2          0.3455      0.128      2.697      0.007       0.094       0.597\n",
      "sigma2       130.5575     19.762      6.606      0.000      91.824     169.290\n",
      "===================================================================================\n",
      "Ljung-Box (L1) (Q):                   0.01   Jarque-Bera (JB):                 1.44\n",
      "Prob(Q):                              0.93   Prob(JB):                         0.49\n",
      "Heteroskedasticity (H):               1.13   Skew:                            -0.10\n",
      "Prob(H) (two-sided):                  0.77   Kurtosis:                         3.65\n",
      "===================================================================================\n",
      "\n",
      "Warnings:\n",
      "[1] Covariance matrix calculated using the outer product of gradients (complex-step).\n"
     ]
    }
   ],
   "source": [
    "model = ARIMA(Y_t, order=(0, 0, 2))\n",
    "result = model.fit()\n",
    "print(result.summary())"
   ]
  },
  {
   "cell_type": "code",
   "execution_count": null,
   "metadata": {},
   "outputs": [],
   "source": []
  }
 ],
 "metadata": {
  "kernelspec": {
   "display_name": "base",
   "language": "python",
   "name": "python3"
  },
  "language_info": {
   "codemirror_mode": {
    "name": "ipython",
    "version": 3
   },
   "file_extension": ".py",
   "mimetype": "text/x-python",
   "name": "python",
   "nbconvert_exporter": "python",
   "pygments_lexer": "ipython3",
   "version": "3.8.10"
  },
  "orig_nbformat": 4
 },
 "nbformat": 4,
 "nbformat_minor": 2
}
