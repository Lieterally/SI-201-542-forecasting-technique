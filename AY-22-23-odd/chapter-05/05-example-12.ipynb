{
 "cells": [
  {
   "cell_type": "code",
   "execution_count": 1,
   "metadata": {},
   "outputs": [],
   "source": [
    "import matplotlib.pyplot as plt\n",
    "import numpy as np\n",
    "import pandas as pd\n",
    "import scipy.stats as sc_stats\n",
    "import tabulate"
   ]
  },
  {
   "cell_type": "code",
   "execution_count": 2,
   "metadata": {},
   "outputs": [],
   "source": [
    "plt.rcParams.update(plt.rcParamsDefault)\n",
    "plt.rcParams.update({\n",
    "  'font.size': 12,\n",
    "  'grid.alpha': 0.25})"
   ]
  },
  {
   "cell_type": "markdown",
   "metadata": {},
   "source": [
    "## Function declarations\n",
    "\n",
    "### Read `ods` to `DataFrame`\n"
   ]
  },
  {
   "cell_type": "code",
   "execution_count": 3,
   "metadata": {},
   "outputs": [],
   "source": [
    "def read_ods(filename, columns=None):\n",
    "  if columns is None:\n",
    "    df = pd.read_excel(filename, engine=\"odf\", header=0)\n",
    "  else:\n",
    "    key_arr = (k for k in columns.keys())\n",
    "    df = pd.read_excel(filename, engine=\"odf\", header=0,\n",
    "                       vusecols=columns)\n",
    "    df = df.rename(columns=columns)\n",
    "  return df"
   ]
  },
  {
   "cell_type": "markdown",
   "metadata": {},
   "source": [
    "### Get linear regression coefficients ($b_0$ and $b_1$)"
   ]
  },
  {
   "cell_type": "code",
   "execution_count": 4,
   "metadata": {},
   "outputs": [],
   "source": [
    "def get_regress_coeff(df):\n",
    "  df[\"XY\"] = df['X'] * df['Y']\n",
    "  df[\"X^2\"] = df['X']**2\n",
    "\n",
    "  n = len(df)\n",
    "  sumXY = df[\"XY\"].sum()\n",
    "  sumX = df[\"X\"].sum()\n",
    "  sumY = df[\"Y\"].sum()\n",
    "  sumXsq = df[\"X^2\"].sum()\n",
    "\n",
    "  b1 = (n*sumXY - sumX*sumY) / (n*sumXsq - sumX**2)\n",
    "  b0 = sumY/n - b1*sumX/n\n",
    "\n",
    "  # print(f\"(b0, b1) = ({b0:.2f}, {b1:.2f})\")\n",
    "  return [b0, b1], df\n"
   ]
  },
  {
   "cell_type": "markdown",
   "metadata": {},
   "source": [
    "### Get ANOVA table"
   ]
  },
  {
   "cell_type": "code",
   "execution_count": 5,
   "metadata": {},
   "outputs": [],
   "source": [
    "def get_ANOVA_table(df):\n",
    "  [b0, b1], df_residual = get_regress_coeff(df)\n",
    "\n",
    "  # calculation sum of squares total\n",
    "  df_residual[\"meanY\"] = df_residual['Y'].mean()\n",
    "  df_residual[\"(Y - meanY)\"] = df_residual['Y'] - df_residual[\"meanY\"]\n",
    "  df_residual[\"(Y - meanY)^2\"] = df_residual['(Y - meanY)']**2\n",
    "\n",
    "  # calculation sum of squares error\n",
    "  df_residual['hat_Y'] = b0 + b1*df_residual['X']\n",
    "  df_residual['(Y - hat_Y)'] = df_residual['Y'] - df_residual[\"hat_Y\"]\n",
    "  df_residual['(Y - hat_Y)^2'] = df_residual['(Y - hat_Y)']**2\n",
    "\n",
    "  # calculation sum of squares regression\n",
    "  df_residual['(hat_Y - meanY)^2'] = (df_residual['hat_Y'] - df_residual['meanY'])**2\n",
    "\n",
    "  SST = df_residual[\"(Y - meanY)^2\"].sum()\n",
    "  SSE = df_residual[\"(Y - hat_Y)^2\"].sum()\n",
    "  SSR = df_residual[\"(hat_Y - meanY)^2\"].sum()\n",
    "\n",
    "  num_of_sample = len(df_residual)\n",
    "\n",
    "  data = [\n",
    "    [\"Regression\", SSR, 1                , SSR/1],\n",
    "    [\"Error\"     , SSE, num_of_sample - 2, SSE/(num_of_sample - 2)],\n",
    "    [\"Total\"     , SST, num_of_sample - 1, None]]\n",
    "  anova_table = tabulate.tabulate(data, tablefmt='html', \n",
    "    headers=[\"Source\", \"Sum of Squares\", \"d.o.f\", \"Mean Square\"], \n",
    "    floatfmt=(None, \".2f\", None, \".2f\"))\n",
    "\n",
    "\n",
    "  return anova_table, df_residual, [SST, SSR, SSE] "
   ]
  },
  {
   "cell_type": "markdown",
   "metadata": {},
   "source": [
    "## Load the data"
   ]
  },
  {
   "cell_type": "code",
   "execution_count": 7,
   "metadata": {},
   "outputs": [
    {
     "data": {
      "text/html": [
       "<div>\n",
       "<style scoped>\n",
       "    .dataframe tbody tr th:only-of-type {\n",
       "        vertical-align: middle;\n",
       "    }\n",
       "\n",
       "    .dataframe tbody tr th {\n",
       "        vertical-align: top;\n",
       "    }\n",
       "\n",
       "    .dataframe thead th {\n",
       "        text-align: right;\n",
       "    }\n",
       "</style>\n",
       "<table border=\"1\" class=\"dataframe\">\n",
       "  <thead>\n",
       "    <tr style=\"text-align: right;\">\n",
       "      <th></th>\n",
       "      <th>Year</th>\n",
       "      <th>Time</th>\n",
       "      <th>Users</th>\n",
       "    </tr>\n",
       "  </thead>\n",
       "  <tbody>\n",
       "    <tr>\n",
       "      <th>0</th>\n",
       "      <td>2002</td>\n",
       "      <td>1</td>\n",
       "      <td>3000</td>\n",
       "    </tr>\n",
       "    <tr>\n",
       "      <th>1</th>\n",
       "      <td>2003</td>\n",
       "      <td>2</td>\n",
       "      <td>5500</td>\n",
       "    </tr>\n",
       "    <tr>\n",
       "      <th>2</th>\n",
       "      <td>2004</td>\n",
       "      <td>3</td>\n",
       "      <td>9000</td>\n",
       "    </tr>\n",
       "    <tr>\n",
       "      <th>3</th>\n",
       "      <td>2005</td>\n",
       "      <td>4</td>\n",
       "      <td>16500</td>\n",
       "    </tr>\n",
       "    <tr>\n",
       "      <th>4</th>\n",
       "      <td>2006</td>\n",
       "      <td>5</td>\n",
       "      <td>26500</td>\n",
       "    </tr>\n",
       "  </tbody>\n",
       "</table>\n",
       "</div>"
      ],
      "text/plain": [
       "   Year  Time  Users\n",
       "0  2002     1   3000\n",
       "1  2003     2   5500\n",
       "2  2004     3   9000\n",
       "3  2005     4  16500\n",
       "4  2006     5  26500"
      ]
     },
     "execution_count": 7,
     "metadata": {},
     "output_type": "execute_result"
    }
   ],
   "source": [
    "filename = \"05-table-10-course-registration.ods\"\n",
    "\n",
    "df = read_ods(filename)\n",
    "\n",
    "df"
   ]
  },
  {
   "cell_type": "markdown",
   "metadata": {},
   "source": [
    "## Scatter plot for $(X,Y)$ and $(X,\\log_{10}{Y})$"
   ]
  },
  {
   "cell_type": "code",
   "execution_count": 23,
   "metadata": {},
   "outputs": [
    {
     "data": {
      "text/html": [
       "<div>\n",
       "<style scoped>\n",
       "    .dataframe tbody tr th:only-of-type {\n",
       "        vertical-align: middle;\n",
       "    }\n",
       "\n",
       "    .dataframe tbody tr th {\n",
       "        vertical-align: top;\n",
       "    }\n",
       "\n",
       "    .dataframe thead th {\n",
       "        text-align: right;\n",
       "    }\n",
       "</style>\n",
       "<table border=\"1\" class=\"dataframe\">\n",
       "  <thead>\n",
       "    <tr style=\"text-align: right;\">\n",
       "      <th></th>\n",
       "      <th>Year</th>\n",
       "      <th>X</th>\n",
       "      <th>Y</th>\n",
       "      <th>log10(Y)</th>\n",
       "    </tr>\n",
       "  </thead>\n",
       "  <tbody>\n",
       "    <tr>\n",
       "      <th>0</th>\n",
       "      <td>2002</td>\n",
       "      <td>1</td>\n",
       "      <td>3000</td>\n",
       "      <td>3.477121</td>\n",
       "    </tr>\n",
       "    <tr>\n",
       "      <th>1</th>\n",
       "      <td>2003</td>\n",
       "      <td>2</td>\n",
       "      <td>5500</td>\n",
       "      <td>3.740363</td>\n",
       "    </tr>\n",
       "    <tr>\n",
       "      <th>2</th>\n",
       "      <td>2004</td>\n",
       "      <td>3</td>\n",
       "      <td>9000</td>\n",
       "      <td>3.954243</td>\n",
       "    </tr>\n",
       "    <tr>\n",
       "      <th>3</th>\n",
       "      <td>2005</td>\n",
       "      <td>4</td>\n",
       "      <td>16500</td>\n",
       "      <td>4.217484</td>\n",
       "    </tr>\n",
       "    <tr>\n",
       "      <th>4</th>\n",
       "      <td>2006</td>\n",
       "      <td>5</td>\n",
       "      <td>26500</td>\n",
       "      <td>4.423246</td>\n",
       "    </tr>\n",
       "  </tbody>\n",
       "</table>\n",
       "</div>"
      ],
      "text/plain": [
       "   Year  X      Y  log10(Y)\n",
       "0  2002  1   3000  3.477121\n",
       "1  2003  2   5500  3.740363\n",
       "2  2004  3   9000  3.954243\n",
       "3  2005  4  16500  4.217484\n",
       "4  2006  5  26500  4.423246"
      ]
     },
     "execution_count": 23,
     "metadata": {},
     "output_type": "execute_result"
    }
   ],
   "source": [
    "df_scatter = df.copy()\n",
    "\n",
    "df_scatter = df_scatter.rename(columns={\n",
    "  \"Time\": \"X\",\n",
    "  \"Users\": \"Y\" })\n",
    "\n",
    "df_scatter[\"log10(Y)\"] = np.log10(df_scatter['Y'])\n",
    "\n",
    "df_scatter"
   ]
  },
  {
   "cell_type": "code",
   "execution_count": 26,
   "metadata": {},
   "outputs": [
    {
     "data": {
      "image/png": "[encoded data removed]",
      "text/plain": [
       "<Figure size 1000x300 with 2 Axes>"
      ]
     },
     "metadata": {},
     "output_type": "display_data"
    }
   ],
   "source": [
    "fig, axes = plt.subplots(ncols=2, figsize=(10, 3))\n",
    "\n",
    "axes[0].plot(df_scatter[\"Year\"], df_scatter[\"Y\"],\n",
    "  marker='o', markersize=5, markerfacecolor='white',\n",
    "  linestyle='None', markeredgewidth=2) \n",
    "axes[0].set_xlabel(\"year\")\n",
    "axes[0].set_ylabel(\"user\")\n",
    "axes[0].set_title(\"scatter plot user vs. year\")\n",
    "axes[0].grid(\"on\")\n",
    "\n",
    "\n",
    "axes[1].plot(df_scatter[\"Year\"], df_scatter[\"log10(Y)\"],\n",
    "  marker='o', markersize=5, markerfacecolor='white',\n",
    "  linestyle='None', markeredgewidth=2) \n",
    "axes[1].set_xlabel(\"year\")\n",
    "axes[1].set_ylabel(\"log10(user)\")\n",
    "axes[1].set_title(\"scatter plot log10(user) vs. year\")\n",
    "axes[1].grid(\"on\")\n",
    "\n",
    "plt.subplots_adjust(wspace=0.4)\n",
    "plt.show(fig)"
   ]
  },
  {
   "cell_type": "markdown",
   "metadata": {},
   "source": [
    "## Fitted line plot to $(X, \\log_{10} Y)$"
   ]
  },
  {
   "cell_type": "code",
   "execution_count": 28,
   "metadata": {},
   "outputs": [
    {
     "data": {
      "text/html": [
       "<div>\n",
       "<style scoped>\n",
       "    .dataframe tbody tr th:only-of-type {\n",
       "        vertical-align: middle;\n",
       "    }\n",
       "\n",
       "    .dataframe tbody tr th {\n",
       "        vertical-align: top;\n",
       "    }\n",
       "\n",
       "    .dataframe thead th {\n",
       "        text-align: right;\n",
       "    }\n",
       "</style>\n",
       "<table border=\"1\" class=\"dataframe\">\n",
       "  <thead>\n",
       "    <tr style=\"text-align: right;\">\n",
       "      <th></th>\n",
       "      <th>Year</th>\n",
       "      <th>X</th>\n",
       "      <th>Y</th>\n",
       "    </tr>\n",
       "  </thead>\n",
       "  <tbody>\n",
       "    <tr>\n",
       "      <th>0</th>\n",
       "      <td>2002</td>\n",
       "      <td>1</td>\n",
       "      <td>3.477121</td>\n",
       "    </tr>\n",
       "    <tr>\n",
       "      <th>1</th>\n",
       "      <td>2003</td>\n",
       "      <td>2</td>\n",
       "      <td>3.740363</td>\n",
       "    </tr>\n",
       "    <tr>\n",
       "      <th>2</th>\n",
       "      <td>2004</td>\n",
       "      <td>3</td>\n",
       "      <td>3.954243</td>\n",
       "    </tr>\n",
       "    <tr>\n",
       "      <th>3</th>\n",
       "      <td>2005</td>\n",
       "      <td>4</td>\n",
       "      <td>4.217484</td>\n",
       "    </tr>\n",
       "    <tr>\n",
       "      <th>4</th>\n",
       "      <td>2006</td>\n",
       "      <td>5</td>\n",
       "      <td>4.423246</td>\n",
       "    </tr>\n",
       "  </tbody>\n",
       "</table>\n",
       "</div>"
      ],
      "text/plain": [
       "   Year  X         Y\n",
       "0  2002  1  3.477121\n",
       "1  2003  2  3.740363\n",
       "2  2004  3  3.954243\n",
       "3  2005  4  4.217484\n",
       "4  2006  5  4.423246"
      ]
     },
     "execution_count": 28,
     "metadata": {},
     "output_type": "execute_result"
    }
   ],
   "source": [
    "df_transform = df_scatter.copy()\n",
    "df_transform['Y'] = np.log10(df_transform['Y'])\n",
    "df_transform = df_transform.drop(columns=[\"log10(Y)\"])\n",
    "df_transform"
   ]
  },
  {
   "cell_type": "code",
   "execution_count": 40,
   "metadata": {},
   "outputs": [],
   "source": [
    "# compute fitted regression line\n",
    "[b0_transform, b1_transform], _ = get_regress_coeff(df_transform)\n",
    "\n",
    "# compute coefficient of determination\n",
    "_, _, [SST, SSR, SSE] = get_ANOVA_table(df_transform)\n",
    "rSq = SSR/SST"
   ]
  },
  {
   "cell_type": "code",
   "execution_count": 39,
   "metadata": {},
   "outputs": [
    {
     "data": {
      "image/png": "[encoded data removed]",
      "text/plain": [
       "<Figure size 600x300 with 1 Axes>"
      ]
     },
     "metadata": {},
     "output_type": "display_data"
    }
   ],
   "source": [
    "fig, ax = plt.subplots(figsize=(6, 3))\n",
    "\n",
    "# Y here, has been transformed into log10(Y)\n",
    "# We use the same name to reuse the function get_regress_coeff()\n",
    "# and get_ANOVA_table without redefined them with different name\n",
    "\n",
    "ax.plot(df_transform[\"X\"], df_transform[\"Y\"], \n",
    "  marker='o', markersize=5, markerfacecolor='white',\n",
    "  linestyle='None', markeredgewidth=2) \n",
    "\n",
    "data_x_min = df_transform[\"X\"].min()\n",
    "data_x_max = df_transform[\"X\"].max()\n",
    "x_offset = 0.1*(data_x_max - data_x_min)\n",
    "x_regress = np.linspace(data_x_min - x_offset, data_x_max + x_offset)\n",
    "regress_label = r\"${:.2f} + {:.2f}t$\".format(b0_transform, b1_transform) \\\n",
    "  if b1 > 0 else r\"${:.2f}{:.2f}t$\".format(b0_transform, b1_transform)\n",
    "\n",
    "ax.plot(x_regress, b0_transform + b1_transform*x_regress, \n",
    "  linestyle='-',\n",
    "  label=regress_label) \n",
    "\n",
    "ax.set_xlabel(r\"t\")\n",
    "ax.set_ylabel(r\"log10(users)\")\n",
    "ax.set_title(r\"Fitted line plot, $r^2={:.1f}$%\".format(rSq*100))\n",
    "\n",
    "ax.legend(loc=\"upper left\", bbox_to_anchor=[1.01, 1.04])\n",
    "ax.grid(\"on\")\n",
    "plt.show(fig)"
   ]
  },
  {
   "cell_type": "markdown",
   "metadata": {},
   "source": [
    "## Forecast"
   ]
  },
  {
   "cell_type": "code",
   "execution_count": 47,
   "metadata": {},
   "outputs": [
    {
     "name": "stdout",
     "output_type": "stream",
     "text": [
      "hat_Y (t=2007) = 47,100\n"
     ]
    }
   ],
   "source": [
    "t_forecast = 6    # year=2007\n",
    "\n",
    "b0 = 10**(b0_transform)\n",
    "b1 = 10**(b1_transform)\n",
    "hat_Y_at_point = b0*(b1**t_forecast)\n",
    "\n",
    "print(f\"hat_Y (t=2007) = {round(hat_Y_at_point, -2):,.0f}\")"
   ]
  },
  {
   "cell_type": "code",
   "execution_count": 58,
   "metadata": {},
   "outputs": [
    {
     "data": {
      "image/png": "[encoded data removed]",
      "text/plain": [
       "<Figure size 600x300 with 1 Axes>"
      ]
     },
     "metadata": {},
     "output_type": "display_data"
    }
   ],
   "source": [
    "fig, ax = plt.subplots(figsize=(6, 3))\n",
    "\n",
    "ax.plot(df_scatter[\"X\"], df_scatter[\"Y\"], \n",
    "  marker='o', markersize=5, markerfacecolor='white',\n",
    "  linestyle='None', markeredgewidth=2) \n",
    "\n",
    "data_t_min = df_transform[\"X\"].min()\n",
    "data_t_max = df_transform[\"X\"].max()\n",
    "t_offset = 0.1*(data_t_max - data_t_min)\n",
    "t_regress = np.linspace(data_t_min - t_offset, data_t_max + t_offset, 100)\n",
    "line_handler = ax.plot(t_regress, b0 * (b1**t_regress), \n",
    "  linestyle='-',\n",
    "  label=r\"${:.2f}({:.2f}^t)$\".format(b0, b1)) \n",
    "line_color = line_handler[0]._color\n",
    "\n",
    "# point forecast\n",
    "ax.plot([t_forecast], [hat_Y_at_point], \n",
    "  marker='+', markersize=6,\n",
    "  linestyle=\"None\", markeredgewidth=2, \n",
    "  label=\"point forecast$\\n\"+r\"$\\hat{Y}=\"+r\"{:,.0f}$\".format(round(hat_Y_at_point, -2)))\n",
    "t_regress = np.linspace(data_t_max, t_forecast, 100)\n",
    "ax.plot(t_regress, b0*(b1**t_regress), color=line_color,\n",
    "  linestyle='--')\n",
    "\n",
    "ax.set_xlabel(r\"$t$\")\n",
    "ax.set_ylabel(r\"log10(users)\")\n",
    "ax.set_title(r\"Fitted growth curve\")\n",
    "\n",
    "ax.legend(loc=\"upper left\", bbox_to_anchor=[1.01, 1.04])\n",
    "ax.grid(\"on\")\n",
    "plt.show(fig)\n"
   ]
  },
  {
   "cell_type": "markdown",
   "metadata": {},
   "source": [
    "## Annual growth rate"
   ]
  },
  {
   "cell_type": "code",
   "execution_count": 60,
   "metadata": {},
   "outputs": [
    {
     "name": "stdout",
     "output_type": "stream",
     "text": [
      "Annual growth rate = 100(b1 - 1)% = 72.6%\n"
     ]
    }
   ],
   "source": [
    "annual_growth_rate = (b1 - 1)\n",
    "\n",
    "print(f\"Annual growth rate = 100(b1 - 1)% = {annual_growth_rate*100:.1f}%\")"
   ]
  }
 ],
 "metadata": {
  "kernelspec": {
   "display_name": "Python 3.8.10 ('base')",
   "language": "python",
   "name": "python3"
  },
  "language_info": {
   "codemirror_mode": {
    "name": "ipython",
    "version": 3
   },
   "file_extension": ".py",
   "mimetype": "text/x-python",
   "name": "python",
   "nbconvert_exporter": "python",
   "pygments_lexer": "ipython3",
   "version": "3.8.10"
  },
  "orig_nbformat": 4,
  "vscode": {
   "interpreter": {
    "hash": "b68217c4fa6011267e0d81cc47bb50822e9770eb46de3a1f506be20c9f89249d"
   }
  }
 },
 "nbformat": 4,
 "nbformat_minor": 2
}
