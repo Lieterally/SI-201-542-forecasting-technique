{
 "cells": [
  {
   "attachments": {},
   "cell_type": "markdown",
   "id": "e990befd",
   "metadata": {},
   "source": [
    "Logs\n",
    "- [2023/05/13]    \n",
    "  First version of this notebook"
   ]
  },
  {
   "attachments": {},
   "cell_type": "markdown",
   "id": "8b31b75c",
   "metadata": {},
   "source": [
    "# Example 7.6 - Autoregressive model"
   ]
  },
  {
   "cell_type": "code",
   "execution_count": 11,
   "id": "3cbd09d7",
   "metadata": {},
   "outputs": [],
   "source": [
    "import numpy as np\n",
    "import matplotlib.pyplot as plt\n",
    "import pandas as pd\n",
    "import scipy.stats as sc_stats\n",
    "import tabulate\n",
    "\n",
    "from sklearn.linear_model import LinearRegression"
   ]
  },
  {
   "cell_type": "code",
   "execution_count": 2,
   "id": "fe778943",
   "metadata": {},
   "outputs": [],
   "source": [
    "plt.rcParams.update(plt.rcParamsDefault)\n",
    "plt.rcParams.update({\n",
    "  'font.size': 16,\n",
    "  'grid.alpha': 0.25})"
   ]
  },
  {
   "attachments": {},
   "cell_type": "markdown",
   "id": "4d85c41b",
   "metadata": {},
   "source": [
    "## Function declarations"
   ]
  },
  {
   "attachments": {},
   "cell_type": "markdown",
   "id": "1cc05adf",
   "metadata": {},
   "source": [
    "### Read `ods` to `DataFrame`"
   ]
  },
  {
   "cell_type": "code",
   "execution_count": 4,
   "id": "7772b4f6",
   "metadata": {},
   "outputs": [],
   "source": [
    "def read_ods(filename, columns=None):\n",
    "  if columns is None:\n",
    "    df = pd.read_excel(filename, engine=\"odf\", header=0)\n",
    "  elif isinstance(columns, list):\n",
    "    df = pd.read_excel(filename, engine=\"odf\", header=0,\n",
    "                       usecols=columns)\n",
    "  else:\n",
    "    key_arr = (k for k in columns.keys())\n",
    "    df = pd.read_excel(filename, engine=\"odf\", header=0,\n",
    "                      usecols=key_arr)\n",
    "    df = df.rename(columns=columns)\n",
    "  return df"
   ]
  },
  {
   "attachments": {},
   "cell_type": "markdown",
   "id": "c0f5f7ab",
   "metadata": {},
   "source": [
    "### Get multiple regression coefficients"
   ]
  },
  {
   "cell_type": "code",
   "execution_count": 7,
   "id": "7c294e1c",
   "metadata": {},
   "outputs": [],
   "source": [
    "def get_multiple_regress_coeff(df, n_vars=2, with_intercept=True):  \n",
    "\n",
    "  regress_obj = LinearRegression(fit_intercept=with_intercept)\n",
    "\n",
    "  if isinstance(df, pd.DataFrame):\n",
    "    num_of_samples = len(df)\n",
    "    X_arr = np.zeros((num_of_samples, n_vars))\n",
    "    Y = df[\"Y\"].to_numpy()\n",
    "\n",
    "    for i in range(n_vars):\n",
    "      key = f\"X_{i+1}\"\n",
    "      X_arr[:, i] = df[key].to_numpy()\n",
    "\n",
    "    regress = regress_obj.fit(X_arr, Y)\n",
    "    df[\"hat_Y\"] = regress.intercept_ + X_arr.dot(regress.coef_) \n",
    "  \n",
    "  elif isinstance(df, np.ndarray):\n",
    "    Y = df[:, 0]\n",
    "    X_arr = df[:, 1:]\n",
    "\n",
    "    \n",
    "    regress = regress_obj.fit(X_arr, Y)\n",
    "    Y_hat = regress.intercept_ + X_arr.dot(regress.coef_)\n",
    "    df = np.column_stack([df, Y_hat])\n",
    "\n",
    "  return regress, df\n"
   ]
  },
  {
   "attachments": {},
   "cell_type": "markdown",
   "id": "228ee6cb",
   "metadata": {},
   "source": [
    "### Get Minitab output of Regression Analysis"
   ]
  },
  {
   "cell_type": "code",
   "execution_count": 84,
   "id": "662ea9fa",
   "metadata": {},
   "outputs": [],
   "source": [
    "def add_prediction_table(regress, df, significance_lvl=0.05):\n",
    "  b0 = regress.intercept_\n",
    "  b1 = regress.coef_[0]\n",
    "\n",
    "  Y_tM1 = df[\"Y\"].iloc[-1]        # Change this if the model is different\n",
    "\n",
    "  n_data = len(df)\n",
    "  hat_Y = b0 + b1*df_minitab[\"X_1\"]\n",
    "\n",
    "  meanX = df[\"X_1\"].mean()\n",
    "  sumOfSquareX_of_meanX = ((df[\"X_1\"] - meanX)**2).sum()\n",
    "  sumOfSquareY_of_hat_Y = ((df[\"Y\"] - hat_Y)**2).sum()\n",
    "  squareX = (Y_tM1 - meanX)**2\n",
    "\n",
    "  std_yx = np.sqrt(sumOfSquareY_of_hat_Y/(n_data - 2))\n",
    "\n",
    "  # -- for confidence interval (CI) and minitab S.E. of fit\n",
    "  #    This measure the dispersion of the sample regression line\n",
    "  #    about the population regression line\n",
    "  std_err_fit = std_yx * np.sqrt(\n",
    "    1./n_data + squareX/sumOfSquareX_of_meanX)\n",
    "\n",
    "  std_forecast = std_yx * np.sqrt(\n",
    "    1. + 1./n_data + squareX/sumOfSquareX_of_meanX)\n",
    "\n",
    "  deg_of_freedom = n_data - 2\n",
    "  l_bound = sc_stats.t.ppf(significance_lvl/2, deg_of_freedom)\n",
    "  u_bound = sc_stats.t.ppf(1 - significance_lvl/2, deg_of_freedom)\n",
    "\n",
    "  Y_t = b0 + b1*Y_tM1\n",
    "\n",
    "  data = [\n",
    "    [1, Y_t, std_err_fit, \n",
    "    f\"({Y_t + l_bound * std_err_fit:.3f}, {Y_t + u_bound * std_err_fit:.3f})\",\n",
    "    f\"({Y_t + l_bound * std_forecast:.3f}, {Y_t + u_bound * std_forecast:.3f})\"]\n",
    "  ]\n",
    "\n",
    "  table_prediction = tabulate.tabulate(data, tablefmt='html', \n",
    "    headers=[\"New Obs\", \"Fit\", \"SE Fit\", \"95% CI\", \"95% PI\"],\n",
    "    floatfmt=[int, \".3f\", \".3f\", str, str])\n",
    "\n",
    "  print(f\"Predicted Values for New Observations\")\n",
    "  display(table_prediction)"
   ]
  },
  {
   "cell_type": "code",
   "execution_count": 85,
   "id": "9f4f4d72",
   "metadata": {},
   "outputs": [],
   "source": [
    "def get_minitab_out(df, n_vars=2, new_column=None, withCorrMatrix=False, \n",
    "  withVIF=False, with_intercept=True, with_DW_stat=True, is_reg_diff=False,\n",
    "  new_observ=0):\n",
    "\n",
    "  \"\"\"\n",
    "  new_column (dict) : a dictionary mapping to rename df header\n",
    "  is_reg_diff:\n",
    "    True - if we perform regression difference of Y_t and X_t. \n",
    "    In this function, it only implements how to print the output not the\n",
    "    calculation\n",
    "  new_observ: int\n",
    "    Number of forecasting point.\n",
    "  \"\"\"\n",
    "  \n",
    "  data_struct = np.zeros((len(df), 1+n_vars))\n",
    "  data_struct[:, 0] = df['Y']\n",
    "  for i in range(n_vars):\n",
    "    key = f\"X_{i+1}\"\n",
    "    data_struct[:, i+1] = df[key]\n",
    "\n",
    "  # -- compute correlation matrix\n",
    "  corr_matrix = np.corrcoef(data_struct, rowvar=False)\n",
    "  corr_matrix = corr_matrix[1:, 0:-1]    # only show lower triangle part of correlation matrix\n",
    "\n",
    "  # -- compute regression intercept and coefficients\n",
    "  regress, _ = get_multiple_regress_coeff(df, n_vars=n_vars, with_intercept=with_intercept)\n",
    "  b_arr = [regress.intercept_] + regress.coef_.tolist()\n",
    "  is_positive_b_arr = [b_j > 0 for b_j in b_arr]\n",
    "  #print(f\"b_arr: {b_arr}\")\n",
    "  \n",
    "  # -- compute standad error of the estimates\n",
    "  num_of_samples = len(df)\n",
    "  hat_Y =  regress.intercept_ + data_struct[:,1:].dot(regress.coef_)\n",
    "  sumSq_Y_hat_Y = ((data_struct[:, 0] - hat_Y)**2).sum()\n",
    "\n",
    "  if with_intercept:\n",
    "    s_yxs = np.sqrt(sumSq_Y_hat_Y/(num_of_samples - n_vars - 1))\n",
    "  else:\n",
    "    s_yxs = np.sqrt(sumSq_Y_hat_Y/(num_of_samples - n_vars))\n",
    "\n",
    "  # -- compute cofactor matrix \n",
    "  if with_intercept:\n",
    "    X_arr = np.ones_like(data_struct)\n",
    "    X_arr[:,1:] = data_struct[:,1:]\n",
    "    cofactor_matrix = np.linalg.inv(X_arr.transpose().dot(X_arr))   # this matrix is closely related to covariance matrix\n",
    "  else:\n",
    "    X_arr = data_struct[:, 1:]\n",
    "    cofactor_matrix = np.linalg.inv(X_arr.transpose().dot(X_arr))   # this matrix is closely related to covariance matrix\n",
    "  \n",
    "\n",
    "  # -- compute standard error of intercept_ and coef_\n",
    "  # -- compute t-score of intecept_ and coef_\n",
    "  # -- compute p-values of intercept_ and coef_\n",
    "  SE_coef = np.zeros(1+n_vars)\n",
    "  t_scores = np.zeros(1+n_vars)\n",
    "  p_values = np.zeros(1+n_vars)\n",
    "  \n",
    "  if with_intercept:\n",
    "    dof = num_of_samples - n_vars - 1;          # degrees of freedom\n",
    "    for i in range(1+n_vars):\n",
    "      SE_coef[i] = s_yxs*np.sqrt(cofactor_matrix[i, i])\n",
    "      t_scores[i] = b_arr[i] / SE_coef[i]\n",
    "      p_values[i] = sc_stats.t.sf(abs(t_scores[i]), dof) * 2   # .t.sf is a survival function (1 - cdf)\n",
    "  else:\n",
    "    dof = num_of_samples - n_vars;          # degrees of freedom\n",
    "    for i in range(1, 1+n_vars):\n",
    "      SE_coef[i] = s_yxs*np.sqrt(cofactor_matrix[i-1, i-1])\n",
    "      t_scores[i] = b_arr[i] / SE_coef[i]\n",
    "      p_values[i] = sc_stats.t.sf(abs(t_scores[i]), dof) * 2   # .t.sf is a survival function (1 - cdf)\n",
    "\n",
    "  # -- compute VIF of coef_\n",
    "  if withVIF:\n",
    "    # if n_vars == 2, we calculate VIF from correlation matrix\n",
    "    VIF_arr = np.zeros(n_vars)\n",
    "    if n_vars == 2:\n",
    "      VIF_arr[0] = 1/(1-corr_matrix[1, 1]**2)\n",
    "      VIF_arr[1] = 1/(1-corr_matrix[1, 1]**2)\n",
    "    else:\n",
    "      for i in range(n_vars):\n",
    "        # take a predictor column and put the other predictor after it\n",
    "        predictor_data_struct = np.zeros((num_of_samples, n_vars))\n",
    "        predictor_data_struct[:,0] = data_struct[:, i+1]   \n",
    "        predictor_data_struct[:,1:] = np.delete(data_struct, i+1, axis=1)[:,1:]  \n",
    "        #print(predictor_data_struct)\n",
    "        predictor_SST, predictor_SSR, _ = get_sumSq(predictor_data_struct, n_vars=n_vars)\n",
    "        predictor_R_sq = predictor_SSR/predictor_SST\n",
    "        #print(predictor_R_sq)\n",
    "        VIF_arr[i] = 1/(1 - predictor_R_sq)\n",
    "\n",
    "\n",
    "  # -- compute ANOVA table\n",
    "  meanY = data_struct[:, 0].mean()\n",
    "  if with_intercept:\n",
    "    SSR = ((hat_Y - meanY)**2).sum()\n",
    "    SST = ((data_struct[:, 0] - meanY)**2).sum()\n",
    "  else:\n",
    "    SSR = (hat_Y**2).sum()\n",
    "    SST = (data_struct[:, 0]**2).sum()\n",
    "\n",
    "  SSE = ((data_struct[:, 0] - hat_Y)**2).sum()\n",
    "  anova_sumSq = np.array([SSR, SSE, SST])\n",
    "\n",
    "  if with_intercept:\n",
    "    anova_dof = np.array([n_vars, num_of_samples - n_vars - 1, num_of_samples - 1], dtype=int)\n",
    "  else:\n",
    "    anova_dof = np.array([n_vars, num_of_samples - n_vars, num_of_samples], dtype=int)\n",
    "  \n",
    "  anova_meanSq = (anova_sumSq/anova_dof)[:2]\n",
    "  anova_F_score = anova_meanSq[0] / anova_meanSq[1]\n",
    "  anova_p_value = sc_stats.f.sf(anova_F_score, anova_dof[0], anova_dof[1])   # sf is a surfifal function (1 - cdf)\n",
    "\n",
    "  # -- compute R_sq (coefficient of determination)\n",
    "  R_sq = SSR/SST\n",
    "\n",
    "  # -- compute adjusted R_sq\n",
    "  adj_R_sq = 1 - (1 - R_sq)*(num_of_samples-1)/(num_of_samples-n_vars-1)\n",
    "  \n",
    "  # -- calculate Durbin-Watson statistics\n",
    "  e_t = data_struct[:, 0] - hat_Y\n",
    "  numerator = ((e_t[1:] - e_t[:-1])**2).sum()\n",
    "  dw_stats = numerator / (e_t**2).sum()\n",
    "\n",
    "  # -- create tabular form for correlation \n",
    "  if withCorrMatrix:\n",
    "    data = []\n",
    "    for i in range(n_vars):\n",
    "      data_row = [new_column[i+1]] + \\\n",
    "        [f\"{corr:.3f}\" if j < i+1 else \"\" for j, corr in enumerate(corr_matrix[i,:])]\n",
    "      #print(data_row)\n",
    "      #print([type(data_row_i) for data_row_i in data_row])\n",
    "      data.append(data_row)\n",
    "\n",
    "    table_corr = tabulate.tabulate(data, tablefmt='html', \n",
    "      headers=[\"\"] + new_column[:n_vars], \n",
    "      floatfmt=[\"None\"] + [\".3f\"]*(n_vars))\n",
    "\n",
    "    print(f\"Correlations: {', '.join(new_column)}\")\n",
    "    display(table_corr)\n",
    "\n",
    "  # -- create tabular form for predictor\n",
    "  data = [[\"Constant\", b_arr[0], SE_coef[0], t_scores[0], p_values[0]]]\n",
    "  if withVIF:\n",
    "    for i in range(1, n_vars+1):\n",
    "      data_row = [new_column[i], b_arr[i], SE_coef[i], t_scores[i], p_values[i], VIF_arr[i-1]]\n",
    "      data.append(data_row)\n",
    "    table_predictor = tabulate.tabulate(data, tablefmt='html', \n",
    "      headers=[\"Predictor\", \"Coef\", \"SE Coef\", \"t-score\", \"p-value\", \"VIF\"], \n",
    "      floatfmt=[None, \".4f\", \".4f\", \".2f\", \".4f\", \".3f\"])\n",
    "  else:\n",
    "    for i in range(1, n_vars+1):\n",
    "      data_row = [new_column[i], b_arr[i], SE_coef[i], t_scores[i], p_values[i]]\n",
    "      data.append(data_row)\n",
    "    table_predictor = tabulate.tabulate(data, tablefmt='html', \n",
    "      headers=[\"Predictor\", \"Coef\", \"SE Coef\", \"t-score\", \"p-value\"], \n",
    "      floatfmt=[None, \".4f\", \".4f\", \".2f\", \".4f\"])\n",
    "\n",
    "\n",
    "  print(f\"Regression Analysis: {new_column[0]} versus {', '.join(new_column[1:])}\")\n",
    "  print(\"The regression equation is\")\n",
    "  str_b_predictor = \"\" \n",
    "  for i in range(n_vars):\n",
    "    sign = \"+\" if is_positive_b_arr[i+1] else \"-\"\n",
    "    str_b_predictor += f\" {sign} {abs(b_arr[i+1]):.3f} {new_column[i+1]}\"\n",
    "  if with_intercept:\n",
    "    print(f\"{new_column[0]} = {b_arr[0]:.3f}{str_b_predictor}\")\n",
    "  else:\n",
    "    if str_b_predictor[1] == \"+\":\n",
    "      str_b_predictor = str_b_predictor[3:]\n",
    "    print(f\"{new_column[0]} = {str_b_predictor}\")\n",
    "  display(table_predictor)\n",
    "  if is_reg_diff:\n",
    "    print(f\"s_yxs = {s_yxs:.4f}\")\n",
    "  else:\n",
    "    print(f\"s_yxs = {s_yxs:.4f}   R_sq = {R_sq*100:.1f}%   R-sq(adj) = {adj_R_sq*100:.1f}%\")\n",
    "\n",
    "  # -- create ANOVA table (with F-score and its p-value)\n",
    "  data = [\n",
    "    [\"Regression\",     anova_dof[0], anova_sumSq[0], f\"{anova_meanSq[0]:.4f}\", f\"{anova_F_score:.3f}\", f\"{anova_p_value:.4f}\"],\n",
    "    [\"Residual error\", anova_dof[1], anova_sumSq[1], f\"{anova_meanSq[1]:.4f}\", \"\", \"\"],\n",
    "    [\"Total\",          anova_dof[2], anova_sumSq[2], \"\", \"\", \"\"]] \n",
    "  table_anova = tabulate.tabulate(data, tablefmt='html', \n",
    "    headers=[\"Source\", \"d.o.f\", \"sumSq\", \"meanSq\", \"F-score\", \"p-value\"], \n",
    "    floatfmt=[None, \".0f\", \".4f\", \"s\", \"s\", \"s\"])\n",
    "\n",
    "  print(f\"Analyis of Variance\")\n",
    "  display(table_anova)\n",
    "\n",
    "  if new_observ > 0:\n",
    "    add_prediction_table(regress, df)\n",
    "\n",
    "  # -- print Durbin-Watson statistics\n",
    "  if with_DW_stat:\n",
    "    print(f\"Durbin-Watson Statistics = {dw_stats:.2f}\")\n",
    "\n",
    "  return {\"regress\": regress, \"param_stderr\": SE_coef, \n",
    "    \"param_t_stat\": t_scores, \"param_p_vals\": p_values,\n",
    "    \"corr_matrix\": corr_matrix, \"R_sq\": R_sq, \"dw_stats\": dw_stats}\n"
   ]
  },
  {
   "attachments": {},
   "cell_type": "markdown",
   "id": "97a37804",
   "metadata": {},
   "source": [
    "## Load data"
   ]
  },
  {
   "attachments": {},
   "cell_type": "markdown",
   "id": "341de4e2",
   "metadata": {},
   "source": [
    "### Sales and income data"
   ]
  },
  {
   "cell_type": "code",
   "execution_count": 6,
   "id": "6c504771",
   "metadata": {},
   "outputs": [
    {
     "data": {
      "text/html": [
       "<div>\n",
       "<style scoped>\n",
       "    .dataframe tbody tr th:only-of-type {\n",
       "        vertical-align: middle;\n",
       "    }\n",
       "\n",
       "    .dataframe tbody tr th {\n",
       "        vertical-align: top;\n",
       "    }\n",
       "\n",
       "    .dataframe thead th {\n",
       "        text-align: right;\n",
       "    }\n",
       "</style>\n",
       "<table border=\"1\" class=\"dataframe\">\n",
       "  <thead>\n",
       "    <tr style=\"text-align: right;\">\n",
       "      <th></th>\n",
       "      <th>Year</th>\n",
       "      <th>Sales ($ millions) (Y)</th>\n",
       "      <th>Income ($ millions)</th>\n",
       "      <th>Unemployment Rate</th>\n",
       "    </tr>\n",
       "  </thead>\n",
       "  <tbody>\n",
       "    <tr>\n",
       "      <th>0</th>\n",
       "      <td>1990</td>\n",
       "      <td>8.0</td>\n",
       "      <td>336.1</td>\n",
       "      <td>5.5</td>\n",
       "    </tr>\n",
       "    <tr>\n",
       "      <th>1</th>\n",
       "      <td>1991</td>\n",
       "      <td>8.2</td>\n",
       "      <td>349.4</td>\n",
       "      <td>5.5</td>\n",
       "    </tr>\n",
       "    <tr>\n",
       "      <th>2</th>\n",
       "      <td>1992</td>\n",
       "      <td>8.5</td>\n",
       "      <td>362.9</td>\n",
       "      <td>6.7</td>\n",
       "    </tr>\n",
       "    <tr>\n",
       "      <th>3</th>\n",
       "      <td>1993</td>\n",
       "      <td>9.2</td>\n",
       "      <td>383.9</td>\n",
       "      <td>5.5</td>\n",
       "    </tr>\n",
       "    <tr>\n",
       "      <th>4</th>\n",
       "      <td>1994</td>\n",
       "      <td>10.2</td>\n",
       "      <td>402.8</td>\n",
       "      <td>5.7</td>\n",
       "    </tr>\n",
       "    <tr>\n",
       "      <th>5</th>\n",
       "      <td>1995</td>\n",
       "      <td>11.4</td>\n",
       "      <td>437.0</td>\n",
       "      <td>5.2</td>\n",
       "    </tr>\n",
       "    <tr>\n",
       "      <th>6</th>\n",
       "      <td>1996</td>\n",
       "      <td>12.8</td>\n",
       "      <td>472.2</td>\n",
       "      <td>4.5</td>\n",
       "    </tr>\n",
       "    <tr>\n",
       "      <th>7</th>\n",
       "      <td>1997</td>\n",
       "      <td>13.6</td>\n",
       "      <td>510.4</td>\n",
       "      <td>3.8</td>\n",
       "    </tr>\n",
       "    <tr>\n",
       "      <th>8</th>\n",
       "      <td>1998</td>\n",
       "      <td>14.6</td>\n",
       "      <td>544.5</td>\n",
       "      <td>3.8</td>\n",
       "    </tr>\n",
       "    <tr>\n",
       "      <th>9</th>\n",
       "      <td>1999</td>\n",
       "      <td>16.4</td>\n",
       "      <td>588.1</td>\n",
       "      <td>3.6</td>\n",
       "    </tr>\n",
       "    <tr>\n",
       "      <th>10</th>\n",
       "      <td>2000</td>\n",
       "      <td>17.8</td>\n",
       "      <td>630.4</td>\n",
       "      <td>3.5</td>\n",
       "    </tr>\n",
       "    <tr>\n",
       "      <th>11</th>\n",
       "      <td>2001</td>\n",
       "      <td>18.6</td>\n",
       "      <td>685.9</td>\n",
       "      <td>4.9</td>\n",
       "    </tr>\n",
       "    <tr>\n",
       "      <th>12</th>\n",
       "      <td>2002</td>\n",
       "      <td>20.0</td>\n",
       "      <td>742.8</td>\n",
       "      <td>5.9</td>\n",
       "    </tr>\n",
       "    <tr>\n",
       "      <th>13</th>\n",
       "      <td>2003</td>\n",
       "      <td>21.9</td>\n",
       "      <td>801.3</td>\n",
       "      <td>5.6</td>\n",
       "    </tr>\n",
       "    <tr>\n",
       "      <th>14</th>\n",
       "      <td>2004</td>\n",
       "      <td>24.9</td>\n",
       "      <td>903.1</td>\n",
       "      <td>4.9</td>\n",
       "    </tr>\n",
       "    <tr>\n",
       "      <th>15</th>\n",
       "      <td>2005</td>\n",
       "      <td>27.3</td>\n",
       "      <td>983.6</td>\n",
       "      <td>5.6</td>\n",
       "    </tr>\n",
       "    <tr>\n",
       "      <th>16</th>\n",
       "      <td>2006</td>\n",
       "      <td>29.1</td>\n",
       "      <td>1076.7</td>\n",
       "      <td>8.5</td>\n",
       "    </tr>\n",
       "  </tbody>\n",
       "</table>\n",
       "</div>"
      ],
      "text/plain": [
       "    Year  Sales ($ millions) (Y)  Income ($ millions)  Unemployment Rate\n",
       "0   1990                     8.0                336.1                5.5\n",
       "1   1991                     8.2                349.4                5.5\n",
       "2   1992                     8.5                362.9                6.7\n",
       "3   1993                     9.2                383.9                5.5\n",
       "4   1994                    10.2                402.8                5.7\n",
       "5   1995                    11.4                437.0                5.2\n",
       "6   1996                    12.8                472.2                4.5\n",
       "7   1997                    13.6                510.4                3.8\n",
       "8   1998                    14.6                544.5                3.8\n",
       "9   1999                    16.4                588.1                3.6\n",
       "10  2000                    17.8                630.4                3.5\n",
       "11  2001                    18.6                685.9                4.9\n",
       "12  2002                    20.0                742.8                5.9\n",
       "13  2003                    21.9                801.3                5.6\n",
       "14  2004                    24.9                903.1                4.9\n",
       "15  2005                    27.3                983.6                5.6\n",
       "16  2006                    29.1               1076.7                8.5"
      ]
     },
     "execution_count": 6,
     "metadata": {},
     "output_type": "execute_result"
    }
   ],
   "source": [
    "filename = \"07-table-02-novak-sales.ods\"\n",
    "\n",
    "df = read_ods(filename)\n",
    "\n",
    "df"
   ]
  },
  {
   "attachments": {},
   "cell_type": "markdown",
   "id": "6c493dd7",
   "metadata": {},
   "source": [
    "## First-order autoregressive model"
   ]
  },
  {
   "attachments": {},
   "cell_type": "markdown",
   "id": "e94fd958",
   "metadata": {},
   "source": [
    "### Regression Analysis"
   ]
  },
  {
   "attachments": {},
   "cell_type": "markdown",
   "id": "c70dc8b8",
   "metadata": {},
   "source": [
    "One year data is lost, we didn't fix it (Novak sales for 1989 are not known)"
   ]
  },
  {
   "cell_type": "code",
   "execution_count": 18,
   "id": "1b01e127",
   "metadata": {},
   "outputs": [
    {
     "name": "stdout",
     "output_type": "stream",
     "text": [
      "header: ['Sales ($ millions) (Y)', 'Y-lagged']\n"
     ]
    },
    {
     "data": {
      "text/html": [
       "<div>\n",
       "<style scoped>\n",
       "    .dataframe tbody tr th:only-of-type {\n",
       "        vertical-align: middle;\n",
       "    }\n",
       "\n",
       "    .dataframe tbody tr th {\n",
       "        vertical-align: top;\n",
       "    }\n",
       "\n",
       "    .dataframe thead th {\n",
       "        text-align: right;\n",
       "    }\n",
       "</style>\n",
       "<table border=\"1\" class=\"dataframe\">\n",
       "  <thead>\n",
       "    <tr style=\"text-align: right;\">\n",
       "      <th></th>\n",
       "      <th>Y</th>\n",
       "      <th>X_1</th>\n",
       "    </tr>\n",
       "  </thead>\n",
       "  <tbody>\n",
       "    <tr>\n",
       "      <th>1</th>\n",
       "      <td>8.2</td>\n",
       "      <td>8.0</td>\n",
       "    </tr>\n",
       "    <tr>\n",
       "      <th>2</th>\n",
       "      <td>8.5</td>\n",
       "      <td>8.2</td>\n",
       "    </tr>\n",
       "    <tr>\n",
       "      <th>3</th>\n",
       "      <td>9.2</td>\n",
       "      <td>8.5</td>\n",
       "    </tr>\n",
       "    <tr>\n",
       "      <th>4</th>\n",
       "      <td>10.2</td>\n",
       "      <td>9.2</td>\n",
       "    </tr>\n",
       "    <tr>\n",
       "      <th>5</th>\n",
       "      <td>11.4</td>\n",
       "      <td>10.2</td>\n",
       "    </tr>\n",
       "    <tr>\n",
       "      <th>6</th>\n",
       "      <td>12.8</td>\n",
       "      <td>11.4</td>\n",
       "    </tr>\n",
       "    <tr>\n",
       "      <th>7</th>\n",
       "      <td>13.6</td>\n",
       "      <td>12.8</td>\n",
       "    </tr>\n",
       "    <tr>\n",
       "      <th>8</th>\n",
       "      <td>14.6</td>\n",
       "      <td>13.6</td>\n",
       "    </tr>\n",
       "    <tr>\n",
       "      <th>9</th>\n",
       "      <td>16.4</td>\n",
       "      <td>14.6</td>\n",
       "    </tr>\n",
       "    <tr>\n",
       "      <th>10</th>\n",
       "      <td>17.8</td>\n",
       "      <td>16.4</td>\n",
       "    </tr>\n",
       "    <tr>\n",
       "      <th>11</th>\n",
       "      <td>18.6</td>\n",
       "      <td>17.8</td>\n",
       "    </tr>\n",
       "    <tr>\n",
       "      <th>12</th>\n",
       "      <td>20.0</td>\n",
       "      <td>18.6</td>\n",
       "    </tr>\n",
       "    <tr>\n",
       "      <th>13</th>\n",
       "      <td>21.9</td>\n",
       "      <td>20.0</td>\n",
       "    </tr>\n",
       "    <tr>\n",
       "      <th>14</th>\n",
       "      <td>24.9</td>\n",
       "      <td>21.9</td>\n",
       "    </tr>\n",
       "    <tr>\n",
       "      <th>15</th>\n",
       "      <td>27.3</td>\n",
       "      <td>24.9</td>\n",
       "    </tr>\n",
       "    <tr>\n",
       "      <th>16</th>\n",
       "      <td>29.1</td>\n",
       "      <td>27.3</td>\n",
       "    </tr>\n",
       "  </tbody>\n",
       "</table>\n",
       "</div>"
      ],
      "text/plain": [
       "       Y   X_1\n",
       "1    8.2   8.0\n",
       "2    8.5   8.2\n",
       "3    9.2   8.5\n",
       "4   10.2   9.2\n",
       "5   11.4  10.2\n",
       "6   12.8  11.4\n",
       "7   13.6  12.8\n",
       "8   14.6  13.6\n",
       "9   16.4  14.6\n",
       "10  17.8  16.4\n",
       "11  18.6  17.8\n",
       "12  20.0  18.6\n",
       "13  21.9  20.0\n",
       "14  24.9  21.9\n",
       "15  27.3  24.9\n",
       "16  29.1  27.3"
      ]
     },
     "execution_count": 18,
     "metadata": {},
     "output_type": "execute_result"
    }
   ],
   "source": [
    "df_minitab = df[[\"Sales ($ millions) (Y)\"]]\n",
    "from_column_names = df_minitab.columns.to_list()\n",
    "print(f\"header: {from_column_names + ['Y-lagged']}\")\n",
    "to_column_names = [\"Y\"] + [f\"X_{i+1}\" for i in range(len(from_column_names) - 1)]\n",
    "\n",
    "\n",
    "df_minitab = df_minitab.rename(columns=\n",
    "  {k: v for k, v in zip(from_column_names, to_column_names)})\n",
    "\n",
    "df_minitab[\"X_1\"] = df_minitab[\"Y\"].shift(1)\n",
    "df_minitab = df_minitab.dropna()\n",
    "df_minitab"
   ]
  },
  {
   "cell_type": "code",
   "execution_count": 86,
   "id": "3693ad25",
   "metadata": {},
   "outputs": [
    {
     "name": "stdout",
     "output_type": "stream",
     "text": [
      "Regression Analysis: Sales (Y) versus Y-lag\n",
      "The regression equation is\n",
      "Sales (Y) = -0.109 + 1.094 Y-lag\n"
     ]
    },
    {
     "data": {
      "text/html": [
       "<table>\n",
       "<thead>\n",
       "<tr><th>Predictor  </th><th style=\"text-align: right;\">   Coef</th><th style=\"text-align: right;\">  SE Coef</th><th style=\"text-align: right;\">  t-score</th><th style=\"text-align: right;\">  p-value</th></tr>\n",
       "</thead>\n",
       "<tbody>\n",
       "<tr><td>Constant   </td><td style=\"text-align: right;\">-0.1093</td><td style=\"text-align: right;\">   0.3367</td><td style=\"text-align: right;\">    -0.32</td><td style=\"text-align: right;\">   0.7502</td></tr>\n",
       "<tr><td>Y-lag      </td><td style=\"text-align: right;\"> 1.0939</td><td style=\"text-align: right;\">   0.0206</td><td style=\"text-align: right;\">    53.01</td><td style=\"text-align: right;\">   0.0000</td></tr>\n",
       "</tbody>\n",
       "</table>"
      ],
      "text/plain": [
       "'<table>\\n<thead>\\n<tr><th>Predictor  </th><th style=\"text-align: right;\">   Coef</th><th style=\"text-align: right;\">  SE Coef</th><th style=\"text-align: right;\">  t-score</th><th style=\"text-align: right;\">  p-value</th></tr>\\n</thead>\\n<tbody>\\n<tr><td>Constant   </td><td style=\"text-align: right;\">-0.1093</td><td style=\"text-align: right;\">   0.3367</td><td style=\"text-align: right;\">    -0.32</td><td style=\"text-align: right;\">   0.7502</td></tr>\\n<tr><td>Y-lag      </td><td style=\"text-align: right;\"> 1.0939</td><td style=\"text-align: right;\">   0.0206</td><td style=\"text-align: right;\">    53.01</td><td style=\"text-align: right;\">   0.0000</td></tr>\\n</tbody>\\n</table>'"
      ]
     },
     "metadata": {},
     "output_type": "display_data"
    },
    {
     "name": "stdout",
     "output_type": "stream",
     "text": [
      "s_yxs = 0.4875   R_sq = 99.5%   R-sq(adj) = 99.5%\n",
      "Analyis of Variance\n"
     ]
    },
    {
     "data": {
      "text/html": [
       "<table>\n",
       "<thead>\n",
       "<tr><th>Source        </th><th style=\"text-align: right;\">  d.o.f</th><th style=\"text-align: right;\">   sumSq</th><th>meanSq  </th><th>F-score  </th><th>p-value  </th></tr>\n",
       "</thead>\n",
       "<tbody>\n",
       "<tr><td>Regression    </td><td style=\"text-align: right;\">      1</td><td style=\"text-align: right;\">667.7278</td><td>667.7278</td><td>2810.158 </td><td>0.0000   </td></tr>\n",
       "<tr><td>Residual error</td><td style=\"text-align: right;\">     14</td><td style=\"text-align: right;\">  3.3266</td><td>0.2376  </td><td>         </td><td>         </td></tr>\n",
       "<tr><td>Total         </td><td style=\"text-align: right;\">     15</td><td style=\"text-align: right;\">671.0544</td><td>        </td><td>         </td><td>         </td></tr>\n",
       "</tbody>\n",
       "</table>"
      ],
      "text/plain": [
       "'<table>\\n<thead>\\n<tr><th>Source        </th><th style=\"text-align: right;\">  d.o.f</th><th style=\"text-align: right;\">   sumSq</th><th>meanSq  </th><th>F-score  </th><th>p-value  </th></tr>\\n</thead>\\n<tbody>\\n<tr><td>Regression    </td><td style=\"text-align: right;\">      1</td><td style=\"text-align: right;\">667.7278</td><td>667.7278</td><td>2810.158 </td><td>0.0000   </td></tr>\\n<tr><td>Residual error</td><td style=\"text-align: right;\">     14</td><td style=\"text-align: right;\">  3.3266</td><td>0.2376  </td><td>         </td><td>         </td></tr>\\n<tr><td>Total         </td><td style=\"text-align: right;\">     15</td><td style=\"text-align: right;\">671.0544</td><td>        </td><td>         </td><td>         </td></tr>\\n</tbody>\\n</table>'"
      ]
     },
     "metadata": {},
     "output_type": "display_data"
    },
    {
     "name": "stdout",
     "output_type": "stream",
     "text": [
      "Predicted Values for New Observations\n"
     ]
    },
    {
     "data": {
      "text/html": [
       "<table>\n",
       "<thead>\n",
       "<tr><th style=\"text-align: right;\">  New Obs</th><th style=\"text-align: right;\">   Fit</th><th style=\"text-align: right;\">  SE Fit</th><th>95% CI          </th><th>95% PI          </th></tr>\n",
       "</thead>\n",
       "<tbody>\n",
       "<tr><td style=\"text-align: right;\">        1</td><td style=\"text-align: right;\">31.722</td><td style=\"text-align: right;\">   0.311</td><td>(31.055, 32.390)</td><td>(30.482, 32.963)</td></tr>\n",
       "</tbody>\n",
       "</table>"
      ],
      "text/plain": [
       "'<table>\\n<thead>\\n<tr><th style=\"text-align: right;\">  New Obs</th><th style=\"text-align: right;\">   Fit</th><th style=\"text-align: right;\">  SE Fit</th><th>95% CI          </th><th>95% PI          </th></tr>\\n</thead>\\n<tbody>\\n<tr><td style=\"text-align: right;\">        1</td><td style=\"text-align: right;\">31.722</td><td style=\"text-align: right;\">   0.311</td><td>(31.055, 32.390)</td><td>(30.482, 32.963)</td></tr>\\n</tbody>\\n</table>'"
      ]
     },
     "metadata": {},
     "output_type": "display_data"
    }
   ],
   "source": [
    "column_name = [\"Sales (Y)\", \"Y-lag\"]\n",
    "out_dict = get_minitab_out(df_minitab, n_vars=len(column_name)-1, \n",
    "  new_column=column_name, withVIF=False, withCorrMatrix=False, \n",
    "  with_DW_stat=False, new_observ=1)"
   ]
  },
  {
   "attachments": {},
   "cell_type": "markdown",
   "id": "f8a9ba91",
   "metadata": {},
   "source": [
    "### Regression Analysis (intercept neglected)"
   ]
  },
  {
   "attachments": {},
   "cell_type": "markdown",
   "id": "bb5101e9",
   "metadata": {},
   "source": [
    "The intercept coefficient in the regression above is small and\n",
    "not significantly ($t$-stat is small) different from zero.\n",
    "Rerunning the regression without intercept term leaves the estimate\n",
    "of the slope coefficient, and subsequent forecast, essentially unchanged."
   ]
  },
  {
   "cell_type": "code",
   "execution_count": 94,
   "id": "e1752a6e",
   "metadata": {},
   "outputs": [
    {
     "name": "stdout",
     "output_type": "stream",
     "text": [
      "Regression Analysis: Sales (Y) versus Y-lag\n",
      "The regression equation is\n",
      "Sales (Y) = 1.088 Y-lag\n"
     ]
    },
    {
     "data": {
      "text/html": [
       "<table>\n",
       "<thead>\n",
       "<tr><th>Predictor  </th><th style=\"text-align: right;\">  Coef</th><th style=\"text-align: right;\">  SE Coef</th><th style=\"text-align: right;\">  t-score</th><th style=\"text-align: right;\">  p-value</th></tr>\n",
       "</thead>\n",
       "<tbody>\n",
       "<tr><td>Constant   </td><td style=\"text-align: right;\">0.0000</td><td style=\"text-align: right;\">   0.0000</td><td style=\"text-align: right;\">     0.00</td><td style=\"text-align: right;\">   0.0000</td></tr>\n",
       "<tr><td>Y-lag      </td><td style=\"text-align: right;\">1.0876</td><td style=\"text-align: right;\">   0.0072</td><td style=\"text-align: right;\">   150.19</td><td style=\"text-align: right;\">   0.0000</td></tr>\n",
       "</tbody>\n",
       "</table>"
      ],
      "text/plain": [
       "'<table>\\n<thead>\\n<tr><th>Predictor  </th><th style=\"text-align: right;\">  Coef</th><th style=\"text-align: right;\">  SE Coef</th><th style=\"text-align: right;\">  t-score</th><th style=\"text-align: right;\">  p-value</th></tr>\\n</thead>\\n<tbody>\\n<tr><td>Constant   </td><td style=\"text-align: right;\">0.0000</td><td style=\"text-align: right;\">   0.0000</td><td style=\"text-align: right;\">     0.00</td><td style=\"text-align: right;\">   0.0000</td></tr>\\n<tr><td>Y-lag      </td><td style=\"text-align: right;\">1.0876</td><td style=\"text-align: right;\">   0.0072</td><td style=\"text-align: right;\">   150.19</td><td style=\"text-align: right;\">   0.0000</td></tr>\\n</tbody>\\n</table>'"
      ]
     },
     "metadata": {},
     "output_type": "display_data"
    },
    {
     "name": "stdout",
     "output_type": "stream",
     "text": [
      "s_yxs = 0.4727   R_sq = 99.9%   R-sq(adj) = 99.9%\n",
      "Analyis of Variance\n"
     ]
    },
    {
     "data": {
      "text/html": [
       "<table>\n",
       "<thead>\n",
       "<tr><th>Source        </th><th style=\"text-align: right;\">  d.o.f</th><th style=\"text-align: right;\">    sumSq</th><th>meanSq   </th><th>F-score  </th><th>p-value  </th></tr>\n",
       "</thead>\n",
       "<tbody>\n",
       "<tr><td>Regression    </td><td style=\"text-align: right;\">      1</td><td style=\"text-align: right;\">5040.2184</td><td>5040.2184</td><td>22557.221</td><td>0.0000   </td></tr>\n",
       "<tr><td>Residual error</td><td style=\"text-align: right;\">     15</td><td style=\"text-align: right;\">   3.3516</td><td>0.2234   </td><td>         </td><td>         </td></tr>\n",
       "<tr><td>Total         </td><td style=\"text-align: right;\">     16</td><td style=\"text-align: right;\">5043.5700</td><td>         </td><td>         </td><td>         </td></tr>\n",
       "</tbody>\n",
       "</table>"
      ],
      "text/plain": [
       "'<table>\\n<thead>\\n<tr><th>Source        </th><th style=\"text-align: right;\">  d.o.f</th><th style=\"text-align: right;\">    sumSq</th><th>meanSq   </th><th>F-score  </th><th>p-value  </th></tr>\\n</thead>\\n<tbody>\\n<tr><td>Regression    </td><td style=\"text-align: right;\">      1</td><td style=\"text-align: right;\">5040.2184</td><td>5040.2184</td><td>22557.221</td><td>0.0000   </td></tr>\\n<tr><td>Residual error</td><td style=\"text-align: right;\">     15</td><td style=\"text-align: right;\">   3.3516</td><td>0.2234   </td><td>         </td><td>         </td></tr>\\n<tr><td>Total         </td><td style=\"text-align: right;\">     16</td><td style=\"text-align: right;\">5043.5700</td><td>         </td><td>         </td><td>         </td></tr>\\n</tbody>\\n</table>'"
      ]
     },
     "metadata": {},
     "output_type": "display_data"
    }
   ],
   "source": [
    "column_name = [\"Sales (Y)\", \"Y-lag\"]\n",
    "out_dict_omit_intercept = get_minitab_out(df_minitab, n_vars=len(column_name)-1, \n",
    "  new_column=column_name, withVIF=False, withCorrMatrix=False, \n",
    "  with_DW_stat=False, with_intercept=False, new_observ=0)"
   ]
  },
  {
   "attachments": {},
   "cell_type": "markdown",
   "id": "b9b0cf7a",
   "metadata": {},
   "source": [
    "### Fitted line plot"
   ]
  },
  {
   "cell_type": "code",
   "execution_count": 87,
   "id": "9ecc5353",
   "metadata": {},
   "outputs": [
    {
     "data": {
      "text/plain": [
       "{'regress': LinearRegression(),\n",
       " 'param_stderr': array([0.33673342, 0.02063491]),\n",
       " 'param_t_stat': array([-0.32469755, 53.01092299]),\n",
       " 'param_p_vals': array([7.50210904e-01, 1.54434632e-17]),\n",
       " 'corr_matrix': array([[0.99751831]]),\n",
       " 'R_sq': 0.995042770192543,\n",
       " 'dw_stats': 1.4566731376611115}"
      ]
     },
     "execution_count": 87,
     "metadata": {},
     "output_type": "execute_result"
    }
   ],
   "source": [
    "df_fit = df_minitab.copy()\n",
    "out_dict"
   ]
  },
  {
   "cell_type": "code",
   "execution_count": 109,
   "id": "4f7e6a88",
   "metadata": {},
   "outputs": [
    {
     "data": {
      "image/png": "[encoded data removed]",
      "text/plain": [
       "<Figure size 600x500 with 1 Axes>"
      ]
     },
     "metadata": {},
     "output_type": "display_data"
    }
   ],
   "source": [
    "fig, ax = plt.subplots(figsize=(6, 5))\n",
    "\n",
    "ax.plot(df_fit[\"X_1\"], df_fit[\"Y\"], \n",
    "  marker='o', markersize=5, markerfacecolor='white',\n",
    "  linestyle='None', markeredgewidth=2) \n",
    "\n",
    "regress = out_dict[\"regress\"]\n",
    "b0 = regress.intercept_\n",
    "b1 = regress.coef_[0]\n",
    "\n",
    "data_t_min = df_fit[\"X_1\"].min()\n",
    "data_t_max = df_fit[\"X_1\"].max()\n",
    "t_offset = 0.1*(data_t_max - data_t_min)\n",
    "t_regress = np.linspace(data_t_min - t_offset, data_t_max + t_offset)\n",
    "regress_label = r\"${:.3f} + {:.3f}$\".format(b0, b1) + r\"$Y_{t-1}$\" \\\n",
    "  if b1 > 0 else r\"${:.3f}{:.3f}$\".format(b0, b1) + r\"$Y_{t-1}$\"\n",
    "\n",
    "ax.plot(t_regress, b0 + b1*t_regress, \n",
    "  linestyle='-',\n",
    "  label=regress_label) \n",
    "\n",
    "regress_without_intercept = out_dict_omit_intercept[\"regress\"]\n",
    "b1 = regress_without_intercept.coef_[0]\n",
    "regress_label = r\"${:.3f}$\".format(b1) + r\"$Y_{t-1}$\"\n",
    "ax.plot(t_regress, b1*t_regress, linestyle=\"-\", label=regress_label)\n",
    "\n",
    "ax.set_xlabel(r\"$Y_{t-1}$, lagged-year sales (\\$ millions)\")\n",
    "ax.set_ylabel(r\"$Y_t$, sales (\\$ millions)\")\n",
    "\n",
    "rSq = out_dict[\"R_sq\"]\n",
    "ax.set_title(\"Fitted Line Plot\\n\" + r\"$r^2={:.1f}$% (with intercept)\".format(rSq*100))\n",
    "\n",
    "ax.legend(loc=\"upper left\", bbox_to_anchor=[1.01, 1.04])\n",
    "ax.grid(\"on\")\n",
    "plt.show(fig)"
   ]
  },
  {
   "attachments": {},
   "cell_type": "markdown",
   "id": "8a1413a8",
   "metadata": {},
   "source": [
    "The fact that the estimated slope coefficient is about 1 suggests that\n",
    "a forecast of next year's sales is very nearly this year's sales."
   ]
  },
  {
   "attachments": {},
   "cell_type": "markdown",
   "id": "51f5d4bc",
   "metadata": {},
   "source": []
  }
 ],
 "metadata": {
  "kernelspec": {
   "display_name": "base",
   "language": "python",
   "name": "python3"
  },
  "language_info": {
   "codemirror_mode": {
    "name": "ipython",
    "version": 3
   },
   "file_extension": ".py",
   "mimetype": "text/x-python",
   "name": "python",
   "nbconvert_exporter": "python",
   "pygments_lexer": "ipython3",
   "version": "3.8.10"
  }
 },
 "nbformat": 4,
 "nbformat_minor": 5
}
