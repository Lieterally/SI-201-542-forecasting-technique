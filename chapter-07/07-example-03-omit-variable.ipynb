{
 "cells": [
  {
   "cell_type": "code",
   "execution_count": 4,
   "metadata": {},
   "outputs": [],
   "source": [
    "import numpy as np\n",
    "import matplotlib.pyplot as plt\n",
    "import pandas as pd\n",
    "import scipy.stats as sc_stats\n",
    "import tabulate\n",
    "\n",
    "from sklearn.linear_model import LinearRegression\n",
    "from sklearn.preprocessing import PolynomialFeatures\n",
    "from sklearn.pipeline import Pipeline\n",
    "\n",
    "import plotly.graph_objects as go\n",
    "\n",
    "from odf.opendocument import load as odf_load"
   ]
  },
  {
   "cell_type": "code",
   "execution_count": 5,
   "metadata": {},
   "outputs": [],
   "source": [
    "plt.rcParams.update(plt.rcParamsDefault)\n",
    "plt.rcParams.update({\n",
    "  'font.size': 12,\n",
    "  'grid.alpha': 0.25})"
   ]
  },
  {
   "attachments": {},
   "cell_type": "markdown",
   "metadata": {},
   "source": [
    "## Function declarations"
   ]
  },
  {
   "attachments": {},
   "cell_type": "markdown",
   "metadata": {},
   "source": [
    "### Read `ods` to `DataFrame`"
   ]
  },
  {
   "cell_type": "code",
   "execution_count": 6,
   "metadata": {},
   "outputs": [],
   "source": [
    "def read_ods(filename, columns=None):\n",
    "  if columns is None:\n",
    "    df = pd.read_excel(filename, engine=\"odf\", header=0)\n",
    "  elif isinstance(columns, list):\n",
    "    df = pd.read_excel(filename, engine=\"odf\", header=0,\n",
    "                       usecols=columns)\n",
    "  else:\n",
    "    key_arr = (k for k in columns.keys())\n",
    "    df = pd.read_excel(filename, engine=\"odf\", header=0,\n",
    "                      usecols=key_arr)\n",
    "    df = df.rename(columns=columns)\n",
    "  return df"
   ]
  },
  {
   "attachments": {},
   "cell_type": "markdown",
   "metadata": {},
   "source": [
    "### Get correlogram "
   ]
  },
  {
   "cell_type": "code",
   "execution_count": 34,
   "metadata": {},
   "outputs": [],
   "source": [
    "def std_error(r_k_arr, k, n):\n",
    "  r_k_arr = np.array(r_k_arr)\n",
    "  r_k_arr = r_k_arr[:k-1] if len(r_k_arr) > 1 else [0]\n",
    "  r_k_arr = np.array(r_k_arr)\n",
    "  return np.sqrt((1 + 2*sum(r_k_arr**2))/n)"
   ]
  },
  {
   "cell_type": "code",
   "execution_count": 7,
   "metadata": {},
   "outputs": [],
   "source": [
    "def get_correlogram(dataframe, up_to_lag, columns=[None, None], \n",
    "                    significance_lvl=0.05):\n",
    "  df = dataframe.copy()\n",
    "\n",
    "  Y_t = df[columns[1]].to_numpy()\n",
    "\n",
    "  mean_Y_t = np.mean(Y_t)\n",
    "\n",
    "  r_lag_arr = np.empty(up_to_lag)\n",
    "  denom = np.sum((Y_t - mean_Y_t)**2)\n",
    "\n",
    "  num_of_samples = len(Y_t)\n",
    "  dof = num_of_samples - 1   # degree of freedom\n",
    "  l_bound = sc_stats.t.ppf(significance_lvl/2, dof)\n",
    "  u_bound = sc_stats.t.ppf(1-significance_lvl/2, dof)\n",
    "  #print(f\"[l_bound, r_bound] = [{l_bound}, {u_bound}]\")\n",
    "\n",
    "  std_error_arr = np.empty(up_to_lag)\n",
    "  significance_lim_arr = np.empty([up_to_lag, 2])\n",
    "\n",
    "  t_test_arr = np.empty(up_to_lag)\n",
    "\n",
    "  # Ljung-Box Q statistic\n",
    "  coeff = num_of_samples*(num_of_samples + 2)\n",
    "  LBQ_arr = np.empty(up_to_lag)\n",
    "\n",
    "  for lag in range(1, up_to_lag+1):\n",
    "    numer = (Y_t[:-lag]  - mean_Y_t) * (Y_t[lag:] - mean_Y_t)\n",
    "    numer = np.sum(numer)\n",
    "    # print(f\"numer = {numer}\")\n",
    "    # print(f\"denom = {denom}\")\n",
    "    r_lag = numer / denom\n",
    "    r_lag_arr[lag-1] = r_lag \n",
    "    std_error_arr[lag-1] = std_error(r_lag_arr[:lag], lag, num_of_samples)\n",
    "    #print(f\"std_error_r_{lag:<2d}: {std_error_arr[lag-1]}\")\n",
    "    significance_lim_arr[lag-1, 0] = l_bound*std_error_arr[lag-1]\n",
    "    significance_lim_arr[lag-1, 1] = u_bound*std_error_arr[lag-1]\n",
    "\n",
    "    t_test_arr[lag-1] = r_lag / std_error_arr[lag-1]\n",
    "    # print(f\"r_{lag:<2d} = {r_lag_arr[lag-1]:9.6f}\")\n",
    "\n",
    "    LBQ_arr[lag-1] = coeff*np.sum((r_lag_arr[:lag]**2)/(num_of_samples - np.arange(1, lag+1)))\n",
    "\n",
    "\n",
    "  df_result = pd.DataFrame({\n",
    "    \"k\": np.arange(1, up_to_lag+1), \n",
    "    \"r_k\": r_lag_arr, \n",
    "    \"t_test\": t_test_arr, \n",
    "    \"LBQ\": LBQ_arr,\n",
    "    \"l_bound\": significance_lim_arr[:,0],\n",
    "    \"u_bound\": significance_lim_arr[:,1]  \n",
    "  })\n",
    "  return df_result"
   ]
  },
  {
   "attachments": {},
   "cell_type": "markdown",
   "metadata": {},
   "source": [
    "### Get multiple regression coefficients"
   ]
  },
  {
   "cell_type": "code",
   "execution_count": 8,
   "metadata": {},
   "outputs": [],
   "source": [
    "def get_multiple_regress_coeff(df, n_vars=2):\n",
    "  \n",
    "  if isinstance(df, pd.DataFrame):\n",
    "    num_of_samples = len(df)\n",
    "    X_arr = np.zeros((num_of_samples, n_vars))\n",
    "    Y = df[\"Y\"].to_numpy()\n",
    "\n",
    "    for i in range(n_vars):\n",
    "      key = f\"X_{i+1}\"\n",
    "      X_arr[:, i] = df[key].to_numpy()\n",
    "\n",
    "    regress = LinearRegression().fit(X_arr, Y)\n",
    "    df[\"hat_Y\"] = regress.intercept_ + X_arr.dot(regress.coef_) \n",
    "  \n",
    "  elif isinstance(df, np.ndarray):\n",
    "    Y = df[:, 0]\n",
    "    X_arr = df[:, 1:]\n",
    "\n",
    "\n",
    "    regress = LinearRegression().fit(X_arr, Y)\n",
    "    Y_hat = regress.intercept_ + X_arr.dot(regress.coef_)\n",
    "    df = np.column_stack([df, Y_hat])\n",
    "\n",
    "  return regress, df\n"
   ]
  },
  {
   "attachments": {},
   "cell_type": "markdown",
   "metadata": {},
   "source": [
    "### Get Minitab output of Regression Analysis"
   ]
  },
  {
   "cell_type": "code",
   "execution_count": 9,
   "metadata": {},
   "outputs": [],
   "source": [
    "def get_minitab_out(df, n_vars=2, new_column=None, withCorrMatrix=False, \n",
    "  withVIF=False):\n",
    "\n",
    "  \"\"\"\n",
    "  new_column (dict) : a dictionary mapping to rename df header\n",
    "  \"\"\"\n",
    "  \n",
    "  data_struct = np.zeros((len(df), 1+n_vars))\n",
    "  data_struct[:, 0] = df['Y']\n",
    "  for i in range(n_vars):\n",
    "    key = f\"X_{i+1}\"\n",
    "    data_struct[:, i+1] = df[key]\n",
    "\n",
    "  # -- compute correlation matrix\n",
    "  corr_matrix = np.corrcoef(data_struct, rowvar=False)\n",
    "  corr_matrix = corr_matrix[1:, 0:-1]    # only show lower triangle part of correlation matrix\n",
    "\n",
    "  # -- compute regression intercept and coefficients\n",
    "  regress, _ = get_multiple_regress_coeff(df, n_vars=n_vars)\n",
    "  b_arr = [regress.intercept_] + regress.coef_.tolist()\n",
    "  is_positive_b_arr = [b_j > 0 for b_j in b_arr]\n",
    "\n",
    "  # -- compute cofactor matrix \n",
    "  X_arr = np.ones_like(data_struct)\n",
    "  X_arr[:,1:] = data_struct[:,1:]\n",
    "  cofactor_matrix = np.linalg.inv(X_arr.transpose().dot(X_arr))   # this matrix is closely related to covariance matrix\n",
    "\n",
    "  # -- compute standad error of the estimates\n",
    "  num_of_samples = len(df)\n",
    "  hat_Y =  regress.intercept_ + data_struct[:,1:].dot(regress.coef_)\n",
    "  sumSq_Y_hat_Y = ((data_struct[:, 0] - hat_Y)**2).sum()\n",
    "  s_yxs = np.sqrt(sumSq_Y_hat_Y/(num_of_samples - n_vars - 1))\n",
    "\n",
    "  # -- compute standard error of intercept_ and coef_\n",
    "  # -- compute t-score of intecept_ and coef_\n",
    "  # -- compute p-values of intercept_ and coef_\n",
    "  SE_coef = np.zeros(1+n_vars)\n",
    "  t_scores = np.zeros(1+n_vars)\n",
    "  p_values = np.zeros(1+n_vars)\n",
    "  dof = num_of_samples - n_vars - 1;          # degrees of freedom\n",
    "  for i in range(1+n_vars):\n",
    "    SE_coef[i] = s_yxs*np.sqrt(cofactor_matrix[i, i])\n",
    "    t_scores[i] = b_arr[i] / SE_coef[i]\n",
    "    p_values[i] = sc_stats.t.sf(abs(t_scores[i]), dof) * 2   # .t.sf is a surfifal function (1 - cdf)\n",
    "\n",
    "  # -- compute VIF of coef_\n",
    "  if withVIF:\n",
    "    # if n_vars == 2, we calculate VIF from correlation matrix\n",
    "    VIF_arr = np.zeros(n_vars)\n",
    "    if n_vars == 2:\n",
    "      VIF_arr[0] = 1/(1-corr_matrix[1, 1]**2)\n",
    "      VIF_arr[1] = 1/(1-corr_matrix[1, 1]**2)\n",
    "    else:\n",
    "      for i in range(n_vars):\n",
    "        # take a predictor column and put the other predictor after it\n",
    "        predictor_data_struct = np.zeros((num_of_samples, n_vars))\n",
    "        predictor_data_struct[:,0] = data_struct[:, i+1]   \n",
    "        predictor_data_struct[:,1:] = np.delete(data_struct, i+1, axis=1)[:,1:]  \n",
    "        #print(predictor_data_struct)\n",
    "        predictor_SST, predictor_SSR, _ = get_sumSq(predictor_data_struct, n_vars=n_vars)\n",
    "        predictor_R_sq = predictor_SSR/predictor_SST\n",
    "        #print(predictor_R_sq)\n",
    "        VIF_arr[i] = 1/(1 - predictor_R_sq)\n",
    "\n",
    "\n",
    "  # -- compute ANOVA table\n",
    "  meanY = data_struct[:, 0].mean()\n",
    "  SST = ((data_struct[:, 0] - meanY)**2).sum()\n",
    "  SSR = ((hat_Y - meanY)**2).sum()\n",
    "  SSE = ((data_struct[:, 0] - hat_Y)**2).sum()\n",
    "  anova_sumSq = np.array([SSR, SSE, SST])\n",
    "  anova_dof = np.array([n_vars, num_of_samples - n_vars - 1, num_of_samples - 1], dtype=int)\n",
    "  anova_meanSq = (anova_sumSq/anova_dof)[:2]\n",
    "  anova_F_score = anova_meanSq[0] / anova_meanSq[1]\n",
    "  anova_p_value = sc_stats.f.sf(anova_F_score, anova_dof[0], anova_dof[1])   # sf is a surfifal function (1 - cdf)\n",
    "\n",
    "  # -- compute R_sq (coefficient of determination)\n",
    "  R_sq = SSR/SST\n",
    "\n",
    "  # -- compute adjusted R_sq\n",
    "  adj_R_sq = 1 - (1 - R_sq)*(num_of_samples-1)/(num_of_samples-n_vars-1)\n",
    "  \n",
    "  # -- calculate Durbin-Watson statistics\n",
    "  e_t = data_struct[:, 0] - hat_Y\n",
    "  numerator = ((e_t[1:] - e_t[:-1])**2).sum()\n",
    "  dw_stats = numerator / (e_t**2).sum()\n",
    "\n",
    "  # -- create tabular form for correlation \n",
    "  if withCorrMatrix:\n",
    "    data = []\n",
    "    for i in range(n_vars):\n",
    "      data_row = [new_column[i+1]] + \\\n",
    "        [f\"{corr:.3f}\" if j < i+1 else \"\" for j, corr in enumerate(corr_matrix[i,:])]\n",
    "      #print(data_row)\n",
    "      #print([type(data_row_i) for data_row_i in data_row])\n",
    "      data.append(data_row)\n",
    "\n",
    "    table_corr = tabulate.tabulate(data, tablefmt='html', \n",
    "      headers=[\"\"] + new_column[:n_vars], \n",
    "      floatfmt=[\"None\"] + [\".3f\"]*(n_vars))\n",
    "\n",
    "    print(f\"Correlations: {', '.join(new_column)}\")\n",
    "    display(table_corr)\n",
    "\n",
    "  # -- create tabular form for predictor\n",
    "  data = [[\"Constant\", b_arr[0], SE_coef[0], t_scores[0], p_values[0]]]\n",
    "  if withVIF:\n",
    "    for i in range(1, n_vars+1):\n",
    "      data_row = [new_column[i], b_arr[i], SE_coef[i], t_scores[i], p_values[i], VIF_arr[i-1]]\n",
    "      data.append(data_row)\n",
    "    table_predictor = tabulate.tabulate(data, tablefmt='html', \n",
    "      headers=[\"Predictor\", \"Coef\", \"SE Coef\", \"t-score\", \"p-value\", \"VIF\"], \n",
    "      floatfmt=[None, \".4f\", \".4f\", \".2f\", \".4f\", \".3f\"])\n",
    "  else:\n",
    "    for i in range(1, n_vars+1):\n",
    "      data_row = [new_column[i], b_arr[i], SE_coef[i], t_scores[i], p_values[i]]\n",
    "      data.append(data_row)\n",
    "    table_predictor = tabulate.tabulate(data, tablefmt='html', \n",
    "      headers=[\"Predictor\", \"Coef\", \"SE Coef\", \"t-score\", \"p-value\"], \n",
    "      floatfmt=[None, \".4f\", \".4f\", \".2f\", \".4f\"])\n",
    "\n",
    "\n",
    "  print(f\"Regression Analysis: {new_column[0]} versus {', '.join(new_column[1:])}\")\n",
    "  print(\"The regression equation is\")\n",
    "  str_b_predictor = \"\" \n",
    "  for i in range(n_vars):\n",
    "    sign = \"+\" if is_positive_b_arr[i+1] else \"-\"\n",
    "    str_b_predictor += f\" {sign} {abs(b_arr[i+1]):.3f} {new_column[i+1]}\"\n",
    "  print(f\"{new_column[0]} = {b_arr[0]:.3f}{str_b_predictor}\")\n",
    "  display(table_predictor)\n",
    "  print(f\"s_yxs = {s_yxs:.4f}   R_sq = {R_sq*100:.1f}%   R-sq(adj) = {adj_R_sq*100:.1f}%\")\n",
    "\n",
    "  # -- create ANOVA table (with F-score and its p-value)\n",
    "  data = [\n",
    "    [\"Regression\",     anova_dof[0], anova_sumSq[0], f\"{anova_meanSq[0]:.3f}\", f\"{anova_F_score:.3f}\", f\"{anova_p_value:.4f}\"],\n",
    "    [\"Residual error\", anova_dof[1], anova_sumSq[1], f\"{anova_meanSq[1]:.3f}\", \"\", \"\"],\n",
    "    [\"Total\",          anova_dof[2], anova_sumSq[2], \"\", \"\", \"\"]] \n",
    "  table_anova = tabulate.tabulate(data, tablefmt='html', \n",
    "    headers=[\"Source\", \"d.o.f\", \"sumSq\", \"meanSq\", \"F-score\", \"p-value\"], \n",
    "    floatfmt=[None, \".0f\", \".3f\", \"s\", \"s\", \"s\"])\n",
    "\n",
    "  print(f\"Analyis of Variance\")\n",
    "  display(table_anova)\n",
    "\n",
    "  # -- print Durbin-Watson statistics\n",
    "  print(f\"Durbin-Watson Statistics = {dw_stats:.2f}\")\n",
    "\n",
    "  return {\"regress\": regress, \"corr_matrix\": corr_matrix, \n",
    "    \"R_sq\": R_sq, \"dw_stats\": dw_stats}\n"
   ]
  },
  {
   "attachments": {},
   "cell_type": "markdown",
   "metadata": {},
   "source": [
    "### Perform Durbin-Watson Test"
   ]
  },
  {
   "cell_type": "code",
   "execution_count": 10,
   "metadata": {},
   "outputs": [],
   "source": [
    "def test_statistic_dw(dw_stats, n_samples, k_predictors, significance_lvl_arr):\n",
    "  for significance_lvl in significance_lvl_arr:\n",
    "    if abs(significance_lvl - 0.05) < 1e-4:\n",
    "      d_lower = df_dw_crit_05.xs(n_samples).xs(f\"k = {k_predictors}\").xs(\"d_L\")\n",
    "      d_upper = df_dw_crit_05.xs(n_samples).xs(f\"k = {k_predictors}\").xs(\"d_U\")\n",
    "      \n",
    "    elif abs(significance_lvl - 0.01) < 1e-4:\n",
    "      d_lower = df_dw_crit_01.xs(n_samples).xs(f\"k = {k_predictors}\").xs(\"d_L\")\n",
    "      d_upper = df_dw_crit_01.xs(n_samples).xs(f\"k = {k_predictors}\").xs(\"d_U\")\n",
    "\n",
    "    test_status = \"\" \n",
    "    if dw_stats > d_upper:\n",
    "      test_status = \"null hypothesis accepted\"\n",
    "    elif dw_stats < d_lower:\n",
    "      test_status = \"null hypotesis rejected\"\n",
    "    else:\n",
    "      test_status = \"inconclusive\"\n",
    "\n",
    "    print(f\"significance_lvl: {significance_lvl}\")\n",
    "    print(f\"  durbin-watson statistics: {dw_stats:.2f}\")\n",
    "    print(f\"  durbin-watson critical values (d_L, d_U): {d_lower, d_upper}\")\n",
    "    print(f\"  conclusion: {test_status}\\n\")"
   ]
  },
  {
   "attachments": {},
   "cell_type": "markdown",
   "metadata": {},
   "source": [
    "### Durbin-Watson critical value"
   ]
  },
  {
   "cell_type": "code",
   "execution_count": 11,
   "metadata": {},
   "outputs": [],
   "source": [
    "df_dw_crit_05 = pd.read_excel(\"../durbin-watson-test-bounds-alpha-0_05.ods\",\n",
    "  header=[1, 2], index_col=0)\n",
    "df_dw_crit_01 = pd.read_excel(\"../durbin-watson-test-bounds-alpha-0_01.ods\", \n",
    "  header=[1, 2], index_col=0)"
   ]
  },
  {
   "attachments": {},
   "cell_type": "markdown",
   "metadata": {},
   "source": [
    "## Load the data"
   ]
  },
  {
   "attachments": {},
   "cell_type": "markdown",
   "metadata": {},
   "source": [
    "### Sales and income data"
   ]
  },
  {
   "cell_type": "code",
   "execution_count": 12,
   "metadata": {},
   "outputs": [
    {
     "data": {
      "text/html": [
       "<div>\n",
       "<style scoped>\n",
       "    .dataframe tbody tr th:only-of-type {\n",
       "        vertical-align: middle;\n",
       "    }\n",
       "\n",
       "    .dataframe tbody tr th {\n",
       "        vertical-align: top;\n",
       "    }\n",
       "\n",
       "    .dataframe thead th {\n",
       "        text-align: right;\n",
       "    }\n",
       "</style>\n",
       "<table border=\"1\" class=\"dataframe\">\n",
       "  <thead>\n",
       "    <tr style=\"text-align: right;\">\n",
       "      <th></th>\n",
       "      <th>Year</th>\n",
       "      <th>Sales ($ millions) (Y)</th>\n",
       "      <th>Income ($ millions)</th>\n",
       "      <th>Unemployment Rate</th>\n",
       "    </tr>\n",
       "  </thead>\n",
       "  <tbody>\n",
       "    <tr>\n",
       "      <th>0</th>\n",
       "      <td>1990</td>\n",
       "      <td>8.0</td>\n",
       "      <td>336.1</td>\n",
       "      <td>5.5</td>\n",
       "    </tr>\n",
       "    <tr>\n",
       "      <th>1</th>\n",
       "      <td>1991</td>\n",
       "      <td>8.2</td>\n",
       "      <td>349.4</td>\n",
       "      <td>5.5</td>\n",
       "    </tr>\n",
       "    <tr>\n",
       "      <th>2</th>\n",
       "      <td>1992</td>\n",
       "      <td>8.5</td>\n",
       "      <td>362.9</td>\n",
       "      <td>6.7</td>\n",
       "    </tr>\n",
       "    <tr>\n",
       "      <th>3</th>\n",
       "      <td>1993</td>\n",
       "      <td>9.2</td>\n",
       "      <td>383.9</td>\n",
       "      <td>5.5</td>\n",
       "    </tr>\n",
       "    <tr>\n",
       "      <th>4</th>\n",
       "      <td>1994</td>\n",
       "      <td>10.2</td>\n",
       "      <td>402.8</td>\n",
       "      <td>5.7</td>\n",
       "    </tr>\n",
       "    <tr>\n",
       "      <th>5</th>\n",
       "      <td>1995</td>\n",
       "      <td>11.4</td>\n",
       "      <td>437.0</td>\n",
       "      <td>5.2</td>\n",
       "    </tr>\n",
       "    <tr>\n",
       "      <th>6</th>\n",
       "      <td>1996</td>\n",
       "      <td>12.8</td>\n",
       "      <td>472.2</td>\n",
       "      <td>4.5</td>\n",
       "    </tr>\n",
       "    <tr>\n",
       "      <th>7</th>\n",
       "      <td>1997</td>\n",
       "      <td>13.6</td>\n",
       "      <td>510.4</td>\n",
       "      <td>3.8</td>\n",
       "    </tr>\n",
       "    <tr>\n",
       "      <th>8</th>\n",
       "      <td>1998</td>\n",
       "      <td>14.6</td>\n",
       "      <td>544.5</td>\n",
       "      <td>3.8</td>\n",
       "    </tr>\n",
       "    <tr>\n",
       "      <th>9</th>\n",
       "      <td>1999</td>\n",
       "      <td>16.4</td>\n",
       "      <td>588.1</td>\n",
       "      <td>3.6</td>\n",
       "    </tr>\n",
       "    <tr>\n",
       "      <th>10</th>\n",
       "      <td>2000</td>\n",
       "      <td>17.8</td>\n",
       "      <td>630.4</td>\n",
       "      <td>3.5</td>\n",
       "    </tr>\n",
       "    <tr>\n",
       "      <th>11</th>\n",
       "      <td>2001</td>\n",
       "      <td>18.6</td>\n",
       "      <td>685.9</td>\n",
       "      <td>4.9</td>\n",
       "    </tr>\n",
       "    <tr>\n",
       "      <th>12</th>\n",
       "      <td>2002</td>\n",
       "      <td>20.0</td>\n",
       "      <td>742.8</td>\n",
       "      <td>5.9</td>\n",
       "    </tr>\n",
       "    <tr>\n",
       "      <th>13</th>\n",
       "      <td>2003</td>\n",
       "      <td>21.9</td>\n",
       "      <td>801.3</td>\n",
       "      <td>5.6</td>\n",
       "    </tr>\n",
       "    <tr>\n",
       "      <th>14</th>\n",
       "      <td>2004</td>\n",
       "      <td>24.9</td>\n",
       "      <td>903.1</td>\n",
       "      <td>4.9</td>\n",
       "    </tr>\n",
       "    <tr>\n",
       "      <th>15</th>\n",
       "      <td>2005</td>\n",
       "      <td>27.3</td>\n",
       "      <td>983.6</td>\n",
       "      <td>5.6</td>\n",
       "    </tr>\n",
       "    <tr>\n",
       "      <th>16</th>\n",
       "      <td>2006</td>\n",
       "      <td>29.1</td>\n",
       "      <td>1076.7</td>\n",
       "      <td>8.5</td>\n",
       "    </tr>\n",
       "  </tbody>\n",
       "</table>\n",
       "</div>"
      ],
      "text/plain": [
       "    Year  Sales ($ millions) (Y)  Income ($ millions)  Unemployment Rate\n",
       "0   1990                     8.0                336.1                5.5\n",
       "1   1991                     8.2                349.4                5.5\n",
       "2   1992                     8.5                362.9                6.7\n",
       "3   1993                     9.2                383.9                5.5\n",
       "4   1994                    10.2                402.8                5.7\n",
       "5   1995                    11.4                437.0                5.2\n",
       "6   1996                    12.8                472.2                4.5\n",
       "7   1997                    13.6                510.4                3.8\n",
       "8   1998                    14.6                544.5                3.8\n",
       "9   1999                    16.4                588.1                3.6\n",
       "10  2000                    17.8                630.4                3.5\n",
       "11  2001                    18.6                685.9                4.9\n",
       "12  2002                    20.0                742.8                5.9\n",
       "13  2003                    21.9                801.3                5.6\n",
       "14  2004                    24.9                903.1                4.9\n",
       "15  2005                    27.3                983.6                5.6\n",
       "16  2006                    29.1               1076.7                8.5"
      ]
     },
     "execution_count": 12,
     "metadata": {},
     "output_type": "execute_result"
    }
   ],
   "source": [
    "filename = \"07-table-02-novak-sales.ods\"\n",
    "\n",
    "df = read_ods(filename)\n",
    "\n",
    "df"
   ]
  },
  {
   "attachments": {},
   "cell_type": "markdown",
   "metadata": {},
   "source": [
    "## Single predictor (disposable personal income)"
   ]
  },
  {
   "attachments": {},
   "cell_type": "markdown",
   "metadata": {},
   "source": [
    "### Regression Analysis"
   ]
  },
  {
   "cell_type": "code",
   "execution_count": 13,
   "metadata": {},
   "outputs": [
    {
     "name": "stdout",
     "output_type": "stream",
     "text": [
      "header: ['Sales ($ millions) (Y)', 'Income ($ millions)', 'Unemployment Rate']\n"
     ]
    },
    {
     "data": {
      "text/html": [
       "<div>\n",
       "<style scoped>\n",
       "    .dataframe tbody tr th:only-of-type {\n",
       "        vertical-align: middle;\n",
       "    }\n",
       "\n",
       "    .dataframe tbody tr th {\n",
       "        vertical-align: top;\n",
       "    }\n",
       "\n",
       "    .dataframe thead th {\n",
       "        text-align: right;\n",
       "    }\n",
       "</style>\n",
       "<table border=\"1\" class=\"dataframe\">\n",
       "  <thead>\n",
       "    <tr style=\"text-align: right;\">\n",
       "      <th></th>\n",
       "      <th>Y</th>\n",
       "      <th>X_1</th>\n",
       "      <th>X_2</th>\n",
       "    </tr>\n",
       "  </thead>\n",
       "  <tbody>\n",
       "    <tr>\n",
       "      <th>0</th>\n",
       "      <td>8.0</td>\n",
       "      <td>336.1</td>\n",
       "      <td>5.5</td>\n",
       "    </tr>\n",
       "    <tr>\n",
       "      <th>1</th>\n",
       "      <td>8.2</td>\n",
       "      <td>349.4</td>\n",
       "      <td>5.5</td>\n",
       "    </tr>\n",
       "    <tr>\n",
       "      <th>2</th>\n",
       "      <td>8.5</td>\n",
       "      <td>362.9</td>\n",
       "      <td>6.7</td>\n",
       "    </tr>\n",
       "    <tr>\n",
       "      <th>3</th>\n",
       "      <td>9.2</td>\n",
       "      <td>383.9</td>\n",
       "      <td>5.5</td>\n",
       "    </tr>\n",
       "    <tr>\n",
       "      <th>4</th>\n",
       "      <td>10.2</td>\n",
       "      <td>402.8</td>\n",
       "      <td>5.7</td>\n",
       "    </tr>\n",
       "    <tr>\n",
       "      <th>5</th>\n",
       "      <td>11.4</td>\n",
       "      <td>437.0</td>\n",
       "      <td>5.2</td>\n",
       "    </tr>\n",
       "    <tr>\n",
       "      <th>6</th>\n",
       "      <td>12.8</td>\n",
       "      <td>472.2</td>\n",
       "      <td>4.5</td>\n",
       "    </tr>\n",
       "    <tr>\n",
       "      <th>7</th>\n",
       "      <td>13.6</td>\n",
       "      <td>510.4</td>\n",
       "      <td>3.8</td>\n",
       "    </tr>\n",
       "    <tr>\n",
       "      <th>8</th>\n",
       "      <td>14.6</td>\n",
       "      <td>544.5</td>\n",
       "      <td>3.8</td>\n",
       "    </tr>\n",
       "    <tr>\n",
       "      <th>9</th>\n",
       "      <td>16.4</td>\n",
       "      <td>588.1</td>\n",
       "      <td>3.6</td>\n",
       "    </tr>\n",
       "    <tr>\n",
       "      <th>10</th>\n",
       "      <td>17.8</td>\n",
       "      <td>630.4</td>\n",
       "      <td>3.5</td>\n",
       "    </tr>\n",
       "    <tr>\n",
       "      <th>11</th>\n",
       "      <td>18.6</td>\n",
       "      <td>685.9</td>\n",
       "      <td>4.9</td>\n",
       "    </tr>\n",
       "    <tr>\n",
       "      <th>12</th>\n",
       "      <td>20.0</td>\n",
       "      <td>742.8</td>\n",
       "      <td>5.9</td>\n",
       "    </tr>\n",
       "    <tr>\n",
       "      <th>13</th>\n",
       "      <td>21.9</td>\n",
       "      <td>801.3</td>\n",
       "      <td>5.6</td>\n",
       "    </tr>\n",
       "    <tr>\n",
       "      <th>14</th>\n",
       "      <td>24.9</td>\n",
       "      <td>903.1</td>\n",
       "      <td>4.9</td>\n",
       "    </tr>\n",
       "    <tr>\n",
       "      <th>15</th>\n",
       "      <td>27.3</td>\n",
       "      <td>983.6</td>\n",
       "      <td>5.6</td>\n",
       "    </tr>\n",
       "    <tr>\n",
       "      <th>16</th>\n",
       "      <td>29.1</td>\n",
       "      <td>1076.7</td>\n",
       "      <td>8.5</td>\n",
       "    </tr>\n",
       "  </tbody>\n",
       "</table>\n",
       "</div>"
      ],
      "text/plain": [
       "       Y     X_1  X_2\n",
       "0    8.0   336.1  5.5\n",
       "1    8.2   349.4  5.5\n",
       "2    8.5   362.9  6.7\n",
       "3    9.2   383.9  5.5\n",
       "4   10.2   402.8  5.7\n",
       "5   11.4   437.0  5.2\n",
       "6   12.8   472.2  4.5\n",
       "7   13.6   510.4  3.8\n",
       "8   14.6   544.5  3.8\n",
       "9   16.4   588.1  3.6\n",
       "10  17.8   630.4  3.5\n",
       "11  18.6   685.9  4.9\n",
       "12  20.0   742.8  5.9\n",
       "13  21.9   801.3  5.6\n",
       "14  24.9   903.1  4.9\n",
       "15  27.3   983.6  5.6\n",
       "16  29.1  1076.7  8.5"
      ]
     },
     "execution_count": 13,
     "metadata": {},
     "output_type": "execute_result"
    }
   ],
   "source": [
    "df_minitab = df[[\"Sales ($ millions) (Y)\", \"Income ($ millions)\", \"Unemployment Rate\"]]\n",
    "from_column_names = df_minitab.columns.to_list()\n",
    "print(f\"header: {from_column_names}\")\n",
    "to_column_names = [\"Y\"] + [f\"X_{i+1}\" for i in range(len(from_column_names) - 1)]\n",
    "\n",
    "\n",
    "df_minitab = df_minitab.rename(columns=\n",
    "  {k: v for k, v in zip(from_column_names, to_column_names)})\n",
    "\n",
    "df_minitab\n"
   ]
  },
  {
   "cell_type": "code",
   "execution_count": 14,
   "metadata": {},
   "outputs": [
    {
     "name": "stdout",
     "output_type": "stream",
     "text": [
      "Regression Analysis: Sales (Y) versus Income\n",
      "The regression equation is\n",
      "Sales (Y) = -1.505 + 0.029 Income\n"
     ]
    },
    {
     "data": {
      "text/html": [
       "<table>\n",
       "<thead>\n",
       "<tr><th>Predictor  </th><th style=\"text-align: right;\">   Coef</th><th style=\"text-align: right;\">  SE Coef</th><th style=\"text-align: right;\">  t-score</th><th style=\"text-align: right;\">  p-value</th></tr>\n",
       "</thead>\n",
       "<tbody>\n",
       "<tr><td>Constant   </td><td style=\"text-align: right;\">-1.5046</td><td style=\"text-align: right;\">   0.3290</td><td style=\"text-align: right;\">    -4.57</td><td style=\"text-align: right;\">   0.0004</td></tr>\n",
       "<tr><td>Income     </td><td style=\"text-align: right;\"> 0.0292</td><td style=\"text-align: right;\">   0.0005</td><td style=\"text-align: right;\">    56.92</td><td style=\"text-align: right;\">   0.0000</td></tr>\n",
       "</tbody>\n",
       "</table>"
      ],
      "text/plain": [
       "'<table>\\n<thead>\\n<tr><th>Predictor  </th><th style=\"text-align: right;\">   Coef</th><th style=\"text-align: right;\">  SE Coef</th><th style=\"text-align: right;\">  t-score</th><th style=\"text-align: right;\">  p-value</th></tr>\\n</thead>\\n<tbody>\\n<tr><td>Constant   </td><td style=\"text-align: right;\">-1.5046</td><td style=\"text-align: right;\">   0.3290</td><td style=\"text-align: right;\">    -4.57</td><td style=\"text-align: right;\">   0.0004</td></tr>\\n<tr><td>Income     </td><td style=\"text-align: right;\"> 0.0292</td><td style=\"text-align: right;\">   0.0005</td><td style=\"text-align: right;\">    56.92</td><td style=\"text-align: right;\">   0.0000</td></tr>\\n</tbody>\\n</table>'"
      ]
     },
     "metadata": {},
     "output_type": "display_data"
    },
    {
     "name": "stdout",
     "output_type": "stream",
     "text": [
      "s_yxs = 0.4767   R_sq = 99.5%   R-sq(adj) = 99.5%\n",
      "Analyis of Variance\n"
     ]
    },
    {
     "data": {
      "text/html": [
       "<table>\n",
       "<thead>\n",
       "<tr><th>Source        </th><th style=\"text-align: right;\">  d.o.f</th><th style=\"text-align: right;\">  sumSq</th><th>meanSq  </th><th>F-score  </th><th>p-value  </th></tr>\n",
       "</thead>\n",
       "<tbody>\n",
       "<tr><td>Regression    </td><td style=\"text-align: right;\">      1</td><td style=\"text-align: right;\">736.147</td><td>736.147 </td><td>3239.889 </td><td>0.0000   </td></tr>\n",
       "<tr><td>Residual error</td><td style=\"text-align: right;\">     15</td><td style=\"text-align: right;\">  3.408</td><td>0.227   </td><td>         </td><td>         </td></tr>\n",
       "<tr><td>Total         </td><td style=\"text-align: right;\">     16</td><td style=\"text-align: right;\">739.555</td><td>        </td><td>         </td><td>         </td></tr>\n",
       "</tbody>\n",
       "</table>"
      ],
      "text/plain": [
       "'<table>\\n<thead>\\n<tr><th>Source        </th><th style=\"text-align: right;\">  d.o.f</th><th style=\"text-align: right;\">  sumSq</th><th>meanSq  </th><th>F-score  </th><th>p-value  </th></tr>\\n</thead>\\n<tbody>\\n<tr><td>Regression    </td><td style=\"text-align: right;\">      1</td><td style=\"text-align: right;\">736.147</td><td>736.147 </td><td>3239.889 </td><td>0.0000   </td></tr>\\n<tr><td>Residual error</td><td style=\"text-align: right;\">     15</td><td style=\"text-align: right;\">  3.408</td><td>0.227   </td><td>         </td><td>         </td></tr>\\n<tr><td>Total         </td><td style=\"text-align: right;\">     16</td><td style=\"text-align: right;\">739.555</td><td>        </td><td>         </td><td>         </td></tr>\\n</tbody>\\n</table>'"
      ]
     },
     "metadata": {},
     "output_type": "display_data"
    },
    {
     "name": "stdout",
     "output_type": "stream",
     "text": [
      "Durbin-Watson Statistics = 0.72\n"
     ]
    }
   ],
   "source": [
    "column_name = [\"Sales (Y)\", \"Income\"]\n",
    "out_dict = get_minitab_out(df_minitab, n_vars=len(column_name)-1, \n",
    "  new_column=column_name, withVIF=False, withCorrMatrix=False)"
   ]
  },
  {
   "attachments": {},
   "cell_type": "markdown",
   "metadata": {},
   "source": [
    "### Fitted line plot"
   ]
  },
  {
   "cell_type": "code",
   "execution_count": 15,
   "metadata": {},
   "outputs": [
    {
     "data": {
      "text/plain": [
       "{'regress': LinearRegression(),\n",
       " 'corr_matrix': array([[0.99769311]]),\n",
       " 'R_sq': 0.9953915479765169,\n",
       " 'dw_stats': 0.7218064442510276}"
      ]
     },
     "execution_count": 15,
     "metadata": {},
     "output_type": "execute_result"
    }
   ],
   "source": [
    "df_fit = df_minitab.copy()\n",
    "out_dict"
   ]
  },
  {
   "cell_type": "code",
   "execution_count": 16,
   "metadata": {},
   "outputs": [
    {
     "data": {
      "image/png": "[encoded data removed]",
      "text/plain": [
       "<Figure size 600x500 with 1 Axes>"
      ]
     },
     "metadata": {},
     "output_type": "display_data"
    }
   ],
   "source": [
    "fig, ax = plt.subplots(figsize=(6, 5))\n",
    "\n",
    "ax.plot(df_fit[\"X_1\"], df_fit[\"Y\"], \n",
    "  marker='o', markersize=5, markerfacecolor='white',\n",
    "  linestyle='None', markeredgewidth=2) \n",
    "\n",
    "regress = out_dict[\"regress\"]\n",
    "b0 = regress.intercept_\n",
    "b1 = regress.coef_[0]\n",
    "\n",
    "data_t_min = df_fit[\"X_1\"].min()\n",
    "data_t_max = df_fit[\"X_1\"].max()\n",
    "t_offset = 0.1*(data_t_max - data_t_min)\n",
    "t_regress = np.linspace(data_t_min - t_offset, data_t_max + t_offset)\n",
    "regress_label = r\"${:.2f} + {:.2f}t$\".format(b0, b1) \\\n",
    "  if b1 > 0 else r\"${:.2f}{:.2f}t$\".format(b0, b1)\n",
    "\n",
    "ax.plot(t_regress, b0 + b1*t_regress, \n",
    "  linestyle='-',\n",
    "  label=regress_label) \n",
    "\n",
    "ax.set_xlabel(r\"disposable personal income ($ millions)\")\n",
    "ax.set_ylabel(r\"sales (\\$ millions)\")\n",
    "\n",
    "rSq = out_dict[\"R_sq\"]\n",
    "ax.set_title(r\"Fitted Line Plot, $r^2={:.1f}$%\".format(rSq*100))\n",
    "\n",
    "ax.legend(loc=\"upper left\", bbox_to_anchor=[1.01, 1.04])\n",
    "ax.grid(\"on\")\n",
    "plt.show(fig)"
   ]
  },
  {
   "attachments": {},
   "cell_type": "markdown",
   "metadata": {},
   "source": [
    "### Durbin-Watson Test"
   ]
  },
  {
   "attachments": {},
   "cell_type": "markdown",
   "metadata": {},
   "source": [
    "The *Durbin-Watson test* can be used to determine whether positive lag 1\n",
    "autocorrelation is present.\n",
    "\n",
    "$$\n",
    "  \\begin{gather*}\n",
    "    \\text{If } DW > d_\\mathrm{U}, \\text{ conclude } H_0: \\rho = 0. \\\\\n",
    "    \\text{If } DW < d_\\mathrm{L}, \\text{ conclude } H_1: \\rho > 0.\n",
    "  \\end{gather*}\n",
    "$$\n",
    "\n",
    "If $DW$ lies withing the lower and upper bounds $(d_\\mathrm{L} \\leq DW \\leq d_\\mathrm{U})$,\n",
    "the test is inconclusive."
   ]
  },
  {
   "cell_type": "code",
   "execution_count": 17,
   "metadata": {},
   "outputs": [
    {
     "name": "stdout",
     "output_type": "stream",
     "text": [
      "significance_lvl: 0.05\n",
      "  durbin-watson statistics: 0.72\n",
      "  durbin-watson critical values (d_L, d_U): (1.13, 1.38)\n",
      "  conclusion: null hypotesis rejected\n",
      "\n",
      "significance_lvl: 0.01\n",
      "  durbin-watson statistics: 0.72\n",
      "  durbin-watson critical values (d_L, d_U): (0.87, 1.1)\n",
      "  conclusion: null hypotesis rejected\n",
      "\n"
     ]
    }
   ],
   "source": [
    "significance_lvl = [0.05, 0.01]\n",
    "n_samples = len(df_fit) \n",
    "k_predictors = 1\n",
    "dw_stats = out_dict[\"dw_stats\"]\n",
    "\n",
    "test_statistic_dw(dw_stats, n_samples, k_predictors, significance_lvl)"
   ]
  },
  {
   "attachments": {},
   "cell_type": "markdown",
   "metadata": {},
   "source": [
    "## Two predictors (disposable personal income and unemployment rate)"
   ]
  },
  {
   "attachments": {},
   "cell_type": "markdown",
   "metadata": {},
   "source": [
    "### Regression Analysis"
   ]
  },
  {
   "cell_type": "code",
   "execution_count": 27,
   "metadata": {},
   "outputs": [
    {
     "name": "stdout",
     "output_type": "stream",
     "text": [
      "Regression Analysis: Sales (Y) versus Income, Rate\n",
      "The regression equation is\n",
      "Sales (Y) = -0.014 + 0.030 Income - 0.350 Rate\n"
     ]
    },
    {
     "data": {
      "text/html": [
       "<table>\n",
       "<thead>\n",
       "<tr><th>Predictor  </th><th style=\"text-align: right;\">   Coef</th><th style=\"text-align: right;\">  SE Coef</th><th style=\"text-align: right;\">  t-score</th><th style=\"text-align: right;\">  p-value</th></tr>\n",
       "</thead>\n",
       "<tbody>\n",
       "<tr><td>Constant   </td><td style=\"text-align: right;\">-0.0140</td><td style=\"text-align: right;\">   0.2498</td><td style=\"text-align: right;\">    -0.06</td><td style=\"text-align: right;\">   0.9560</td></tr>\n",
       "<tr><td>Income     </td><td style=\"text-align: right;\"> 0.0297</td><td style=\"text-align: right;\">   0.0002</td><td style=\"text-align: right;\">   119.96</td><td style=\"text-align: right;\">   0.0000</td></tr>\n",
       "<tr><td>Rate       </td><td style=\"text-align: right;\">-0.3499</td><td style=\"text-align: right;\">   0.0466</td><td style=\"text-align: right;\">    -7.51</td><td style=\"text-align: right;\">   0.0000</td></tr>\n",
       "</tbody>\n",
       "</table>"
      ],
      "text/plain": [
       "'<table>\\n<thead>\\n<tr><th>Predictor  </th><th style=\"text-align: right;\">   Coef</th><th style=\"text-align: right;\">  SE Coef</th><th style=\"text-align: right;\">  t-score</th><th style=\"text-align: right;\">  p-value</th></tr>\\n</thead>\\n<tbody>\\n<tr><td>Constant   </td><td style=\"text-align: right;\">-0.0140</td><td style=\"text-align: right;\">   0.2498</td><td style=\"text-align: right;\">    -0.06</td><td style=\"text-align: right;\">   0.9560</td></tr>\\n<tr><td>Income     </td><td style=\"text-align: right;\"> 0.0297</td><td style=\"text-align: right;\">   0.0002</td><td style=\"text-align: right;\">   119.96</td><td style=\"text-align: right;\">   0.0000</td></tr>\\n<tr><td>Rate       </td><td style=\"text-align: right;\">-0.3499</td><td style=\"text-align: right;\">   0.0466</td><td style=\"text-align: right;\">    -7.51</td><td style=\"text-align: right;\">   0.0000</td></tr>\\n</tbody>\\n</table>'"
      ]
     },
     "metadata": {},
     "output_type": "display_data"
    },
    {
     "name": "stdout",
     "output_type": "stream",
     "text": [
      "s_yxs = 0.2199   R_sq = 99.9%   R-sq(adj) = 99.9%\n",
      "Analyis of Variance\n"
     ]
    },
    {
     "data": {
      "text/html": [
       "<table>\n",
       "<thead>\n",
       "<tr><th>Source        </th><th style=\"text-align: right;\">  d.o.f</th><th style=\"text-align: right;\">  sumSq</th><th>meanSq  </th><th>F-score  </th><th>p-value  </th></tr>\n",
       "</thead>\n",
       "<tbody>\n",
       "<tr><td>Regression    </td><td style=\"text-align: right;\">      2</td><td style=\"text-align: right;\">738.878</td><td>369.439 </td><td>7637.907 </td><td>0.0000   </td></tr>\n",
       "<tr><td>Residual error</td><td style=\"text-align: right;\">     14</td><td style=\"text-align: right;\">  0.677</td><td>0.048   </td><td>         </td><td>         </td></tr>\n",
       "<tr><td>Total         </td><td style=\"text-align: right;\">     16</td><td style=\"text-align: right;\">739.555</td><td>        </td><td>         </td><td>         </td></tr>\n",
       "</tbody>\n",
       "</table>"
      ],
      "text/plain": [
       "'<table>\\n<thead>\\n<tr><th>Source        </th><th style=\"text-align: right;\">  d.o.f</th><th style=\"text-align: right;\">  sumSq</th><th>meanSq  </th><th>F-score  </th><th>p-value  </th></tr>\\n</thead>\\n<tbody>\\n<tr><td>Regression    </td><td style=\"text-align: right;\">      2</td><td style=\"text-align: right;\">738.878</td><td>369.439 </td><td>7637.907 </td><td>0.0000   </td></tr>\\n<tr><td>Residual error</td><td style=\"text-align: right;\">     14</td><td style=\"text-align: right;\">  0.677</td><td>0.048   </td><td>         </td><td>         </td></tr>\\n<tr><td>Total         </td><td style=\"text-align: right;\">     16</td><td style=\"text-align: right;\">739.555</td><td>        </td><td>         </td><td>         </td></tr>\\n</tbody>\\n</table>'"
      ]
     },
     "metadata": {},
     "output_type": "display_data"
    },
    {
     "name": "stdout",
     "output_type": "stream",
     "text": [
      "Durbin-Watson Statistics = 1.98\n"
     ]
    }
   ],
   "source": [
    "column_name_2 = [\"Sales (Y)\", \"Income\", \"Rate\"]      # new column name\n",
    "out_dict_2 = get_minitab_out(df_minitab, n_vars=len(column_name_2)-1, \n",
    "  new_column=column_name_2, withVIF=False, withCorrMatrix=False)\n"
   ]
  },
  {
   "attachments": {},
   "cell_type": "markdown",
   "metadata": {},
   "source": [
    "### Fitted Plane Plot"
   ]
  },
  {
   "cell_type": "code",
   "execution_count": 28,
   "metadata": {},
   "outputs": [],
   "source": [
    "df_regress = df_minitab.copy()\n",
    "regress = out_dict_2[\"regress\"]\n",
    "\n",
    "x_min = df_regress['X_1'].min()\n",
    "x_max = df_regress['X_1'].max()\n",
    "x_data = np.linspace(0, x_max, 10)\n",
    "\n",
    "y_min = df_regress['X_2'].min()\n",
    "y_max = df_regress['X_2'].max()\n",
    "y_data = np.linspace(0, y_max, 10)\n",
    "\n",
    "z_data = regress.intercept_ + regress.coef_[0]*x_data.reshape((-1, 1)) \\\n",
    "  + regress.coef_[1]*y_data"
   ]
  },
  {
   "cell_type": "code",
   "execution_count": 29,
   "metadata": {},
   "outputs": [
    {
     "data": {
      "application/vnd.plotly.v1+json": {
       "config": {
        "plotlyServerURL": "https://plot.ly"
       },
       "data": [
        {
         "colorscale": [
          [
           0,
           "rgb(247,251,255)"
          ],
          [
           0.125,
           "rgb(222,235,247)"
          ],
          [
           0.25,
           "rgb(198,219,239)"
          ],
          [
           0.375,
           "rgb(158,202,225)"
          ],
          [
           0.5,
           "rgb(107,174,214)"
          ],
          [
           0.625,
           "rgb(66,146,198)"
          ],
          [
           0.75,
           "rgb(33,113,181)"
          ],
          [
           0.875,
           "rgb(8,81,156)"
          ],
          [
           1,
           "rgb(8,48,107)"
          ]
         ],
         "opacity": 0.7,
         "showscale": false,
         "surfacecolor": [
          [
           0,
           0,
           0,
           0,
           0,
           0,
           0,
           0,
           0,
           0
          ],
          [
           0,
           0,
           0,
           0,
           0,
           0,
           0,
           0,
           0,
           0
          ],
          [
           0,
           0,
           0,
           0,
           0,
           0,
           0,
           0,
           0,
           0
          ],
          [
           0,
           0,
           0,
           0,
           0,
           0,
           0,
           0,
           0,
           0
          ],
          [
           0,
           0,
           0,
           0,
           0,
           0,
           0,
           0,
           0,
           0
          ],
          [
           0,
           0,
           0,
           0,
           0,
           0,
           0,
           0,
           0,
           0
          ],
          [
           0,
           0,
           0,
           0,
           0,
           0,
           0,
           0,
           0,
           0
          ],
          [
           0,
           0,
           0,
           0,
           0,
           0,
           0,
           0,
           0,
           0
          ],
          [
           0,
           0,
           0,
           0,
           0,
           0,
           0,
           0,
           0,
           0
          ],
          [
           0,
           0,
           0,
           0,
           0,
           0,
           0,
           0,
           0,
           0
          ]
         ],
         "type": "surface",
         "x": [
          0,
          119.63333333333334,
          239.26666666666668,
          358.90000000000003,
          478.53333333333336,
          598.1666666666667,
          717.8000000000001,
          837.4333333333334,
          957.0666666666667,
          1076.7
         ],
         "y": [
          0,
          0.9444444444444444,
          1.8888888888888888,
          2.833333333333333,
          3.7777777777777777,
          4.722222222222222,
          5.666666666666666,
          6.611111111111111,
          7.555555555555555,
          8.5
         ],
         "z": [
          [
           -0.014022226530503445,
           3.544970456454855,
           7.103963139440213,
           10.662955822425573,
           14.22194850541093,
           17.78094118839629,
           21.33993387138165,
           24.89892655436701,
           28.457919237352364,
           32.01691192033772
          ],
          [
           -0.34445425434232313,
           3.2145384286430354,
           6.773531111628394,
           10.332523794613753,
           13.89151647759911,
           17.45050916058447,
           21.00950184356983,
           24.568494526555188,
           28.127487209540543,
           31.6864798925259
          ],
          [
           -0.6748862821541428,
           2.8841064008312154,
           6.443099083816574,
           10.002091766801934,
           13.561084449787291,
           17.12007713277265,
           20.67906981575801,
           24.238062498743368,
           27.797055181728723,
           31.35604786471408
          ],
          [
           -1.0053183099659624,
           2.553674373019396,
           6.112667056004755,
           9.671659738990114,
           13.23065242197547,
           16.789645104960833,
           20.348637787946192,
           23.90763047093155,
           27.466623153916906,
           31.02561583690226
          ],
          [
           -1.3357503377777822,
           2.2232423452075762,
           5.782235028192934,
           9.341227711178295,
           12.900220394163652,
           16.459213077149013,
           20.01820576013437,
           23.57719844311973,
           27.136191126105086,
           30.69518380909044
          ],
          [
           -1.666182365589602,
           1.8928103173957564,
           5.451803000381115,
           9.010795683366474,
           12.569788366351831,
           16.128781049337192,
           19.68777373232255,
           23.24676641530791,
           26.805759098293265,
           30.36475178127862
          ],
          [
           -1.9966143934014213,
           1.562378289583937,
           5.121370972569295,
           8.680363655554656,
           12.239356338540013,
           15.798349021525373,
           19.35734170451073,
           22.91633438749609,
           26.475327070481445,
           30.0343197534668
          ],
          [
           -2.3270464212132413,
           1.231946261772117,
           4.7909389447574755,
           8.349931627742835,
           11.908924310728192,
           15.467916993713553,
           19.026909676698914,
           22.58590235968427,
           26.144895042669624,
           29.70388772565498
          ],
          [
           -2.657478449025061,
           0.9015142339602975,
           4.460506916945656,
           8.019499599931017,
           11.578492282916372,
           15.137484965901734,
           18.696477648887093,
           22.255470331872452,
           25.814463014857807,
           29.373455697843163
          ],
          [
           -2.9879104768368805,
           0.5710822061484779,
           4.130074889133836,
           7.689067572119196,
           11.248060255104553,
           14.807052938089914,
           18.366045621075273,
           21.92503830406063,
           25.484030987045987,
           29.043023670031342
          ]
         ]
        },
        {
         "marker": {
          "size": 4
         },
         "mode": "markers",
         "type": "scatter3d",
         "x": [
          336.1,
          349.4,
          362.9,
          383.9,
          402.8,
          437,
          472.2,
          510.4,
          544.5,
          588.1,
          630.4,
          685.9,
          742.8,
          801.3,
          903.1,
          983.6,
          1076.7
         ],
         "y": [
          5.5,
          5.5,
          6.7,
          5.5,
          5.7,
          5.2,
          4.5,
          3.8,
          3.8,
          3.6,
          3.5,
          4.9,
          5.9,
          5.6,
          4.9,
          5.6,
          8.5
         ],
         "z": [
          8,
          8.2,
          8.5,
          9.2,
          10.2,
          11.4,
          12.8,
          13.6,
          14.6,
          16.4,
          17.8,
          18.6,
          20,
          21.9,
          24.9,
          27.3,
          29.1
         ]
        }
       ],
       "layout": {
        "autosize": true,
        "height": 500,
        "margin": {
         "b": 15,
         "l": 35,
         "r": 30,
         "t": 50
        },
        "scene": {
         "camera": {
          "center": {
           "x": 0,
           "y": -0.2,
           "z": -0.2
          },
          "eye": {
           "x": -2.349231551964771,
           "y": 1.2500000000000002,
           "z": 1.0565456543517486
          }
         },
         "xaxis": {
          "title": {
           "text": "Income"
          }
         },
         "yaxis": {
          "title": {
           "text": "Rate"
          }
         },
         "zaxis": {
          "title": {
           "text": "Sales"
          }
         }
        },
        "template": {
         "data": {
          "bar": [
           {
            "error_x": {
             "color": "#2a3f5f"
            },
            "error_y": {
             "color": "#2a3f5f"
            },
            "marker": {
             "line": {
              "color": "#E5ECF6",
              "width": 0.5
             }
            },
            "type": "bar"
           }
          ],
          "barpolar": [
           {
            "marker": {
             "line": {
              "color": "#E5ECF6",
              "width": 0.5
             }
            },
            "type": "barpolar"
           }
          ],
          "carpet": [
           {
            "aaxis": {
             "endlinecolor": "#2a3f5f",
             "gridcolor": "white",
             "linecolor": "white",
             "minorgridcolor": "white",
             "startlinecolor": "#2a3f5f"
            },
            "baxis": {
             "endlinecolor": "#2a3f5f",
             "gridcolor": "white",
             "linecolor": "white",
             "minorgridcolor": "white",
             "startlinecolor": "#2a3f5f"
            },
            "type": "carpet"
           }
          ],
          "choropleth": [
           {
            "colorbar": {
             "outlinewidth": 0,
             "ticks": ""
            },
            "type": "choropleth"
           }
          ],
          "contour": [
           {
            "colorbar": {
             "outlinewidth": 0,
             "ticks": ""
            },
            "colorscale": [
             [
              0,
              "#0d0887"
             ],
             [
              0.1111111111111111,
              "#46039f"
             ],
             [
              0.2222222222222222,
              "#7201a8"
             ],
             [
              0.3333333333333333,
              "#9c179e"
             ],
             [
              0.4444444444444444,
              "#bd3786"
             ],
             [
              0.5555555555555556,
              "#d8576b"
             ],
             [
              0.6666666666666666,
              "#ed7953"
             ],
             [
              0.7777777777777778,
              "#fb9f3a"
             ],
             [
              0.8888888888888888,
              "#fdca26"
             ],
             [
              1,
              "#f0f921"
             ]
            ],
            "type": "contour"
           }
          ],
          "contourcarpet": [
           {
            "colorbar": {
             "outlinewidth": 0,
             "ticks": ""
            },
            "type": "contourcarpet"
           }
          ],
          "heatmap": [
           {
            "colorbar": {
             "outlinewidth": 0,
             "ticks": ""
            },
            "colorscale": [
             [
              0,
              "#0d0887"
             ],
             [
              0.1111111111111111,
              "#46039f"
             ],
             [
              0.2222222222222222,
              "#7201a8"
             ],
             [
              0.3333333333333333,
              "#9c179e"
             ],
             [
              0.4444444444444444,
              "#bd3786"
             ],
             [
              0.5555555555555556,
              "#d8576b"
             ],
             [
              0.6666666666666666,
              "#ed7953"
             ],
             [
              0.7777777777777778,
              "#fb9f3a"
             ],
             [
              0.8888888888888888,
              "#fdca26"
             ],
             [
              1,
              "#f0f921"
             ]
            ],
            "type": "heatmap"
           }
          ],
          "heatmapgl": [
           {
            "colorbar": {
             "outlinewidth": 0,
             "ticks": ""
            },
            "colorscale": [
             [
              0,
              "#0d0887"
             ],
             [
              0.1111111111111111,
              "#46039f"
             ],
             [
              0.2222222222222222,
              "#7201a8"
             ],
             [
              0.3333333333333333,
              "#9c179e"
             ],
             [
              0.4444444444444444,
              "#bd3786"
             ],
             [
              0.5555555555555556,
              "#d8576b"
             ],
             [
              0.6666666666666666,
              "#ed7953"
             ],
             [
              0.7777777777777778,
              "#fb9f3a"
             ],
             [
              0.8888888888888888,
              "#fdca26"
             ],
             [
              1,
              "#f0f921"
             ]
            ],
            "type": "heatmapgl"
           }
          ],
          "histogram": [
           {
            "marker": {
             "colorbar": {
              "outlinewidth": 0,
              "ticks": ""
             }
            },
            "type": "histogram"
           }
          ],
          "histogram2d": [
           {
            "colorbar": {
             "outlinewidth": 0,
             "ticks": ""
            },
            "colorscale": [
             [
              0,
              "#0d0887"
             ],
             [
              0.1111111111111111,
              "#46039f"
             ],
             [
              0.2222222222222222,
              "#7201a8"
             ],
             [
              0.3333333333333333,
              "#9c179e"
             ],
             [
              0.4444444444444444,
              "#bd3786"
             ],
             [
              0.5555555555555556,
              "#d8576b"
             ],
             [
              0.6666666666666666,
              "#ed7953"
             ],
             [
              0.7777777777777778,
              "#fb9f3a"
             ],
             [
              0.8888888888888888,
              "#fdca26"
             ],
             [
              1,
              "#f0f921"
             ]
            ],
            "type": "histogram2d"
           }
          ],
          "histogram2dcontour": [
           {
            "colorbar": {
             "outlinewidth": 0,
             "ticks": ""
            },
            "colorscale": [
             [
              0,
              "#0d0887"
             ],
             [
              0.1111111111111111,
              "#46039f"
             ],
             [
              0.2222222222222222,
              "#7201a8"
             ],
             [
              0.3333333333333333,
              "#9c179e"
             ],
             [
              0.4444444444444444,
              "#bd3786"
             ],
             [
              0.5555555555555556,
              "#d8576b"
             ],
             [
              0.6666666666666666,
              "#ed7953"
             ],
             [
              0.7777777777777778,
              "#fb9f3a"
             ],
             [
              0.8888888888888888,
              "#fdca26"
             ],
             [
              1,
              "#f0f921"
             ]
            ],
            "type": "histogram2dcontour"
           }
          ],
          "mesh3d": [
           {
            "colorbar": {
             "outlinewidth": 0,
             "ticks": ""
            },
            "type": "mesh3d"
           }
          ],
          "parcoords": [
           {
            "line": {
             "colorbar": {
              "outlinewidth": 0,
              "ticks": ""
             }
            },
            "type": "parcoords"
           }
          ],
          "pie": [
           {
            "automargin": true,
            "type": "pie"
           }
          ],
          "scatter": [
           {
            "marker": {
             "colorbar": {
              "outlinewidth": 0,
              "ticks": ""
             }
            },
            "type": "scatter"
           }
          ],
          "scatter3d": [
           {
            "line": {
             "colorbar": {
              "outlinewidth": 0,
              "ticks": ""
             }
            },
            "marker": {
             "colorbar": {
              "outlinewidth": 0,
              "ticks": ""
             }
            },
            "type": "scatter3d"
           }
          ],
          "scattercarpet": [
           {
            "marker": {
             "colorbar": {
              "outlinewidth": 0,
              "ticks": ""
             }
            },
            "type": "scattercarpet"
           }
          ],
          "scattergeo": [
           {
            "marker": {
             "colorbar": {
              "outlinewidth": 0,
              "ticks": ""
             }
            },
            "type": "scattergeo"
           }
          ],
          "scattergl": [
           {
            "marker": {
             "colorbar": {
              "outlinewidth": 0,
              "ticks": ""
             }
            },
            "type": "scattergl"
           }
          ],
          "scattermapbox": [
           {
            "marker": {
             "colorbar": {
              "outlinewidth": 0,
              "ticks": ""
             }
            },
            "type": "scattermapbox"
           }
          ],
          "scatterpolar": [
           {
            "marker": {
             "colorbar": {
              "outlinewidth": 0,
              "ticks": ""
             }
            },
            "type": "scatterpolar"
           }
          ],
          "scatterpolargl": [
           {
            "marker": {
             "colorbar": {
              "outlinewidth": 0,
              "ticks": ""
             }
            },
            "type": "scatterpolargl"
           }
          ],
          "scatterternary": [
           {
            "marker": {
             "colorbar": {
              "outlinewidth": 0,
              "ticks": ""
             }
            },
            "type": "scatterternary"
           }
          ],
          "surface": [
           {
            "colorbar": {
             "outlinewidth": 0,
             "ticks": ""
            },
            "colorscale": [
             [
              0,
              "#0d0887"
             ],
             [
              0.1111111111111111,
              "#46039f"
             ],
             [
              0.2222222222222222,
              "#7201a8"
             ],
             [
              0.3333333333333333,
              "#9c179e"
             ],
             [
              0.4444444444444444,
              "#bd3786"
             ],
             [
              0.5555555555555556,
              "#d8576b"
             ],
             [
              0.6666666666666666,
              "#ed7953"
             ],
             [
              0.7777777777777778,
              "#fb9f3a"
             ],
             [
              0.8888888888888888,
              "#fdca26"
             ],
             [
              1,
              "#f0f921"
             ]
            ],
            "type": "surface"
           }
          ],
          "table": [
           {
            "cells": {
             "fill": {
              "color": "#EBF0F8"
             },
             "line": {
              "color": "white"
             }
            },
            "header": {
             "fill": {
              "color": "#C8D4E3"
             },
             "line": {
              "color": "white"
             }
            },
            "type": "table"
           }
          ]
         },
         "layout": {
          "annotationdefaults": {
           "arrowcolor": "#2a3f5f",
           "arrowhead": 0,
           "arrowwidth": 1
          },
          "autotypenumbers": "strict",
          "coloraxis": {
           "colorbar": {
            "outlinewidth": 0,
            "ticks": ""
           }
          },
          "colorscale": {
           "diverging": [
            [
             0,
             "#8e0152"
            ],
            [
             0.1,
             "#c51b7d"
            ],
            [
             0.2,
             "#de77ae"
            ],
            [
             0.3,
             "#f1b6da"
            ],
            [
             0.4,
             "#fde0ef"
            ],
            [
             0.5,
             "#f7f7f7"
            ],
            [
             0.6,
             "#e6f5d0"
            ],
            [
             0.7,
             "#b8e186"
            ],
            [
             0.8,
             "#7fbc41"
            ],
            [
             0.9,
             "#4d9221"
            ],
            [
             1,
             "#276419"
            ]
           ],
           "sequential": [
            [
             0,
             "#0d0887"
            ],
            [
             0.1111111111111111,
             "#46039f"
            ],
            [
             0.2222222222222222,
             "#7201a8"
            ],
            [
             0.3333333333333333,
             "#9c179e"
            ],
            [
             0.4444444444444444,
             "#bd3786"
            ],
            [
             0.5555555555555556,
             "#d8576b"
            ],
            [
             0.6666666666666666,
             "#ed7953"
            ],
            [
             0.7777777777777778,
             "#fb9f3a"
            ],
            [
             0.8888888888888888,
             "#fdca26"
            ],
            [
             1,
             "#f0f921"
            ]
           ],
           "sequentialminus": [
            [
             0,
             "#0d0887"
            ],
            [
             0.1111111111111111,
             "#46039f"
            ],
            [
             0.2222222222222222,
             "#7201a8"
            ],
            [
             0.3333333333333333,
             "#9c179e"
            ],
            [
             0.4444444444444444,
             "#bd3786"
            ],
            [
             0.5555555555555556,
             "#d8576b"
            ],
            [
             0.6666666666666666,
             "#ed7953"
            ],
            [
             0.7777777777777778,
             "#fb9f3a"
            ],
            [
             0.8888888888888888,
             "#fdca26"
            ],
            [
             1,
             "#f0f921"
            ]
           ]
          },
          "colorway": [
           "#636efa",
           "#EF553B",
           "#00cc96",
           "#ab63fa",
           "#FFA15A",
           "#19d3f3",
           "#FF6692",
           "#B6E880",
           "#FF97FF",
           "#FECB52"
          ],
          "font": {
           "color": "#2a3f5f"
          },
          "geo": {
           "bgcolor": "white",
           "lakecolor": "white",
           "landcolor": "#E5ECF6",
           "showlakes": true,
           "showland": true,
           "subunitcolor": "white"
          },
          "hoverlabel": {
           "align": "left"
          },
          "hovermode": "closest",
          "mapbox": {
           "style": "light"
          },
          "paper_bgcolor": "white",
          "plot_bgcolor": "#E5ECF6",
          "polar": {
           "angularaxis": {
            "gridcolor": "white",
            "linecolor": "white",
            "ticks": ""
           },
           "bgcolor": "#E5ECF6",
           "radialaxis": {
            "gridcolor": "white",
            "linecolor": "white",
            "ticks": ""
           }
          },
          "scene": {
           "xaxis": {
            "backgroundcolor": "#E5ECF6",
            "gridcolor": "white",
            "gridwidth": 2,
            "linecolor": "white",
            "showbackground": true,
            "ticks": "",
            "zerolinecolor": "white"
           },
           "yaxis": {
            "backgroundcolor": "#E5ECF6",
            "gridcolor": "white",
            "gridwidth": 2,
            "linecolor": "white",
            "showbackground": true,
            "ticks": "",
            "zerolinecolor": "white"
           },
           "zaxis": {
            "backgroundcolor": "#E5ECF6",
            "gridcolor": "white",
            "gridwidth": 2,
            "linecolor": "white",
            "showbackground": true,
            "ticks": "",
            "zerolinecolor": "white"
           }
          },
          "shapedefaults": {
           "line": {
            "color": "#2a3f5f"
           }
          },
          "ternary": {
           "aaxis": {
            "gridcolor": "white",
            "linecolor": "white",
            "ticks": ""
           },
           "baxis": {
            "gridcolor": "white",
            "linecolor": "white",
            "ticks": ""
           },
           "bgcolor": "#E5ECF6",
           "caxis": {
            "gridcolor": "white",
            "linecolor": "white",
            "ticks": ""
           }
          },
          "title": {
           "x": 0.05
          },
          "xaxis": {
           "automargin": true,
           "gridcolor": "white",
           "linecolor": "white",
           "ticks": "",
           "title": {
            "standoff": 15
           },
           "zerolinecolor": "white",
           "zerolinewidth": 2
          },
          "yaxis": {
           "automargin": true,
           "gridcolor": "white",
           "linecolor": "white",
           "ticks": "",
           "title": {
            "standoff": 15
           },
           "zerolinecolor": "white",
           "zerolinewidth": 2
          }
         }
        },
        "title": {
         "text": "Fitted regression plane"
        },
        "width": 500
       }
      }
     },
     "metadata": {},
     "output_type": "display_data"
    }
   ],
   "source": [
    "z_color = np.zeros_like(z_data)\n",
    "x_scatter_data = df_regress['X_1'].to_numpy()\n",
    "y_scatter_data = df_regress['X_2'].to_numpy()\n",
    "z_scatter_data = df_regress['Y'].to_numpy()\n",
    "\n",
    "fig = go.Figure(data=[\n",
    "  go.Surface(z=z_data.T, x=x_data, y=y_data, \n",
    "    colorscale=\"Blues\", surfacecolor=z_color,\n",
    "    showscale=False, opacity=0.7),\n",
    "  go.Scatter3d(x=x_scatter_data, y=y_scatter_data, z=z_scatter_data, \n",
    "    mode=\"markers\", marker_size=4)])\n",
    "\n",
    "#go.Figure(data=[go.Scatter3d(x=df_regress['X_1'], y=df_regress['X_2'], \n",
    "#  z=df_regress['Y'], mode=\"markers\")])\n",
    "\n",
    "theta = [160, 60, 65]   # (cosine angle (alpha, beta, gamma))\n",
    "theta = np.deg2rad(theta)\n",
    "a = 2.5\n",
    "camera = {\n",
    "  'center': {'x': 0, 'y': -0.2, 'z': -0.2},\n",
    "  'eye': {'x': a*np.cos(theta[0]), 'y': a*np.cos(theta[1]), 'z': a*np.cos(theta[2])}}\n",
    "\n",
    "fig.update_layout(\n",
    "  title=\"Fitted regression plane\", autosize=True,\n",
    "  width=500, height=500,\n",
    "  margin={'l':35, 'r': 30, 'b':15, 't':50,},\n",
    "  scene={\n",
    "    \"xaxis_title\": \"Income\",\n",
    "    \"yaxis_title\": \"Rate\",\n",
    "    \"zaxis_title\": \"Sales\"},\n",
    "  scene_camera=camera)\n",
    "\n",
    "\n",
    "fig.show()\n",
    "\n"
   ]
  },
  {
   "attachments": {},
   "cell_type": "markdown",
   "metadata": {},
   "source": [
    "### Compute $r_1(e)$"
   ]
  },
  {
   "cell_type": "code",
   "execution_count": 31,
   "metadata": {},
   "outputs": [
    {
     "data": {
      "text/html": [
       "<div>\n",
       "<style scoped>\n",
       "    .dataframe tbody tr th:only-of-type {\n",
       "        vertical-align: middle;\n",
       "    }\n",
       "\n",
       "    .dataframe tbody tr th {\n",
       "        vertical-align: top;\n",
       "    }\n",
       "\n",
       "    .dataframe thead th {\n",
       "        text-align: right;\n",
       "    }\n",
       "</style>\n",
       "<table border=\"1\" class=\"dataframe\">\n",
       "  <thead>\n",
       "    <tr style=\"text-align: right;\">\n",
       "      <th></th>\n",
       "      <th>Y</th>\n",
       "      <th>X_1</th>\n",
       "      <th>X_2</th>\n",
       "      <th>hat_Y</th>\n",
       "      <th>e_t</th>\n",
       "    </tr>\n",
       "  </thead>\n",
       "  <tbody>\n",
       "    <tr>\n",
       "      <th>0</th>\n",
       "      <td>8.0</td>\n",
       "      <td>336.1</td>\n",
       "      <td>5.5</td>\n",
       "      <td>8.060394</td>\n",
       "      <td>-0.060394</td>\n",
       "    </tr>\n",
       "    <tr>\n",
       "      <th>1</th>\n",
       "      <td>8.2</td>\n",
       "      <td>349.4</td>\n",
       "      <td>5.5</td>\n",
       "      <td>8.456058</td>\n",
       "      <td>-0.256058</td>\n",
       "    </tr>\n",
       "    <tr>\n",
       "      <th>2</th>\n",
       "      <td>8.5</td>\n",
       "      <td>362.9</td>\n",
       "      <td>6.7</td>\n",
       "      <td>8.437829</td>\n",
       "      <td>0.062171</td>\n",
       "    </tr>\n",
       "    <tr>\n",
       "      <th>3</th>\n",
       "      <td>9.2</td>\n",
       "      <td>383.9</td>\n",
       "      <td>5.5</td>\n",
       "      <td>9.482405</td>\n",
       "      <td>-0.282405</td>\n",
       "    </tr>\n",
       "    <tr>\n",
       "      <th>4</th>\n",
       "      <td>10.2</td>\n",
       "      <td>402.8</td>\n",
       "      <td>5.7</td>\n",
       "      <td>9.974690</td>\n",
       "      <td>0.225310</td>\n",
       "    </tr>\n",
       "    <tr>\n",
       "      <th>5</th>\n",
       "      <td>11.4</td>\n",
       "      <td>437.0</td>\n",
       "      <td>5.2</td>\n",
       "      <td>11.167046</td>\n",
       "      <td>0.232954</td>\n",
       "    </tr>\n",
       "    <tr>\n",
       "      <th>6</th>\n",
       "      <td>12.8</td>\n",
       "      <td>472.2</td>\n",
       "      <td>4.5</td>\n",
       "      <td>12.459126</td>\n",
       "      <td>0.340874</td>\n",
       "    </tr>\n",
       "    <tr>\n",
       "      <th>7</th>\n",
       "      <td>13.6</td>\n",
       "      <td>510.4</td>\n",
       "      <td>3.8</td>\n",
       "      <td>13.840452</td>\n",
       "      <td>-0.240452</td>\n",
       "    </tr>\n",
       "    <tr>\n",
       "      <th>8</th>\n",
       "      <td>14.6</td>\n",
       "      <td>544.5</td>\n",
       "      <td>3.8</td>\n",
       "      <td>14.854899</td>\n",
       "      <td>-0.254899</td>\n",
       "    </tr>\n",
       "    <tr>\n",
       "      <th>9</th>\n",
       "      <td>16.4</td>\n",
       "      <td>588.1</td>\n",
       "      <td>3.6</td>\n",
       "      <td>16.221937</td>\n",
       "      <td>0.178063</td>\n",
       "    </tr>\n",
       "    <tr>\n",
       "      <th>10</th>\n",
       "      <td>17.8</td>\n",
       "      <td>630.4</td>\n",
       "      <td>3.5</td>\n",
       "      <td>17.515314</td>\n",
       "      <td>0.284686</td>\n",
       "    </tr>\n",
       "    <tr>\n",
       "      <th>11</th>\n",
       "      <td>18.6</td>\n",
       "      <td>685.9</td>\n",
       "      <td>4.9</td>\n",
       "      <td>18.676576</td>\n",
       "      <td>-0.076576</td>\n",
       "    </tr>\n",
       "    <tr>\n",
       "      <th>12</th>\n",
       "      <td>20.0</td>\n",
       "      <td>742.8</td>\n",
       "      <td>5.9</td>\n",
       "      <td>20.019435</td>\n",
       "      <td>-0.019435</td>\n",
       "    </tr>\n",
       "    <tr>\n",
       "      <th>13</th>\n",
       "      <td>21.9</td>\n",
       "      <td>801.3</td>\n",
       "      <td>5.6</td>\n",
       "      <td>21.864722</td>\n",
       "      <td>0.035278</td>\n",
       "    </tr>\n",
       "    <tr>\n",
       "      <th>14</th>\n",
       "      <td>24.9</td>\n",
       "      <td>903.1</td>\n",
       "      <td>4.9</td>\n",
       "      <td>25.138096</td>\n",
       "      <td>-0.238096</td>\n",
       "    </tr>\n",
       "    <tr>\n",
       "      <th>15</th>\n",
       "      <td>27.3</td>\n",
       "      <td>983.6</td>\n",
       "      <td>5.6</td>\n",
       "      <td>27.287996</td>\n",
       "      <td>0.012004</td>\n",
       "    </tr>\n",
       "    <tr>\n",
       "      <th>16</th>\n",
       "      <td>29.1</td>\n",
       "      <td>1076.7</td>\n",
       "      <td>8.5</td>\n",
       "      <td>29.043024</td>\n",
       "      <td>0.056976</td>\n",
       "    </tr>\n",
       "  </tbody>\n",
       "</table>\n",
       "</div>"
      ],
      "text/plain": [
       "       Y     X_1  X_2      hat_Y       e_t\n",
       "0    8.0   336.1  5.5   8.060394 -0.060394\n",
       "1    8.2   349.4  5.5   8.456058 -0.256058\n",
       "2    8.5   362.9  6.7   8.437829  0.062171\n",
       "3    9.2   383.9  5.5   9.482405 -0.282405\n",
       "4   10.2   402.8  5.7   9.974690  0.225310\n",
       "5   11.4   437.0  5.2  11.167046  0.232954\n",
       "6   12.8   472.2  4.5  12.459126  0.340874\n",
       "7   13.6   510.4  3.8  13.840452 -0.240452\n",
       "8   14.6   544.5  3.8  14.854899 -0.254899\n",
       "9   16.4   588.1  3.6  16.221937  0.178063\n",
       "10  17.8   630.4  3.5  17.515314  0.284686\n",
       "11  18.6   685.9  4.9  18.676576 -0.076576\n",
       "12  20.0   742.8  5.9  20.019435 -0.019435\n",
       "13  21.9   801.3  5.6  21.864722  0.035278\n",
       "14  24.9   903.1  4.9  25.138096 -0.238096\n",
       "15  27.3   983.6  5.6  27.287996  0.012004\n",
       "16  29.1  1076.7  8.5  29.043024  0.056976"
      ]
     },
     "execution_count": 31,
     "metadata": {},
     "output_type": "execute_result"
    }
   ],
   "source": [
    "df_acorr = df_regress.copy()\n",
    "df_acorr[\"e_t\"] = df_acorr[\"Y\"] - df_acorr[\"hat_Y\"]\n",
    "df_acorr"
   ]
  },
  {
   "cell_type": "code",
   "execution_count": 35,
   "metadata": {},
   "outputs": [
    {
     "data": {
      "text/html": [
       "<div>\n",
       "<style scoped>\n",
       "    .dataframe tbody tr th:only-of-type {\n",
       "        vertical-align: middle;\n",
       "    }\n",
       "\n",
       "    .dataframe tbody tr th {\n",
       "        vertical-align: top;\n",
       "    }\n",
       "\n",
       "    .dataframe thead th {\n",
       "        text-align: right;\n",
       "    }\n",
       "</style>\n",
       "<table border=\"1\" class=\"dataframe\">\n",
       "  <thead>\n",
       "    <tr style=\"text-align: right;\">\n",
       "      <th></th>\n",
       "      <th>k</th>\n",
       "      <th>r_k</th>\n",
       "      <th>t_test</th>\n",
       "      <th>LBQ</th>\n",
       "      <th>l_bound</th>\n",
       "      <th>u_bound</th>\n",
       "    </tr>\n",
       "  </thead>\n",
       "  <tbody>\n",
       "    <tr>\n",
       "      <th>0</th>\n",
       "      <td>1</td>\n",
       "      <td>0.004893</td>\n",
       "      <td>0.020175</td>\n",
       "      <td>0.000483</td>\n",
       "      <td>-0.514153</td>\n",
       "      <td>0.514153</td>\n",
       "    </tr>\n",
       "    <tr>\n",
       "      <th>1</th>\n",
       "      <td>2</td>\n",
       "      <td>-0.288096</td>\n",
       "      <td>-1.187821</td>\n",
       "      <td>1.787734</td>\n",
       "      <td>-0.514165</td>\n",
       "      <td>0.514165</td>\n",
       "    </tr>\n",
       "    <tr>\n",
       "      <th>2</th>\n",
       "      <td>3</td>\n",
       "      <td>-0.291833</td>\n",
       "      <td>-1.114296</td>\n",
       "      <td>3.752644</td>\n",
       "      <td>-0.555201</td>\n",
       "      <td>0.555201</td>\n",
       "    </tr>\n",
       "    <tr>\n",
       "      <th>3</th>\n",
       "      <td>4</td>\n",
       "      <td>0.083836</td>\n",
       "      <td>0.299012</td>\n",
       "      <td>3.927274</td>\n",
       "      <td>-0.594370</td>\n",
       "      <td>0.594370</td>\n",
       "    </tr>\n",
       "    <tr>\n",
       "      <th>4</th>\n",
       "      <td>5</td>\n",
       "      <td>-0.017194</td>\n",
       "      <td>-0.061004</td>\n",
       "      <td>3.935231</td>\n",
       "      <td>-0.597488</td>\n",
       "      <td>0.597488</td>\n",
       "    </tr>\n",
       "    <tr>\n",
       "      <th>5</th>\n",
       "      <td>6</td>\n",
       "      <td>0.125663</td>\n",
       "      <td>0.445757</td>\n",
       "      <td>4.398914</td>\n",
       "      <td>-0.597619</td>\n",
       "      <td>0.597619</td>\n",
       "    </tr>\n",
       "    <tr>\n",
       "      <th>6</th>\n",
       "      <td>7</td>\n",
       "      <td>0.096055</td>\n",
       "      <td>0.336819</td>\n",
       "      <td>4.696935</td>\n",
       "      <td>-0.604563</td>\n",
       "      <td>0.604563</td>\n",
       "    </tr>\n",
       "    <tr>\n",
       "      <th>7</th>\n",
       "      <td>8</td>\n",
       "      <td>-0.126419</td>\n",
       "      <td>-0.440359</td>\n",
       "      <td>5.270499</td>\n",
       "      <td>-0.608584</td>\n",
       "      <td>0.608584</td>\n",
       "    </tr>\n",
       "    <tr>\n",
       "      <th>8</th>\n",
       "      <td>9</td>\n",
       "      <td>-0.206814</td>\n",
       "      <td>-0.712324</td>\n",
       "      <td>6.997419</td>\n",
       "      <td>-0.615487</td>\n",
       "      <td>0.615487</td>\n",
       "    </tr>\n",
       "    <tr>\n",
       "      <th>9</th>\n",
       "      <td>10</td>\n",
       "      <td>-0.059341</td>\n",
       "      <td>-0.198546</td>\n",
       "      <td>7.159904</td>\n",
       "      <td>-0.633592</td>\n",
       "      <td>0.633592</td>\n",
       "    </tr>\n",
       "  </tbody>\n",
       "</table>\n",
       "</div>"
      ],
      "text/plain": [
       "    k       r_k    t_test       LBQ   l_bound   u_bound\n",
       "0   1  0.004893  0.020175  0.000483 -0.514153  0.514153\n",
       "1   2 -0.288096 -1.187821  1.787734 -0.514165  0.514165\n",
       "2   3 -0.291833 -1.114296  3.752644 -0.555201  0.555201\n",
       "3   4  0.083836  0.299012  3.927274 -0.594370  0.594370\n",
       "4   5 -0.017194 -0.061004  3.935231 -0.597488  0.597488\n",
       "5   6  0.125663  0.445757  4.398914 -0.597619  0.597619\n",
       "6   7  0.096055  0.336819  4.696935 -0.604563  0.604563\n",
       "7   8 -0.126419 -0.440359  5.270499 -0.608584  0.608584\n",
       "8   9 -0.206814 -0.712324  6.997419 -0.615487  0.615487\n",
       "9  10 -0.059341 -0.198546  7.159904 -0.633592  0.633592"
      ]
     },
     "execution_count": 35,
     "metadata": {},
     "output_type": "execute_result"
    }
   ],
   "source": [
    "num_of_rk = 10\n",
    "df_acorr_analysis = get_correlogram(df_acorr, num_of_rk, columns=['t', \"e_t\"])\n",
    "df_acorr_analysis"
   ]
  },
  {
   "cell_type": "code",
   "execution_count": 37,
   "metadata": {},
   "outputs": [
    {
     "name": "stdout",
     "output_type": "stream",
     "text": [
      "lag 1 residual autocorrelation: 0.0048932617273560195\n"
     ]
    }
   ],
   "source": [
    "r_1 = df_acorr_analysis[\"r_k\"][0]\n",
    "print(f\"lag 1 residual autocorrelation: {r_1}\")"
   ]
  },
  {
   "attachments": {},
   "cell_type": "markdown",
   "metadata": {},
   "source": [
    "### Durbin-Watson Test"
   ]
  },
  {
   "attachments": {},
   "cell_type": "markdown",
   "metadata": {},
   "source": [
    "The *Durbin-Watson test* can be used to determine whether positive lag 1\n",
    "autocorrelation is present.\n",
    "\n",
    "$$\n",
    "  \\begin{gather*}\n",
    "    \\text{If } DW > d_\\mathrm{U}, \\text{ conclude } H_0: \\rho = 0. \\\\\n",
    "    \\text{If } DW < d_\\mathrm{L}, \\text{ conclude } H_1: \\rho > 0.\n",
    "  \\end{gather*}\n",
    "$$\n",
    "\n",
    "If $DW$ lies withing the lower and upper bounds $(d_\\mathrm{L} \\leq DW \\leq d_\\mathrm{U})$,\n",
    "the test is inconclusive."
   ]
  },
  {
   "cell_type": "code",
   "execution_count": 42,
   "metadata": {},
   "outputs": [
    {
     "name": "stdout",
     "output_type": "stream",
     "text": [
      "significance_lvl: 0.05\n",
      "  durbin-watson statistics: 1.98\n",
      "  durbin-watson critical values (d_L, d_U): (1.02, 1.54)\n",
      "  conclusion: null hypothesis accepted\n",
      "\n",
      "significance_lvl: 0.01\n",
      "  durbin-watson statistics: 1.98\n",
      "  durbin-watson critical values (d_L, d_U): (0.77, 1.25)\n",
      "  conclusion: null hypothesis accepted\n",
      "\n"
     ]
    }
   ],
   "source": [
    "significance_lvl = [0.05, 0.01]\n",
    "n_samples = len(df_fit) \n",
    "k_predictors = 2\n",
    "dw_stats = out_dict_2[\"dw_stats\"]\n",
    "\n",
    "test_statistic_dw(dw_stats, n_samples, k_predictors, significance_lvl)"
   ]
  },
  {
   "attachments": {},
   "cell_type": "markdown",
   "metadata": {},
   "source": [
    "There is no evidence of first-order serial correlation."
   ]
  },
  {
   "attachments": {},
   "cell_type": "markdown",
   "metadata": {},
   "source": [
    "### Forecasting"
   ]
  },
  {
   "attachments": {},
   "cell_type": "markdown",
   "metadata": {},
   "source": [
    "A forecast of Noval sales for 2007"
   ]
  },
  {
   "cell_type": "code",
   "execution_count": 54,
   "metadata": {},
   "outputs": [
    {
     "name": "stdout",
     "output_type": "stream",
     "text": [
      "Y_hat = 32.51\n"
     ]
    }
   ],
   "source": [
    "X_1_estimate = 1_185   # disposable personal income ($ millions)\n",
    "X_2_estimate = 7.8     # unemployment rate (%)\n",
    "\n",
    "data_struc = np.array([1, X_1_estimate, X_2_estimate])\n",
    "b_arr = np.hstack([regress.intercept_, regress.coef_])\n",
    "\n",
    "Y_hat = b_arr.dot(data_struc)\n",
    "\n",
    "# the difference between the result in here\n",
    "# and in (Hanke, 2014) is because of rounding process\n",
    "print(f\"Y_hat = {Y_hat:.2f}\")   "
   ]
  },
  {
   "cell_type": "code",
   "execution_count": null,
   "metadata": {},
   "outputs": [],
   "source": []
  }
 ],
 "metadata": {
  "kernelspec": {
   "display_name": "Python 3.8.10 ('base')",
   "language": "python",
   "name": "python3"
  },
  "language_info": {
   "codemirror_mode": {
    "name": "ipython",
    "version": 3
   },
   "file_extension": ".py",
   "mimetype": "text/x-python",
   "name": "python",
   "nbconvert_exporter": "python",
   "pygments_lexer": "ipython3",
   "version": "3.8.10"
  },
  "orig_nbformat": 4,
  "vscode": {
   "interpreter": {
    "hash": "b68217c4fa6011267e0d81cc47bb50822e9770eb46de3a1f506be20c9f89249d"
   }
  }
 },
 "nbformat": 4,
 "nbformat_minor": 2
}
