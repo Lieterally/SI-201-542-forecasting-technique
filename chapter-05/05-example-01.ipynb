{
 "cells": [
  {
   "cell_type": "code",
   "execution_count": 1,
   "metadata": {},
   "outputs": [],
   "source": [
    "import matplotlib.pyplot as plt\n",
    "import numpy as np\n",
    "import pandas as pd"
   ]
  },
  {
   "cell_type": "code",
   "execution_count": 2,
   "metadata": {},
   "outputs": [],
   "source": [
    "plt.rcParams.update(plt.rcParamsDefault)\n",
    "plt.rcParams.update({\n",
    "  'font.size': 12,\n",
    "  'grid.alpha': 0.25})"
   ]
  },
  {
   "cell_type": "markdown",
   "metadata": {},
   "source": [
    "## Function declarations\n",
    "\n",
    "### Read `ods` to `DataFrame`\n"
   ]
  },
  {
   "cell_type": "code",
   "execution_count": 8,
   "metadata": {},
   "outputs": [],
   "source": [
    "def read_ods(filename, columns=None):\n",
    "  if columns is None:\n",
    "    df = pd.read_excel(filename, engine=\"odf\", header=0)\n",
    "  else:\n",
    "    key_arr = (k for k in columns.keys())\n",
    "    df = pd.read_excel(filename, engine=\"odf\", header=0,\n",
    "                      usecols=columns)\n",
    "    df = df.rename(columns=columns)\n",
    "  return df"
   ]
  },
  {
   "cell_type": "markdown",
   "metadata": {},
   "source": [
    "## Load the data"
   ]
  },
  {
   "cell_type": "code",
   "execution_count": 9,
   "metadata": {},
   "outputs": [
    {
     "data": {
      "text/html": [
       "<div>\n",
       "<style scoped>\n",
       "    .dataframe tbody tr th:only-of-type {\n",
       "        vertical-align: middle;\n",
       "    }\n",
       "\n",
       "    .dataframe tbody tr th {\n",
       "        vertical-align: top;\n",
       "    }\n",
       "\n",
       "    .dataframe thead th {\n",
       "        text-align: right;\n",
       "    }\n",
       "</style>\n",
       "<table border=\"1\" class=\"dataframe\">\n",
       "  <thead>\n",
       "    <tr style=\"text-align: right;\">\n",
       "      <th></th>\n",
       "      <th>Week</th>\n",
       "      <th>Weekly Sales Level, Y (1,000s of gallons)</th>\n",
       "      <th>Selling Price X ($)</th>\n",
       "    </tr>\n",
       "  </thead>\n",
       "  <tbody>\n",
       "    <tr>\n",
       "      <th>0</th>\n",
       "      <td>1</td>\n",
       "      <td>10</td>\n",
       "      <td>1.3</td>\n",
       "    </tr>\n",
       "    <tr>\n",
       "      <th>1</th>\n",
       "      <td>2</td>\n",
       "      <td>6</td>\n",
       "      <td>2.0</td>\n",
       "    </tr>\n",
       "    <tr>\n",
       "      <th>2</th>\n",
       "      <td>3</td>\n",
       "      <td>5</td>\n",
       "      <td>1.7</td>\n",
       "    </tr>\n",
       "    <tr>\n",
       "      <th>3</th>\n",
       "      <td>4</td>\n",
       "      <td>12</td>\n",
       "      <td>1.5</td>\n",
       "    </tr>\n",
       "    <tr>\n",
       "      <th>4</th>\n",
       "      <td>5</td>\n",
       "      <td>10</td>\n",
       "      <td>1.6</td>\n",
       "    </tr>\n",
       "    <tr>\n",
       "      <th>5</th>\n",
       "      <td>6</td>\n",
       "      <td>15</td>\n",
       "      <td>1.2</td>\n",
       "    </tr>\n",
       "    <tr>\n",
       "      <th>6</th>\n",
       "      <td>7</td>\n",
       "      <td>5</td>\n",
       "      <td>1.6</td>\n",
       "    </tr>\n",
       "    <tr>\n",
       "      <th>7</th>\n",
       "      <td>8</td>\n",
       "      <td>12</td>\n",
       "      <td>1.4</td>\n",
       "    </tr>\n",
       "    <tr>\n",
       "      <th>8</th>\n",
       "      <td>9</td>\n",
       "      <td>17</td>\n",
       "      <td>1.0</td>\n",
       "    </tr>\n",
       "    <tr>\n",
       "      <th>9</th>\n",
       "      <td>10</td>\n",
       "      <td>20</td>\n",
       "      <td>1.1</td>\n",
       "    </tr>\n",
       "  </tbody>\n",
       "</table>\n",
       "</div>"
      ],
      "text/plain": [
       "   Week  Weekly Sales Level, Y (1,000s of gallons)  Selling Price X ($)\n",
       "0     1                                         10                  1.3\n",
       "1     2                                          6                  2.0\n",
       "2     3                                          5                  1.7\n",
       "3     4                                         12                  1.5\n",
       "4     5                                         10                  1.6\n",
       "5     6                                         15                  1.2\n",
       "6     7                                          5                  1.6\n",
       "7     8                                         12                  1.4\n",
       "8     9                                         17                  1.0\n",
       "9    10                                         20                  1.1"
      ]
     },
     "execution_count": 9,
     "metadata": {},
     "output_type": "execute_result"
    }
   ],
   "source": [
    "filename = \"05-table-01-milk-gallons.ods\"\n",
    "\n",
    "df = read_ods(filename)\n",
    "\n",
    "df\n"
   ]
  },
  {
   "cell_type": "markdown",
   "metadata": {},
   "source": [
    "## Compute correlation between $X$ (independent variable) and $Y$ (dependent variable)\n",
    "\n",
    "$r$ is a sample correlation coefficient\n",
    "\n",
    "$$\n",
    "  r = \\frac{\n",
    "      n \\sum XY - (\\sum X)(\\sum Y)\n",
    "    }{\n",
    "      \\sqrt{n \\sum X^2 - (\\sum X)^2} \\sqrt{n \\sum Y^2 - (\\sum Y)^2}\n",
    "    }\n",
    "$$\n",
    "\n",
    "where $\\sum XY := \\sum^n_{i=1} x_i y_i$, $\\quad$ $\\sum X = \\sum^n_{i=1} x_i$ $\\quad$ and\n",
    "$\\sum X^2 = \\sum^n_{i=1} x^2_i$"
   ]
  },
  {
   "cell_type": "code",
   "execution_count": 17,
   "metadata": {},
   "outputs": [
    {
     "name": "stdout",
     "output_type": "stream",
     "text": [
      "r = -0.86\n"
     ]
    },
    {
     "data": {
      "text/html": [
       "<div>\n",
       "<style scoped>\n",
       "    .dataframe tbody tr th:only-of-type {\n",
       "        vertical-align: middle;\n",
       "    }\n",
       "\n",
       "    .dataframe tbody tr th {\n",
       "        vertical-align: top;\n",
       "    }\n",
       "\n",
       "    .dataframe thead th {\n",
       "        text-align: right;\n",
       "    }\n",
       "</style>\n",
       "<table border=\"1\" class=\"dataframe\">\n",
       "  <thead>\n",
       "    <tr style=\"text-align: right;\">\n",
       "      <th></th>\n",
       "      <th>Week</th>\n",
       "      <th>Y</th>\n",
       "      <th>X</th>\n",
       "      <th>XY</th>\n",
       "      <th>X^2</th>\n",
       "      <th>Y^2</th>\n",
       "    </tr>\n",
       "  </thead>\n",
       "  <tbody>\n",
       "    <tr>\n",
       "      <th>0</th>\n",
       "      <td>1</td>\n",
       "      <td>10</td>\n",
       "      <td>1.3</td>\n",
       "      <td>13.0</td>\n",
       "      <td>1.69</td>\n",
       "      <td>100</td>\n",
       "    </tr>\n",
       "    <tr>\n",
       "      <th>1</th>\n",
       "      <td>2</td>\n",
       "      <td>6</td>\n",
       "      <td>2.0</td>\n",
       "      <td>12.0</td>\n",
       "      <td>4.00</td>\n",
       "      <td>36</td>\n",
       "    </tr>\n",
       "    <tr>\n",
       "      <th>2</th>\n",
       "      <td>3</td>\n",
       "      <td>5</td>\n",
       "      <td>1.7</td>\n",
       "      <td>8.5</td>\n",
       "      <td>2.89</td>\n",
       "      <td>25</td>\n",
       "    </tr>\n",
       "    <tr>\n",
       "      <th>3</th>\n",
       "      <td>4</td>\n",
       "      <td>12</td>\n",
       "      <td>1.5</td>\n",
       "      <td>18.0</td>\n",
       "      <td>2.25</td>\n",
       "      <td>144</td>\n",
       "    </tr>\n",
       "    <tr>\n",
       "      <th>4</th>\n",
       "      <td>5</td>\n",
       "      <td>10</td>\n",
       "      <td>1.6</td>\n",
       "      <td>16.0</td>\n",
       "      <td>2.56</td>\n",
       "      <td>100</td>\n",
       "    </tr>\n",
       "    <tr>\n",
       "      <th>5</th>\n",
       "      <td>6</td>\n",
       "      <td>15</td>\n",
       "      <td>1.2</td>\n",
       "      <td>18.0</td>\n",
       "      <td>1.44</td>\n",
       "      <td>225</td>\n",
       "    </tr>\n",
       "    <tr>\n",
       "      <th>6</th>\n",
       "      <td>7</td>\n",
       "      <td>5</td>\n",
       "      <td>1.6</td>\n",
       "      <td>8.0</td>\n",
       "      <td>2.56</td>\n",
       "      <td>25</td>\n",
       "    </tr>\n",
       "    <tr>\n",
       "      <th>7</th>\n",
       "      <td>8</td>\n",
       "      <td>12</td>\n",
       "      <td>1.4</td>\n",
       "      <td>16.8</td>\n",
       "      <td>1.96</td>\n",
       "      <td>144</td>\n",
       "    </tr>\n",
       "    <tr>\n",
       "      <th>8</th>\n",
       "      <td>9</td>\n",
       "      <td>17</td>\n",
       "      <td>1.0</td>\n",
       "      <td>17.0</td>\n",
       "      <td>1.00</td>\n",
       "      <td>289</td>\n",
       "    </tr>\n",
       "    <tr>\n",
       "      <th>9</th>\n",
       "      <td>10</td>\n",
       "      <td>20</td>\n",
       "      <td>1.1</td>\n",
       "      <td>22.0</td>\n",
       "      <td>1.21</td>\n",
       "      <td>400</td>\n",
       "    </tr>\n",
       "  </tbody>\n",
       "</table>\n",
       "</div>"
      ],
      "text/plain": [
       "   Week   Y    X    XY   X^2  Y^2\n",
       "0     1  10  1.3  13.0  1.69  100\n",
       "1     2   6  2.0  12.0  4.00   36\n",
       "2     3   5  1.7   8.5  2.89   25\n",
       "3     4  12  1.5  18.0  2.25  144\n",
       "4     5  10  1.6  16.0  2.56  100\n",
       "5     6  15  1.2  18.0  1.44  225\n",
       "6     7   5  1.6   8.0  2.56   25\n",
       "7     8  12  1.4  16.8  1.96  144\n",
       "8     9  17  1.0  17.0  1.00  289\n",
       "9    10  20  1.1  22.0  1.21  400"
      ]
     },
     "execution_count": 17,
     "metadata": {},
     "output_type": "execute_result"
    }
   ],
   "source": [
    "df_corr = df.copy()\n",
    "\n",
    "# rename the corresponding X and Y column\n",
    "df_corr = df_corr.rename(columns={\n",
    "  \"Weekly Sales Level, Y (1,000s of gallons)\": 'Y',\n",
    "  \"Selling Price X ($)\": 'X'})\n",
    "\n",
    "df_corr[\"XY\"] = df_corr['X'] * df_corr['Y']\n",
    "df_corr[\"X^2\"] = df_corr['X']**2\n",
    "df_corr[\"Y^2\"] = df_corr['Y']**2\n",
    "\n",
    "n = len(df_corr)\n",
    "sumXY = df_corr[\"XY\"].sum()\n",
    "sumX = df_corr[\"X\"].sum()\n",
    "sumY = df_corr[\"Y\"].sum()\n",
    "sumXsq = df_corr[\"X^2\"].sum()\n",
    "sumYsq = df_corr[\"Y^2\"].sum()\n",
    "r = (n * sumXY - sumX*sumY) \\\n",
    "  / (np.sqrt(n*sumXsq - sumX**2) * np.sqrt(n*sumYsq - sumY**2))\n",
    "\n",
    "print(f\"r = {r:.2f}\")\n",
    "df_corr"
   ]
  },
  {
   "cell_type": "markdown",
   "metadata": {},
   "source": [
    "## Scatter plot"
   ]
  },
  {
   "cell_type": "code",
   "execution_count": 26,
   "metadata": {},
   "outputs": [
    {
     "data": {
      "image/png": "[encoded data removed]",
      "text/plain": [
       "<Figure size 600x300 with 1 Axes>"
      ]
     },
     "metadata": {},
     "output_type": "display_data"
    }
   ],
   "source": [
    "fig, ax = plt.subplots(figsize=(6, 3))\n",
    "\n",
    "\n",
    "ax.plot(df_corr[\"X\"], df_corr[\"Y\"], \n",
    "  marker='o', markersize=5, markerfacecolor='white',\n",
    "  linestyle='None', markeredgewidth=2) \n",
    "\n",
    "ax.set_ylim([0, 35])\n",
    "\n",
    "ax.set_xlabel(\"Price (in dollars)\")\n",
    "ax.set_ylabel(\"Gallons\")\n",
    "ax.set_title(r\"Scatter plot Milk Gallons; $r = {:.2f}$\".format(r))\n",
    "ax.grid(\"on\")\n",
    "plt.show(fig)\n"
   ]
  },
  {
   "cell_type": "markdown",
   "metadata": {},
   "source": [
    "The question that may occur next is, how much does the volume drop as price is raised?"
   ]
  }
 ],
 "metadata": {
  "kernelspec": {
   "display_name": "Python 3.8.10 ('base')",
   "language": "python",
   "name": "python3"
  },
  "language_info": {
   "codemirror_mode": {
    "name": "ipython",
    "version": 3
   },
   "file_extension": ".py",
   "mimetype": "text/x-python",
   "name": "python",
   "nbconvert_exporter": "python",
   "pygments_lexer": "ipython3",
   "version": "3.8.10"
  },
  "orig_nbformat": 4,
  "vscode": {
   "interpreter": {
    "hash": "b68217c4fa6011267e0d81cc47bb50822e9770eb46de3a1f506be20c9f89249d"
   }
  }
 },
 "nbformat": 4,
 "nbformat_minor": 2
}
