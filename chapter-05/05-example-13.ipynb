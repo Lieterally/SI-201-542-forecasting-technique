{
 "cells": [
  {
   "cell_type": "code",
   "execution_count": 1,
   "metadata": {},
   "outputs": [],
   "source": [
    "import matplotlib.pyplot as plt\n",
    "import numpy as np\n",
    "import pandas as pd\n",
    "import scipy.stats as sc_stats\n",
    "import tabulate"
   ]
  },
  {
   "cell_type": "code",
   "execution_count": 2,
   "metadata": {},
   "outputs": [],
   "source": [
    "plt.rcParams.update(plt.rcParamsDefault)\n",
    "plt.rcParams.update({\n",
    "  'font.size': 12,\n",
    "  'grid.alpha': 0.25})"
   ]
  },
  {
   "cell_type": "markdown",
   "metadata": {},
   "source": [
    "## Function declarations\n",
    "\n",
    "### Read `ods` to `DataFrame`\n"
   ]
  },
  {
   "cell_type": "code",
   "execution_count": 3,
   "metadata": {},
   "outputs": [],
   "source": [
    "def read_ods(filename, columns=None):\n",
    "  if columns is None:\n",
    "    df = pd.read_excel(filename, engine=\"odf\", header=0)\n",
    "  else:\n",
    "    key_arr = (k for k in columns.keys())\n",
    "    df = pd.read_excel(filename, engine=\"odf\", header=0,\n",
    "                       vusecols=columns)\n",
    "    df = df.rename(columns=columns)\n",
    "  return df"
   ]
  },
  {
   "cell_type": "markdown",
   "metadata": {},
   "source": [
    "### Get linear regression coefficients ($b_0$ and $b_1$)"
   ]
  },
  {
   "cell_type": "code",
   "execution_count": 4,
   "metadata": {},
   "outputs": [],
   "source": [
    "def get_regress_coeff(df):\n",
    "  df[\"XY\"] = df['X'] * df['Y']\n",
    "  df[\"X^2\"] = df['X']**2\n",
    "\n",
    "  n = len(df)\n",
    "  sumXY = df[\"XY\"].sum()\n",
    "  sumX = df[\"X\"].sum()\n",
    "  sumY = df[\"Y\"].sum()\n",
    "  sumXsq = df[\"X^2\"].sum()\n",
    "\n",
    "  b1 = (n*sumXY - sumX*sumY) / (n*sumXsq - sumX**2)\n",
    "  b0 = sumY/n - b1*sumX/n\n",
    "\n",
    "  # print(f\"(b0, b1) = ({b0:.2f}, {b1:.2f})\")\n",
    "  return [b0, b1], df\n"
   ]
  },
  {
   "cell_type": "markdown",
   "metadata": {},
   "source": [
    "### Get ANOVA table"
   ]
  },
  {
   "cell_type": "code",
   "execution_count": 5,
   "metadata": {},
   "outputs": [],
   "source": [
    "def get_ANOVA_table(df):\n",
    "  [b0, b1], df_residual = get_regress_coeff(df)\n",
    "\n",
    "  # calculation sum of squares total\n",
    "  df_residual[\"meanY\"] = df_residual['Y'].mean()\n",
    "  df_residual[\"(Y - meanY)\"] = df_residual['Y'] - df_residual[\"meanY\"]\n",
    "  df_residual[\"(Y - meanY)^2\"] = df_residual['(Y - meanY)']**2\n",
    "\n",
    "  # calculation sum of squares error\n",
    "  df_residual['hat_Y'] = b0 + b1*df_residual['X']\n",
    "  df_residual['(Y - hat_Y)'] = df_residual['Y'] - df_residual[\"hat_Y\"]\n",
    "  df_residual['(Y - hat_Y)^2'] = df_residual['(Y - hat_Y)']**2\n",
    "\n",
    "  # calculation sum of squares regression\n",
    "  df_residual['(hat_Y - meanY)^2'] = (df_residual['hat_Y'] - df_residual['meanY'])**2\n",
    "\n",
    "  SST = df_residual[\"(Y - meanY)^2\"].sum()\n",
    "  SSE = df_residual[\"(Y - hat_Y)^2\"].sum()\n",
    "  SSR = df_residual[\"(hat_Y - meanY)^2\"].sum()\n",
    "\n",
    "  num_of_sample = len(df_residual)\n",
    "\n",
    "  data = [\n",
    "    [\"Regression\", SSR, 1                , SSR/1],\n",
    "    [\"Error\"     , SSE, num_of_sample - 2, SSE/(num_of_sample - 2)],\n",
    "    [\"Total\"     , SST, num_of_sample - 1, None]]\n",
    "  anova_table = tabulate.tabulate(data, tablefmt='html', \n",
    "    headers=[\"Source\", \"Sum of Squares\", \"d.o.f\", \"Mean Square\"], \n",
    "    floatfmt=(None, \".2f\", None, \".2f\"))\n",
    "\n",
    "\n",
    "  return anova_table, df_residual, [SST, SSR, SSE] "
   ]
  },
  {
   "cell_type": "markdown",
   "metadata": {},
   "source": [
    "## Load the data"
   ]
  },
  {
   "cell_type": "code",
   "execution_count": 7,
   "metadata": {},
   "outputs": [
    {
     "data": {
      "text/html": [
       "<div>\n",
       "<style scoped>\n",
       "    .dataframe tbody tr th:only-of-type {\n",
       "        vertical-align: middle;\n",
       "    }\n",
       "\n",
       "    .dataframe tbody tr th {\n",
       "        vertical-align: top;\n",
       "    }\n",
       "\n",
       "    .dataframe thead th {\n",
       "        text-align: right;\n",
       "    }\n",
       "</style>\n",
       "<table border=\"1\" class=\"dataframe\">\n",
       "  <thead>\n",
       "    <tr style=\"text-align: right;\">\n",
       "      <th></th>\n",
       "      <th>Year</th>\n",
       "      <th>Life Expectancy</th>\n",
       "      <th>is_interpolated?</th>\n",
       "    </tr>\n",
       "  </thead>\n",
       "  <tbody>\n",
       "    <tr>\n",
       "      <th>0</th>\n",
       "      <td>1970</td>\n",
       "      <td>70.8</td>\n",
       "      <td>No</td>\n",
       "    </tr>\n",
       "    <tr>\n",
       "      <th>1</th>\n",
       "      <td>1971</td>\n",
       "      <td>71.2</td>\n",
       "      <td>Yes</td>\n",
       "    </tr>\n",
       "    <tr>\n",
       "      <th>2</th>\n",
       "      <td>1972</td>\n",
       "      <td>71.5</td>\n",
       "      <td>Yes</td>\n",
       "    </tr>\n",
       "    <tr>\n",
       "      <th>3</th>\n",
       "      <td>1973</td>\n",
       "      <td>71.9</td>\n",
       "      <td>Yes</td>\n",
       "    </tr>\n",
       "    <tr>\n",
       "      <th>4</th>\n",
       "      <td>1974</td>\n",
       "      <td>72.4</td>\n",
       "      <td>Yes</td>\n",
       "    </tr>\n",
       "  </tbody>\n",
       "</table>\n",
       "</div>"
      ],
      "text/plain": [
       "   Year  Life Expectancy is_interpolated?\n",
       "0  1970             70.8               No\n",
       "1  1971             71.2              Yes\n",
       "2  1972             71.5              Yes\n",
       "3  1973             71.9              Yes\n",
       "4  1974             72.4              Yes"
      ]
     },
     "execution_count": 7,
     "metadata": {},
     "output_type": "execute_result"
    }
   ],
   "source": [
    "filename = \"05-table-11-life-expectancy.ods\"\n",
    "\n",
    "df = read_ods(filename)\n",
    "\n",
    "df.head()"
   ]
  },
  {
   "cell_type": "markdown",
   "metadata": {},
   "source": [
    "## Fitted line plot"
   ]
  },
  {
   "cell_type": "code",
   "execution_count": 12,
   "metadata": {},
   "outputs": [],
   "source": [
    "df_fit = pd.DataFrame()\n",
    "\n",
    "t_year = np.arange(1, len(df)+1)\n",
    "df_fit[\"X\"] = t_year\n",
    "df_fit[\"Y\"] = df[\"Life Expectancy\"]\n",
    "\n",
    "# compute fitted regression line\n",
    "[b0, b1], _ = get_regress_coeff(df_fit)\n",
    "\n",
    "# compute coefficient of determination\n",
    "_, _, [SST, SSR, SSE] = get_ANOVA_table(df_fit)\n",
    "rSq = SSR/SST"
   ]
  },
  {
   "cell_type": "code",
   "execution_count": 14,
   "metadata": {},
   "outputs": [
    {
     "data": {
      "image/png": "[encoded data removed]",
      "text/plain": [
       "<Figure size 600x300 with 1 Axes>"
      ]
     },
     "metadata": {},
     "output_type": "display_data"
    }
   ],
   "source": [
    "fig, ax = plt.subplots(figsize=(6, 3))\n",
    "\n",
    "ax.plot(df_fit[\"X\"], df_fit[\"Y\"], \n",
    "  marker='o', markersize=5, markerfacecolor='white',\n",
    "  linestyle='None', markeredgewidth=2) \n",
    "\n",
    "data_t_min = df_fit[\"X\"].min()\n",
    "data_t_max = df_fit[\"X\"].max()\n",
    "t_offset = 0.1*(data_t_max - data_t_min)\n",
    "t_regress = np.linspace(data_t_min - t_offset, data_t_max + t_offset)\n",
    "regress_label = r\"${:.2f} + {:.2f}t$\".format(b0, b1) \\\n",
    "  if b1 > 0 else r\"${:.2f}{:.2f}t$\".format(b0, b1)\n",
    "\n",
    "ax.plot(t_regress, b0 + b1*t_regress, \n",
    "  linestyle='-',\n",
    "  label=regress_label) \n",
    "\n",
    "ax.set_xlabel(r\"time, $t$\")\n",
    "ax.set_ylabel(r\"life expectancy (year)\")\n",
    "ax.set_title(r\"Fitted Line Plot, $r^2={:.1f}$%\".format(rSq*100))\n",
    "\n",
    "ax.legend(loc=\"upper left\", bbox_to_anchor=[1.01, 1.04])\n",
    "ax.grid(\"on\")\n",
    "plt.show(fig)\n"
   ]
  },
  {
   "cell_type": "markdown",
   "metadata": {},
   "source": [
    "## Forecast at year 2050"
   ]
  },
  {
   "cell_type": "code",
   "execution_count": 16,
   "metadata": {},
   "outputs": [
    {
     "name": "stdout",
     "output_type": "stream",
     "text": [
      "hat_Y (t = 2050) = 86.6 years\n"
     ]
    }
   ],
   "source": [
    "t_forecast = (2050-df[\"Year\"].iloc[-1]) + df_fit['X'].iloc[-1]\n",
    "hat_Y_at_point = b0 + b1*t_forecast\n",
    "\n",
    "print(f\"hat_Y (t = 2050) = {hat_Y_at_point:.1f} years\")"
   ]
  }
 ],
 "metadata": {
  "kernelspec": {
   "display_name": "Python 3.8.10 ('base')",
   "language": "python",
   "name": "python3"
  },
  "language_info": {
   "codemirror_mode": {
    "name": "ipython",
    "version": 3
   },
   "file_extension": ".py",
   "mimetype": "text/x-python",
   "name": "python",
   "nbconvert_exporter": "python",
   "pygments_lexer": "ipython3",
   "version": "3.8.10"
  },
  "orig_nbformat": 4,
  "vscode": {
   "interpreter": {
    "hash": "b68217c4fa6011267e0d81cc47bb50822e9770eb46de3a1f506be20c9f89249d"
   }
  }
 },
 "nbformat": 4,
 "nbformat_minor": 2
}
