{
 "cells": [
  {
   "cell_type": "code",
   "execution_count": 24,
   "metadata": {},
   "outputs": [],
   "source": [
    "import matplotlib.pyplot as plt\n",
    "import numpy as np\n",
    "import pandas as pd\n",
    "import scipy.stats as sc_stats"
   ]
  },
  {
   "cell_type": "code",
   "execution_count": 2,
   "metadata": {},
   "outputs": [],
   "source": [
    "plt.rcParams.update(plt.rcParamsDefault)\n",
    "plt.rcParams.update({\n",
    "  'font.size': 12,\n",
    "  'grid.alpha': 0.25})"
   ]
  },
  {
   "cell_type": "markdown",
   "metadata": {},
   "source": [
    "## Function declarations\n",
    "\n",
    "### Read `ods` to `DataFrame`\n"
   ]
  },
  {
   "cell_type": "code",
   "execution_count": 3,
   "metadata": {},
   "outputs": [],
   "source": [
    "def read_ods(filename, columns=None):\n",
    "  if columns is None:\n",
    "    df = pd.read_excel(filename, engine=\"odf\", header=0)\n",
    "  else:\n",
    "    key_arr = (k for k in columns.keys())\n",
    "    df = pd.read_excel(filename, engine=\"odf\", header=0,\n",
    "                      usecols=columns)\n",
    "    df = df.rename(columns=columns)\n",
    "  return df"
   ]
  },
  {
   "cell_type": "markdown",
   "metadata": {},
   "source": [
    "## Load the data"
   ]
  },
  {
   "cell_type": "code",
   "execution_count": 4,
   "metadata": {},
   "outputs": [
    {
     "data": {
      "text/html": [
       "<div>\n",
       "<style scoped>\n",
       "    .dataframe tbody tr th:only-of-type {\n",
       "        vertical-align: middle;\n",
       "    }\n",
       "\n",
       "    .dataframe tbody tr th {\n",
       "        vertical-align: top;\n",
       "    }\n",
       "\n",
       "    .dataframe thead th {\n",
       "        text-align: right;\n",
       "    }\n",
       "</style>\n",
       "<table border=\"1\" class=\"dataframe\">\n",
       "  <thead>\n",
       "    <tr style=\"text-align: right;\">\n",
       "      <th></th>\n",
       "      <th>Week</th>\n",
       "      <th>Weekly Sales Level, Y (1,000s of gallons)</th>\n",
       "      <th>Selling Price X ($)</th>\n",
       "    </tr>\n",
       "  </thead>\n",
       "  <tbody>\n",
       "    <tr>\n",
       "      <th>0</th>\n",
       "      <td>1</td>\n",
       "      <td>10</td>\n",
       "      <td>1.3</td>\n",
       "    </tr>\n",
       "    <tr>\n",
       "      <th>1</th>\n",
       "      <td>2</td>\n",
       "      <td>6</td>\n",
       "      <td>2.0</td>\n",
       "    </tr>\n",
       "    <tr>\n",
       "      <th>2</th>\n",
       "      <td>3</td>\n",
       "      <td>5</td>\n",
       "      <td>1.7</td>\n",
       "    </tr>\n",
       "    <tr>\n",
       "      <th>3</th>\n",
       "      <td>4</td>\n",
       "      <td>12</td>\n",
       "      <td>1.5</td>\n",
       "    </tr>\n",
       "    <tr>\n",
       "      <th>4</th>\n",
       "      <td>5</td>\n",
       "      <td>10</td>\n",
       "      <td>1.6</td>\n",
       "    </tr>\n",
       "    <tr>\n",
       "      <th>5</th>\n",
       "      <td>6</td>\n",
       "      <td>15</td>\n",
       "      <td>1.2</td>\n",
       "    </tr>\n",
       "    <tr>\n",
       "      <th>6</th>\n",
       "      <td>7</td>\n",
       "      <td>5</td>\n",
       "      <td>1.6</td>\n",
       "    </tr>\n",
       "    <tr>\n",
       "      <th>7</th>\n",
       "      <td>8</td>\n",
       "      <td>12</td>\n",
       "      <td>1.4</td>\n",
       "    </tr>\n",
       "    <tr>\n",
       "      <th>8</th>\n",
       "      <td>9</td>\n",
       "      <td>17</td>\n",
       "      <td>1.0</td>\n",
       "    </tr>\n",
       "    <tr>\n",
       "      <th>9</th>\n",
       "      <td>10</td>\n",
       "      <td>20</td>\n",
       "      <td>1.1</td>\n",
       "    </tr>\n",
       "  </tbody>\n",
       "</table>\n",
       "</div>"
      ],
      "text/plain": [
       "   Week  Weekly Sales Level, Y (1,000s of gallons)  Selling Price X ($)\n",
       "0     1                                         10                  1.3\n",
       "1     2                                          6                  2.0\n",
       "2     3                                          5                  1.7\n",
       "3     4                                         12                  1.5\n",
       "4     5                                         10                  1.6\n",
       "5     6                                         15                  1.2\n",
       "6     7                                          5                  1.6\n",
       "7     8                                         12                  1.4\n",
       "8     9                                         17                  1.0\n",
       "9    10                                         20                  1.1"
      ]
     },
     "execution_count": 4,
     "metadata": {},
     "output_type": "execute_result"
    }
   ],
   "source": [
    "filename = \"05-table-01-milk-gallons.ods\"\n",
    "\n",
    "df = read_ods(filename)\n",
    "\n",
    "df\n"
   ]
  },
  {
   "cell_type": "markdown",
   "metadata": {},
   "source": [
    "## Compute least squares coefficients ($b_1$ and $b_0$)\n",
    "\n",
    "$$\n",
    "\\begin{gather*}\n",
    "  b_1 = \\frac{n \\sum XY - \\sum X \\sum Y}{n \\sum X^2 - (\\sum X)^2} \\\\[12pt]\n",
    "  b_0 = \\frac{\\sum Y}{n} - \\frac{b_1 \\sum X}{n}\n",
    "\\end{gather*}\n",
    "$$"
   ]
  },
  {
   "cell_type": "code",
   "execution_count": 5,
   "metadata": {},
   "outputs": [
    {
     "name": "stdout",
     "output_type": "stream",
     "text": [
      "(b0, b1) = (32.14, -14.54)\n"
     ]
    },
    {
     "data": {
      "text/html": [
       "<div>\n",
       "<style scoped>\n",
       "    .dataframe tbody tr th:only-of-type {\n",
       "        vertical-align: middle;\n",
       "    }\n",
       "\n",
       "    .dataframe tbody tr th {\n",
       "        vertical-align: top;\n",
       "    }\n",
       "\n",
       "    .dataframe thead th {\n",
       "        text-align: right;\n",
       "    }\n",
       "</style>\n",
       "<table border=\"1\" class=\"dataframe\">\n",
       "  <thead>\n",
       "    <tr style=\"text-align: right;\">\n",
       "      <th></th>\n",
       "      <th>Week</th>\n",
       "      <th>Y</th>\n",
       "      <th>X</th>\n",
       "      <th>XY</th>\n",
       "      <th>X^2</th>\n",
       "    </tr>\n",
       "  </thead>\n",
       "  <tbody>\n",
       "    <tr>\n",
       "      <th>0</th>\n",
       "      <td>1</td>\n",
       "      <td>10</td>\n",
       "      <td>1.3</td>\n",
       "      <td>13.0</td>\n",
       "      <td>1.69</td>\n",
       "    </tr>\n",
       "    <tr>\n",
       "      <th>1</th>\n",
       "      <td>2</td>\n",
       "      <td>6</td>\n",
       "      <td>2.0</td>\n",
       "      <td>12.0</td>\n",
       "      <td>4.00</td>\n",
       "    </tr>\n",
       "    <tr>\n",
       "      <th>2</th>\n",
       "      <td>3</td>\n",
       "      <td>5</td>\n",
       "      <td>1.7</td>\n",
       "      <td>8.5</td>\n",
       "      <td>2.89</td>\n",
       "    </tr>\n",
       "    <tr>\n",
       "      <th>3</th>\n",
       "      <td>4</td>\n",
       "      <td>12</td>\n",
       "      <td>1.5</td>\n",
       "      <td>18.0</td>\n",
       "      <td>2.25</td>\n",
       "    </tr>\n",
       "    <tr>\n",
       "      <th>4</th>\n",
       "      <td>5</td>\n",
       "      <td>10</td>\n",
       "      <td>1.6</td>\n",
       "      <td>16.0</td>\n",
       "      <td>2.56</td>\n",
       "    </tr>\n",
       "    <tr>\n",
       "      <th>5</th>\n",
       "      <td>6</td>\n",
       "      <td>15</td>\n",
       "      <td>1.2</td>\n",
       "      <td>18.0</td>\n",
       "      <td>1.44</td>\n",
       "    </tr>\n",
       "    <tr>\n",
       "      <th>6</th>\n",
       "      <td>7</td>\n",
       "      <td>5</td>\n",
       "      <td>1.6</td>\n",
       "      <td>8.0</td>\n",
       "      <td>2.56</td>\n",
       "    </tr>\n",
       "    <tr>\n",
       "      <th>7</th>\n",
       "      <td>8</td>\n",
       "      <td>12</td>\n",
       "      <td>1.4</td>\n",
       "      <td>16.8</td>\n",
       "      <td>1.96</td>\n",
       "    </tr>\n",
       "    <tr>\n",
       "      <th>8</th>\n",
       "      <td>9</td>\n",
       "      <td>17</td>\n",
       "      <td>1.0</td>\n",
       "      <td>17.0</td>\n",
       "      <td>1.00</td>\n",
       "    </tr>\n",
       "    <tr>\n",
       "      <th>9</th>\n",
       "      <td>10</td>\n",
       "      <td>20</td>\n",
       "      <td>1.1</td>\n",
       "      <td>22.0</td>\n",
       "      <td>1.21</td>\n",
       "    </tr>\n",
       "  </tbody>\n",
       "</table>\n",
       "</div>"
      ],
      "text/plain": [
       "   Week   Y    X    XY   X^2\n",
       "0     1  10  1.3  13.0  1.69\n",
       "1     2   6  2.0  12.0  4.00\n",
       "2     3   5  1.7   8.5  2.89\n",
       "3     4  12  1.5  18.0  2.25\n",
       "4     5  10  1.6  16.0  2.56\n",
       "5     6  15  1.2  18.0  1.44\n",
       "6     7   5  1.6   8.0  2.56\n",
       "7     8  12  1.4  16.8  1.96\n",
       "8     9  17  1.0  17.0  1.00\n",
       "9    10  20  1.1  22.0  1.21"
      ]
     },
     "execution_count": 5,
     "metadata": {},
     "output_type": "execute_result"
    }
   ],
   "source": [
    "df_corr = df.copy()\n",
    "\n",
    "# rename the corresponding X and Y column\n",
    "df_corr = df_corr.rename(columns={\n",
    "  \"Weekly Sales Level, Y (1,000s of gallons)\": 'Y',\n",
    "  \"Selling Price X ($)\": 'X'})\n",
    "\n",
    "df_corr[\"XY\"] = df_corr['X'] * df_corr['Y']\n",
    "df_corr[\"X^2\"] = df_corr['X']**2\n",
    "\n",
    "n = len(df_corr)\n",
    "sumXY = df_corr[\"XY\"].sum()\n",
    "sumX = df_corr[\"X\"].sum()\n",
    "sumY = df_corr[\"Y\"].sum()\n",
    "sumXsq = df_corr[\"X^2\"].sum()\n",
    "\n",
    "b1 = (n*sumXY - sumX*sumY) / (n*sumXsq - sumX**2)\n",
    "b0 = sumY/n - b1*sumX/n\n",
    "\n",
    "print(f\"(b0, b1) = ({b0:.2f}, {b1:.2f})\")\n",
    "df_corr\n"
   ]
  },
  {
   "cell_type": "markdown",
   "metadata": {},
   "source": [
    "## Point forecast at specific $X$"
   ]
  },
  {
   "cell_type": "code",
   "execution_count": 55,
   "metadata": {},
   "outputs": [
    {
     "name": "stdout",
     "output_type": "stream",
     "text": [
      "hat_Y at X=(1.63) : 8,440 gallons\n"
     ]
    }
   ],
   "source": [
    "X_to_forecast = 1.63\n",
    "hat_Y_point = b0 + b1*X_to_forecast\n",
    "hat_Y_trueUnit = int(round(hat_Y_point * 1000, -1))\n",
    "print(f\"hat_Y at X=({X_to_forecast:.2f}) : {hat_Y_trueUnit:,d} gallons\")"
   ]
  },
  {
   "cell_type": "code",
   "execution_count": 58,
   "metadata": {},
   "outputs": [
    {
     "data": {
      "image/png": "[encoded data removed]",
      "text/plain": [
       "<Figure size 600x300 with 1 Axes>"
      ]
     },
     "metadata": {},
     "output_type": "display_data"
    }
   ],
   "source": [
    "fig, ax = plt.subplots(figsize=(6, 3))\n",
    "\n",
    "\n",
    "ax.plot(df_corr[\"X\"], df_corr[\"Y\"], \n",
    "  marker='o', markersize=5, markerfacecolor='white',\n",
    "  linestyle='None', markeredgewidth=2) \n",
    "\n",
    "x_regress = np.linspace(0, 2.1)\n",
    "ax.plot(x_regress, b0 + b1*x_regress, \n",
    "  linestyle='-',\n",
    "  label=r\"${:.2f}{:.2f}X$\".format(b0, b1)) \n",
    "\n",
    "# point forecast\n",
    "ax.plot([X_to_forecast], [hat_Y_point], \n",
    "  marker='+', markersize=6,\n",
    "  linestyle=\"None\", markeredgewidth=2, \n",
    "  label='point forecast')\n",
    "\n",
    "ax.set_ylim([0, 35])\n",
    "\n",
    "ax.set_xlabel(r\"Price (in dollars), $X$\")\n",
    "ax.set_ylabel(r\"1,000s of Gallons, $Y$\")\n",
    "ax.set_title(\"Fitted Regression Line\")\n",
    "\n",
    "ax.legend(loc=\"upper left\", bbox_to_anchor=[1.01, 1.04])\n",
    "ax.grid(\"on\")\n",
    "plt.show(fig)"
   ]
  },
  {
   "cell_type": "markdown",
   "metadata": {},
   "source": [
    "## Standard error of the forecast, $s_f$\n",
    "\n",
    "$$\n",
    "  s_f = s_{y\\cdot x} \\sqrt{\n",
    "    1 + \\frac{1}{n} \n",
    "      + \\frac{(X - \\overline{X})^2}{\\sum (X - \\overline{X})^2}}\n",
    "$$\n",
    "\n",
    "where $s_{y\\cdot x}$ is the standard error of the estimate, \n",
    "\n",
    "$$\n",
    "  s_{y \\cdot x} = \\sqrt{\\frac{\\sum(Y - \\hat{Y})^2}{n - 2}}\n",
    "$$\n",
    "\n",
    "A prediction interval for $Y$\n",
    "$$\n",
    "\\begin{align*}\n",
    "  &\\hat{Y} \\pm t\\,s_f \\quad \\textrm{($t$-distribution)}, n < 30 \\\\\n",
    "  &\\hat{Y} \\pm z\\,s_f \\quad \\textrm{(normal distribution)}\n",
    "\\end{align*}\n",
    "$$"
   ]
  },
  {
   "cell_type": "code",
   "execution_count": 111,
   "metadata": {},
   "outputs": [],
   "source": [
    "def std_forecast(df, x_regress, reg_coeff):\n",
    "  # compute std_yx (standard error of the estimate)\n",
    "  num_of_sample = len(df)\n",
    "\n",
    "  hat_Y = reg_coeff[0] + reg_coeff[1]*df['X']\n",
    "\n",
    "  meanX = df['X'].mean() \n",
    "  meanY = df['Y'].mean()\n",
    "  sumOfSquareX_of_meanX = ((df['X'] - meanX)**2).sum()\n",
    "  sumOfSquareY_of_hat_Y = ((df['Y'] - hat_Y)**2).sum()\n",
    "  squareX = (x_regress - meanX)**2 \n",
    "\n",
    "  # print(meanX)\n",
    "  # print(sumOfSquareX_of_meanX)\n",
    "\n",
    "  std_yx = np.sqrt(sumOfSquareY_of_hat_Y/(num_of_sample - 2))\n",
    "\n",
    "  return std_yx * np.sqrt(1 + 1/num_of_sample + squareX/sumOfSquareX_of_meanX)"
   ]
  },
  {
   "cell_type": "markdown",
   "metadata": {},
   "source": [
    "### Calculate $(\\hat{Y} + t\\,s_f, \\hat{Y} - t\\,s_f)$"
   ]
  },
  {
   "cell_type": "code",
   "execution_count": 114,
   "metadata": {},
   "outputs": [
    {
     "name": "stdout",
     "output_type": "stream",
     "text": [
      "t_score (l_bound, u_bound): (-2.306, 2.306)\n"
     ]
    }
   ],
   "source": [
    "significance_lvl = 0.05\n",
    "\n",
    "num_of_sample = len(df)\n",
    "deg_of_freedom = num_of_sample - 2\n",
    "\n",
    "# t_score\n",
    "l_bound = sc_stats.t.ppf(significance_lvl/2, deg_of_freedom)\n",
    "u_bound = sc_stats.t.ppf(1 - significance_lvl/2, deg_of_freedom)\n",
    "print(f\"t_score (l_bound, u_bound): ({l_bound:.3f}, {u_bound:.3f})\")\n",
    "\n",
    "sf_X = std_forecast(df_corr, x_regress, [b0, b1])\n",
    "hat_Y = b0 + b1*x_regress\n",
    "hat_Y_l_bound = hat_Y + l_bound * sf_X \n",
    "hat_Y_u_bound = hat_Y + u_bound * sf_X\n",
    "\n",
    "#hat_Y_l_bound, hat_Y_u_bound"
   ]
  },
  {
   "cell_type": "markdown",
   "metadata": {},
   "source": [
    "### Calculate point foreacast with its interval"
   ]
  },
  {
   "cell_type": "code",
   "execution_count": 123,
   "metadata": {},
   "outputs": [
    {
     "name": "stdout",
     "output_type": "stream",
     "text": [
      "s_f: 2.91\n",
      "(hat_Y - t*sf, hat_Y + t*sf): (1.72, 15.16)\n"
     ]
    }
   ],
   "source": [
    "sf_single_X = std_forecast(df_corr, X_to_forecast, [b0, b1])\n",
    "print(f\"s_f: {sf_single_X:.2f}\")\n",
    "\n",
    "hat_Y_point_l_bound = hat_Y_point + l_bound*sf_single_X\n",
    "hat_Y_point_u_bound = hat_Y_point + u_bound*sf_single_X\n",
    "\n",
    "print(f\"(hat_Y - t*sf, hat_Y + t*sf): \"+\n",
    "  f\"({hat_Y_point_l_bound:.2f}, {hat_Y_point_u_bound:.2f})\")"
   ]
  },
  {
   "cell_type": "code",
   "execution_count": 126,
   "metadata": {},
   "outputs": [
    {
     "data": {
      "image/png": "[encoded data removed]",
      "text/plain": [
       "<Figure size 600x300 with 1 Axes>"
      ]
     },
     "metadata": {},
     "output_type": "display_data"
    }
   ],
   "source": [
    "fig, ax = plt.subplots(figsize=(6, 3))\n",
    "\n",
    "ax.plot(df_corr[\"X\"], df_corr[\"Y\"], \n",
    "  marker='o', markersize=5, markerfacecolor='white',\n",
    "  linestyle='None', markeredgewidth=2) \n",
    "\n",
    "x_regress = np.linspace(0, 2.1)\n",
    "ax.plot(x_regress, b0 + b1*x_regress, \n",
    "  linestyle='-',\n",
    "  label=r\"${:.2f}{:.2f}X$\".format(b0, b1)) \n",
    "\n",
    "# point forecast\n",
    "ax.plot([X_to_forecast], [hat_Y_point], \n",
    "  marker='+', markersize=6,\n",
    "  linestyle=\"None\", markeredgewidth=2, \n",
    "  label='point forecast')\n",
    "\n",
    "# plot 95% prediction interval for Y\n",
    "ax.plot(x_regress, hat_Y_u_bound, linestyle='--',\n",
    "  marker=\"None\")\n",
    "ax.plot(x_regress, hat_Y_l_bound, linestyle='--',\n",
    "  marker=\"None\")\n",
    "\n",
    "# plot 95% prediction interval for forecast point at X=1.63\n",
    "ax.plot([X_to_forecast, X_to_forecast],\n",
    "  [hat_Y_point_l_bound, hat_Y_point_u_bound], \n",
    "  color='grey', alpha=0.5, zorder=-99)\n",
    "\n",
    "ax.set_ylim([-7, 45])\n",
    "\n",
    "ax.set_xlabel(r\"Price (in dollars), $X$\")\n",
    "ax.set_ylabel(r\"1,000s of Gallons, $Y$\")\n",
    "ax.set_title(\"Fitted Regression Line with 95% interval\")\n",
    "\n",
    "ax.legend(loc=\"upper left\", bbox_to_anchor=[1.01, 1.04])\n",
    "ax.grid(\"on\")\n",
    "plt.show(fig)"
   ]
  },
  {
   "cell_type": "code",
   "execution_count": null,
   "metadata": {},
   "outputs": [],
   "source": []
  }
 ],
 "metadata": {
  "kernelspec": {
   "display_name": "Python 3.8.10 ('base')",
   "language": "python",
   "name": "python3"
  },
  "language_info": {
   "codemirror_mode": {
    "name": "ipython",
    "version": 3
   },
   "file_extension": ".py",
   "mimetype": "text/x-python",
   "name": "python",
   "nbconvert_exporter": "python",
   "pygments_lexer": "ipython3",
   "version": "3.8.10"
  },
  "orig_nbformat": 4,
  "vscode": {
   "interpreter": {
    "hash": "b68217c4fa6011267e0d81cc47bb50822e9770eb46de3a1f506be20c9f89249d"
   }
  }
 },
 "nbformat": 4,
 "nbformat_minor": 2
}
