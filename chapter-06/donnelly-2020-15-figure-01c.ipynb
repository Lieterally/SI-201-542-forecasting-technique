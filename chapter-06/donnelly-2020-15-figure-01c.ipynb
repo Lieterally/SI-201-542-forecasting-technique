{
 "cells": [
  {
   "cell_type": "code",
   "execution_count": 4,
   "metadata": {},
   "outputs": [],
   "source": [
    "import matplotlib.pyplot as plt\n",
    "import numpy as np\n",
    "import pandas as pd\n",
    "import tabulate\n",
    "import scipy.stats as sc_stats\n",
    "\n",
    "from IPython.display import display\n",
    "\n",
    "from sklearn.linear_model import LinearRegression\n",
    "from sklearn.preprocessing import PolynomialFeatures\n",
    "from sklearn.pipeline import Pipeline"
   ]
  },
  {
   "cell_type": "code",
   "execution_count": 5,
   "metadata": {},
   "outputs": [],
   "source": [
    "plt.rcParams.update(plt.rcParamsDefault)\n",
    "plt.rcParams.update({\n",
    "  'font.size': 12,\n",
    "  'grid.alpha': 0.25})"
   ]
  },
  {
   "cell_type": "markdown",
   "metadata": {},
   "source": [
    "## Function declarations\n",
    "\n"
   ]
  },
  {
   "cell_type": "markdown",
   "metadata": {},
   "source": [
    "### Read `ods` to `DataFrame`"
   ]
  },
  {
   "cell_type": "code",
   "execution_count": 6,
   "metadata": {},
   "outputs": [],
   "source": [
    "def read_ods(filename, columns=None):\n",
    "  if columns is None:\n",
    "    df = pd.read_excel(filename, engine=\"odf\", header=0)\n",
    "  elif isinstance(columns, list):\n",
    "    df = pd.read_excel(filename, engine=\"odf\", header=0,\n",
    "                       usecols=columns)\n",
    "  else:\n",
    "    key_arr = (k for k in columns.keys())\n",
    "    df = pd.read_excel(filename, engine=\"odf\", header=0,\n",
    "                      usecols=key_arr)\n",
    "    df = df.rename(columns=columns)\n",
    "  return df"
   ]
  },
  {
   "cell_type": "markdown",
   "metadata": {},
   "source": [
    "### Get multiple regression coefficients"
   ]
  },
  {
   "cell_type": "code",
   "execution_count": 7,
   "metadata": {},
   "outputs": [],
   "source": [
    "def get_multiple_regress_coeff(df, n_vars=2):\n",
    "  \n",
    "  if isinstance(df, pd.DataFrame):\n",
    "    num_of_samples = len(df)\n",
    "    X_arr = np.zeros((num_of_samples, n_vars))\n",
    "    Y = df[\"Y\"].to_numpy()\n",
    "\n",
    "    for i in range(n_vars):\n",
    "      key = f\"X_{i+1}\"\n",
    "      X_arr[:, i] = df[key].to_numpy()\n",
    "\n",
    "    regress = LinearRegression().fit(X_arr, Y)\n",
    "    df[\"hat_Y\"] = regress.intercept_ + X_arr.dot(regress.coef_) \n",
    "  \n",
    "  elif isinstance(df, np.ndarray):\n",
    "    Y = df[:, 0]\n",
    "    X_arr = df[:, 1:]\n",
    "\n",
    "\n",
    "    regress = LinearRegression().fit(X_arr, Y)\n",
    "    Y_hat = regress.intercept_ + X_arr.dot(regress.coef_)\n",
    "    df = np.column_stack([df, Y_hat])\n",
    "\n",
    "  return regress, df\n"
   ]
  },
  {
   "cell_type": "markdown",
   "metadata": {},
   "source": [
    "### Get Minitab output of Regression Analysis"
   ]
  },
  {
   "cell_type": "code",
   "execution_count": 15,
   "metadata": {},
   "outputs": [],
   "source": [
    "def get_minitab_out(df, n_vars=2, new_column=None, withVIF=False):\n",
    "  \"\"\"\n",
    "  new_column (dict) : a dictionary mapping to rename df header\n",
    "  \"\"\"\n",
    "  \n",
    "  data_struct = np.zeros((len(df), 1+n_vars))\n",
    "  data_struct[:, 0] = df['Y']\n",
    "  for i in range(n_vars):\n",
    "    key = f\"X_{i+1}\"\n",
    "    data_struct[:, i+1] = df[key]\n",
    "\n",
    "  # -- compute correlation matrix\n",
    "  corr_matrix = np.corrcoef(data_struct, rowvar=False)\n",
    "  corr_matrix = corr_matrix[1:, 0:-1]    # only show lower triangle part of correlation matrix\n",
    "\n",
    "  # -- compute regression intercept and coefficients\n",
    "  regress, _ = get_multiple_regress_coeff(df, n_vars=n_vars)\n",
    "  b_arr = [regress.intercept_] + regress.coef_.tolist()\n",
    "  is_positive_b_arr = [b_j > 0 for b_j in b_arr]\n",
    "\n",
    "  # -- compute cofactor matrix \n",
    "  X_arr = np.ones_like(data_struct)\n",
    "  X_arr[:,1:] = data_struct[:,1:]\n",
    "  cofactor_matrix = np.linalg.inv(X_arr.transpose().dot(X_arr))   # this matrix is closely related to covariance matrix\n",
    "\n",
    "  # -- compute standad error of the estimates\n",
    "  num_of_samples = len(df)\n",
    "  hat_Y =  regress.intercept_ + data_struct[:,1:].dot(regress.coef_)\n",
    "  sumSq_Y_hat_Y = ((data_struct[:, 0] - hat_Y)**2).sum()\n",
    "  s_yxs = np.sqrt(sumSq_Y_hat_Y/(num_of_samples - n_vars - 1))\n",
    "\n",
    "  # -- compute standard error of intercept_ and coef_\n",
    "  # -- compute t-score of intecept_ and coef_\n",
    "  # -- compute p-values of intercept_ and coef_\n",
    "  SE_coef = np.zeros(1+n_vars)\n",
    "  t_scores = np.zeros(1+n_vars)\n",
    "  p_values = np.zeros(1+n_vars)\n",
    "  dof = num_of_samples - n_vars - 1;          # degrees of freedom\n",
    "  for i in range(1+n_vars):\n",
    "    SE_coef[i] = s_yxs*np.sqrt(cofactor_matrix[i, i])\n",
    "    t_scores[i] = b_arr[i] / SE_coef[i]\n",
    "    p_values[i] = sc_stats.t.sf(abs(t_scores[i]), dof) * 2   # .t.sf is a surfifal function (1 - cdf)\n",
    "\n",
    "  # -- compute VIF of coef_\n",
    "  if withVIF:\n",
    "    # if n_vars == 2, we calculate VIF from correlation matrix\n",
    "    VIF_arr = np.zeros(n_vars)\n",
    "    if n_vars == 2:\n",
    "      VIF_arr[0] = 1/(1-corr_matrix[1, 1]**2)\n",
    "      VIF_arr[1] = 1/(1-corr_matrix[1, 1]**2)\n",
    "    else:\n",
    "      for i in range(n_vars):\n",
    "        # take a predictor column and put the other predictor after it\n",
    "        predictor_data_struct = np.zeros((num_of_samples, n_vars))\n",
    "        predictor_data_struct[:,0] = data_struct[:, i+1]   \n",
    "        predictor_data_struct[:,1:] = np.delete(data_struct, i+1, axis=1)[:,1:]  \n",
    "        #print(predictor_data_struct)\n",
    "        predictor_SST, predictor_SSR, _ = get_sumSq(predictor_data_struct, n_vars=n_vars)\n",
    "        predictor_R_sq = predictor_SSR/predictor_SST\n",
    "        #print(predictor_R_sq)\n",
    "        VIF_arr[i] = 1/(1 - predictor_R_sq)\n",
    "\n",
    "\n",
    "  # -- compute ANOVA table\n",
    "  meanY = data_struct[:, 0].mean()\n",
    "  SST = ((data_struct[:, 0] - meanY)**2).sum()\n",
    "  SSR = ((hat_Y - meanY)**2).sum()\n",
    "  SSE = ((data_struct[:, 0] - hat_Y)**2).sum()\n",
    "  anova_sumSq = np.array([SSR, SSE, SST])\n",
    "  anova_dof = np.array([n_vars, num_of_samples - n_vars - 1, num_of_samples - 1], dtype=int)\n",
    "  anova_meanSq = (anova_sumSq/anova_dof)[:2]\n",
    "  anova_F_score = anova_meanSq[0] / anova_meanSq[1]\n",
    "  anova_p_value = sc_stats.f.sf(anova_F_score, anova_dof[0], anova_dof[1])   # sf is a surfifal function (1 - cdf)\n",
    "\n",
    "  # -- compute R_sq (coefficient of determination)\n",
    "  R_sq = SSR/SST\n",
    "\n",
    "  # -- compute adjusted R_sq\n",
    "  adj_R_sq = 1 - (1 - R_sq)*(num_of_samples-1)/(num_of_samples-n_vars-1)\n",
    "\n",
    "  # -- create tabular form for correlation \n",
    "  data = []\n",
    "  for i in range(n_vars):\n",
    "    data_row = [new_column[i+1]] + \\\n",
    "      [f\"{corr:.3f}\" if j < i+1 else \"\" for j, corr in enumerate(corr_matrix[i,:])]\n",
    "    #print(data_row)\n",
    "    #print([type(data_row_i) for data_row_i in data_row])\n",
    "    data.append(data_row)\n",
    "\n",
    "  table_corr = tabulate.tabulate(data, tablefmt='html', \n",
    "    headers=[\"\"] + new_column[:n_vars], \n",
    "    floatfmt=[\"None\"] + [\".3f\"]*(n_vars))\n",
    "\n",
    "  print(f\"Correlations: {', '.join(new_column)}\")\n",
    "  display(table_corr)\n",
    "\n",
    "  # -- create tabular form for predictor\n",
    "  data = [[\"Constant\", b_arr[0], SE_coef[0], t_scores[0], p_values[0]]]\n",
    "  if withVIF:\n",
    "    for i in range(1, n_vars+1):\n",
    "      data_row = [new_column[i], b_arr[i], SE_coef[i], t_scores[i], p_values[i], VIF_arr[i-1]]\n",
    "      data.append(data_row)\n",
    "    table_predictor = tabulate.tabulate(data, tablefmt='html', \n",
    "      headers=[\"Predictor\", \"Coef\", \"SE Coef\", \"t-score\", \"p-value\", \"VIF\"], \n",
    "      floatfmt=[None, \".4f\", \".4f\", \".2f\", \".4f\", \".3f\"])\n",
    "  else:\n",
    "    for i in range(1, n_vars+1):\n",
    "      data_row = [new_column[i], b_arr[i], SE_coef[i], t_scores[i], p_values[i]]\n",
    "      data.append(data_row)\n",
    "    table_predictor = tabulate.tabulate(data, tablefmt='html', \n",
    "      headers=[\"Predictor\", \"Coef\", \"SE Coef\", \"t-score\", \"p-value\"], \n",
    "      floatfmt=[None, \".4f\", \".4f\", \".2f\", \".4f\"])\n",
    "\n",
    "\n",
    "  print(f\"Regression Analysis: {new_column[0]} versus {', '.join(new_column[1:])}\")\n",
    "  print(\"The regression equation is\")\n",
    "  str_b_predictor = \"\" \n",
    "  for i in range(n_vars):\n",
    "    sign = \"+\" if is_positive_b_arr[i+1] else \"-\"\n",
    "    str_b_predictor += f\" {sign} {abs(b_arr[i+1]):.3f} {new_column[i+1]}\"\n",
    "  print(f\"{new_column[0]} = {b_arr[0]:.3f}{str_b_predictor}\")\n",
    "  display(table_predictor)\n",
    "  print(f\"s_yxs = {s_yxs:.4f}   R_sq = {R_sq*100:.1f}%   R-sq(adj) = {adj_R_sq*100:.1f}%\")\n",
    "\n",
    "  # -- create ANOVA table (with F-score and its p-value)\n",
    "  data = [\n",
    "    [\"Regression\",     anova_dof[0], anova_sumSq[0], f\"{anova_meanSq[0]:.3f}\", f\"{anova_F_score:.3f}\", f\"{anova_p_value:.4f}\"],\n",
    "    [\"Residual error\", anova_dof[1], anova_sumSq[1], f\"{anova_meanSq[1]:.3f}\", \"\", \"\"],\n",
    "    [\"Total\",          anova_dof[2], anova_sumSq[2], \"\", \"\", \"\"]] \n",
    "  table_anova = tabulate.tabulate(data, tablefmt='html', \n",
    "    headers=[\"Source\", \"d.o.f\", \"sumSq\", \"meanSq\", \"F-score\", \"p-value\"], \n",
    "    floatfmt=[None, \".0f\", \".3f\", \"s\", \"s\", \"s\"])\n",
    "\n",
    "  print(f\"Analyis of Variance\")\n",
    "  display(table_anova)\n",
    "\n",
    "  return {\"regress\": regress, \"corr_matrix\": corr_matrix, \n",
    "    \"R_sq\": R_sq}\n"
   ]
  },
  {
   "cell_type": "markdown",
   "metadata": {},
   "source": [
    "## Load the data"
   ]
  },
  {
   "cell_type": "code",
   "execution_count": 9,
   "metadata": {},
   "outputs": [
    {
     "data": {
      "text/html": [
       "<div>\n",
       "<style scoped>\n",
       "    .dataframe tbody tr th:only-of-type {\n",
       "        vertical-align: middle;\n",
       "    }\n",
       "\n",
       "    .dataframe tbody tr th {\n",
       "        vertical-align: top;\n",
       "    }\n",
       "\n",
       "    .dataframe thead th {\n",
       "        text-align: right;\n",
       "    }\n",
       "</style>\n",
       "<table border=\"1\" class=\"dataframe\">\n",
       "  <thead>\n",
       "    <tr style=\"text-align: right;\">\n",
       "      <th></th>\n",
       "      <th>Price ($)</th>\n",
       "      <th>Mileage</th>\n",
       "      <th>Age</th>\n",
       "    </tr>\n",
       "  </thead>\n",
       "  <tbody>\n",
       "    <tr>\n",
       "      <th>0</th>\n",
       "      <td>27995</td>\n",
       "      <td>52438</td>\n",
       "      <td>2</td>\n",
       "    </tr>\n",
       "    <tr>\n",
       "      <th>1</th>\n",
       "      <td>22500</td>\n",
       "      <td>30815</td>\n",
       "      <td>7</td>\n",
       "    </tr>\n",
       "    <tr>\n",
       "      <th>2</th>\n",
       "      <td>21490</td>\n",
       "      <td>18260</td>\n",
       "      <td>5</td>\n",
       "    </tr>\n",
       "    <tr>\n",
       "      <th>3</th>\n",
       "      <td>20400</td>\n",
       "      <td>36504</td>\n",
       "      <td>3</td>\n",
       "    </tr>\n",
       "    <tr>\n",
       "      <th>4</th>\n",
       "      <td>19495</td>\n",
       "      <td>23781</td>\n",
       "      <td>3</td>\n",
       "    </tr>\n",
       "  </tbody>\n",
       "</table>\n",
       "</div>"
      ],
      "text/plain": [
       "   Price ($)  Mileage  Age\n",
       "0      27995    52438    2\n",
       "1      22500    30815    7\n",
       "2      21490    18260    5\n",
       "3      20400    36504    3\n",
       "4      19495    23781    3"
      ]
     },
     "execution_count": 9,
     "metadata": {},
     "output_type": "execute_result"
    }
   ],
   "source": [
    "filename = \"donnelly-2020-15-table-01-used-camry.ods\"\n",
    "\n",
    "df = read_ods(filename, columns=[\n",
    "  \"Price ($)\", \"Mileage\", \"Age\"])\n",
    "\n",
    "df.head()"
   ]
  },
  {
   "cell_type": "markdown",
   "metadata": {},
   "source": [
    "## Calculate Minitab output"
   ]
  },
  {
   "cell_type": "code",
   "execution_count": 10,
   "metadata": {},
   "outputs": [
    {
     "name": "stdout",
     "output_type": "stream",
     "text": [
      "header: ['Price ($)', 'Mileage', 'Age']\n"
     ]
    },
    {
     "data": {
      "text/html": [
       "<div>\n",
       "<style scoped>\n",
       "    .dataframe tbody tr th:only-of-type {\n",
       "        vertical-align: middle;\n",
       "    }\n",
       "\n",
       "    .dataframe tbody tr th {\n",
       "        vertical-align: top;\n",
       "    }\n",
       "\n",
       "    .dataframe thead th {\n",
       "        text-align: right;\n",
       "    }\n",
       "</style>\n",
       "<table border=\"1\" class=\"dataframe\">\n",
       "  <thead>\n",
       "    <tr style=\"text-align: right;\">\n",
       "      <th></th>\n",
       "      <th>Y</th>\n",
       "      <th>X_1</th>\n",
       "      <th>X_2</th>\n",
       "    </tr>\n",
       "  </thead>\n",
       "  <tbody>\n",
       "    <tr>\n",
       "      <th>0</th>\n",
       "      <td>27995</td>\n",
       "      <td>52438</td>\n",
       "      <td>2</td>\n",
       "    </tr>\n",
       "    <tr>\n",
       "      <th>1</th>\n",
       "      <td>22500</td>\n",
       "      <td>30815</td>\n",
       "      <td>7</td>\n",
       "    </tr>\n",
       "    <tr>\n",
       "      <th>2</th>\n",
       "      <td>21490</td>\n",
       "      <td>18260</td>\n",
       "      <td>5</td>\n",
       "    </tr>\n",
       "    <tr>\n",
       "      <th>3</th>\n",
       "      <td>20400</td>\n",
       "      <td>36504</td>\n",
       "      <td>3</td>\n",
       "    </tr>\n",
       "    <tr>\n",
       "      <th>4</th>\n",
       "      <td>19495</td>\n",
       "      <td>23781</td>\n",
       "      <td>3</td>\n",
       "    </tr>\n",
       "  </tbody>\n",
       "</table>\n",
       "</div>"
      ],
      "text/plain": [
       "       Y    X_1  X_2\n",
       "0  27995  52438    2\n",
       "1  22500  30815    7\n",
       "2  21490  18260    5\n",
       "3  20400  36504    3\n",
       "4  19495  23781    3"
      ]
     },
     "execution_count": 10,
     "metadata": {},
     "output_type": "execute_result"
    }
   ],
   "source": [
    "df_minitab = df.copy()\n",
    "from_column_names = df_minitab.columns.to_list()\n",
    "print(f\"header: {from_column_names}\")\n",
    "to_column_names = [\"Y\"] + [f\"X_{i+1}\" for i in range(len(from_column_names) - 1)]\n",
    "\n",
    "\n",
    "df_minitab = df_minitab.rename(columns=\n",
    "  {k: v for k, v in zip(from_column_names, to_column_names)})\n",
    "\n",
    "df_minitab.head()"
   ]
  },
  {
   "cell_type": "code",
   "execution_count": 16,
   "metadata": {},
   "outputs": [
    {
     "name": "stdout",
     "output_type": "stream",
     "text": [
      "Correlations: Price, Mileage, Age\n"
     ]
    },
    {
     "data": {
      "text/html": [
       "<table>\n",
       "<thead>\n",
       "<tr><th>       </th><th style=\"text-align: right;\">  Price</th><th>Mileage  </th></tr>\n",
       "</thead>\n",
       "<tbody>\n",
       "<tr><td>Mileage</td><td style=\"text-align: right;\"> -0.637</td><td>         </td></tr>\n",
       "<tr><td>Age    </td><td style=\"text-align: right;\"> -0.472</td><td>0.147    </td></tr>\n",
       "</tbody>\n",
       "</table>"
      ],
      "text/plain": [
       "'<table>\\n<thead>\\n<tr><th>       </th><th style=\"text-align: right;\">  Price</th><th>Mileage  </th></tr>\\n</thead>\\n<tbody>\\n<tr><td>Mileage</td><td style=\"text-align: right;\"> -0.637</td><td>         </td></tr>\\n<tr><td>Age    </td><td style=\"text-align: right;\"> -0.472</td><td>0.147    </td></tr>\\n</tbody>\\n</table>'"
      ]
     },
     "metadata": {},
     "output_type": "display_data"
    },
    {
     "name": "stdout",
     "output_type": "stream",
     "text": [
      "Regression Analysis: Price versus Mileage, Age\n",
      "The regression equation is\n",
      "Price = 28253.049 - 0.142 Mileage - 986.664 Age\n"
     ]
    },
    {
     "data": {
      "text/html": [
       "<table>\n",
       "<thead>\n",
       "<tr><th>Predictor  </th><th style=\"text-align: right;\">      Coef</th><th style=\"text-align: right;\">  SE Coef</th><th style=\"text-align: right;\">  t-score</th><th style=\"text-align: right;\">  p-value</th><th style=\"text-align: right;\">  VIF</th></tr>\n",
       "</thead>\n",
       "<tbody>\n",
       "<tr><td>Constant   </td><td style=\"text-align: right;\">28253.0486</td><td style=\"text-align: right;\">2965.0561</td><td style=\"text-align: right;\">     9.53</td><td style=\"text-align: right;\">   0.0000</td><td style=\"text-align: right;\">     </td></tr>\n",
       "<tr><td>Mileage    </td><td style=\"text-align: right;\">   -0.1422</td><td style=\"text-align: right;\">   0.0402</td><td style=\"text-align: right;\">    -3.54</td><td style=\"text-align: right;\">   0.0025</td><td style=\"text-align: right;\">1.022</td></tr>\n",
       "<tr><td>Age        </td><td style=\"text-align: right;\"> -986.6639</td><td style=\"text-align: right;\"> 418.0287</td><td style=\"text-align: right;\">    -2.36</td><td style=\"text-align: right;\">   0.0305</td><td style=\"text-align: right;\">1.022</td></tr>\n",
       "</tbody>\n",
       "</table>"
      ],
      "text/plain": [
       "'<table>\\n<thead>\\n<tr><th>Predictor  </th><th style=\"text-align: right;\">      Coef</th><th style=\"text-align: right;\">  SE Coef</th><th style=\"text-align: right;\">  t-score</th><th style=\"text-align: right;\">  p-value</th><th style=\"text-align: right;\">  VIF</th></tr>\\n</thead>\\n<tbody>\\n<tr><td>Constant   </td><td style=\"text-align: right;\">28253.0486</td><td style=\"text-align: right;\">2965.0561</td><td style=\"text-align: right;\">     9.53</td><td style=\"text-align: right;\">   0.0000</td><td style=\"text-align: right;\">     </td></tr>\\n<tr><td>Mileage    </td><td style=\"text-align: right;\">   -0.1422</td><td style=\"text-align: right;\">   0.0402</td><td style=\"text-align: right;\">    -3.54</td><td style=\"text-align: right;\">   0.0025</td><td style=\"text-align: right;\">1.022</td></tr>\\n<tr><td>Age        </td><td style=\"text-align: right;\"> -986.6639</td><td style=\"text-align: right;\"> 418.0287</td><td style=\"text-align: right;\">    -2.36</td><td style=\"text-align: right;\">   0.0305</td><td style=\"text-align: right;\">1.022</td></tr>\\n</tbody>\\n</table>'"
      ]
     },
     "metadata": {},
     "output_type": "display_data"
    },
    {
     "name": "stdout",
     "output_type": "stream",
     "text": [
      "s_yxs = 3489.1291   R_sq = 55.3%   R-sq(adj) = 50.0%\n",
      "Analyis of Variance\n"
     ]
    },
    {
     "data": {
      "text/html": [
       "<table>\n",
       "<thead>\n",
       "<tr><th>Source        </th><th style=\"text-align: right;\">  d.o.f</th><th style=\"text-align: right;\">        sumSq</th><th>meanSq       </th><th>F-score  </th><th>p-value  </th></tr>\n",
       "</thead>\n",
       "<tbody>\n",
       "<tr><td>Regression    </td><td style=\"text-align: right;\">      2</td><td style=\"text-align: right;\">255828307.291</td><td>127914153.645</td><td>10.507   </td><td>0.0011   </td></tr>\n",
       "<tr><td>Residual error</td><td style=\"text-align: right;\">     17</td><td style=\"text-align: right;\">206958369.509</td><td>12174021.736 </td><td>         </td><td>         </td></tr>\n",
       "<tr><td>Total         </td><td style=\"text-align: right;\">     19</td><td style=\"text-align: right;\">462786676.800</td><td>             </td><td>         </td><td>         </td></tr>\n",
       "</tbody>\n",
       "</table>"
      ],
      "text/plain": [
       "'<table>\\n<thead>\\n<tr><th>Source        </th><th style=\"text-align: right;\">  d.o.f</th><th style=\"text-align: right;\">        sumSq</th><th>meanSq       </th><th>F-score  </th><th>p-value  </th></tr>\\n</thead>\\n<tbody>\\n<tr><td>Regression    </td><td style=\"text-align: right;\">      2</td><td style=\"text-align: right;\">255828307.291</td><td>127914153.645</td><td>10.507   </td><td>0.0011   </td></tr>\\n<tr><td>Residual error</td><td style=\"text-align: right;\">     17</td><td style=\"text-align: right;\">206958369.509</td><td>12174021.736 </td><td>         </td><td>         </td></tr>\\n<tr><td>Total         </td><td style=\"text-align: right;\">     19</td><td style=\"text-align: right;\">462786676.800</td><td>             </td><td>         </td><td>         </td></tr>\\n</tbody>\\n</table>'"
      ]
     },
     "metadata": {},
     "output_type": "display_data"
    }
   ],
   "source": [
    "column_name = [\"Price\", \"Mileage\", \"Age\"]\n",
    "out_dict = get_minitab_out(df_minitab, n_vars=len(column_name)-1, \n",
    "  new_column=column_name, withVIF=True)\n"
   ]
  }
 ],
 "metadata": {
  "kernelspec": {
   "display_name": "Python 3.8.10 ('base')",
   "language": "python",
   "name": "python3"
  },
  "language_info": {
   "codemirror_mode": {
    "name": "ipython",
    "version": 3
   },
   "file_extension": ".py",
   "mimetype": "text/x-python",
   "name": "python",
   "nbconvert_exporter": "python",
   "pygments_lexer": "ipython3",
   "version": "3.8.10"
  },
  "orig_nbformat": 4,
  "vscode": {
   "interpreter": {
    "hash": "b68217c4fa6011267e0d81cc47bb50822e9770eb46de3a1f506be20c9f89249d"
   }
  }
 },
 "nbformat": 4,
 "nbformat_minor": 2
}
