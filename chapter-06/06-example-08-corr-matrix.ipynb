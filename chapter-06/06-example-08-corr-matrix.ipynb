{
 "cells": [
  {
   "cell_type": "code",
   "execution_count": 1,
   "metadata": {},
   "outputs": [],
   "source": [
    "import matplotlib.pyplot as plt\n",
    "import numpy as np\n",
    "import pandas as pd\n",
    "import tabulate\n",
    "import scipy.stats as sc_stats\n",
    "\n",
    "from IPython.display import display\n",
    "\n",
    "from sklearn.linear_model import LinearRegression\n",
    "from sklearn.preprocessing import PolynomialFeatures\n",
    "from sklearn.pipeline import Pipeline"
   ]
  },
  {
   "cell_type": "code",
   "execution_count": null,
   "metadata": {},
   "outputs": [],
   "source": [
    "plt.rcParams.update(plt.rcParamsDefault)\n",
    "plt.rcParams.update({\n",
    "  'font.size': 12,\n",
    "  'grid.alpha': 0.25})"
   ]
  },
  {
   "cell_type": "markdown",
   "metadata": {},
   "source": [
    "## Function declarations\n",
    "\n"
   ]
  },
  {
   "cell_type": "markdown",
   "metadata": {},
   "source": [
    "### Read `ods` to `DataFrame`"
   ]
  },
  {
   "cell_type": "code",
   "execution_count": 3,
   "metadata": {},
   "outputs": [],
   "source": [
    "def read_ods(filename, columns=None):\n",
    "  if columns is None:\n",
    "    df = pd.read_excel(filename, engine=\"odf\", header=0)\n",
    "  elif isinstance(columns, list):\n",
    "    df = pd.read_excel(filename, engine=\"odf\", header=0,\n",
    "                       usecols=columns)\n",
    "  else:\n",
    "    key_arr = (k for k in columns.keys())\n",
    "    df = pd.read_excel(filename, engine=\"odf\", header=0,\n",
    "                      usecols=key_arr)\n",
    "    df = df.rename(columns=columns)\n",
    "  return df"
   ]
  },
  {
   "cell_type": "markdown",
   "metadata": {},
   "source": [
    "### Get Minitab output correlation"
   ]
  },
  {
   "cell_type": "code",
   "execution_count": 41,
   "metadata": {},
   "outputs": [],
   "source": [
    "def get_minitab_corr(df, n_vars=2, new_column=None):\n",
    "  \"\"\"\n",
    "  new_column (dict) : a dictionary mapping to rename df header\n",
    "  \"\"\"\n",
    "  \n",
    "  data_struct = np.zeros((len(df), 1+n_vars))\n",
    "  data_struct[:, 0] = df['Y']\n",
    "  for i in range(n_vars):\n",
    "    key = f\"X_{i+1}\"\n",
    "    data_struct[:, i+1] = df[key]\n",
    "\n",
    "  # -- compute correlation matrix\n",
    "  corr_matrix = np.corrcoef(data_struct, rowvar=False)\n",
    "  corr_matrix = corr_matrix[1:, 0:-1]    # only show lower triangle part of correlation matrix\n",
    "\n",
    "  # -- create tabular form for correlation \n",
    "  data = []\n",
    "  for i in range(n_vars):\n",
    "    data_row = [new_column[i+1]] + \\\n",
    "      [f\"{corr:.3f}\" if j < i+1 else \"\" for j, corr in enumerate(corr_matrix[i,:])]\n",
    "    #print(data_row)\n",
    "    #print([type(data_row_i) for data_row_i in data_row])\n",
    "    data.append(data_row)\n",
    "\n",
    "  table_corr = tabulate.tabulate(data, tablefmt='html', \n",
    "    headers=[\"\"] + new_column[:n_vars], \n",
    "    floatfmt=[\"None\"] + [\".3f\"]*(n_vars))\n",
    "\n",
    "  print(f\"Correlations: {', '.join(new_column)}\")\n",
    "  display(table_corr)\n"
   ]
  },
  {
   "cell_type": "markdown",
   "metadata": {},
   "source": [
    "## Load the data"
   ]
  },
  {
   "cell_type": "code",
   "execution_count": 38,
   "metadata": {},
   "outputs": [
    {
     "data": {
      "text/html": [
       "<div>\n",
       "<style scoped>\n",
       "    .dataframe tbody tr th:only-of-type {\n",
       "        vertical-align: middle;\n",
       "    }\n",
       "\n",
       "    .dataframe tbody tr th {\n",
       "        vertical-align: top;\n",
       "    }\n",
       "\n",
       "    .dataframe thead th {\n",
       "        text-align: right;\n",
       "    }\n",
       "</style>\n",
       "<table border=\"1\" class=\"dataframe\">\n",
       "  <thead>\n",
       "    <tr style=\"text-align: right;\">\n",
       "      <th></th>\n",
       "      <th>One Month’s Sales (units)</th>\n",
       "      <th>Aptitude Test Score</th>\n",
       "      <th>Age (years)</th>\n",
       "      <th>Anxiety Test Score</th>\n",
       "      <th>Experience (years)</th>\n",
       "      <th>High School GPA</th>\n",
       "    </tr>\n",
       "  </thead>\n",
       "  <tbody>\n",
       "    <tr>\n",
       "      <th>0</th>\n",
       "      <td>44</td>\n",
       "      <td>10</td>\n",
       "      <td>22.1</td>\n",
       "      <td>4.9</td>\n",
       "      <td>0</td>\n",
       "      <td>2.4</td>\n",
       "    </tr>\n",
       "    <tr>\n",
       "      <th>1</th>\n",
       "      <td>47</td>\n",
       "      <td>19</td>\n",
       "      <td>22.5</td>\n",
       "      <td>3.0</td>\n",
       "      <td>1</td>\n",
       "      <td>2.6</td>\n",
       "    </tr>\n",
       "    <tr>\n",
       "      <th>2</th>\n",
       "      <td>60</td>\n",
       "      <td>27</td>\n",
       "      <td>23.1</td>\n",
       "      <td>1.5</td>\n",
       "      <td>0</td>\n",
       "      <td>2.8</td>\n",
       "    </tr>\n",
       "    <tr>\n",
       "      <th>3</th>\n",
       "      <td>71</td>\n",
       "      <td>31</td>\n",
       "      <td>24.0</td>\n",
       "      <td>0.6</td>\n",
       "      <td>3</td>\n",
       "      <td>2.7</td>\n",
       "    </tr>\n",
       "    <tr>\n",
       "      <th>4</th>\n",
       "      <td>61</td>\n",
       "      <td>64</td>\n",
       "      <td>22.6</td>\n",
       "      <td>1.8</td>\n",
       "      <td>2</td>\n",
       "      <td>2.0</td>\n",
       "    </tr>\n",
       "  </tbody>\n",
       "</table>\n",
       "</div>"
      ],
      "text/plain": [
       "   One Month’s Sales (units)  Aptitude Test Score  Age (years)  \\\n",
       "0                         44                   10         22.1   \n",
       "1                         47                   19         22.5   \n",
       "2                         60                   27         23.1   \n",
       "3                         71                   31         24.0   \n",
       "4                         61                   64         22.6   \n",
       "\n",
       "   Anxiety Test Score  Experience (years)  High School GPA  \n",
       "0                 4.9                   0              2.4  \n",
       "1                 3.0                   1              2.6  \n",
       "2                 1.5                   0              2.8  \n",
       "3                 0.6                   3              2.7  \n",
       "4                 1.8                   2              2.0  "
      ]
     },
     "execution_count": 38,
     "metadata": {},
     "output_type": "execute_result"
    }
   ],
   "source": [
    "filename = \"06-table-13-zurenko-pharmaceutical-data.ods\"\n",
    "\n",
    "df = read_ods(filename)\n",
    "\n",
    "df.head()\n"
   ]
  },
  {
   "cell_type": "markdown",
   "metadata": {},
   "source": [
    "## Observation to the correlation matrix"
   ]
  },
  {
   "cell_type": "code",
   "execution_count": 39,
   "metadata": {},
   "outputs": [
    {
     "name": "stdout",
     "output_type": "stream",
     "text": [
      "header: ['One Month’s Sales (units)', 'Aptitude Test Score', 'Age (years)', 'Anxiety Test Score', 'Experience (years)', 'High School GPA']\n"
     ]
    },
    {
     "data": {
      "text/html": [
       "<div>\n",
       "<style scoped>\n",
       "    .dataframe tbody tr th:only-of-type {\n",
       "        vertical-align: middle;\n",
       "    }\n",
       "\n",
       "    .dataframe tbody tr th {\n",
       "        vertical-align: top;\n",
       "    }\n",
       "\n",
       "    .dataframe thead th {\n",
       "        text-align: right;\n",
       "    }\n",
       "</style>\n",
       "<table border=\"1\" class=\"dataframe\">\n",
       "  <thead>\n",
       "    <tr style=\"text-align: right;\">\n",
       "      <th></th>\n",
       "      <th>Y</th>\n",
       "      <th>X_1</th>\n",
       "      <th>X_2</th>\n",
       "      <th>X_3</th>\n",
       "      <th>X_4</th>\n",
       "      <th>X_5</th>\n",
       "    </tr>\n",
       "  </thead>\n",
       "  <tbody>\n",
       "    <tr>\n",
       "      <th>0</th>\n",
       "      <td>44</td>\n",
       "      <td>10</td>\n",
       "      <td>22.1</td>\n",
       "      <td>4.9</td>\n",
       "      <td>0</td>\n",
       "      <td>2.4</td>\n",
       "    </tr>\n",
       "    <tr>\n",
       "      <th>1</th>\n",
       "      <td>47</td>\n",
       "      <td>19</td>\n",
       "      <td>22.5</td>\n",
       "      <td>3.0</td>\n",
       "      <td>1</td>\n",
       "      <td>2.6</td>\n",
       "    </tr>\n",
       "    <tr>\n",
       "      <th>2</th>\n",
       "      <td>60</td>\n",
       "      <td>27</td>\n",
       "      <td>23.1</td>\n",
       "      <td>1.5</td>\n",
       "      <td>0</td>\n",
       "      <td>2.8</td>\n",
       "    </tr>\n",
       "    <tr>\n",
       "      <th>3</th>\n",
       "      <td>71</td>\n",
       "      <td>31</td>\n",
       "      <td>24.0</td>\n",
       "      <td>0.6</td>\n",
       "      <td>3</td>\n",
       "      <td>2.7</td>\n",
       "    </tr>\n",
       "    <tr>\n",
       "      <th>4</th>\n",
       "      <td>61</td>\n",
       "      <td>64</td>\n",
       "      <td>22.6</td>\n",
       "      <td>1.8</td>\n",
       "      <td>2</td>\n",
       "      <td>2.0</td>\n",
       "    </tr>\n",
       "  </tbody>\n",
       "</table>\n",
       "</div>"
      ],
      "text/plain": [
       "    Y  X_1   X_2  X_3  X_4  X_5\n",
       "0  44   10  22.1  4.9    0  2.4\n",
       "1  47   19  22.5  3.0    1  2.6\n",
       "2  60   27  23.1  1.5    0  2.8\n",
       "3  71   31  24.0  0.6    3  2.7\n",
       "4  61   64  22.6  1.8    2  2.0"
      ]
     },
     "execution_count": 39,
     "metadata": {},
     "output_type": "execute_result"
    }
   ],
   "source": [
    "df_minitab = df.copy()\n",
    "from_column_names = df_minitab.columns.to_list()\n",
    "print(f\"header: {from_column_names}\")\n",
    "to_column_names = [\"Y\"] + [f\"X_{i+1}\" for i in range(len(from_column_names) - 1)]\n",
    "\n",
    "\n",
    "df_minitab = df_minitab.rename(columns=\n",
    "  {k: v for k, v in zip(from_column_names, to_column_names)})\n",
    "\n",
    "df_minitab.head()"
   ]
  },
  {
   "cell_type": "code",
   "execution_count": 42,
   "metadata": {},
   "outputs": [
    {
     "name": "stdout",
     "output_type": "stream",
     "text": [
      "Correlations: Sales, Aptitude, Age, Anxiety, Experience, GPA\n"
     ]
    },
    {
     "data": {
      "text/html": [
       "<table>\n",
       "<thead>\n",
       "<tr><th>          </th><th style=\"text-align: right;\">  Sales</th><th>Aptitude  </th><th>Age   </th><th>Anxiety  </th><th>Experience  </th></tr>\n",
       "</thead>\n",
       "<tbody>\n",
       "<tr><td>Aptitude  </td><td style=\"text-align: right;\">  0.676</td><td>          </td><td>      </td><td>         </td><td>            </td></tr>\n",
       "<tr><td>Age       </td><td style=\"text-align: right;\">  0.798</td><td>0.228     </td><td>      </td><td>         </td><td>            </td></tr>\n",
       "<tr><td>Anxiety   </td><td style=\"text-align: right;\"> -0.296</td><td>-0.222    </td><td>-0.287</td><td>         </td><td>            </td></tr>\n",
       "<tr><td>Experience</td><td style=\"text-align: right;\">  0.550</td><td>0.350     </td><td>0.540 </td><td>-0.279   </td><td>            </td></tr>\n",
       "<tr><td>GPA       </td><td style=\"text-align: right;\">  0.622</td><td>0.318     </td><td>0.695 </td><td>-0.244   </td><td>0.312       </td></tr>\n",
       "</tbody>\n",
       "</table>"
      ],
      "text/plain": [
       "'<table>\\n<thead>\\n<tr><th>          </th><th style=\"text-align: right;\">  Sales</th><th>Aptitude  </th><th>Age   </th><th>Anxiety  </th><th>Experience  </th></tr>\\n</thead>\\n<tbody>\\n<tr><td>Aptitude  </td><td style=\"text-align: right;\">  0.676</td><td>          </td><td>      </td><td>         </td><td>            </td></tr>\\n<tr><td>Age       </td><td style=\"text-align: right;\">  0.798</td><td>0.228     </td><td>      </td><td>         </td><td>            </td></tr>\\n<tr><td>Anxiety   </td><td style=\"text-align: right;\"> -0.296</td><td>-0.222    </td><td>-0.287</td><td>         </td><td>            </td></tr>\\n<tr><td>Experience</td><td style=\"text-align: right;\">  0.550</td><td>0.350     </td><td>0.540 </td><td>-0.279   </td><td>            </td></tr>\\n<tr><td>GPA       </td><td style=\"text-align: right;\">  0.622</td><td>0.318     </td><td>0.695 </td><td>-0.244   </td><td>0.312       </td></tr>\\n</tbody>\\n</table>'"
      ]
     },
     "metadata": {},
     "output_type": "display_data"
    }
   ],
   "source": [
    "column_name = [\"Sales\", \"Aptitude\", \"Age\", \"Anxiety\", \"Experience\", \"GPA\"]\n",
    "out_dict = get_minitab_corr(df_minitab, n_vars=len(column_name)-1, \n",
    "  new_column=column_name)\n"
   ]
  },
  {
   "cell_type": "markdown",
   "metadata": {},
   "source": [
    "Examination of the correlation matrix above reveals that\n",
    "the selling aptitude test score, age, experience, and GPA\n",
    "are positively related to sales ability and have potential\n",
    "as good predictor variables.\n",
    "The anxiety score shows a low negative correlation with sales,\n",
    "and it is probabily not an important predictor.\n",
    "Further analysis indicates that age is moderately correlated\n",
    "with both GPA and experience. It is the presence of these\n",
    "interrelationship that must be dealt with in attempting \n",
    "to find the best possible set of explanatory variables."
   ]
  },
  {
   "cell_type": "markdown",
   "metadata": {},
   "source": []
  }
 ],
 "metadata": {
  "kernelspec": {
   "display_name": "Python 3.8.10 ('base')",
   "language": "python",
   "name": "python3"
  },
  "language_info": {
   "codemirror_mode": {
    "name": "ipython",
    "version": 3
   },
   "file_extension": ".py",
   "mimetype": "text/x-python",
   "name": "python",
   "nbconvert_exporter": "python",
   "pygments_lexer": "ipython3",
   "version": "3.8.10"
  },
  "orig_nbformat": 4,
  "vscode": {
   "interpreter": {
    "hash": "b68217c4fa6011267e0d81cc47bb50822e9770eb46de3a1f506be20c9f89249d"
   }
  }
 },
 "nbformat": 4,
 "nbformat_minor": 2
}
