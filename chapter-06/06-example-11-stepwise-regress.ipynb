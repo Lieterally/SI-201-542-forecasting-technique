{
 "cells": [
  {
   "cell_type": "code",
   "execution_count": 1,
   "metadata": {},
   "outputs": [],
   "source": [
    "import matplotlib.pyplot as plt\n",
    "import numpy as np\n",
    "import pandas as pd\n",
    "import tabulate\n",
    "import scipy.stats as sc_stats\n",
    "\n",
    "from IPython.display import display\n",
    "\n",
    "from sklearn.linear_model import LinearRegression\n",
    "from sklearn.preprocessing import PolynomialFeatures\n",
    "from sklearn.pipeline import Pipeline"
   ]
  },
  {
   "cell_type": "code",
   "execution_count": 2,
   "metadata": {},
   "outputs": [],
   "source": [
    "plt.rcParams.update(plt.rcParamsDefault)\n",
    "plt.rcParams.update({\n",
    "  'font.size': 12,\n",
    "  'grid.alpha': 0.25})"
   ]
  },
  {
   "cell_type": "markdown",
   "metadata": {},
   "source": [
    "## Function declarations\n",
    "\n"
   ]
  },
  {
   "cell_type": "markdown",
   "metadata": {},
   "source": [
    "### Read `ods` to `DataFrame`"
   ]
  },
  {
   "cell_type": "code",
   "execution_count": 3,
   "metadata": {},
   "outputs": [],
   "source": [
    "def read_ods(filename, columns=None):\n",
    "  if columns is None:\n",
    "    df = pd.read_excel(filename, engine=\"odf\", header=0)\n",
    "  elif isinstance(columns, list):\n",
    "    df = pd.read_excel(filename, engine=\"odf\", header=0,\n",
    "                       usecols=columns)\n",
    "  else:\n",
    "    key_arr = (k for k in columns.keys())\n",
    "    df = pd.read_excel(filename, engine=\"odf\", header=0,\n",
    "                      usecols=key_arr)\n",
    "    df = df.rename(columns=columns)\n",
    "  return df"
   ]
  },
  {
   "cell_type": "markdown",
   "metadata": {},
   "source": [
    "### Get multiple regression coefficients"
   ]
  },
  {
   "cell_type": "code",
   "execution_count": 4,
   "metadata": {},
   "outputs": [],
   "source": [
    "def get_multiple_regress_coeff(df, n_vars=2):\n",
    "  \n",
    "  if isinstance(df, pd.DataFrame):\n",
    "    num_of_samples = len(df)\n",
    "    X_arr = np.zeros((num_of_samples, n_vars))\n",
    "    Y = df[\"Y\"].to_numpy()\n",
    "\n",
    "    for i in range(n_vars):\n",
    "      key = f\"X_{i+1}\"\n",
    "      X_arr[:, i] = df[key].to_numpy()\n",
    "\n",
    "    regress = LinearRegression().fit(X_arr, Y)\n",
    "    df[\"hat_Y\"] = regress.intercept_ + X_arr.dot(regress.coef_) \n",
    "  \n",
    "  elif isinstance(df, np.ndarray):\n",
    "    Y = df[:, 0]\n",
    "    X_arr = df[:, 1:]\n",
    "\n",
    "\n",
    "    regress = LinearRegression().fit(X_arr, Y)\n",
    "    Y_hat = regress.intercept_ + X_arr.dot(regress.coef_)\n",
    "    df = np.column_stack([df, Y_hat])\n",
    "\n",
    "  return regress, df\n"
   ]
  },
  {
   "cell_type": "markdown",
   "metadata": {},
   "source": [
    "### Get Minitab output correlation"
   ]
  },
  {
   "cell_type": "code",
   "execution_count": 5,
   "metadata": {},
   "outputs": [],
   "source": [
    "def get_minitab_corr(df, n_vars=2, new_column=None):\n",
    "  \"\"\"\n",
    "  new_column (dict) : a dictionary mapping to rename df header\n",
    "  \"\"\"\n",
    "  \n",
    "  data_struct = np.zeros((len(df), 1+n_vars))\n",
    "  data_struct[:, 0] = df['Y']\n",
    "  for i in range(n_vars):\n",
    "    key = f\"X_{i+1}\"\n",
    "    data_struct[:, i+1] = df[key]\n",
    "\n",
    "  # -- compute correlation matrix\n",
    "  corr_matrix = np.corrcoef(data_struct, rowvar=False)\n",
    "  corr_matrix = corr_matrix[1:, 0:-1]    # only show lower triangle part of correlation matrix\n",
    "\n",
    "  # -- create tabular form for correlation \n",
    "  data = []\n",
    "  for i in range(n_vars):\n",
    "    data_row = [new_column[i+1]] + \\\n",
    "      [f\"{corr:.3f}\" if j < i+1 else \"\" for j, corr in enumerate(corr_matrix[i,:])]\n",
    "    #print(data_row)\n",
    "    #print([type(data_row_i) for data_row_i in data_row])\n",
    "    data.append(data_row)\n",
    "\n",
    "  table_corr = tabulate.tabulate(data, tablefmt='html', \n",
    "    headers=[\"\"] + new_column[:n_vars], \n",
    "    floatfmt=[\"None\"] + [\".3f\"]*(n_vars))\n",
    "\n",
    "  print(f\"Correlations: {', '.join(new_column)}\")\n",
    "  display(table_corr)\n"
   ]
  },
  {
   "cell_type": "markdown",
   "metadata": {},
   "source": [
    "### Get stepwise regression table"
   ]
  },
  {
   "cell_type": "code",
   "execution_count": 12,
   "metadata": {},
   "outputs": [],
   "source": [
    "def get_stepwise_regress_table(df, predictors=None, significance_lvl=0.05):\n",
    "\n",
    "  num_of_samples = len(df)\n",
    "  num_of_vars = len(predictors)\n",
    "\n",
    "  data_struct = np.zeros((num_of_samples, 1+num_of_vars))\n",
    "  data_struct[:, 0] = df[\"Y\"]\n",
    "\n",
    "  for i, predictor in enumerate(predictors):\n",
    "    data_struct[:, i+1] = df[predictor]\n",
    "\n",
    "  # -- compute regression coefficients\n",
    "  regress, _ = get_multiple_regress_coeff(data_struct, n_vars=len(predictors))\n",
    "\n",
    "  b_arr = [regress.intercept_] + regress.coef_.tolist()\n",
    "\n",
    "  # -- compute cofactor matrix \n",
    "  X_arr = np.ones_like(data_struct)\n",
    "  X_arr[:,1:] = data_struct[:,1:]\n",
    "  cofactor_matrix = np.linalg.inv(X_arr.transpose().dot(X_arr))   # this matrix is closely related to covariance matrix\n",
    "\n",
    "  # -- compute standard error of the estimate\n",
    "  hat_Y =  b_arr[0] + data_struct[:,1:].dot(b_arr[1:])\n",
    "  sumSq_Y_hat_Y = ((data_struct[:, 0] - hat_Y)**2).sum()\n",
    "  s_yxs = np.sqrt(sumSq_Y_hat_Y/(num_of_samples - num_of_vars - 1))\n",
    "\n",
    "  # -- compute t-score and p-value\n",
    "  SE_coef = np.zeros(1+num_of_vars)\n",
    "  t_scores = np.zeros(1+num_of_vars)\n",
    "  p_values = np.zeros(1+num_of_vars)\n",
    "  dof = num_of_samples - num_of_vars - 1;          # degrees of freedom\n",
    "  for i in range(1+num_of_vars):\n",
    "    SE_coef[i] = s_yxs*np.sqrt(cofactor_matrix[i, i])\n",
    "    t_scores[i] = b_arr[i] / SE_coef[i]\n",
    "    p_values[i] = sc_stats.t.sf(abs(t_scores[i]), dof) * 2   # .t.sf is a surfifal function (1 - cdf)\n",
    "\n",
    "  t_scores = t_scores[1:]     # exclude t_scores for intercept\n",
    "  p_values = p_values[1:]     # exclude p_values for intercept\n",
    "\n",
    "  # -- compute t_score_min and t_score_max for given significance_lvl\n",
    "  l_bound = sc_stats.t.ppf(significance_lvl/2, dof)\n",
    "  u_bound = sc_stats.t.ppf(1-significance_lvl/2, dof)\n",
    "\n",
    "\n",
    "  # -- compute R_sq and adj_R_sq\n",
    "  meanY = data_struct[:, 0].mean()\n",
    "  SST = ((data_struct[:, 0] - meanY)**2).sum()\n",
    "  SSR = ((hat_Y - meanY)**2).sum()\n",
    "  R_sq = SSR/SST\n",
    "  adj_R_sq = 1 - (1 - R_sq)*(num_of_samples - 1) / (num_of_samples - num_of_vars - 1)\n",
    "\n",
    "  out_dict = {\n",
    "    \"b_arr\": b_arr,\n",
    "    \"l_u_bound\": [l_bound, u_bound],\n",
    "    \"t_scores\": t_scores,\n",
    "    \"p_values\": p_values,\n",
    "    \"s_yxs\": s_yxs,\n",
    "    \"R_sq\": R_sq,\n",
    "    \"adj_R_sq\": adj_R_sq}\n",
    "\n",
    "  return out_dict"
   ]
  },
  {
   "cell_type": "markdown",
   "metadata": {},
   "source": [
    "## Load the data"
   ]
  },
  {
   "cell_type": "code",
   "execution_count": 7,
   "metadata": {},
   "outputs": [
    {
     "data": {
      "text/html": [
       "<div>\n",
       "<style scoped>\n",
       "    .dataframe tbody tr th:only-of-type {\n",
       "        vertical-align: middle;\n",
       "    }\n",
       "\n",
       "    .dataframe tbody tr th {\n",
       "        vertical-align: top;\n",
       "    }\n",
       "\n",
       "    .dataframe thead th {\n",
       "        text-align: right;\n",
       "    }\n",
       "</style>\n",
       "<table border=\"1\" class=\"dataframe\">\n",
       "  <thead>\n",
       "    <tr style=\"text-align: right;\">\n",
       "      <th></th>\n",
       "      <th>One Month’s Sales (units)</th>\n",
       "      <th>Aptitude Test Score</th>\n",
       "      <th>Age (years)</th>\n",
       "      <th>Anxiety Test Score</th>\n",
       "      <th>Experience (years)</th>\n",
       "      <th>High School GPA</th>\n",
       "    </tr>\n",
       "  </thead>\n",
       "  <tbody>\n",
       "    <tr>\n",
       "      <th>0</th>\n",
       "      <td>44</td>\n",
       "      <td>10</td>\n",
       "      <td>22.1</td>\n",
       "      <td>4.9</td>\n",
       "      <td>0</td>\n",
       "      <td>2.4</td>\n",
       "    </tr>\n",
       "    <tr>\n",
       "      <th>1</th>\n",
       "      <td>47</td>\n",
       "      <td>19</td>\n",
       "      <td>22.5</td>\n",
       "      <td>3.0</td>\n",
       "      <td>1</td>\n",
       "      <td>2.6</td>\n",
       "    </tr>\n",
       "    <tr>\n",
       "      <th>2</th>\n",
       "      <td>60</td>\n",
       "      <td>27</td>\n",
       "      <td>23.1</td>\n",
       "      <td>1.5</td>\n",
       "      <td>0</td>\n",
       "      <td>2.8</td>\n",
       "    </tr>\n",
       "    <tr>\n",
       "      <th>3</th>\n",
       "      <td>71</td>\n",
       "      <td>31</td>\n",
       "      <td>24.0</td>\n",
       "      <td>0.6</td>\n",
       "      <td>3</td>\n",
       "      <td>2.7</td>\n",
       "    </tr>\n",
       "    <tr>\n",
       "      <th>4</th>\n",
       "      <td>61</td>\n",
       "      <td>64</td>\n",
       "      <td>22.6</td>\n",
       "      <td>1.8</td>\n",
       "      <td>2</td>\n",
       "      <td>2.0</td>\n",
       "    </tr>\n",
       "  </tbody>\n",
       "</table>\n",
       "</div>"
      ],
      "text/plain": [
       "   One Month’s Sales (units)  Aptitude Test Score  Age (years)  \\\n",
       "0                         44                   10         22.1   \n",
       "1                         47                   19         22.5   \n",
       "2                         60                   27         23.1   \n",
       "3                         71                   31         24.0   \n",
       "4                         61                   64         22.6   \n",
       "\n",
       "   Anxiety Test Score  Experience (years)  High School GPA  \n",
       "0                 4.9                   0              2.4  \n",
       "1                 3.0                   1              2.6  \n",
       "2                 1.5                   0              2.8  \n",
       "3                 0.6                   3              2.7  \n",
       "4                 1.8                   2              2.0  "
      ]
     },
     "execution_count": 7,
     "metadata": {},
     "output_type": "execute_result"
    }
   ],
   "source": [
    "filename = \"06-table-13-zurenko-pharmaceutical-data.ods\"\n",
    "\n",
    "df = read_ods(filename)\n",
    "\n",
    "df.head()\n"
   ]
  },
  {
   "cell_type": "markdown",
   "metadata": {},
   "source": [
    "## Observation to the correlation matrix"
   ]
  },
  {
   "cell_type": "code",
   "execution_count": 8,
   "metadata": {},
   "outputs": [
    {
     "name": "stdout",
     "output_type": "stream",
     "text": [
      "header: ['One Month’s Sales (units)', 'Aptitude Test Score', 'Age (years)', 'Anxiety Test Score', 'Experience (years)', 'High School GPA']\n"
     ]
    },
    {
     "data": {
      "text/html": [
       "<div>\n",
       "<style scoped>\n",
       "    .dataframe tbody tr th:only-of-type {\n",
       "        vertical-align: middle;\n",
       "    }\n",
       "\n",
       "    .dataframe tbody tr th {\n",
       "        vertical-align: top;\n",
       "    }\n",
       "\n",
       "    .dataframe thead th {\n",
       "        text-align: right;\n",
       "    }\n",
       "</style>\n",
       "<table border=\"1\" class=\"dataframe\">\n",
       "  <thead>\n",
       "    <tr style=\"text-align: right;\">\n",
       "      <th></th>\n",
       "      <th>Y</th>\n",
       "      <th>X_1</th>\n",
       "      <th>X_2</th>\n",
       "      <th>X_3</th>\n",
       "      <th>X_4</th>\n",
       "      <th>X_5</th>\n",
       "    </tr>\n",
       "  </thead>\n",
       "  <tbody>\n",
       "    <tr>\n",
       "      <th>0</th>\n",
       "      <td>44</td>\n",
       "      <td>10</td>\n",
       "      <td>22.1</td>\n",
       "      <td>4.9</td>\n",
       "      <td>0</td>\n",
       "      <td>2.4</td>\n",
       "    </tr>\n",
       "    <tr>\n",
       "      <th>1</th>\n",
       "      <td>47</td>\n",
       "      <td>19</td>\n",
       "      <td>22.5</td>\n",
       "      <td>3.0</td>\n",
       "      <td>1</td>\n",
       "      <td>2.6</td>\n",
       "    </tr>\n",
       "    <tr>\n",
       "      <th>2</th>\n",
       "      <td>60</td>\n",
       "      <td>27</td>\n",
       "      <td>23.1</td>\n",
       "      <td>1.5</td>\n",
       "      <td>0</td>\n",
       "      <td>2.8</td>\n",
       "    </tr>\n",
       "    <tr>\n",
       "      <th>3</th>\n",
       "      <td>71</td>\n",
       "      <td>31</td>\n",
       "      <td>24.0</td>\n",
       "      <td>0.6</td>\n",
       "      <td>3</td>\n",
       "      <td>2.7</td>\n",
       "    </tr>\n",
       "    <tr>\n",
       "      <th>4</th>\n",
       "      <td>61</td>\n",
       "      <td>64</td>\n",
       "      <td>22.6</td>\n",
       "      <td>1.8</td>\n",
       "      <td>2</td>\n",
       "      <td>2.0</td>\n",
       "    </tr>\n",
       "  </tbody>\n",
       "</table>\n",
       "</div>"
      ],
      "text/plain": [
       "    Y  X_1   X_2  X_3  X_4  X_5\n",
       "0  44   10  22.1  4.9    0  2.4\n",
       "1  47   19  22.5  3.0    1  2.6\n",
       "2  60   27  23.1  1.5    0  2.8\n",
       "3  71   31  24.0  0.6    3  2.7\n",
       "4  61   64  22.6  1.8    2  2.0"
      ]
     },
     "execution_count": 8,
     "metadata": {},
     "output_type": "execute_result"
    }
   ],
   "source": [
    "df_minitab = df.copy()\n",
    "from_column_names = df_minitab.columns.to_list()\n",
    "print(f\"header: {from_column_names}\")\n",
    "to_column_names = [\"Y\"] + [f\"X_{i+1}\" for i in range(len(from_column_names) - 1)]\n",
    "\n",
    "\n",
    "df_minitab = df_minitab.rename(columns=\n",
    "  {k: v for k, v in zip(from_column_names, to_column_names)})\n",
    "\n",
    "df_minitab.head()"
   ]
  },
  {
   "cell_type": "code",
   "execution_count": 9,
   "metadata": {},
   "outputs": [
    {
     "name": "stdout",
     "output_type": "stream",
     "text": [
      "Correlations: Sales, Aptitude, Age, Anxiety, Experience, GPA\n"
     ]
    },
    {
     "data": {
      "text/html": [
       "<table>\n",
       "<thead>\n",
       "<tr><th>          </th><th style=\"text-align: right;\">  Sales</th><th>Aptitude  </th><th>Age   </th><th>Anxiety  </th><th>Experience  </th></tr>\n",
       "</thead>\n",
       "<tbody>\n",
       "<tr><td>Aptitude  </td><td style=\"text-align: right;\">  0.676</td><td>          </td><td>      </td><td>         </td><td>            </td></tr>\n",
       "<tr><td>Age       </td><td style=\"text-align: right;\">  0.798</td><td>0.228     </td><td>      </td><td>         </td><td>            </td></tr>\n",
       "<tr><td>Anxiety   </td><td style=\"text-align: right;\"> -0.296</td><td>-0.222    </td><td>-0.287</td><td>         </td><td>            </td></tr>\n",
       "<tr><td>Experience</td><td style=\"text-align: right;\">  0.550</td><td>0.350     </td><td>0.540 </td><td>-0.279   </td><td>            </td></tr>\n",
       "<tr><td>GPA       </td><td style=\"text-align: right;\">  0.622</td><td>0.318     </td><td>0.695 </td><td>-0.244   </td><td>0.312       </td></tr>\n",
       "</tbody>\n",
       "</table>"
      ],
      "text/plain": [
       "'<table>\\n<thead>\\n<tr><th>          </th><th style=\"text-align: right;\">  Sales</th><th>Aptitude  </th><th>Age   </th><th>Anxiety  </th><th>Experience  </th></tr>\\n</thead>\\n<tbody>\\n<tr><td>Aptitude  </td><td style=\"text-align: right;\">  0.676</td><td>          </td><td>      </td><td>         </td><td>            </td></tr>\\n<tr><td>Age       </td><td style=\"text-align: right;\">  0.798</td><td>0.228     </td><td>      </td><td>         </td><td>            </td></tr>\\n<tr><td>Anxiety   </td><td style=\"text-align: right;\"> -0.296</td><td>-0.222    </td><td>-0.287</td><td>         </td><td>            </td></tr>\\n<tr><td>Experience</td><td style=\"text-align: right;\">  0.550</td><td>0.350     </td><td>0.540 </td><td>-0.279   </td><td>            </td></tr>\\n<tr><td>GPA       </td><td style=\"text-align: right;\">  0.622</td><td>0.318     </td><td>0.695 </td><td>-0.244   </td><td>0.312       </td></tr>\\n</tbody>\\n</table>'"
      ]
     },
     "metadata": {},
     "output_type": "display_data"
    }
   ],
   "source": [
    "column_name = [\"Sales\", \"Aptitude\", \"Age\", \"Anxiety\", \"Experience\", \"GPA\"]\n",
    "out_dict = get_minitab_corr(df_minitab, n_vars=len(column_name)-1, \n",
    "  new_column=column_name)\n"
   ]
  },
  {
   "cell_type": "markdown",
   "metadata": {},
   "source": [
    "The `Age` variable will enter the model first because\n",
    "it has the largest correlation with sales ($r_{1,3} = .798$)\n",
    "and will explain $63.7\\%$ ($= .798^2$) of the variation in sales.\n",
    "\n",
    "The `Aptitude` test score will probably enter the model\n",
    "second because it is strongly related to `Salses` ($r_{1,2} = .676$)\n",
    "but not highly related to the `Age` variable ($r_{2,3} = .228$)\n",
    "already in the model.\n",
    "\n",
    "The other variables will probably not qualify as good\n",
    "predictor variables. The `Anxiety` test score will not be \n",
    "a good predictor because it is not well related to `Sales` \n",
    "($r_{1,4} = -.296$). The `Experience` and `GPA` variables\n",
    "might have potential as good predictor variables \n",
    "($r_{1,5} = .550$ and $r_{1,6} = .622$, respectively).\n",
    "However, both of these predictor variables have a potential\n",
    "multicollinearity problem with the `Age` variable\n",
    "($r_{3,5} = .540$ and $r_{3,6} = .695$, respectively)."
   ]
  },
  {
   "cell_type": "markdown",
   "metadata": {},
   "source": [
    "## Stepwise regression"
   ]
  },
  {
   "cell_type": "code",
   "execution_count": 10,
   "metadata": {},
   "outputs": [
    {
     "data": {
      "text/plain": [
       "['Sales', 'Aptitude', 'Age', 'Anxiety', 'Experience', 'GPA']"
      ]
     },
     "execution_count": 10,
     "metadata": {},
     "output_type": "execute_result"
    }
   ],
   "source": [
    "column_name"
   ]
  },
  {
   "cell_type": "markdown",
   "metadata": {},
   "source": [
    "### Step 1. Add (`Age` = `X_2`) predictor"
   ]
  },
  {
   "cell_type": "code",
   "execution_count": 13,
   "metadata": {},
   "outputs": [
    {
     "data": {
      "text/plain": [
       "{'b_arr': [-100.8525512677303, 6.967985331000906],\n",
       " 'l_u_bound': [-2.048407141795244, 2.048407141795244],\n",
       " 't_scores': array([7.010065]),\n",
       " 'p_values': array([1.26680515e-07]),\n",
       " 's_yxs': 6.846830261718064,\n",
       " 'R_sq': 0.6370283522612091,\n",
       " 'adj_R_sq': 0.6240650791276809}"
      ]
     },
     "execution_count": 13,
     "metadata": {},
     "output_type": "execute_result"
    }
   ],
   "source": [
    "stepwise_out_dict = get_stepwise_regress_table(df_minitab, predictors=[\"X_2\"])\n",
    "\n",
    "stepwise_out_dict"
   ]
  },
  {
   "cell_type": "markdown",
   "metadata": {},
   "source": [
    "### Step 2. Add (`Aptitude` = `X_1`) predictor"
   ]
  },
  {
   "cell_type": "code",
   "execution_count": 14,
   "metadata": {},
   "outputs": [
    {
     "data": {
      "text/plain": [
       "{'b_arr': [-86.79153589150668, 5.931446523233715, 0.19973462539954492],\n",
       " 'l_u_bound': [-2.051830516480284, 2.0518305164802833],\n",
       " 't_scores': array([10.59875045,  8.13401176]),\n",
       " 'p_values': array([4.0191891e-11, 9.7567780e-09]),\n",
       " 's_yxs': 3.753607274840936,\n",
       " 'R_sq': 0.8948045448411508,\n",
       " 'adj_R_sq': 0.8870122889034583}"
      ]
     },
     "execution_count": 14,
     "metadata": {},
     "output_type": "execute_result"
    }
   ],
   "source": [
    "stepwise_out_dict = get_stepwise_regress_table(df_minitab, predictors=[\"X_2\", \"X_1\"])\n",
    "stepwise_out_dict"
   ]
  },
  {
   "cell_type": "markdown",
   "metadata": {},
   "source": [
    "### Step 3. Add one by one the other predictors"
   ]
  },
  {
   "cell_type": "markdown",
   "metadata": {},
   "source": [
    "**Add `X_3`** "
   ]
  },
  {
   "cell_type": "code",
   "execution_count": 15,
   "metadata": {},
   "outputs": [
    {
     "data": {
      "text/plain": [
       "{'b_arr': [-87.96559019781101,\n",
       "  5.967394914312336,\n",
       "  0.20078074412577457,\n",
       "  0.11809607347611023],\n",
       " 'l_u_bound': [-2.0555294386428713, 2.055529438642871],\n",
       " 't_scores': array([10.14630787,  7.91894399,  0.24564281]),\n",
       " 'p_values': array([1.56538358e-10, 2.13994676e-08, 8.07887465e-01]),\n",
       " 's_yxs': 3.820680063406125,\n",
       " 'R_sq': 0.8950481155270208,\n",
       " 'adj_R_sq': 0.8829382827032155}"
      ]
     },
     "execution_count": 15,
     "metadata": {},
     "output_type": "execute_result"
    }
   ],
   "source": [
    "stepwise_out_dict = get_stepwise_regress_table(df_minitab, predictors=[\"X_2\", \"X_1\", \"X_3\"])\n",
    "stepwise_out_dict"
   ]
  },
  {
   "cell_type": "markdown",
   "metadata": {},
   "source": [
    "`t_score` of `X_3` is not significant because it is less than `u_bound` ($.246 < 2.48$)"
   ]
  },
  {
   "cell_type": "markdown",
   "metadata": {},
   "source": [
    "**Add `X_4`**"
   ]
  },
  {
   "cell_type": "code",
   "execution_count": 16,
   "metadata": {},
   "outputs": [
    {
     "data": {
      "text/plain": [
       "{'b_arr': [-86.66563588347951,\n",
       "  5.925374777116987,\n",
       "  0.1996032723723494,\n",
       "  0.013497438664147612],\n",
       " 'l_u_bound': [-2.0555294386428713, 2.055529438642871],\n",
       " 't_scores': array([8.97280457, 7.66551432, 0.01823631]),\n",
       " 'p_values': array([1.92610334e-09, 3.90272431e-08, 9.85589563e-01]),\n",
       " 's_yxs': 3.8250865182071268,\n",
       " 'R_sq': 0.8948058903669457,\n",
       " 'adj_R_sq': 0.8826681084862087}"
      ]
     },
     "execution_count": 16,
     "metadata": {},
     "output_type": "execute_result"
    }
   ],
   "source": [
    "stepwise_out_dict = get_stepwise_regress_table(df_minitab, predictors=[\"X_2\", \"X_1\", \"X_4\"])\n",
    "stepwise_out_dict\n"
   ]
  },
  {
   "cell_type": "markdown",
   "metadata": {},
   "source": [
    "`t_score` of `X_4` is not significant because it is less than `u_bound` ($.018 < 2.48$)\n"
   ]
  },
  {
   "cell_type": "markdown",
   "metadata": {},
   "source": [
    "**Add `X_5`**"
   ]
  },
  {
   "cell_type": "code",
   "execution_count": 17,
   "metadata": {},
   "outputs": [
    {
     "data": {
      "text/plain": [
       "{'b_arr': [-89.41503185705032,\n",
       "  6.115969323111187,\n",
       "  0.2018115766766686,\n",
       "  -0.5922575098269571],\n",
       " 'l_u_bound': [-2.0555294386428713, 2.055529438642871],\n",
       " 't_scores': array([ 7.94222859,  7.87189447, -0.35556039]),\n",
       " 'p_values': array([2.02585848e-08, 2.39097951e-08, 7.25038367e-01]),\n",
       " 's_yxs': 3.8158450904814796,\n",
       " 'R_sq': 0.8953135753067099,\n",
       " 'adj_R_sq': 0.883234372457484}"
      ]
     },
     "execution_count": 17,
     "metadata": {},
     "output_type": "execute_result"
    }
   ],
   "source": [
    "stepwise_out_dict = get_stepwise_regress_table(df_minitab, predictors=[\"X_2\", \"X_1\", \"X_5\"])\n",
    "stepwise_out_dict"
   ]
  },
  {
   "cell_type": "markdown",
   "metadata": {},
   "source": [
    "`t_score` of `X_5` is not significant because it is greater than `l_bound` ($-2.048 < -0.356$)"
   ]
  },
  {
   "cell_type": "markdown",
   "metadata": {},
   "source": []
  }
 ],
 "metadata": {
  "kernelspec": {
   "display_name": "Python 3.8.10 ('base')",
   "language": "python",
   "name": "python3"
  },
  "language_info": {
   "codemirror_mode": {
    "name": "ipython",
    "version": 3
   },
   "file_extension": ".py",
   "mimetype": "text/x-python",
   "name": "python",
   "nbconvert_exporter": "python",
   "pygments_lexer": "ipython3",
   "version": "3.8.10"
  },
  "orig_nbformat": 4,
  "vscode": {
   "interpreter": {
    "hash": "b68217c4fa6011267e0d81cc47bb50822e9770eb46de3a1f506be20c9f89249d"
   }
  }
 },
 "nbformat": 4,
 "nbformat_minor": 2
}
