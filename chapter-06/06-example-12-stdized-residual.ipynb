{
 "cells": [
  {
   "cell_type": "markdown",
   "metadata": {},
   "source": [
    "# Example 12\n",
    "\n",
    "In this example we do not have the data.    \n",
    "Then, we use the data from `(Sharpe, 2021) - Business statistics`, Table 19.1"
   ]
  },
  {
   "cell_type": "code",
   "execution_count": 14,
   "metadata": {},
   "outputs": [],
   "source": [
    "import matplotlib.pyplot as plt\n",
    "import numpy as np\n",
    "import pandas as pd\n",
    "import tabulate\n",
    "import scipy.stats as sc_stats\n",
    "import itertools\n",
    "\n",
    "from IPython.display import display\n",
    "\n",
    "from sklearn.linear_model import LinearRegression\n",
    "from sklearn.preprocessing import PolynomialFeatures\n",
    "from sklearn.pipeline import Pipeline\n",
    "\n",
    "import plotly.graph_objects as go"
   ]
  },
  {
   "cell_type": "code",
   "execution_count": 3,
   "metadata": {},
   "outputs": [],
   "source": [
    "plt.rcParams.update(plt.rcParamsDefault)\n",
    "plt.rcParams.update({\n",
    "  'font.size': 12,\n",
    "  'grid.alpha': 0.25})"
   ]
  },
  {
   "cell_type": "markdown",
   "metadata": {},
   "source": [
    "## Function declarations\n",
    "\n"
   ]
  },
  {
   "cell_type": "markdown",
   "metadata": {},
   "source": [
    "### Read `ods` to `DataFrame`"
   ]
  },
  {
   "cell_type": "code",
   "execution_count": 4,
   "metadata": {},
   "outputs": [],
   "source": [
    "def read_ods(filename, columns=None):\n",
    "  if columns is None:\n",
    "    df = pd.read_excel(filename, engine=\"odf\", header=0)\n",
    "  elif isinstance(columns, list):\n",
    "    df = pd.read_excel(filename, engine=\"odf\", header=0,\n",
    "                       usecols=columns)\n",
    "  else:\n",
    "    key_arr = (k for k in columns.keys())\n",
    "    df = pd.read_excel(filename, engine=\"odf\", header=0,\n",
    "                      usecols=key_arr)\n",
    "    df = df.rename(columns=columns)\n",
    "  return df"
   ]
  },
  {
   "cell_type": "markdown",
   "metadata": {},
   "source": [
    "### Get multiple regression coefficients"
   ]
  },
  {
   "cell_type": "code",
   "execution_count": 5,
   "metadata": {},
   "outputs": [],
   "source": [
    "def get_multiple_regress_coeff(df, n_vars=2):\n",
    "  \n",
    "  if isinstance(df, pd.DataFrame):\n",
    "    num_of_samples = len(df)\n",
    "    X_arr = np.zeros((num_of_samples, n_vars))\n",
    "    Y = df[\"Y\"].to_numpy()\n",
    "\n",
    "    for i in range(n_vars):\n",
    "      key = f\"X_{i+1}\"\n",
    "      X_arr[:, i] = df[key].to_numpy()\n",
    "\n",
    "    regress = LinearRegression().fit(X_arr, Y)\n",
    "    df[\"hat_Y\"] = regress.intercept_ + X_arr.dot(regress.coef_) \n",
    "  \n",
    "  elif isinstance(df, np.ndarray):\n",
    "    Y = df[:, 0]\n",
    "    X_arr = df[:, 1:]\n",
    "\n",
    "\n",
    "    regress = LinearRegression().fit(X_arr, Y)\n",
    "    Y_hat = regress.intercept_ + X_arr.dot(regress.coef_)\n",
    "    df = np.column_stack([df, Y_hat])\n",
    "\n",
    "  return regress, df\n"
   ]
  },
  {
   "cell_type": "markdown",
   "metadata": {},
   "source": [
    "### Get Minitab output of Regression Analysis"
   ]
  },
  {
   "cell_type": "code",
   "execution_count": 6,
   "metadata": {},
   "outputs": [],
   "source": [
    "def get_minitab_out(df, n_vars=2, new_column=None, withVIF=False):\n",
    "  \"\"\"\n",
    "  new_column (dict) : a dictionary mapping to rename df header\n",
    "  \"\"\"\n",
    "  \n",
    "  data_struct = np.zeros((len(df), 1+n_vars))\n",
    "  data_struct[:, 0] = df['Y']\n",
    "  for i in range(n_vars):\n",
    "    key = f\"X_{i+1}\"\n",
    "    data_struct[:, i+1] = df[key]\n",
    "\n",
    "  # -- compute correlation matrix\n",
    "  corr_matrix = np.corrcoef(data_struct, rowvar=False)\n",
    "  corr_matrix = corr_matrix[1:, 0:-1]    # only show lower triangle part of correlation matrix\n",
    "\n",
    "  # -- compute regression intercept and coefficients\n",
    "  regress, _ = get_multiple_regress_coeff(df, n_vars=n_vars)\n",
    "  b_arr = [regress.intercept_] + regress.coef_.tolist()\n",
    "  is_positive_b_arr = [b_j > 0 for b_j in b_arr]\n",
    "\n",
    "  # -- compute cofactor matrix \n",
    "  X_arr = np.ones_like(data_struct)\n",
    "  X_arr[:,1:] = data_struct[:,1:]\n",
    "  cofactor_matrix = np.linalg.inv(X_arr.transpose().dot(X_arr))   # this matrix is closely related to covariance matrix\n",
    "\n",
    "  # -- compute standad error of the estimates\n",
    "  num_of_samples = len(df)\n",
    "  hat_Y =  regress.intercept_ + data_struct[:,1:].dot(regress.coef_)\n",
    "  sumSq_Y_hat_Y = ((data_struct[:, 0] - hat_Y)**2).sum()\n",
    "  s_yxs = np.sqrt(sumSq_Y_hat_Y/(num_of_samples - n_vars - 1))\n",
    "\n",
    "  # -- compute standard error of intercept_ and coef_\n",
    "  # -- compute t-score of intecept_ and coef_\n",
    "  # -- compute p-values of intercept_ and coef_\n",
    "  SE_coef = np.zeros(1+n_vars)\n",
    "  t_scores = np.zeros(1+n_vars)\n",
    "  p_values = np.zeros(1+n_vars)\n",
    "  dof = num_of_samples - n_vars - 1;          # degrees of freedom\n",
    "  for i in range(1+n_vars):\n",
    "    SE_coef[i] = s_yxs*np.sqrt(cofactor_matrix[i, i])\n",
    "    t_scores[i] = b_arr[i] / SE_coef[i]\n",
    "    p_values[i] = sc_stats.t.sf(abs(t_scores[i]), dof) * 2   # .t.sf is a surfifal function (1 - cdf)\n",
    "\n",
    "  # -- compute VIF of coef_\n",
    "  if withVIF:\n",
    "    # if n_vars == 2, we calculate VIF from correlation matrix\n",
    "    VIF_arr = np.zeros(n_vars)\n",
    "    if n_vars == 2:\n",
    "      VIF_arr[0] = 1/(1-corr_matrix[1, 1]**2)\n",
    "      VIF_arr[1] = 1/(1-corr_matrix[1, 1]**2)\n",
    "    else:\n",
    "      for i in range(n_vars):\n",
    "        # take a predictor column and put the other predictor after it\n",
    "        predictor_data_struct = np.zeros((num_of_samples, n_vars))\n",
    "        predictor_data_struct[:,0] = data_struct[:, i+1]   \n",
    "        predictor_data_struct[:,1:] = np.delete(data_struct, i+1, axis=1)[:,1:]  \n",
    "        #print(predictor_data_struct)\n",
    "        predictor_SST, predictor_SSR, _ = get_sumSq(predictor_data_struct, n_vars=n_vars)\n",
    "        predictor_R_sq = predictor_SSR/predictor_SST\n",
    "        #print(predictor_R_sq)\n",
    "        VIF_arr[i] = 1/(1 - predictor_R_sq)\n",
    "\n",
    "\n",
    "  # -- compute ANOVA table\n",
    "  meanY = data_struct[:, 0].mean()\n",
    "  SST = ((data_struct[:, 0] - meanY)**2).sum()\n",
    "  SSR = ((hat_Y - meanY)**2).sum()\n",
    "  SSE = ((data_struct[:, 0] - hat_Y)**2).sum()\n",
    "  anova_sumSq = np.array([SSR, SSE, SST])\n",
    "  anova_dof = np.array([n_vars, num_of_samples - n_vars - 1, num_of_samples - 1], dtype=int)\n",
    "  anova_meanSq = (anova_sumSq/anova_dof)[:2]\n",
    "  anova_F_score = anova_meanSq[0] / anova_meanSq[1]\n",
    "  anova_p_value = sc_stats.f.sf(anova_F_score, anova_dof[0], anova_dof[1])   # sf is a surfifal function (1 - cdf)\n",
    "\n",
    "  # -- compute R_sq (coefficient of determination)\n",
    "  R_sq = SSR/SST\n",
    "\n",
    "  # -- compute adjusted R_sq\n",
    "  adj_R_sq = 1 - (1 - R_sq)*(num_of_samples-1)/(num_of_samples-n_vars-1)\n",
    "\n",
    "  # -- create tabular form for correlation \n",
    "  data = []\n",
    "  for i in range(n_vars):\n",
    "    data_row = [new_column[i+1]] + \\\n",
    "      [f\"{corr:.3f}\" if j < i+1 else \"\" for j, corr in enumerate(corr_matrix[i,:])]\n",
    "    #print(data_row)\n",
    "    #print([type(data_row_i) for data_row_i in data_row])\n",
    "    data.append(data_row)\n",
    "\n",
    "  table_corr = tabulate.tabulate(data, tablefmt='html', \n",
    "    headers=[\"\"] + new_column[:n_vars], \n",
    "    floatfmt=[\"None\"] + [\".3f\"]*(n_vars))\n",
    "\n",
    "  print(f\"Correlations: {', '.join(new_column)}\")\n",
    "  display(table_corr)\n",
    "\n",
    "  # -- create tabular form for predictor\n",
    "  data = [[\"Constant\", b_arr[0], SE_coef[0], t_scores[0], p_values[0]]]\n",
    "  if withVIF:\n",
    "    for i in range(1, n_vars+1):\n",
    "      data_row = [new_column[i], b_arr[i], SE_coef[i], t_scores[i], p_values[i], VIF_arr[i-1]]\n",
    "      data.append(data_row)\n",
    "    table_predictor = tabulate.tabulate(data, tablefmt='html', \n",
    "      headers=[\"Predictor\", \"Coef\", \"SE Coef\", \"t-score\", \"p-value\", \"VIF\"], \n",
    "      floatfmt=[None, \".4f\", \".4f\", \".2f\", \".4f\", \".3f\"])\n",
    "  else:\n",
    "    for i in range(1, n_vars+1):\n",
    "      data_row = [new_column[i], b_arr[i], SE_coef[i], t_scores[i], p_values[i]]\n",
    "      data.append(data_row)\n",
    "    table_predictor = tabulate.tabulate(data, tablefmt='html', \n",
    "      headers=[\"Predictor\", \"Coef\", \"SE Coef\", \"t-score\", \"p-value\"], \n",
    "      floatfmt=[None, \".4f\", \".4f\", \".2f\", \".4f\"])\n",
    "\n",
    "\n",
    "  print(f\"Regression Analysis: {new_column[0]} versus {', '.join(new_column[1:])}\")\n",
    "  print(\"The regression equation is\")\n",
    "  str_b_predictor = \"\" \n",
    "  for i in range(n_vars):\n",
    "    sign = \"+\" if is_positive_b_arr[i+1] else \"-\"\n",
    "    str_b_predictor += f\" {sign} {abs(b_arr[i+1]):.3f} {new_column[i+1]}\"\n",
    "  print(f\"{new_column[0]} = {b_arr[0]:.3f}{str_b_predictor}\")\n",
    "  display(table_predictor)\n",
    "  print(f\"s_yxs = {s_yxs:.4f}   R_sq = {R_sq*100:.1f}%   R-sq(adj) = {adj_R_sq*100:.1f}%\")\n",
    "\n",
    "  # -- create ANOVA table (with F-score and its p-value)\n",
    "  data = [\n",
    "    [\"Regression\",     anova_dof[0], anova_sumSq[0], f\"{anova_meanSq[0]:.3f}\", f\"{anova_F_score:.3f}\", f\"{anova_p_value:.4f}\"],\n",
    "    [\"Residual error\", anova_dof[1], anova_sumSq[1], f\"{anova_meanSq[1]:.3f}\", \"\", \"\"],\n",
    "    [\"Total\",          anova_dof[2], anova_sumSq[2], \"\", \"\", \"\"]] \n",
    "  table_anova = tabulate.tabulate(data, tablefmt='html', \n",
    "    headers=[\"Source\", \"d.o.f\", \"sumSq\", \"meanSq\", \"F-score\", \"p-value\"], \n",
    "    floatfmt=[None, \".0f\", \".3f\", \"s\", \"s\", \"s\"])\n",
    "\n",
    "  print(f\"Analyis of Variance\")\n",
    "  display(table_anova)\n",
    "\n",
    "  return {\"regress\": regress, \"corr_matrix\": corr_matrix, \n",
    "    \"R_sq\": R_sq}\n"
   ]
  },
  {
   "cell_type": "markdown",
   "metadata": {},
   "source": [
    "## Load the data"
   ]
  },
  {
   "cell_type": "code",
   "execution_count": 150,
   "metadata": {},
   "outputs": [
    {
     "data": {
      "text/html": [
       "<div>\n",
       "<style scoped>\n",
       "    .dataframe tbody tr th:only-of-type {\n",
       "        vertical-align: middle;\n",
       "    }\n",
       "\n",
       "    .dataframe tbody tr th {\n",
       "        vertical-align: top;\n",
       "    }\n",
       "\n",
       "    .dataframe thead th {\n",
       "        text-align: right;\n",
       "    }\n",
       "</style>\n",
       "<table border=\"1\" class=\"dataframe\">\n",
       "  <thead>\n",
       "    <tr style=\"text-align: right;\">\n",
       "      <th></th>\n",
       "      <th>Name</th>\n",
       "      <th>Park</th>\n",
       "      <th>Track</th>\n",
       "      <th>Speed</th>\n",
       "      <th>Height</th>\n",
       "      <th>Drop</th>\n",
       "      <th>Length</th>\n",
       "      <th>Duration</th>\n",
       "      <th>Inversions</th>\n",
       "    </tr>\n",
       "  </thead>\n",
       "  <tbody>\n",
       "    <tr>\n",
       "      <th>0</th>\n",
       "      <td>Top Thrill Dragster</td>\n",
       "      <td>Cedar Point</td>\n",
       "      <td>Steel</td>\n",
       "      <td>120.0</td>\n",
       "      <td>420.0</td>\n",
       "      <td>400.0</td>\n",
       "      <td>2800.0</td>\n",
       "      <td>NaN</td>\n",
       "      <td>0</td>\n",
       "    </tr>\n",
       "    <tr>\n",
       "      <th>1</th>\n",
       "      <td>Superman The Escap</td>\n",
       "      <td>Six Flags Magic Mountain</td>\n",
       "      <td>Steel</td>\n",
       "      <td>100.0</td>\n",
       "      <td>415.0</td>\n",
       "      <td>328.1</td>\n",
       "      <td>1235.0</td>\n",
       "      <td>NaN</td>\n",
       "      <td>0</td>\n",
       "    </tr>\n",
       "    <tr>\n",
       "      <th>2</th>\n",
       "      <td>Millennium Force</td>\n",
       "      <td>Cedar Point</td>\n",
       "      <td>Steel</td>\n",
       "      <td>93.0</td>\n",
       "      <td>310.0</td>\n",
       "      <td>300.0</td>\n",
       "      <td>6595.0</td>\n",
       "      <td>165.0</td>\n",
       "      <td>0</td>\n",
       "    </tr>\n",
       "    <tr>\n",
       "      <th>3</th>\n",
       "      <td>Goliath</td>\n",
       "      <td>Six Flags Magic Mountain</td>\n",
       "      <td>Steel</td>\n",
       "      <td>85.0</td>\n",
       "      <td>235.0</td>\n",
       "      <td>255.0</td>\n",
       "      <td>4500.0</td>\n",
       "      <td>180.0</td>\n",
       "      <td>0</td>\n",
       "    </tr>\n",
       "    <tr>\n",
       "      <th>4</th>\n",
       "      <td>Titan</td>\n",
       "      <td>Six Flags Over Texas</td>\n",
       "      <td>Steel</td>\n",
       "      <td>85.0</td>\n",
       "      <td>245.0</td>\n",
       "      <td>255.0</td>\n",
       "      <td>5312.0</td>\n",
       "      <td>210.0</td>\n",
       "      <td>0</td>\n",
       "    </tr>\n",
       "    <tr>\n",
       "      <th>...</th>\n",
       "      <td>...</td>\n",
       "      <td>...</td>\n",
       "      <td>...</td>\n",
       "      <td>...</td>\n",
       "      <td>...</td>\n",
       "      <td>...</td>\n",
       "      <td>...</td>\n",
       "      <td>...</td>\n",
       "      <td>...</td>\n",
       "    </tr>\n",
       "    <tr>\n",
       "      <th>236</th>\n",
       "      <td>Thunderbird</td>\n",
       "      <td>Holiday World</td>\n",
       "      <td>Steel</td>\n",
       "      <td>60.0</td>\n",
       "      <td>140.0</td>\n",
       "      <td>NaN</td>\n",
       "      <td>3035.0</td>\n",
       "      <td>78.0</td>\n",
       "      <td>1</td>\n",
       "    </tr>\n",
       "    <tr>\n",
       "      <th>237</th>\n",
       "      <td>Twisted Colossus</td>\n",
       "      <td>Six Flags Magic Mountain</td>\n",
       "      <td>Steel</td>\n",
       "      <td>57.0</td>\n",
       "      <td>121.0</td>\n",
       "      <td>128.0</td>\n",
       "      <td>4990.0</td>\n",
       "      <td>220.0</td>\n",
       "      <td>1</td>\n",
       "    </tr>\n",
       "    <tr>\n",
       "      <th>238</th>\n",
       "      <td>Velikoluksky Miasokombinat</td>\n",
       "      <td>Wonder Island</td>\n",
       "      <td>Steel</td>\n",
       "      <td>62.1</td>\n",
       "      <td>124.7</td>\n",
       "      <td>NaN</td>\n",
       "      <td>3464.6</td>\n",
       "      <td>150.0</td>\n",
       "      <td>1</td>\n",
       "    </tr>\n",
       "    <tr>\n",
       "      <th>239</th>\n",
       "      <td>Wicked Cyclone</td>\n",
       "      <td>Six Flags New England</td>\n",
       "      <td>Steel</td>\n",
       "      <td>55.0</td>\n",
       "      <td>109.0</td>\n",
       "      <td>NaN</td>\n",
       "      <td>3320.0</td>\n",
       "      <td>NaN</td>\n",
       "      <td>1</td>\n",
       "    </tr>\n",
       "    <tr>\n",
       "      <th>240</th>\n",
       "      <td>Zombie Ride</td>\n",
       "      <td>Bosque Mgico</td>\n",
       "      <td>Steel</td>\n",
       "      <td>62.0</td>\n",
       "      <td>150.0</td>\n",
       "      <td>NaN</td>\n",
       "      <td>863.0</td>\n",
       "      <td>NaN</td>\n",
       "      <td>1</td>\n",
       "    </tr>\n",
       "  </tbody>\n",
       "</table>\n",
       "<p>241 rows × 9 columns</p>\n",
       "</div>"
      ],
      "text/plain": [
       "                           Name                      Park  Track  Speed  \\\n",
       "0           Top Thrill Dragster               Cedar Point  Steel  120.0   \n",
       "1            Superman The Escap  Six Flags Magic Mountain  Steel  100.0   \n",
       "2              Millennium Force               Cedar Point  Steel   93.0   \n",
       "3                       Goliath  Six Flags Magic Mountain  Steel   85.0   \n",
       "4                         Titan      Six Flags Over Texas  Steel   85.0   \n",
       "..                          ...                       ...    ...    ...   \n",
       "236                 Thunderbird             Holiday World  Steel   60.0   \n",
       "237            Twisted Colossus  Six Flags Magic Mountain  Steel   57.0   \n",
       "238  Velikoluksky Miasokombinat             Wonder Island  Steel   62.1   \n",
       "239              Wicked Cyclone     Six Flags New England  Steel   55.0   \n",
       "240                 Zombie Ride             Bosque Mgico  Steel   62.0   \n",
       "\n",
       "     Height   Drop  Length  Duration  Inversions  \n",
       "0     420.0  400.0  2800.0       NaN           0  \n",
       "1     415.0  328.1  1235.0       NaN           0  \n",
       "2     310.0  300.0  6595.0     165.0           0  \n",
       "3     235.0  255.0  4500.0     180.0           0  \n",
       "4     245.0  255.0  5312.0     210.0           0  \n",
       "..      ...    ...     ...       ...         ...  \n",
       "236   140.0    NaN  3035.0      78.0           1  \n",
       "237   121.0  128.0  4990.0     220.0           1  \n",
       "238   124.7    NaN  3464.6     150.0           1  \n",
       "239   109.0    NaN  3320.0       NaN           1  \n",
       "240   150.0    NaN   863.0       NaN           1  \n",
       "\n",
       "[241 rows x 9 columns]"
      ]
     },
     "execution_count": 150,
     "metadata": {},
     "output_type": "execute_result"
    }
   ],
   "source": [
    "filename = \"sharpe-2021-19-table-01-roller-coaster.ods\"\n",
    "\n",
    "df = read_ods(filename)\n",
    "\n",
    "df"
   ]
  },
  {
   "cell_type": "code",
   "execution_count": 151,
   "metadata": {},
   "outputs": [
    {
     "data": {
      "text/html": [
       "<div>\n",
       "<style scoped>\n",
       "    .dataframe tbody tr th:only-of-type {\n",
       "        vertical-align: middle;\n",
       "    }\n",
       "\n",
       "    .dataframe tbody tr th {\n",
       "        vertical-align: top;\n",
       "    }\n",
       "\n",
       "    .dataframe thead th {\n",
       "        text-align: right;\n",
       "    }\n",
       "</style>\n",
       "<table border=\"1\" class=\"dataframe\">\n",
       "  <thead>\n",
       "    <tr style=\"text-align: right;\">\n",
       "      <th></th>\n",
       "      <th>Speed</th>\n",
       "      <th>Height</th>\n",
       "      <th>Drop</th>\n",
       "    </tr>\n",
       "  </thead>\n",
       "  <tbody>\n",
       "    <tr>\n",
       "      <th>0</th>\n",
       "      <td>120.0</td>\n",
       "      <td>420.0</td>\n",
       "      <td>400.0</td>\n",
       "    </tr>\n",
       "    <tr>\n",
       "      <th>1</th>\n",
       "      <td>100.0</td>\n",
       "      <td>415.0</td>\n",
       "      <td>328.1</td>\n",
       "    </tr>\n",
       "    <tr>\n",
       "      <th>2</th>\n",
       "      <td>93.0</td>\n",
       "      <td>310.0</td>\n",
       "      <td>300.0</td>\n",
       "    </tr>\n",
       "    <tr>\n",
       "      <th>3</th>\n",
       "      <td>85.0</td>\n",
       "      <td>235.0</td>\n",
       "      <td>255.0</td>\n",
       "    </tr>\n",
       "    <tr>\n",
       "      <th>4</th>\n",
       "      <td>85.0</td>\n",
       "      <td>245.0</td>\n",
       "      <td>255.0</td>\n",
       "    </tr>\n",
       "    <tr>\n",
       "      <th>...</th>\n",
       "      <td>...</td>\n",
       "      <td>...</td>\n",
       "      <td>...</td>\n",
       "    </tr>\n",
       "    <tr>\n",
       "      <th>113</th>\n",
       "      <td>51.0</td>\n",
       "      <td>88.0</td>\n",
       "      <td>84.0</td>\n",
       "    </tr>\n",
       "    <tr>\n",
       "      <th>114</th>\n",
       "      <td>95.0</td>\n",
       "      <td>325.0</td>\n",
       "      <td>320.0</td>\n",
       "    </tr>\n",
       "    <tr>\n",
       "      <th>115</th>\n",
       "      <td>78.9</td>\n",
       "      <td>239.5</td>\n",
       "      <td>219.8</td>\n",
       "    </tr>\n",
       "    <tr>\n",
       "      <th>116</th>\n",
       "      <td>40.0</td>\n",
       "      <td>63.0</td>\n",
       "      <td>58.0</td>\n",
       "    </tr>\n",
       "    <tr>\n",
       "      <th>117</th>\n",
       "      <td>57.0</td>\n",
       "      <td>121.0</td>\n",
       "      <td>128.0</td>\n",
       "    </tr>\n",
       "  </tbody>\n",
       "</table>\n",
       "<p>118 rows × 3 columns</p>\n",
       "</div>"
      ],
      "text/plain": [
       "     Speed  Height   Drop\n",
       "0    120.0   420.0  400.0\n",
       "1    100.0   415.0  328.1\n",
       "2     93.0   310.0  300.0\n",
       "3     85.0   235.0  255.0\n",
       "4     85.0   245.0  255.0\n",
       "..     ...     ...    ...\n",
       "113   51.0    88.0   84.0\n",
       "114   95.0   325.0  320.0\n",
       "115   78.9   239.5  219.8\n",
       "116   40.0    63.0   58.0\n",
       "117   57.0   121.0  128.0\n",
       "\n",
       "[118 rows x 3 columns]"
      ]
     },
     "execution_count": 151,
     "metadata": {},
     "output_type": "execute_result"
    }
   ],
   "source": [
    "df_select = df[[\"Speed\", \"Height\", \"Drop\"]]\n",
    "df_select = df_select.dropna()\n",
    "df_select = df_select.reset_index(drop=True)\n",
    "\n",
    "num_of_samples = 118     # (Sharpe, 2021) Table 19.6\n",
    "df_select = df_select.iloc[:num_of_samples]\n",
    "df_select"
   ]
  },
  {
   "cell_type": "markdown",
   "metadata": {},
   "source": [
    "## Calculate Minitab output"
   ]
  },
  {
   "cell_type": "code",
   "execution_count": 67,
   "metadata": {},
   "outputs": [
    {
     "name": "stdout",
     "output_type": "stream",
     "text": [
      "header: ['Speed', 'Height', 'Drop']\n"
     ]
    },
    {
     "data": {
      "text/html": [
       "<div>\n",
       "<style scoped>\n",
       "    .dataframe tbody tr th:only-of-type {\n",
       "        vertical-align: middle;\n",
       "    }\n",
       "\n",
       "    .dataframe tbody tr th {\n",
       "        vertical-align: top;\n",
       "    }\n",
       "\n",
       "    .dataframe thead th {\n",
       "        text-align: right;\n",
       "    }\n",
       "</style>\n",
       "<table border=\"1\" class=\"dataframe\">\n",
       "  <thead>\n",
       "    <tr style=\"text-align: right;\">\n",
       "      <th></th>\n",
       "      <th>Y</th>\n",
       "      <th>X_1</th>\n",
       "      <th>X_2</th>\n",
       "    </tr>\n",
       "  </thead>\n",
       "  <tbody>\n",
       "    <tr>\n",
       "      <th>0</th>\n",
       "      <td>120.0</td>\n",
       "      <td>420.0</td>\n",
       "      <td>400.0</td>\n",
       "    </tr>\n",
       "    <tr>\n",
       "      <th>1</th>\n",
       "      <td>100.0</td>\n",
       "      <td>415.0</td>\n",
       "      <td>328.1</td>\n",
       "    </tr>\n",
       "    <tr>\n",
       "      <th>2</th>\n",
       "      <td>93.0</td>\n",
       "      <td>310.0</td>\n",
       "      <td>300.0</td>\n",
       "    </tr>\n",
       "    <tr>\n",
       "      <th>3</th>\n",
       "      <td>85.0</td>\n",
       "      <td>235.0</td>\n",
       "      <td>255.0</td>\n",
       "    </tr>\n",
       "    <tr>\n",
       "      <th>4</th>\n",
       "      <td>85.0</td>\n",
       "      <td>245.0</td>\n",
       "      <td>255.0</td>\n",
       "    </tr>\n",
       "    <tr>\n",
       "      <th>...</th>\n",
       "      <td>...</td>\n",
       "      <td>...</td>\n",
       "      <td>...</td>\n",
       "    </tr>\n",
       "    <tr>\n",
       "      <th>113</th>\n",
       "      <td>51.0</td>\n",
       "      <td>88.0</td>\n",
       "      <td>84.0</td>\n",
       "    </tr>\n",
       "    <tr>\n",
       "      <th>114</th>\n",
       "      <td>95.0</td>\n",
       "      <td>325.0</td>\n",
       "      <td>320.0</td>\n",
       "    </tr>\n",
       "    <tr>\n",
       "      <th>115</th>\n",
       "      <td>78.9</td>\n",
       "      <td>239.5</td>\n",
       "      <td>219.8</td>\n",
       "    </tr>\n",
       "    <tr>\n",
       "      <th>116</th>\n",
       "      <td>40.0</td>\n",
       "      <td>63.0</td>\n",
       "      <td>58.0</td>\n",
       "    </tr>\n",
       "    <tr>\n",
       "      <th>117</th>\n",
       "      <td>57.0</td>\n",
       "      <td>121.0</td>\n",
       "      <td>128.0</td>\n",
       "    </tr>\n",
       "  </tbody>\n",
       "</table>\n",
       "<p>118 rows × 3 columns</p>\n",
       "</div>"
      ],
      "text/plain": [
       "         Y    X_1    X_2\n",
       "0    120.0  420.0  400.0\n",
       "1    100.0  415.0  328.1\n",
       "2     93.0  310.0  300.0\n",
       "3     85.0  235.0  255.0\n",
       "4     85.0  245.0  255.0\n",
       "..     ...    ...    ...\n",
       "113   51.0   88.0   84.0\n",
       "114   95.0  325.0  320.0\n",
       "115   78.9  239.5  219.8\n",
       "116   40.0   63.0   58.0\n",
       "117   57.0  121.0  128.0\n",
       "\n",
       "[118 rows x 3 columns]"
      ]
     },
     "execution_count": 67,
     "metadata": {},
     "output_type": "execute_result"
    }
   ],
   "source": [
    "df_minitab = df_select.copy()\n",
    "from_column_names = df_minitab.columns.to_list()\n",
    "print(f\"header: {from_column_names}\")\n",
    "to_column_names = [\"Y\"] + [f\"X_{i+1}\" for i in range(len(from_column_names) - 1)]\n",
    "\n",
    "\n",
    "df_minitab = df_minitab.rename(columns=\n",
    "  {k: v for k, v in zip(from_column_names, to_column_names)})\n",
    "\n",
    "df_minitab\n"
   ]
  },
  {
   "cell_type": "code",
   "execution_count": 10,
   "metadata": {},
   "outputs": [
    {
     "name": "stdout",
     "output_type": "stream",
     "text": [
      "Correlations: Speed, Height, Drop\n"
     ]
    },
    {
     "data": {
      "text/html": [
       "<table>\n",
       "<thead>\n",
       "<tr><th>      </th><th style=\"text-align: right;\">  Speed</th><th>Height  </th></tr>\n",
       "</thead>\n",
       "<tbody>\n",
       "<tr><td>Height</td><td style=\"text-align: right;\">  0.902</td><td>        </td></tr>\n",
       "<tr><td>Drop  </td><td style=\"text-align: right;\">  0.944</td><td>0.929   </td></tr>\n",
       "</tbody>\n",
       "</table>"
      ],
      "text/plain": [
       "'<table>\\n<thead>\\n<tr><th>      </th><th style=\"text-align: right;\">  Speed</th><th>Height  </th></tr>\\n</thead>\\n<tbody>\\n<tr><td>Height</td><td style=\"text-align: right;\">  0.902</td><td>        </td></tr>\\n<tr><td>Drop  </td><td style=\"text-align: right;\">  0.944</td><td>0.929   </td></tr>\\n</tbody>\\n</table>'"
      ]
     },
     "metadata": {},
     "output_type": "display_data"
    },
    {
     "name": "stdout",
     "output_type": "stream",
     "text": [
      "Regression Analysis: Speed versus Height, Drop\n",
      "The regression equation is\n",
      "Speed = 34.591 + 0.037 Height + 0.163 Drop\n"
     ]
    },
    {
     "data": {
      "text/html": [
       "<table>\n",
       "<thead>\n",
       "<tr><th>Predictor  </th><th style=\"text-align: right;\">   Coef</th><th style=\"text-align: right;\">  SE Coef</th><th style=\"text-align: right;\">  t-score</th><th style=\"text-align: right;\">  p-value</th></tr>\n",
       "</thead>\n",
       "<tbody>\n",
       "<tr><td>Constant   </td><td style=\"text-align: right;\">34.5913</td><td style=\"text-align: right;\">   1.0535</td><td style=\"text-align: right;\">    32.84</td><td style=\"text-align: right;\">   0.0000</td></tr>\n",
       "<tr><td>Height     </td><td style=\"text-align: right;\"> 0.0372</td><td style=\"text-align: right;\">   0.0164</td><td style=\"text-align: right;\">     2.27</td><td style=\"text-align: right;\">   0.0253</td></tr>\n",
       "<tr><td>Drop       </td><td style=\"text-align: right;\"> 0.1632</td><td style=\"text-align: right;\">   0.0171</td><td style=\"text-align: right;\">     9.52</td><td style=\"text-align: right;\">   0.0000</td></tr>\n",
       "</tbody>\n",
       "</table>"
      ],
      "text/plain": [
       "'<table>\\n<thead>\\n<tr><th>Predictor  </th><th style=\"text-align: right;\">   Coef</th><th style=\"text-align: right;\">  SE Coef</th><th style=\"text-align: right;\">  t-score</th><th style=\"text-align: right;\">  p-value</th></tr>\\n</thead>\\n<tbody>\\n<tr><td>Constant   </td><td style=\"text-align: right;\">34.5913</td><td style=\"text-align: right;\">   1.0535</td><td style=\"text-align: right;\">    32.84</td><td style=\"text-align: right;\">   0.0000</td></tr>\\n<tr><td>Height     </td><td style=\"text-align: right;\"> 0.0372</td><td style=\"text-align: right;\">   0.0164</td><td style=\"text-align: right;\">     2.27</td><td style=\"text-align: right;\">   0.0253</td></tr>\\n<tr><td>Drop       </td><td style=\"text-align: right;\"> 0.1632</td><td style=\"text-align: right;\">   0.0171</td><td style=\"text-align: right;\">     9.52</td><td style=\"text-align: right;\">   0.0000</td></tr>\\n</tbody>\\n</table>'"
      ]
     },
     "metadata": {},
     "output_type": "display_data"
    },
    {
     "name": "stdout",
     "output_type": "stream",
     "text": [
      "s_yxs = 4.7461   R_sq = 89.6%   R-sq(adj) = 89.4%\n",
      "Analyis of Variance\n"
     ]
    },
    {
     "data": {
      "text/html": [
       "<table>\n",
       "<thead>\n",
       "<tr><th>Source        </th><th style=\"text-align: right;\">  d.o.f</th><th style=\"text-align: right;\">    sumSq</th><th>meanSq   </th><th>F-score  </th><th>p-value  </th></tr>\n",
       "</thead>\n",
       "<tbody>\n",
       "<tr><td>Regression    </td><td style=\"text-align: right;\">      2</td><td style=\"text-align: right;\">22325.793</td><td>11162.897</td><td>495.578  </td><td>0.0000   </td></tr>\n",
       "<tr><td>Residual error</td><td style=\"text-align: right;\">    115</td><td style=\"text-align: right;\"> 2590.375</td><td>22.525   </td><td>         </td><td>         </td></tr>\n",
       "<tr><td>Total         </td><td style=\"text-align: right;\">    117</td><td style=\"text-align: right;\">24916.168</td><td>         </td><td>         </td><td>         </td></tr>\n",
       "</tbody>\n",
       "</table>"
      ],
      "text/plain": [
       "'<table>\\n<thead>\\n<tr><th>Source        </th><th style=\"text-align: right;\">  d.o.f</th><th style=\"text-align: right;\">    sumSq</th><th>meanSq   </th><th>F-score  </th><th>p-value  </th></tr>\\n</thead>\\n<tbody>\\n<tr><td>Regression    </td><td style=\"text-align: right;\">      2</td><td style=\"text-align: right;\">22325.793</td><td>11162.897</td><td>495.578  </td><td>0.0000   </td></tr>\\n<tr><td>Residual error</td><td style=\"text-align: right;\">    115</td><td style=\"text-align: right;\"> 2590.375</td><td>22.525   </td><td>         </td><td>         </td></tr>\\n<tr><td>Total         </td><td style=\"text-align: right;\">    117</td><td style=\"text-align: right;\">24916.168</td><td>         </td><td>         </td><td>         </td></tr>\\n</tbody>\\n</table>'"
      ]
     },
     "metadata": {},
     "output_type": "display_data"
    }
   ],
   "source": [
    "column_name = [\"Speed\", \"Height\", \"Drop\"]\n",
    "out_dict = get_minitab_out(df_minitab, n_vars=len(column_name)-1, \n",
    "  new_column=column_name, withVIF=False)\n"
   ]
  },
  {
   "cell_type": "markdown",
   "metadata": {},
   "source": [
    "## Plot of the fitted regression plane"
   ]
  },
  {
   "cell_type": "code",
   "execution_count": 12,
   "metadata": {},
   "outputs": [],
   "source": [
    "df_regress = df_minitab.copy()\n",
    "regress = out_dict[\"regress\"]\n",
    "\n",
    "x_min = df_regress['X_1'].min()\n",
    "x_max = df_regress['X_1'].max()\n",
    "x_data = np.linspace(0, x_max, 10)\n",
    "\n",
    "y_min = df_regress['X_2'].min()\n",
    "y_max = df_regress['X_2'].max()\n",
    "y_data = np.linspace(0, y_max, 10)\n",
    "\n",
    "z_data = regress.intercept_ + regress.coef_[0]*x_data.reshape((-1, 1)) \\\n",
    "  + regress.coef_[1]*y_data\n"
   ]
  },
  {
   "cell_type": "code",
   "execution_count": 105,
   "metadata": {},
   "outputs": [
    {
     "data": {
      "application/vnd.plotly.v1+json": {
       "config": {
        "plotlyServerURL": "https://plot.ly"
       },
       "data": [
        {
         "colorscale": [
          [
           0,
           "rgb(247,251,255)"
          ],
          [
           0.125,
           "rgb(222,235,247)"
          ],
          [
           0.25,
           "rgb(198,219,239)"
          ],
          [
           0.375,
           "rgb(158,202,225)"
          ],
          [
           0.5,
           "rgb(107,174,214)"
          ],
          [
           0.625,
           "rgb(66,146,198)"
          ],
          [
           0.75,
           "rgb(33,113,181)"
          ],
          [
           0.875,
           "rgb(8,81,156)"
          ],
          [
           1,
           "rgb(8,48,107)"
          ]
         ],
         "opacity": 0.7,
         "showscale": false,
         "surfacecolor": [
          [
           0,
           0,
           0,
           0,
           0,
           0,
           0,
           0,
           0,
           0
          ],
          [
           0,
           0,
           0,
           0,
           0,
           0,
           0,
           0,
           0,
           0
          ],
          [
           0,
           0,
           0,
           0,
           0,
           0,
           0,
           0,
           0,
           0
          ],
          [
           0,
           0,
           0,
           0,
           0,
           0,
           0,
           0,
           0,
           0
          ],
          [
           0,
           0,
           0,
           0,
           0,
           0,
           0,
           0,
           0,
           0
          ],
          [
           0,
           0,
           0,
           0,
           0,
           0,
           0,
           0,
           0,
           0
          ],
          [
           0,
           0,
           0,
           0,
           0,
           0,
           0,
           0,
           0,
           0
          ],
          [
           0,
           0,
           0,
           0,
           0,
           0,
           0,
           0,
           0,
           0
          ],
          [
           0,
           0,
           0,
           0,
           0,
           0,
           0,
           0,
           0,
           0
          ],
          [
           0,
           0,
           0,
           0,
           0,
           0,
           0,
           0,
           0,
           0
          ]
         ],
         "type": "surface",
         "x": [
          0,
          46.666666666666664,
          93.33333333333333,
          140,
          186.66666666666666,
          233.33333333333331,
          280,
          326.66666666666663,
          373.3333333333333,
          420
         ],
         "y": [
          0,
          44.44444444444444,
          88.88888888888889,
          133.33333333333331,
          177.77777777777777,
          222.22222222222223,
          266.66666666666663,
          311.1111111111111,
          355.55555555555554,
          400
         ],
         "z": [
          [
           34.591306135511545,
           36.32742067955403,
           38.06353522359651,
           39.799649767638996,
           41.53576431168148,
           43.27187885572396,
           45.00799339976645,
           46.74410794380893,
           48.480222487851414,
           50.2163370318939
          ],
          [
           41.844752918433386,
           43.58086746247587,
           45.31698200651835,
           47.05309655056084,
           48.789211094603324,
           50.5253256386458,
           52.26144018268829,
           53.99755472673077,
           55.733669270773255,
           57.46978381481574
          ],
          [
           49.09819970135523,
           50.834314245397714,
           52.57042878944019,
           54.30654333348268,
           56.042657877525166,
           57.778772421567645,
           59.51488696561013,
           61.25100150965261,
           62.9871160536951,
           64.72323059773758
          ],
          [
           56.35164648427707,
           58.08776102831955,
           59.82387557236203,
           61.55999011640452,
           63.296104660447,
           65.03221920448948,
           66.76833374853197,
           68.50444829257445,
           70.24056283661693,
           71.97667738065942
          ],
          [
           63.60509326719891,
           65.34120781124139,
           67.07732235528388,
           68.81343689932636,
           70.54955144336884,
           72.28566598741133,
           74.02178053145381,
           75.7578950754963,
           77.49400961953879,
           79.23012416358127
          ],
          [
           70.85854005012075,
           72.59465459416325,
           74.33076913820571,
           76.0668836822482,
           77.8029982262907,
           79.53911277033316,
           81.27522731437566,
           83.01134185841813,
           84.74745640246061,
           86.48357094650311
          ],
          [
           78.11198683304258,
           79.84810137708507,
           81.58421592112755,
           83.32033046517003,
           85.05644500921252,
           86.792559553255,
           88.52867409729748,
           90.26478864133998,
           92.00090318538246,
           93.73701772942493
          ],
          [
           85.36543361596443,
           87.10154816000691,
           88.8376627040494,
           90.57377724809189,
           92.30989179213437,
           94.04600633617684,
           95.78212088021934,
           97.5182354242618,
           99.2543499683043,
           100.99046451234679
          ],
          [
           92.61888039888628,
           94.35499494292876,
           96.09110948697125,
           97.82722403101373,
           99.5633385750562,
           101.2994531190987,
           103.03556766314118,
           104.77168220718366,
           106.50779675122615,
           108.24391129526863
          ],
          [
           99.87232718180812,
           101.60844172585061,
           103.34455626989308,
           105.08067081393557,
           106.81678535797806,
           108.55289990202053,
           110.28901444606302,
           112.0251289901055,
           113.76124353414798,
           115.49735807819047
          ]
         ]
        },
        {
         "marker": {
          "size": 4
         },
         "mode": "markers",
         "type": "scatter3d",
         "x": [
          420,
          415,
          310,
          235,
          245,
          160,
          205,
          209,
          165,
          230,
          160,
          218,
          208,
          175,
          205,
          200,
          207,
          170,
          202,
          179.5,
          208,
          205,
          188,
          155,
          173,
          195,
          110,
          203,
          122,
          127,
          120,
          191.5,
          157,
          95,
          149,
          161,
          150,
          117,
          179.5,
          156,
          150,
          143,
          105,
          154,
          150,
          163,
          125,
          110,
          115,
          137.8,
          101.5,
          138,
          100,
          115,
          115,
          83,
          70,
          115,
          70,
          100,
          98,
          92,
          70,
          55,
          84,
          80,
          70,
          56,
          70,
          94,
          78,
          377.33,
          318.25,
          259.2,
          262.5,
          166,
          65,
          191.6,
          137.8,
          102,
          82,
          100,
          75,
          191.6,
          249.3,
          108.3,
          102,
          170.6,
          191.6,
          154,
          108.3,
          51.8,
          108.3,
          108.3,
          232,
          305,
          147.7,
          95,
          230,
          117.8,
          101.7,
          108.3,
          108.3,
          140,
          101.7,
          98.4,
          170,
          179,
          107,
          167,
          120,
          105,
          200.2,
          88,
          325,
          239.5,
          63,
          121
         ],
         "y": [
          400,
          328.1,
          300,
          255,
          255,
          228,
          130,
          225,
          133,
          215,
          225,
          214,
          221,
          215,
          205,
          205,
          196,
          210,
          208,
          166.5,
          205,
          194.6,
          171,
          80,
          155,
          170,
          105,
          144,
          150,
          147,
          155,
          177,
          148,
          151,
          144,
          155,
          150,
          115,
          124,
          146,
          150,
          137,
          141,
          144,
          141,
          128,
          115,
          92,
          95,
          124.67,
          100,
          138,
          90,
          95,
          95,
          75,
          76,
          95,
          95,
          95,
          88,
          90,
          70,
          52,
          78,
          75,
          62,
          47,
          64,
          66,
          72,
          328.1,
          306.75,
          229.7,
          218.1,
          178,
          180,
          177,
          124.67,
          93,
          78,
          90,
          68,
          177,
          255.9,
          95.2,
          130,
          196.8,
          177,
          144,
          95.2,
          49.8,
          95.2,
          95.2,
          211,
          300,
          114.8,
          87.3,
          215,
          111.8,
          98.4,
          95.2,
          95.2,
          113,
          98.4,
          100,
          164,
          171,
          162,
          150,
          54,
          105.7,
          190.3,
          84,
          320,
          219.8,
          58,
          128
         ],
         "z": [
          120,
          100,
          93,
          85,
          85,
          82,
          82,
          80,
          80,
          80,
          80,
          78.4,
          77,
          76,
          75,
          75,
          74,
          73,
          73,
          73,
          73,
          72,
          70,
          70,
          68,
          67,
          67,
          67,
          66.3,
          66,
          66,
          65.6,
          65,
          65,
          65,
          65,
          65,
          65,
          65,
          65,
          65,
          65,
          64.8,
          63,
          63,
          63,
          62,
          62,
          55,
          60.3,
          55,
          55,
          55,
          55,
          55,
          55,
          55,
          55,
          55,
          53,
          53,
          52,
          50,
          50,
          50,
          47,
          46,
          45,
          42,
          41,
          40,
          100,
          95,
          80.8,
          80.8,
          71.5,
          68,
          65.6,
          60.3,
          56,
          56,
          55,
          40,
          65.6,
          83.3,
          49.7,
          60,
          83,
          65.6,
          63,
          49.7,
          35,
          49.7,
          49.7,
          75,
          90,
          49.7,
          50.1,
          80,
          53.7,
          52.8,
          49.7,
          49.7,
          56,
          52.8,
          52.8,
          67,
          70,
          68,
          68,
          38,
          55.9,
          71.5,
          51,
          95,
          78.9,
          40,
          57
         ]
        }
       ],
       "layout": {
        "autosize": true,
        "height": 500,
        "margin": {
         "b": 15,
         "l": 35,
         "r": 30,
         "t": 50
        },
        "scene": {
         "camera": {
          "center": {
           "x": 0,
           "y": -0.2,
           "z": -0.2
          },
          "eye": {
           "x": 1.0260604299770064,
           "y": -1.9283628290596184,
           "z": 0.2614672282429744
          }
         },
         "xaxis": {
          "title": {
           "text": "Height"
          }
         },
         "yaxis": {
          "title": {
           "text": "Drop"
          }
         },
         "zaxis": {
          "title": {
           "text": "Speed"
          }
         }
        },
        "template": {
         "data": {
          "bar": [
           {
            "error_x": {
             "color": "#2a3f5f"
            },
            "error_y": {
             "color": "#2a3f5f"
            },
            "marker": {
             "line": {
              "color": "#E5ECF6",
              "width": 0.5
             }
            },
            "type": "bar"
           }
          ],
          "barpolar": [
           {
            "marker": {
             "line": {
              "color": "#E5ECF6",
              "width": 0.5
             }
            },
            "type": "barpolar"
           }
          ],
          "carpet": [
           {
            "aaxis": {
             "endlinecolor": "#2a3f5f",
             "gridcolor": "white",
             "linecolor": "white",
             "minorgridcolor": "white",
             "startlinecolor": "#2a3f5f"
            },
            "baxis": {
             "endlinecolor": "#2a3f5f",
             "gridcolor": "white",
             "linecolor": "white",
             "minorgridcolor": "white",
             "startlinecolor": "#2a3f5f"
            },
            "type": "carpet"
           }
          ],
          "choropleth": [
           {
            "colorbar": {
             "outlinewidth": 0,
             "ticks": ""
            },
            "type": "choropleth"
           }
          ],
          "contour": [
           {
            "colorbar": {
             "outlinewidth": 0,
             "ticks": ""
            },
            "colorscale": [
             [
              0,
              "#0d0887"
             ],
             [
              0.1111111111111111,
              "#46039f"
             ],
             [
              0.2222222222222222,
              "#7201a8"
             ],
             [
              0.3333333333333333,
              "#9c179e"
             ],
             [
              0.4444444444444444,
              "#bd3786"
             ],
             [
              0.5555555555555556,
              "#d8576b"
             ],
             [
              0.6666666666666666,
              "#ed7953"
             ],
             [
              0.7777777777777778,
              "#fb9f3a"
             ],
             [
              0.8888888888888888,
              "#fdca26"
             ],
             [
              1,
              "#f0f921"
             ]
            ],
            "type": "contour"
           }
          ],
          "contourcarpet": [
           {
            "colorbar": {
             "outlinewidth": 0,
             "ticks": ""
            },
            "type": "contourcarpet"
           }
          ],
          "heatmap": [
           {
            "colorbar": {
             "outlinewidth": 0,
             "ticks": ""
            },
            "colorscale": [
             [
              0,
              "#0d0887"
             ],
             [
              0.1111111111111111,
              "#46039f"
             ],
             [
              0.2222222222222222,
              "#7201a8"
             ],
             [
              0.3333333333333333,
              "#9c179e"
             ],
             [
              0.4444444444444444,
              "#bd3786"
             ],
             [
              0.5555555555555556,
              "#d8576b"
             ],
             [
              0.6666666666666666,
              "#ed7953"
             ],
             [
              0.7777777777777778,
              "#fb9f3a"
             ],
             [
              0.8888888888888888,
              "#fdca26"
             ],
             [
              1,
              "#f0f921"
             ]
            ],
            "type": "heatmap"
           }
          ],
          "heatmapgl": [
           {
            "colorbar": {
             "outlinewidth": 0,
             "ticks": ""
            },
            "colorscale": [
             [
              0,
              "#0d0887"
             ],
             [
              0.1111111111111111,
              "#46039f"
             ],
             [
              0.2222222222222222,
              "#7201a8"
             ],
             [
              0.3333333333333333,
              "#9c179e"
             ],
             [
              0.4444444444444444,
              "#bd3786"
             ],
             [
              0.5555555555555556,
              "#d8576b"
             ],
             [
              0.6666666666666666,
              "#ed7953"
             ],
             [
              0.7777777777777778,
              "#fb9f3a"
             ],
             [
              0.8888888888888888,
              "#fdca26"
             ],
             [
              1,
              "#f0f921"
             ]
            ],
            "type": "heatmapgl"
           }
          ],
          "histogram": [
           {
            "marker": {
             "colorbar": {
              "outlinewidth": 0,
              "ticks": ""
             }
            },
            "type": "histogram"
           }
          ],
          "histogram2d": [
           {
            "colorbar": {
             "outlinewidth": 0,
             "ticks": ""
            },
            "colorscale": [
             [
              0,
              "#0d0887"
             ],
             [
              0.1111111111111111,
              "#46039f"
             ],
             [
              0.2222222222222222,
              "#7201a8"
             ],
             [
              0.3333333333333333,
              "#9c179e"
             ],
             [
              0.4444444444444444,
              "#bd3786"
             ],
             [
              0.5555555555555556,
              "#d8576b"
             ],
             [
              0.6666666666666666,
              "#ed7953"
             ],
             [
              0.7777777777777778,
              "#fb9f3a"
             ],
             [
              0.8888888888888888,
              "#fdca26"
             ],
             [
              1,
              "#f0f921"
             ]
            ],
            "type": "histogram2d"
           }
          ],
          "histogram2dcontour": [
           {
            "colorbar": {
             "outlinewidth": 0,
             "ticks": ""
            },
            "colorscale": [
             [
              0,
              "#0d0887"
             ],
             [
              0.1111111111111111,
              "#46039f"
             ],
             [
              0.2222222222222222,
              "#7201a8"
             ],
             [
              0.3333333333333333,
              "#9c179e"
             ],
             [
              0.4444444444444444,
              "#bd3786"
             ],
             [
              0.5555555555555556,
              "#d8576b"
             ],
             [
              0.6666666666666666,
              "#ed7953"
             ],
             [
              0.7777777777777778,
              "#fb9f3a"
             ],
             [
              0.8888888888888888,
              "#fdca26"
             ],
             [
              1,
              "#f0f921"
             ]
            ],
            "type": "histogram2dcontour"
           }
          ],
          "mesh3d": [
           {
            "colorbar": {
             "outlinewidth": 0,
             "ticks": ""
            },
            "type": "mesh3d"
           }
          ],
          "parcoords": [
           {
            "line": {
             "colorbar": {
              "outlinewidth": 0,
              "ticks": ""
             }
            },
            "type": "parcoords"
           }
          ],
          "pie": [
           {
            "automargin": true,
            "type": "pie"
           }
          ],
          "scatter": [
           {
            "marker": {
             "colorbar": {
              "outlinewidth": 0,
              "ticks": ""
             }
            },
            "type": "scatter"
           }
          ],
          "scatter3d": [
           {
            "line": {
             "colorbar": {
              "outlinewidth": 0,
              "ticks": ""
             }
            },
            "marker": {
             "colorbar": {
              "outlinewidth": 0,
              "ticks": ""
             }
            },
            "type": "scatter3d"
           }
          ],
          "scattercarpet": [
           {
            "marker": {
             "colorbar": {
              "outlinewidth": 0,
              "ticks": ""
             }
            },
            "type": "scattercarpet"
           }
          ],
          "scattergeo": [
           {
            "marker": {
             "colorbar": {
              "outlinewidth": 0,
              "ticks": ""
             }
            },
            "type": "scattergeo"
           }
          ],
          "scattergl": [
           {
            "marker": {
             "colorbar": {
              "outlinewidth": 0,
              "ticks": ""
             }
            },
            "type": "scattergl"
           }
          ],
          "scattermapbox": [
           {
            "marker": {
             "colorbar": {
              "outlinewidth": 0,
              "ticks": ""
             }
            },
            "type": "scattermapbox"
           }
          ],
          "scatterpolar": [
           {
            "marker": {
             "colorbar": {
              "outlinewidth": 0,
              "ticks": ""
             }
            },
            "type": "scatterpolar"
           }
          ],
          "scatterpolargl": [
           {
            "marker": {
             "colorbar": {
              "outlinewidth": 0,
              "ticks": ""
             }
            },
            "type": "scatterpolargl"
           }
          ],
          "scatterternary": [
           {
            "marker": {
             "colorbar": {
              "outlinewidth": 0,
              "ticks": ""
             }
            },
            "type": "scatterternary"
           }
          ],
          "surface": [
           {
            "colorbar": {
             "outlinewidth": 0,
             "ticks": ""
            },
            "colorscale": [
             [
              0,
              "#0d0887"
             ],
             [
              0.1111111111111111,
              "#46039f"
             ],
             [
              0.2222222222222222,
              "#7201a8"
             ],
             [
              0.3333333333333333,
              "#9c179e"
             ],
             [
              0.4444444444444444,
              "#bd3786"
             ],
             [
              0.5555555555555556,
              "#d8576b"
             ],
             [
              0.6666666666666666,
              "#ed7953"
             ],
             [
              0.7777777777777778,
              "#fb9f3a"
             ],
             [
              0.8888888888888888,
              "#fdca26"
             ],
             [
              1,
              "#f0f921"
             ]
            ],
            "type": "surface"
           }
          ],
          "table": [
           {
            "cells": {
             "fill": {
              "color": "#EBF0F8"
             },
             "line": {
              "color": "white"
             }
            },
            "header": {
             "fill": {
              "color": "#C8D4E3"
             },
             "line": {
              "color": "white"
             }
            },
            "type": "table"
           }
          ]
         },
         "layout": {
          "annotationdefaults": {
           "arrowcolor": "#2a3f5f",
           "arrowhead": 0,
           "arrowwidth": 1
          },
          "autotypenumbers": "strict",
          "coloraxis": {
           "colorbar": {
            "outlinewidth": 0,
            "ticks": ""
           }
          },
          "colorscale": {
           "diverging": [
            [
             0,
             "#8e0152"
            ],
            [
             0.1,
             "#c51b7d"
            ],
            [
             0.2,
             "#de77ae"
            ],
            [
             0.3,
             "#f1b6da"
            ],
            [
             0.4,
             "#fde0ef"
            ],
            [
             0.5,
             "#f7f7f7"
            ],
            [
             0.6,
             "#e6f5d0"
            ],
            [
             0.7,
             "#b8e186"
            ],
            [
             0.8,
             "#7fbc41"
            ],
            [
             0.9,
             "#4d9221"
            ],
            [
             1,
             "#276419"
            ]
           ],
           "sequential": [
            [
             0,
             "#0d0887"
            ],
            [
             0.1111111111111111,
             "#46039f"
            ],
            [
             0.2222222222222222,
             "#7201a8"
            ],
            [
             0.3333333333333333,
             "#9c179e"
            ],
            [
             0.4444444444444444,
             "#bd3786"
            ],
            [
             0.5555555555555556,
             "#d8576b"
            ],
            [
             0.6666666666666666,
             "#ed7953"
            ],
            [
             0.7777777777777778,
             "#fb9f3a"
            ],
            [
             0.8888888888888888,
             "#fdca26"
            ],
            [
             1,
             "#f0f921"
            ]
           ],
           "sequentialminus": [
            [
             0,
             "#0d0887"
            ],
            [
             0.1111111111111111,
             "#46039f"
            ],
            [
             0.2222222222222222,
             "#7201a8"
            ],
            [
             0.3333333333333333,
             "#9c179e"
            ],
            [
             0.4444444444444444,
             "#bd3786"
            ],
            [
             0.5555555555555556,
             "#d8576b"
            ],
            [
             0.6666666666666666,
             "#ed7953"
            ],
            [
             0.7777777777777778,
             "#fb9f3a"
            ],
            [
             0.8888888888888888,
             "#fdca26"
            ],
            [
             1,
             "#f0f921"
            ]
           ]
          },
          "colorway": [
           "#636efa",
           "#EF553B",
           "#00cc96",
           "#ab63fa",
           "#FFA15A",
           "#19d3f3",
           "#FF6692",
           "#B6E880",
           "#FF97FF",
           "#FECB52"
          ],
          "font": {
           "color": "#2a3f5f"
          },
          "geo": {
           "bgcolor": "white",
           "lakecolor": "white",
           "landcolor": "#E5ECF6",
           "showlakes": true,
           "showland": true,
           "subunitcolor": "white"
          },
          "hoverlabel": {
           "align": "left"
          },
          "hovermode": "closest",
          "mapbox": {
           "style": "light"
          },
          "paper_bgcolor": "white",
          "plot_bgcolor": "#E5ECF6",
          "polar": {
           "angularaxis": {
            "gridcolor": "white",
            "linecolor": "white",
            "ticks": ""
           },
           "bgcolor": "#E5ECF6",
           "radialaxis": {
            "gridcolor": "white",
            "linecolor": "white",
            "ticks": ""
           }
          },
          "scene": {
           "xaxis": {
            "backgroundcolor": "#E5ECF6",
            "gridcolor": "white",
            "gridwidth": 2,
            "linecolor": "white",
            "showbackground": true,
            "ticks": "",
            "zerolinecolor": "white"
           },
           "yaxis": {
            "backgroundcolor": "#E5ECF6",
            "gridcolor": "white",
            "gridwidth": 2,
            "linecolor": "white",
            "showbackground": true,
            "ticks": "",
            "zerolinecolor": "white"
           },
           "zaxis": {
            "backgroundcolor": "#E5ECF6",
            "gridcolor": "white",
            "gridwidth": 2,
            "linecolor": "white",
            "showbackground": true,
            "ticks": "",
            "zerolinecolor": "white"
           }
          },
          "shapedefaults": {
           "line": {
            "color": "#2a3f5f"
           }
          },
          "ternary": {
           "aaxis": {
            "gridcolor": "white",
            "linecolor": "white",
            "ticks": ""
           },
           "baxis": {
            "gridcolor": "white",
            "linecolor": "white",
            "ticks": ""
           },
           "bgcolor": "#E5ECF6",
           "caxis": {
            "gridcolor": "white",
            "linecolor": "white",
            "ticks": ""
           }
          },
          "title": {
           "x": 0.05
          },
          "xaxis": {
           "automargin": true,
           "gridcolor": "white",
           "linecolor": "white",
           "ticks": "",
           "title": {
            "standoff": 15
           },
           "zerolinecolor": "white",
           "zerolinewidth": 2
          },
          "yaxis": {
           "automargin": true,
           "gridcolor": "white",
           "linecolor": "white",
           "ticks": "",
           "title": {
            "standoff": 15
           },
           "zerolinecolor": "white",
           "zerolinewidth": 2
          }
         }
        },
        "title": {
         "text": "Fitted regression plane"
        },
        "width": 500
       }
      }
     },
     "metadata": {},
     "output_type": "display_data"
    }
   ],
   "source": [
    "z_color = np.zeros_like(z_data)\n",
    "x_scatter_data = df_regress['X_1'].to_numpy()\n",
    "y_scatter_data = df_regress['X_2'].to_numpy()\n",
    "z_scatter_data = df_regress['Y'].to_numpy()\n",
    "\n",
    "fig = go.Figure(data=[\n",
    "  go.Surface(z=z_data.T, x=x_data, y=y_data, \n",
    "    colorscale=\"Blues\", surfacecolor=z_color,\n",
    "    showscale=False, opacity=0.7),\n",
    "  go.Scatter3d(x=x_scatter_data, y=y_scatter_data, z=z_scatter_data, \n",
    "    mode=\"markers\", marker_size=4)])\n",
    "\n",
    "#go.Figure(data=[go.Scatter3d(x=df_regress['X_1'], y=df_regress['X_2'], \n",
    "#  z=df_regress['Y'], mode=\"markers\")])\n",
    "\n",
    "theta = [-70, 230, 85]\n",
    "theta = np.deg2rad(theta)\n",
    "a = 3.\n",
    "camera = {\n",
    "  'center': {'x': 0, 'y': -0.2, 'z': -0.2},\n",
    "  'eye': {'x': a*np.cos(theta[0]), 'y': a*np.cos(theta[1]), 'z': a*np.cos(theta[2])}}\n",
    "\n",
    "fig.update_layout(\n",
    "  title=\"Fitted regression plane\", autosize=True,\n",
    "  width=500, height=500,\n",
    "  margin={'l':35, 'r': 30, 'b':15, 't':50,},\n",
    "  scene={\n",
    "    \"xaxis_title\": \"Height\",\n",
    "    \"yaxis_title\": \"Drop\",\n",
    "    \"zaxis_title\": \"Speed\"},\n",
    "  scene_camera=camera)\n",
    "\n",
    "\n",
    "fig.show()\n"
   ]
  },
  {
   "cell_type": "markdown",
   "metadata": {},
   "source": [
    "## standardized residual"
   ]
  },
  {
   "cell_type": "markdown",
   "metadata": {},
   "source": [
    "### Leverage for multiple regression"
   ]
  },
  {
   "cell_type": "markdown",
   "metadata": {},
   "source": [
    "Leverage for predictors in multiple regressions can be calculated \n",
    "by the following formula\n",
    "\n",
    "$$\n",
    "  h_{ii} = \\vec{x}_i \\left(\\mathbf{X}^\\mathsf{T} \\, \\mathbf{X}\\right)^{-1} \\vec{x}^\\mathsf{T}_i\n",
    "$$\n",
    "\n",
    "$\\mathbf{X}$ is a *design matrix* that has the following explicit form\n",
    "\n",
    "$$\n",
    "  \\mathbf{X}\n",
    "    = \\begin{bmatrix}\n",
    "        1      & X_{1,1} & \\ldots & X_{1,k}  \\\\\n",
    "        1      & X_{2,1} & \\ldots & X_{2,k}  \\\\\n",
    "        \\vdots & \\vdots  &        & \\vdots   \\\\\n",
    "        1      & X_{n,1} & \\ldots & X_{n,k}\n",
    "      \\end{bmatrix}\n",
    "$$\n",
    "\n",
    "$n$ is the number of observation and $k$ the number of predictor variables.\n",
    "\n",
    "$\\vec{x}_i$ is $i$-th row of design matrix, \n",
    "$\\vec{x}_i := [1, \\,X_{i, 1}, \\,\\ldots, \\,X_{i, k}]$\n",
    "\n",
    "A rule of thumb suggests that $h_{ii}$ is large enough to merit checking if\n",
    "$h_{ii} \\geq 3(k+1) / n$"
   ]
  },
  {
   "cell_type": "code",
   "execution_count": 72,
   "metadata": {},
   "outputs": [],
   "source": [
    "def get_leverage(df):\n",
    "  columns = df.columns[1:]\n",
    "  # print(columns)\n",
    "  n_vars = len(columns)\n",
    "  n_samples = len(df)\n",
    "\n",
    "  X_arr = np.ones([n_samples, 1+n_vars])\n",
    "  for i, predictor in enumerate(columns):\n",
    "    X_arr[:, i+1] = df[predictor]\n",
    "\n",
    "  cofactor_matrix = np.linalg.inv(X_arr.transpose().dot(X_arr))   # this matrix is closely related to covariance matrix\n",
    "  # print(cofactor_matrix)\n",
    "\n",
    "  leverage_arr = np.zeros(n_samples)\n",
    "  for i in range(n_samples):\n",
    "    vec_x_i = X_arr[i, :]\n",
    "    leverage_arr[i] = vec_x_i.dot(cofactor_matrix).dot(vec_x_i.transpose())\n",
    "\n",
    "  return leverage_arr\n",
    "\n"
   ]
  },
  {
   "cell_type": "code",
   "execution_count": 69,
   "metadata": {},
   "outputs": [
    {
     "name": "stdout",
     "output_type": "stream",
     "text": [
      "header: ['Speed', 'Height', 'Drop']\n",
      "new header: ['Y', 'X_1', 'X_2']\n"
     ]
    }
   ],
   "source": [
    "df_stdzed_residual = df_select.copy()\n",
    "from_column_names = df_stdzed_residual.columns.to_list()\n",
    "print(f\"header: {from_column_names}\")\n",
    "to_column_names = [\"Y\"] + [f\"X_{i+1}\" for i in range(len(from_column_names) - 1)]\n",
    "\n",
    "df_stdzed_residual = df_stdzed_residual.rename(columns=\n",
    "  {k: v for k, v in zip(from_column_names, to_column_names)})\n",
    "\n",
    "print(f\"new header: {df_stdzed_residual.columns.to_list()}\")"
   ]
  },
  {
   "cell_type": "code",
   "execution_count": 98,
   "metadata": {},
   "outputs": [],
   "source": [
    "leverage_arr = get_leverage(df_stdzed_residual)"
   ]
  },
  {
   "cell_type": "markdown",
   "metadata": {},
   "source": [
    "### Histogram of leverage values"
   ]
  },
  {
   "cell_type": "code",
   "execution_count": 99,
   "metadata": {},
   "outputs": [
    {
     "data": {
      "image/png": "[encoded data removed]",
      "text/plain": [
       "<Figure size 600x300 with 1 Axes>"
      ]
     },
     "metadata": {},
     "output_type": "display_data"
    }
   ],
   "source": [
    "fig, ax = plt.subplots(figsize=(6, 3))\n",
    "\n",
    "bins = np.arange(0, 0.2 + 0.01, 0.01) \n",
    "ax.hist(leverage_arr, histtype=\"step\", bins=bins, density=True)\n",
    "\n",
    "\n",
    "ax.set_xticks(np.arange(0, 0.2+0.05, 0.05))\n",
    "ax.set_xlabel(\"Leverages\")\n",
    "ax.set_ylabel(\"Frequency\")\n",
    "ax.set_title(f\"Distribution of leverage values\")\n",
    "ax.grid(\"on\")\n",
    "\n",
    "plt.show(fig)"
   ]
  },
  {
   "cell_type": "markdown",
   "metadata": {},
   "source": [
    "### Plot of outliers based on large leverage values"
   ]
  },
  {
   "cell_type": "code",
   "execution_count": 85,
   "metadata": {},
   "outputs": [],
   "source": [
    "n_vars = len(df_stdzed_residual.columns[1:])\n",
    "n_samples = len(df_stdzed_residual)\n",
    "l_bound_leverage = 3.*(n_vars + 1) / n_samples\n",
    "is_outlier = leverage_arr > l_bound_leverage\n",
    "# leverage_arr"
   ]
  },
  {
   "cell_type": "code",
   "execution_count": 109,
   "metadata": {},
   "outputs": [
    {
     "data": {
      "image/png": "[encoded data removed]",
      "text/plain": [
       "<Figure size 640x480 with 1 Axes>"
      ]
     },
     "metadata": {},
     "output_type": "display_data"
    }
   ],
   "source": [
    "fig, ax = plt.subplots()\n",
    "\n",
    "height_data = df_minitab[\"X_1\"]\n",
    "drop_data = df_minitab[\"X_2\"]\n",
    "\n",
    "normal_height_data = height_data[np.logical_not(is_outlier)]\n",
    "normal_drop_data = drop_data[np.logical_not(is_outlier)]\n",
    "\n",
    "outlier_height_data = height_data[is_outlier]\n",
    "outlier_drop_data = drop_data[is_outlier]\n",
    "\n",
    "ax.plot(normal_height_data, normal_drop_data,\n",
    "  marker='o', markersize=5, markerfacecolor='white',\n",
    "  linestyle='None', markeredgewidth=2) \n",
    "\n",
    "ax.plot(outlier_height_data, outlier_drop_data,\n",
    "  marker='x', markersize=6, linestyle=\"None\",\n",
    "  markeredgewidth=2, label=\"outlier\")\n",
    "\n",
    "\n",
    "ax.set_xlabel(\"Height\")\n",
    "ax.set_ylabel(\"Drop\")\n",
    "ax.set_title(\"Outliers based on large leverage\")\n",
    "ax.grid(\"on\")\n",
    "ax.legend(loc=\"best\")\n",
    "\n",
    "plt.show(fig)"
   ]
  },
  {
   "cell_type": "markdown",
   "metadata": {},
   "source": [
    "### standardized residual $e_i/s_{e_i}$"
   ]
  },
  {
   "cell_type": "markdown",
   "metadata": {},
   "source": [
    "$$\n",
    "  \\frac{e_i}{s_{e_i}} = \\frac{e_i}{s_{y\\cdot x's} \\sqrt{1 - h_{ii}}}\n",
    "$$\n",
    "\n",
    "A standardized residual is considering large (the response extreme) if\n",
    "$$\n",
    "  \\left|\\frac{e_i}{s_{e_i}} \\right| > 2\n",
    "$$"
   ]
  },
  {
   "cell_type": "code",
   "execution_count": 110,
   "metadata": {},
   "outputs": [],
   "source": [
    "Y_data = df_regress['Y']\n",
    "hat_Y_data = df_regress[\"hat_Y\"]\n",
    "e_arr = (hat_Y_data - Y_data).to_numpy()\n",
    "n_samples = len(Y_data)\n",
    "n_vars = len(df_stdzed_residual.columns)\n",
    "sumSq_Y_hat_Y = ((Y_data - hat_Y_data)**2).sum()\n",
    "s_yxs = np.sqrt(sumSq_Y_hat_Y/(n_samples - n_vars - 1))\n",
    "\n",
    "stdzed_residual_arr = e_arr/(s_yxs * np.sqrt(1 - leverage_arr))\n",
    "\n",
    "is_large_stdzed_residual = np.abs(stdzed_residual_arr) > 2."
   ]
  },
  {
   "cell_type": "markdown",
   "metadata": {},
   "source": [
    "### Plot outliers based on large standardized residual"
   ]
  },
  {
   "cell_type": "code",
   "execution_count": null,
   "metadata": {},
   "outputs": [],
   "source": [
    "regress = out_dict[\"regress\"]\n",
    "\n",
    "x_min = df_regress['X_1'].min()\n",
    "x_max = df_regress['X_1'].max()\n",
    "x_data = np.linspace(0, x_max, 10)\n",
    "\n",
    "y_min = df_regress['X_2'].min()\n",
    "y_max = df_regress['X_2'].max()\n",
    "y_data = np.linspace(0, y_max, 10)\n",
    "\n",
    "z_data = regress.intercept_ + regress.coef_[0]*x_data.reshape((-1, 1)) \\\n",
    "  + regress.coef_[1]*y_data"
   ]
  },
  {
   "cell_type": "code",
   "execution_count": 138,
   "metadata": {},
   "outputs": [
    {
     "data": {
      "application/vnd.plotly.v1+json": {
       "config": {
        "plotlyServerURL": "https://plot.ly"
       },
       "data": [
        {
         "colorscale": [
          [
           0,
           "rgb(247,251,255)"
          ],
          [
           0.125,
           "rgb(222,235,247)"
          ],
          [
           0.25,
           "rgb(198,219,239)"
          ],
          [
           0.375,
           "rgb(158,202,225)"
          ],
          [
           0.5,
           "rgb(107,174,214)"
          ],
          [
           0.625,
           "rgb(66,146,198)"
          ],
          [
           0.75,
           "rgb(33,113,181)"
          ],
          [
           0.875,
           "rgb(8,81,156)"
          ],
          [
           1,
           "rgb(8,48,107)"
          ]
         ],
         "opacity": 0.7,
         "showscale": false,
         "surfacecolor": [
          [
           0,
           0,
           0,
           0,
           0,
           0,
           0,
           0,
           0,
           0
          ],
          [
           0,
           0,
           0,
           0,
           0,
           0,
           0,
           0,
           0,
           0
          ],
          [
           0,
           0,
           0,
           0,
           0,
           0,
           0,
           0,
           0,
           0
          ],
          [
           0,
           0,
           0,
           0,
           0,
           0,
           0,
           0,
           0,
           0
          ],
          [
           0,
           0,
           0,
           0,
           0,
           0,
           0,
           0,
           0,
           0
          ],
          [
           0,
           0,
           0,
           0,
           0,
           0,
           0,
           0,
           0,
           0
          ],
          [
           0,
           0,
           0,
           0,
           0,
           0,
           0,
           0,
           0,
           0
          ],
          [
           0,
           0,
           0,
           0,
           0,
           0,
           0,
           0,
           0,
           0
          ],
          [
           0,
           0,
           0,
           0,
           0,
           0,
           0,
           0,
           0,
           0
          ],
          [
           0,
           0,
           0,
           0,
           0,
           0,
           0,
           0,
           0,
           0
          ]
         ],
         "type": "surface",
         "x": [
          0,
          46.666666666666664,
          93.33333333333333,
          140,
          186.66666666666666,
          233.33333333333331,
          280,
          326.66666666666663,
          373.3333333333333,
          420
         ],
         "y": [
          0,
          44.44444444444444,
          88.88888888888889,
          133.33333333333331,
          177.77777777777777,
          222.22222222222223,
          266.66666666666663,
          311.1111111111111,
          355.55555555555554,
          400
         ],
         "z": [
          [
           34.591306135511545,
           36.32742067955403,
           38.06353522359651,
           39.799649767638996,
           41.53576431168148,
           43.27187885572396,
           45.00799339976645,
           46.74410794380893,
           48.480222487851414,
           50.2163370318939
          ],
          [
           41.844752918433386,
           43.58086746247587,
           45.31698200651835,
           47.05309655056084,
           48.789211094603324,
           50.5253256386458,
           52.26144018268829,
           53.99755472673077,
           55.733669270773255,
           57.46978381481574
          ],
          [
           49.09819970135523,
           50.834314245397714,
           52.57042878944019,
           54.30654333348268,
           56.042657877525166,
           57.778772421567645,
           59.51488696561013,
           61.25100150965261,
           62.9871160536951,
           64.72323059773758
          ],
          [
           56.35164648427707,
           58.08776102831955,
           59.82387557236203,
           61.55999011640452,
           63.296104660447,
           65.03221920448948,
           66.76833374853197,
           68.50444829257445,
           70.24056283661693,
           71.97667738065942
          ],
          [
           63.60509326719891,
           65.34120781124139,
           67.07732235528388,
           68.81343689932636,
           70.54955144336884,
           72.28566598741133,
           74.02178053145381,
           75.7578950754963,
           77.49400961953879,
           79.23012416358127
          ],
          [
           70.85854005012075,
           72.59465459416325,
           74.33076913820571,
           76.0668836822482,
           77.8029982262907,
           79.53911277033316,
           81.27522731437566,
           83.01134185841813,
           84.74745640246061,
           86.48357094650311
          ],
          [
           78.11198683304258,
           79.84810137708507,
           81.58421592112755,
           83.32033046517003,
           85.05644500921252,
           86.792559553255,
           88.52867409729748,
           90.26478864133998,
           92.00090318538246,
           93.73701772942493
          ],
          [
           85.36543361596443,
           87.10154816000691,
           88.8376627040494,
           90.57377724809189,
           92.30989179213437,
           94.04600633617684,
           95.78212088021934,
           97.5182354242618,
           99.2543499683043,
           100.99046451234679
          ],
          [
           92.61888039888628,
           94.35499494292876,
           96.09110948697125,
           97.82722403101373,
           99.5633385750562,
           101.2994531190987,
           103.03556766314118,
           104.77168220718366,
           106.50779675122615,
           108.24391129526863
          ],
          [
           99.87232718180812,
           101.60844172585061,
           103.34455626989308,
           105.08067081393557,
           106.81678535797806,
           108.55289990202053,
           110.28901444606302,
           112.0251289901055,
           113.76124353414798,
           115.49735807819047
          ]
         ]
        },
        {
         "marker": {
          "color": [
           "rgb(255, 0, 0)",
           "rgb(255, 0, 0)",
           "rgb(255, 0, 0)",
           "rgb(255, 0, 0)",
           "rgb(255, 0, 0)",
           "rgb(255, 0, 0)",
           "rgb(255, 0, 0)",
           "rgb(255, 0, 0)",
           "rgb(255, 0, 0)",
           "rgb(255, 0, 0)",
           "rgb(255, 0, 0)",
           "rgb(255, 0, 0)",
           "rgb(255, 0, 0)",
           "rgb(255, 0, 0)",
           "rgb(255, 0, 0)",
           "rgb(255, 0, 0)",
           "rgb(255, 0, 0)",
           "rgb(255, 0, 0)",
           "rgb(255, 0, 0)",
           "rgb(255, 0, 0)",
           "rgb(255, 0, 0)",
           "rgb(255, 0, 0)",
           "rgb(255, 0, 0)",
           "rgb(255, 0, 0)",
           "rgb(255, 0, 0)",
           "rgb(255, 0, 0)",
           "rgb(255, 0, 0)",
           "rgb(255, 0, 0)",
           "rgb(255, 0, 0)",
           "rgb(255, 0, 0)",
           "rgb(255, 0, 0)",
           "rgb(255, 0, 0)",
           "rgb(255, 0, 0)",
           "rgb(255, 0, 0)",
           "rgb(255, 0, 0)",
           "rgb(255, 0, 0)",
           "rgb(255, 0, 0)",
           "rgb(255, 0, 0)",
           "rgb(255, 0, 0)",
           "rgb(255, 0, 0)",
           "rgb(255, 0, 0)",
           "rgb(255, 0, 0)",
           "rgb(255, 0, 0)",
           "rgb(255, 0, 0)",
           "rgb(255, 0, 0)",
           "rgb(255, 0, 0)",
           "rgb(255, 0, 0)",
           "rgb(255, 0, 0)",
           "rgb(255, 0, 0)",
           "rgb(255, 0, 0)",
           "rgb(255, 0, 0)",
           "rgb(255, 0, 0)",
           "rgb(255, 0, 0)",
           "rgb(255, 0, 0)",
           "rgb(255, 0, 0)",
           "rgb(255, 0, 0)",
           "rgb(255, 0, 0)",
           "rgb(255, 0, 0)",
           "rgb(255, 0, 0)",
           "rgb(255, 0, 0)",
           "rgb(255, 0, 0)",
           "rgb(255, 0, 0)",
           "rgb(255, 0, 0)",
           "rgb(255, 0, 0)",
           "rgb(255, 0, 0)",
           "rgb(255, 0, 0)",
           "rgb(255, 0, 0)",
           "rgb(255, 0, 0)",
           "rgb(255, 0, 0)",
           "rgb(255, 0, 0)",
           "rgb(255, 0, 0)",
           "rgb(255, 0, 0)",
           "rgb(255, 0, 0)",
           "rgb(255, 0, 0)",
           "rgb(255, 0, 0)",
           "rgb(255, 0, 0)",
           "rgb(255, 0, 0)",
           "rgb(255, 0, 0)",
           "rgb(255, 0, 0)",
           "rgb(255, 0, 0)",
           "rgb(255, 0, 0)",
           "rgb(255, 0, 0)",
           "rgb(255, 0, 0)",
           "rgb(255, 0, 0)",
           "rgb(255, 0, 0)",
           "rgb(255, 0, 0)",
           "rgb(255, 0, 0)",
           "rgb(255, 0, 0)",
           "rgb(255, 0, 0)",
           "rgb(255, 0, 0)",
           "rgb(255, 0, 0)",
           "rgb(255, 0, 0)",
           "rgb(255, 0, 0)",
           "rgb(255, 0, 0)",
           "rgb(255, 0, 0)",
           "rgb(255, 0, 0)",
           "rgb(255, 0, 0)",
           "rgb(255, 0, 0)",
           "rgb(255, 0, 0)",
           "rgb(255, 0, 0)",
           "rgb(255, 0, 0)",
           "rgb(255, 0, 0)",
           "rgb(255, 0, 0)",
           "rgb(255, 0, 0)",
           "rgb(255, 0, 0)",
           "rgb(255, 0, 0)",
           "rgb(255, 0, 0)",
           "rgb(255, 0, 0)",
           "rgb(255, 0, 0)",
           "rgb(255, 0, 0)",
           "rgb(255, 0, 0)"
          ],
          "size": 4
         },
         "mode": "markers",
         "name": "normal",
         "type": "scatter3d",
         "x": [
          420,
          415,
          310,
          235,
          245,
          160,
          209,
          230,
          160,
          218,
          208,
          175,
          205,
          200,
          207,
          170,
          202,
          179.5,
          208,
          205,
          188,
          173,
          195,
          203,
          122,
          127,
          120,
          191.5,
          157,
          95,
          149,
          161,
          150,
          117,
          179.5,
          156,
          150,
          143,
          105,
          154,
          150,
          163,
          125,
          110,
          115,
          137.8,
          101.5,
          138,
          100,
          115,
          115,
          83,
          70,
          115,
          70,
          100,
          98,
          92,
          70,
          55,
          84,
          80,
          70,
          56,
          70,
          94,
          78,
          377.33,
          318.25,
          259.2,
          262.5,
          166,
          65,
          191.6,
          137.8,
          102,
          82,
          100,
          75,
          191.6,
          249.3,
          108.3,
          102,
          191.6,
          154,
          108.3,
          108.3,
          108.3,
          232,
          305,
          147.7,
          95,
          230,
          117.8,
          101.7,
          108.3,
          108.3,
          140,
          101.7,
          98.4,
          170,
          179,
          107,
          167,
          105,
          200.2,
          88,
          325,
          239.5,
          63,
          121
         ],
         "y": [
          400,
          328.1,
          300,
          255,
          255,
          228,
          225,
          215,
          225,
          214,
          221,
          215,
          205,
          205,
          196,
          210,
          208,
          166.5,
          205,
          194.6,
          171,
          155,
          170,
          144,
          150,
          147,
          155,
          177,
          148,
          151,
          144,
          155,
          150,
          115,
          124,
          146,
          150,
          137,
          141,
          144,
          141,
          128,
          115,
          92,
          95,
          124.67,
          100,
          138,
          90,
          95,
          95,
          75,
          76,
          95,
          95,
          95,
          88,
          90,
          70,
          52,
          78,
          75,
          62,
          47,
          64,
          66,
          72,
          328.1,
          306.75,
          229.7,
          218.1,
          178,
          180,
          177,
          124.67,
          93,
          78,
          90,
          68,
          177,
          255.9,
          95.2,
          130,
          177,
          144,
          95.2,
          95.2,
          95.2,
          211,
          300,
          114.8,
          87.3,
          215,
          111.8,
          98.4,
          95.2,
          95.2,
          113,
          98.4,
          100,
          164,
          171,
          162,
          150,
          105.7,
          190.3,
          84,
          320,
          219.8,
          58,
          128
         ],
         "z": [
          120,
          100,
          93,
          85,
          85,
          82,
          80,
          80,
          80,
          78.4,
          77,
          76,
          75,
          75,
          74,
          73,
          73,
          73,
          73,
          72,
          70,
          68,
          67,
          67,
          66.3,
          66,
          66,
          65.6,
          65,
          65,
          65,
          65,
          65,
          65,
          65,
          65,
          65,
          65,
          64.8,
          63,
          63,
          63,
          62,
          62,
          55,
          60.3,
          55,
          55,
          55,
          55,
          55,
          55,
          55,
          55,
          55,
          53,
          53,
          52,
          50,
          50,
          50,
          47,
          46,
          45,
          42,
          41,
          40,
          100,
          95,
          80.8,
          80.8,
          71.5,
          68,
          65.6,
          60.3,
          56,
          56,
          55,
          40,
          65.6,
          83.3,
          49.7,
          60,
          65.6,
          63,
          49.7,
          49.7,
          49.7,
          75,
          90,
          49.7,
          50.1,
          80,
          53.7,
          52.8,
          49.7,
          49.7,
          56,
          52.8,
          52.8,
          67,
          70,
          68,
          68,
          55.9,
          71.5,
          51,
          95,
          78.9,
          40,
          57
         ]
        },
        {
         "marker": {
          "color": [
           "rgb(0, 0, 0)",
           "rgb(0, 0, 0)",
           "rgb(0, 0, 0)",
           "rgb(0, 0, 0)",
           "rgb(0, 0, 0)",
           "rgb(0, 0, 0)",
           "rgb(0, 0, 0)"
          ],
          "size": 4,
          "symbol": "square"
         },
         "mode": "markers",
         "name": "outlier",
         "type": "scatter3d",
         "x": [
          205,
          165,
          155,
          110,
          170.6,
          51.8,
          120
         ],
         "y": [
          130,
          133,
          80,
          105,
          196.8,
          49.8,
          54
         ],
         "z": [
          82,
          80,
          70,
          67,
          83,
          35,
          38
         ]
        }
       ],
       "layout": {
        "autosize": true,
        "height": 500,
        "margin": {
         "b": 15,
         "l": 35,
         "r": 30,
         "t": 50
        },
        "scene": {
         "camera": {
          "center": {
           "x": 0,
           "y": 0,
           "z": -0.2
          },
          "eye": {
           "x": -1.9283628290596182,
           "y": 0.5209445330007912,
           "z": 0.2614672282429744
          }
         },
         "xaxis": {
          "title": {
           "text": "Height"
          }
         },
         "yaxis": {
          "title": {
           "text": "Drop"
          }
         },
         "zaxis": {
          "title": {
           "text": "Speed"
          }
         }
        },
        "template": {
         "data": {
          "bar": [
           {
            "error_x": {
             "color": "#2a3f5f"
            },
            "error_y": {
             "color": "#2a3f5f"
            },
            "marker": {
             "line": {
              "color": "#E5ECF6",
              "width": 0.5
             }
            },
            "type": "bar"
           }
          ],
          "barpolar": [
           {
            "marker": {
             "line": {
              "color": "#E5ECF6",
              "width": 0.5
             }
            },
            "type": "barpolar"
           }
          ],
          "carpet": [
           {
            "aaxis": {
             "endlinecolor": "#2a3f5f",
             "gridcolor": "white",
             "linecolor": "white",
             "minorgridcolor": "white",
             "startlinecolor": "#2a3f5f"
            },
            "baxis": {
             "endlinecolor": "#2a3f5f",
             "gridcolor": "white",
             "linecolor": "white",
             "minorgridcolor": "white",
             "startlinecolor": "#2a3f5f"
            },
            "type": "carpet"
           }
          ],
          "choropleth": [
           {
            "colorbar": {
             "outlinewidth": 0,
             "ticks": ""
            },
            "type": "choropleth"
           }
          ],
          "contour": [
           {
            "colorbar": {
             "outlinewidth": 0,
             "ticks": ""
            },
            "colorscale": [
             [
              0,
              "#0d0887"
             ],
             [
              0.1111111111111111,
              "#46039f"
             ],
             [
              0.2222222222222222,
              "#7201a8"
             ],
             [
              0.3333333333333333,
              "#9c179e"
             ],
             [
              0.4444444444444444,
              "#bd3786"
             ],
             [
              0.5555555555555556,
              "#d8576b"
             ],
             [
              0.6666666666666666,
              "#ed7953"
             ],
             [
              0.7777777777777778,
              "#fb9f3a"
             ],
             [
              0.8888888888888888,
              "#fdca26"
             ],
             [
              1,
              "#f0f921"
             ]
            ],
            "type": "contour"
           }
          ],
          "contourcarpet": [
           {
            "colorbar": {
             "outlinewidth": 0,
             "ticks": ""
            },
            "type": "contourcarpet"
           }
          ],
          "heatmap": [
           {
            "colorbar": {
             "outlinewidth": 0,
             "ticks": ""
            },
            "colorscale": [
             [
              0,
              "#0d0887"
             ],
             [
              0.1111111111111111,
              "#46039f"
             ],
             [
              0.2222222222222222,
              "#7201a8"
             ],
             [
              0.3333333333333333,
              "#9c179e"
             ],
             [
              0.4444444444444444,
              "#bd3786"
             ],
             [
              0.5555555555555556,
              "#d8576b"
             ],
             [
              0.6666666666666666,
              "#ed7953"
             ],
             [
              0.7777777777777778,
              "#fb9f3a"
             ],
             [
              0.8888888888888888,
              "#fdca26"
             ],
             [
              1,
              "#f0f921"
             ]
            ],
            "type": "heatmap"
           }
          ],
          "heatmapgl": [
           {
            "colorbar": {
             "outlinewidth": 0,
             "ticks": ""
            },
            "colorscale": [
             [
              0,
              "#0d0887"
             ],
             [
              0.1111111111111111,
              "#46039f"
             ],
             [
              0.2222222222222222,
              "#7201a8"
             ],
             [
              0.3333333333333333,
              "#9c179e"
             ],
             [
              0.4444444444444444,
              "#bd3786"
             ],
             [
              0.5555555555555556,
              "#d8576b"
             ],
             [
              0.6666666666666666,
              "#ed7953"
             ],
             [
              0.7777777777777778,
              "#fb9f3a"
             ],
             [
              0.8888888888888888,
              "#fdca26"
             ],
             [
              1,
              "#f0f921"
             ]
            ],
            "type": "heatmapgl"
           }
          ],
          "histogram": [
           {
            "marker": {
             "colorbar": {
              "outlinewidth": 0,
              "ticks": ""
             }
            },
            "type": "histogram"
           }
          ],
          "histogram2d": [
           {
            "colorbar": {
             "outlinewidth": 0,
             "ticks": ""
            },
            "colorscale": [
             [
              0,
              "#0d0887"
             ],
             [
              0.1111111111111111,
              "#46039f"
             ],
             [
              0.2222222222222222,
              "#7201a8"
             ],
             [
              0.3333333333333333,
              "#9c179e"
             ],
             [
              0.4444444444444444,
              "#bd3786"
             ],
             [
              0.5555555555555556,
              "#d8576b"
             ],
             [
              0.6666666666666666,
              "#ed7953"
             ],
             [
              0.7777777777777778,
              "#fb9f3a"
             ],
             [
              0.8888888888888888,
              "#fdca26"
             ],
             [
              1,
              "#f0f921"
             ]
            ],
            "type": "histogram2d"
           }
          ],
          "histogram2dcontour": [
           {
            "colorbar": {
             "outlinewidth": 0,
             "ticks": ""
            },
            "colorscale": [
             [
              0,
              "#0d0887"
             ],
             [
              0.1111111111111111,
              "#46039f"
             ],
             [
              0.2222222222222222,
              "#7201a8"
             ],
             [
              0.3333333333333333,
              "#9c179e"
             ],
             [
              0.4444444444444444,
              "#bd3786"
             ],
             [
              0.5555555555555556,
              "#d8576b"
             ],
             [
              0.6666666666666666,
              "#ed7953"
             ],
             [
              0.7777777777777778,
              "#fb9f3a"
             ],
             [
              0.8888888888888888,
              "#fdca26"
             ],
             [
              1,
              "#f0f921"
             ]
            ],
            "type": "histogram2dcontour"
           }
          ],
          "mesh3d": [
           {
            "colorbar": {
             "outlinewidth": 0,
             "ticks": ""
            },
            "type": "mesh3d"
           }
          ],
          "parcoords": [
           {
            "line": {
             "colorbar": {
              "outlinewidth": 0,
              "ticks": ""
             }
            },
            "type": "parcoords"
           }
          ],
          "pie": [
           {
            "automargin": true,
            "type": "pie"
           }
          ],
          "scatter": [
           {
            "marker": {
             "colorbar": {
              "outlinewidth": 0,
              "ticks": ""
             }
            },
            "type": "scatter"
           }
          ],
          "scatter3d": [
           {
            "line": {
             "colorbar": {
              "outlinewidth": 0,
              "ticks": ""
             }
            },
            "marker": {
             "colorbar": {
              "outlinewidth": 0,
              "ticks": ""
             }
            },
            "type": "scatter3d"
           }
          ],
          "scattercarpet": [
           {
            "marker": {
             "colorbar": {
              "outlinewidth": 0,
              "ticks": ""
             }
            },
            "type": "scattercarpet"
           }
          ],
          "scattergeo": [
           {
            "marker": {
             "colorbar": {
              "outlinewidth": 0,
              "ticks": ""
             }
            },
            "type": "scattergeo"
           }
          ],
          "scattergl": [
           {
            "marker": {
             "colorbar": {
              "outlinewidth": 0,
              "ticks": ""
             }
            },
            "type": "scattergl"
           }
          ],
          "scattermapbox": [
           {
            "marker": {
             "colorbar": {
              "outlinewidth": 0,
              "ticks": ""
             }
            },
            "type": "scattermapbox"
           }
          ],
          "scatterpolar": [
           {
            "marker": {
             "colorbar": {
              "outlinewidth": 0,
              "ticks": ""
             }
            },
            "type": "scatterpolar"
           }
          ],
          "scatterpolargl": [
           {
            "marker": {
             "colorbar": {
              "outlinewidth": 0,
              "ticks": ""
             }
            },
            "type": "scatterpolargl"
           }
          ],
          "scatterternary": [
           {
            "marker": {
             "colorbar": {
              "outlinewidth": 0,
              "ticks": ""
             }
            },
            "type": "scatterternary"
           }
          ],
          "surface": [
           {
            "colorbar": {
             "outlinewidth": 0,
             "ticks": ""
            },
            "colorscale": [
             [
              0,
              "#0d0887"
             ],
             [
              0.1111111111111111,
              "#46039f"
             ],
             [
              0.2222222222222222,
              "#7201a8"
             ],
             [
              0.3333333333333333,
              "#9c179e"
             ],
             [
              0.4444444444444444,
              "#bd3786"
             ],
             [
              0.5555555555555556,
              "#d8576b"
             ],
             [
              0.6666666666666666,
              "#ed7953"
             ],
             [
              0.7777777777777778,
              "#fb9f3a"
             ],
             [
              0.8888888888888888,
              "#fdca26"
             ],
             [
              1,
              "#f0f921"
             ]
            ],
            "type": "surface"
           }
          ],
          "table": [
           {
            "cells": {
             "fill": {
              "color": "#EBF0F8"
             },
             "line": {
              "color": "white"
             }
            },
            "header": {
             "fill": {
              "color": "#C8D4E3"
             },
             "line": {
              "color": "white"
             }
            },
            "type": "table"
           }
          ]
         },
         "layout": {
          "annotationdefaults": {
           "arrowcolor": "#2a3f5f",
           "arrowhead": 0,
           "arrowwidth": 1
          },
          "autotypenumbers": "strict",
          "coloraxis": {
           "colorbar": {
            "outlinewidth": 0,
            "ticks": ""
           }
          },
          "colorscale": {
           "diverging": [
            [
             0,
             "#8e0152"
            ],
            [
             0.1,
             "#c51b7d"
            ],
            [
             0.2,
             "#de77ae"
            ],
            [
             0.3,
             "#f1b6da"
            ],
            [
             0.4,
             "#fde0ef"
            ],
            [
             0.5,
             "#f7f7f7"
            ],
            [
             0.6,
             "#e6f5d0"
            ],
            [
             0.7,
             "#b8e186"
            ],
            [
             0.8,
             "#7fbc41"
            ],
            [
             0.9,
             "#4d9221"
            ],
            [
             1,
             "#276419"
            ]
           ],
           "sequential": [
            [
             0,
             "#0d0887"
            ],
            [
             0.1111111111111111,
             "#46039f"
            ],
            [
             0.2222222222222222,
             "#7201a8"
            ],
            [
             0.3333333333333333,
             "#9c179e"
            ],
            [
             0.4444444444444444,
             "#bd3786"
            ],
            [
             0.5555555555555556,
             "#d8576b"
            ],
            [
             0.6666666666666666,
             "#ed7953"
            ],
            [
             0.7777777777777778,
             "#fb9f3a"
            ],
            [
             0.8888888888888888,
             "#fdca26"
            ],
            [
             1,
             "#f0f921"
            ]
           ],
           "sequentialminus": [
            [
             0,
             "#0d0887"
            ],
            [
             0.1111111111111111,
             "#46039f"
            ],
            [
             0.2222222222222222,
             "#7201a8"
            ],
            [
             0.3333333333333333,
             "#9c179e"
            ],
            [
             0.4444444444444444,
             "#bd3786"
            ],
            [
             0.5555555555555556,
             "#d8576b"
            ],
            [
             0.6666666666666666,
             "#ed7953"
            ],
            [
             0.7777777777777778,
             "#fb9f3a"
            ],
            [
             0.8888888888888888,
             "#fdca26"
            ],
            [
             1,
             "#f0f921"
            ]
           ]
          },
          "colorway": [
           "#636efa",
           "#EF553B",
           "#00cc96",
           "#ab63fa",
           "#FFA15A",
           "#19d3f3",
           "#FF6692",
           "#B6E880",
           "#FF97FF",
           "#FECB52"
          ],
          "font": {
           "color": "#2a3f5f"
          },
          "geo": {
           "bgcolor": "white",
           "lakecolor": "white",
           "landcolor": "#E5ECF6",
           "showlakes": true,
           "showland": true,
           "subunitcolor": "white"
          },
          "hoverlabel": {
           "align": "left"
          },
          "hovermode": "closest",
          "mapbox": {
           "style": "light"
          },
          "paper_bgcolor": "white",
          "plot_bgcolor": "#E5ECF6",
          "polar": {
           "angularaxis": {
            "gridcolor": "white",
            "linecolor": "white",
            "ticks": ""
           },
           "bgcolor": "#E5ECF6",
           "radialaxis": {
            "gridcolor": "white",
            "linecolor": "white",
            "ticks": ""
           }
          },
          "scene": {
           "xaxis": {
            "backgroundcolor": "#E5ECF6",
            "gridcolor": "white",
            "gridwidth": 2,
            "linecolor": "white",
            "showbackground": true,
            "ticks": "",
            "zerolinecolor": "white"
           },
           "yaxis": {
            "backgroundcolor": "#E5ECF6",
            "gridcolor": "white",
            "gridwidth": 2,
            "linecolor": "white",
            "showbackground": true,
            "ticks": "",
            "zerolinecolor": "white"
           },
           "zaxis": {
            "backgroundcolor": "#E5ECF6",
            "gridcolor": "white",
            "gridwidth": 2,
            "linecolor": "white",
            "showbackground": true,
            "ticks": "",
            "zerolinecolor": "white"
           }
          },
          "shapedefaults": {
           "line": {
            "color": "#2a3f5f"
           }
          },
          "ternary": {
           "aaxis": {
            "gridcolor": "white",
            "linecolor": "white",
            "ticks": ""
           },
           "baxis": {
            "gridcolor": "white",
            "linecolor": "white",
            "ticks": ""
           },
           "bgcolor": "#E5ECF6",
           "caxis": {
            "gridcolor": "white",
            "linecolor": "white",
            "ticks": ""
           }
          },
          "title": {
           "x": 0.05
          },
          "xaxis": {
           "automargin": true,
           "gridcolor": "white",
           "linecolor": "white",
           "ticks": "",
           "title": {
            "standoff": 15
           },
           "zerolinecolor": "white",
           "zerolinewidth": 2
          },
          "yaxis": {
           "automargin": true,
           "gridcolor": "white",
           "linecolor": "white",
           "ticks": "",
           "title": {
            "standoff": 15
           },
           "zerolinecolor": "white",
           "zerolinewidth": 2
          }
         }
        },
        "title": {
         "text": "Fitted regression plane"
        },
        "width": 600
       }
      }
     },
     "metadata": {},
     "output_type": "display_data"
    }
   ],
   "source": [
    "z_color = np.zeros_like(z_data)\n",
    "x_scatter_data = df_regress['X_1'].to_numpy()\n",
    "y_scatter_data = df_regress['X_2'].to_numpy()\n",
    "z_scatter_data = df_regress['Y'].to_numpy()\n",
    "\n",
    "outlier_x_scatter_data = x_scatter_data[is_large_stdzed_residual]\n",
    "outlier_y_scatter_data = y_scatter_data[is_large_stdzed_residual]\n",
    "outlier_z_scatter_data = z_scatter_data[is_large_stdzed_residual]\n",
    "\n",
    "normal_x_scatter_data = x_scatter_data[np.logical_not(is_large_stdzed_residual)]\n",
    "normal_y_scatter_data = y_scatter_data[np.logical_not(is_large_stdzed_residual)]\n",
    "normal_z_scatter_data = z_scatter_data[np.logical_not(is_large_stdzed_residual)]\n",
    "\n",
    "fig = go.Figure(data=[\n",
    "  go.Surface(z=z_data.T, x=x_data, y=y_data, \n",
    "    colorscale=\"Blues\", surfacecolor=z_color,\n",
    "    showscale=False, opacity=0.7),\n",
    "  go.Scatter3d(\n",
    "    x=normal_x_scatter_data, \n",
    "    y=normal_y_scatter_data, \n",
    "    z=normal_z_scatter_data, \n",
    "    marker={\n",
    "      \"color\": [\"rgb(255, 0, 0)\" for i in range(len(normal_x_scatter_data))]},\n",
    "    mode=\"markers\", marker_size=4, name=\"normal\"), \n",
    "  go.Scatter3d(\n",
    "    x=outlier_x_scatter_data,\n",
    "    y=outlier_y_scatter_data,\n",
    "    z=outlier_z_scatter_data,\n",
    "    marker={\n",
    "      \"color\": [\"rgb(0, 0, 0)\" for i in range(len(outlier_x_scatter_data))],\n",
    "      \"symbol\": \"square\"},\n",
    "    mode=\"markers\", marker_size=4, name=\"outlier\")])\n",
    "\n",
    "\n",
    "theta = [130, 80, 85]\n",
    "theta = np.deg2rad(theta)\n",
    "a = 3.\n",
    "camera = {\n",
    "  'center': {'x': 0, 'y': 0, 'z': -0.2},\n",
    "  'eye': {'x': a*np.cos(theta[0]), 'y': a*np.cos(theta[1]), 'z': a*np.cos(theta[2])}}\n",
    "\n",
    "fig.update_layout(\n",
    "  title=\"Fitted regression plane\", autosize=True,\n",
    "  width=600, height=500,\n",
    "  margin={'l':35, 'r': 30, 'b':15, 't':50,},\n",
    "  scene={\n",
    "    \"xaxis_title\": \"Height\",\n",
    "    \"yaxis_title\": \"Drop\",\n",
    "    \"zaxis_title\": \"Speed\"},\n",
    "  scene_camera=camera)\n",
    "\n",
    "\n",
    "fig.show()\n",
    "\n"
   ]
  },
  {
   "cell_type": "markdown",
   "metadata": {},
   "source": [
    "### Unusual observation "
   ]
  },
  {
   "cell_type": "code",
   "execution_count": 160,
   "metadata": {},
   "outputs": [
    {
     "data": {
      "text/html": [
       "<div>\n",
       "<style scoped>\n",
       "    .dataframe tbody tr th:only-of-type {\n",
       "        vertical-align: middle;\n",
       "    }\n",
       "\n",
       "    .dataframe tbody tr th {\n",
       "        vertical-align: top;\n",
       "    }\n",
       "\n",
       "    .dataframe thead th {\n",
       "        text-align: right;\n",
       "    }\n",
       "</style>\n",
       "<table border=\"1\" class=\"dataframe\">\n",
       "  <thead>\n",
       "    <tr style=\"text-align: right;\">\n",
       "      <th></th>\n",
       "      <th>Speed</th>\n",
       "      <th>Height</th>\n",
       "      <th>Drop</th>\n",
       "      <th>FitSpeed</th>\n",
       "      <th>Residual</th>\n",
       "      <th>StdzedResid</th>\n",
       "      <th>Observe</th>\n",
       "    </tr>\n",
       "  </thead>\n",
       "  <tbody>\n",
       "    <tr>\n",
       "      <th>0</th>\n",
       "      <td>120.0</td>\n",
       "      <td>420.0</td>\n",
       "      <td>400.0</td>\n",
       "      <td>115.497358</td>\n",
       "      <td>4.502642</td>\n",
       "      <td>-1.010991</td>\n",
       "      <td>X</td>\n",
       "    </tr>\n",
       "    <tr>\n",
       "      <th>1</th>\n",
       "      <td>100.0</td>\n",
       "      <td>415.0</td>\n",
       "      <td>328.1</td>\n",
       "      <td>103.577082</td>\n",
       "      <td>-3.577082</td>\n",
       "      <td>0.816484</td>\n",
       "      <td>X</td>\n",
       "    </tr>\n",
       "    <tr>\n",
       "      <th>2</th>\n",
       "      <td>93.0</td>\n",
       "      <td>310.0</td>\n",
       "      <td>300.0</td>\n",
       "      <td>95.084833</td>\n",
       "      <td>-2.084833</td>\n",
       "      <td>0.448806</td>\n",
       "      <td></td>\n",
       "    </tr>\n",
       "    <tr>\n",
       "      <th>3</th>\n",
       "      <td>85.0</td>\n",
       "      <td>235.0</td>\n",
       "      <td>255.0</td>\n",
       "      <td>84.950534</td>\n",
       "      <td>0.049466</td>\n",
       "      <td>-0.010563</td>\n",
       "      <td></td>\n",
       "    </tr>\n",
       "    <tr>\n",
       "      <th>4</th>\n",
       "      <td>85.0</td>\n",
       "      <td>245.0</td>\n",
       "      <td>255.0</td>\n",
       "      <td>85.322558</td>\n",
       "      <td>-0.322558</td>\n",
       "      <td>0.068729</td>\n",
       "      <td></td>\n",
       "    </tr>\n",
       "    <tr>\n",
       "      <th>...</th>\n",
       "      <td>...</td>\n",
       "      <td>...</td>\n",
       "      <td>...</td>\n",
       "      <td>...</td>\n",
       "      <td>...</td>\n",
       "      <td>...</td>\n",
       "      <td>...</td>\n",
       "    </tr>\n",
       "    <tr>\n",
       "      <th>113</th>\n",
       "      <td>51.0</td>\n",
       "      <td>88.0</td>\n",
       "      <td>84.0</td>\n",
       "      <td>51.574137</td>\n",
       "      <td>-0.574137</td>\n",
       "      <td>0.121427</td>\n",
       "      <td></td>\n",
       "    </tr>\n",
       "    <tr>\n",
       "      <th>114</th>\n",
       "      <td>95.0</td>\n",
       "      <td>325.0</td>\n",
       "      <td>320.0</td>\n",
       "      <td>98.906921</td>\n",
       "      <td>-3.906921</td>\n",
       "      <td>0.845905</td>\n",
       "      <td></td>\n",
       "    </tr>\n",
       "    <tr>\n",
       "      <th>115</th>\n",
       "      <td>78.9</td>\n",
       "      <td>239.5</td>\n",
       "      <td>219.8</td>\n",
       "      <td>79.373215</td>\n",
       "      <td>-0.473215</td>\n",
       "      <td>0.100309</td>\n",
       "      <td></td>\n",
       "    </tr>\n",
       "    <tr>\n",
       "      <th>116</th>\n",
       "      <td>40.0</td>\n",
       "      <td>63.0</td>\n",
       "      <td>58.0</td>\n",
       "      <td>46.400809</td>\n",
       "      <td>-6.400809</td>\n",
       "      <td>1.358719</td>\n",
       "      <td></td>\n",
       "    </tr>\n",
       "    <tr>\n",
       "      <th>117</th>\n",
       "      <td>57.0</td>\n",
       "      <td>121.0</td>\n",
       "      <td>128.0</td>\n",
       "      <td>59.982730</td>\n",
       "      <td>-2.982730</td>\n",
       "      <td>0.629337</td>\n",
       "      <td></td>\n",
       "    </tr>\n",
       "  </tbody>\n",
       "</table>\n",
       "<p>118 rows × 7 columns</p>\n",
       "</div>"
      ],
      "text/plain": [
       "     Speed  Height   Drop    FitSpeed  Residual  StdzedResid Observe\n",
       "0    120.0   420.0  400.0  115.497358  4.502642    -1.010991       X\n",
       "1    100.0   415.0  328.1  103.577082 -3.577082     0.816484       X\n",
       "2     93.0   310.0  300.0   95.084833 -2.084833     0.448806        \n",
       "3     85.0   235.0  255.0   84.950534  0.049466    -0.010563        \n",
       "4     85.0   245.0  255.0   85.322558 -0.322558     0.068729        \n",
       "..     ...     ...    ...         ...       ...          ...     ...\n",
       "113   51.0    88.0   84.0   51.574137 -0.574137     0.121427        \n",
       "114   95.0   325.0  320.0   98.906921 -3.906921     0.845905        \n",
       "115   78.9   239.5  219.8   79.373215 -0.473215     0.100309        \n",
       "116   40.0    63.0   58.0   46.400809 -6.400809     1.358719        \n",
       "117   57.0   121.0  128.0   59.982730 -2.982730     0.629337        \n",
       "\n",
       "[118 rows x 7 columns]"
      ]
     },
     "execution_count": 160,
     "metadata": {},
     "output_type": "execute_result"
    }
   ],
   "source": [
    "df_observation = df_select.copy()\n",
    "df_observation[\"FitSpeed\"] = df_regress[\"hat_Y\"]\n",
    "df_observation[\"Residual\"] = df_regress[\"Y\"] - df_regress[\"hat_Y\"]\n",
    "df_observation[\"StdzedResid\"] = stdzed_residual_arr\n",
    "\n",
    "# -- get unusua observation status\n",
    "status_arr = []\n",
    "for stat_leverage, stat_stdzed_resid in zip(is_outlier, is_large_stdzed_residual):\n",
    "  status = '' \n",
    "  if stat_leverage:\n",
    "    status += 'X' \n",
    "\n",
    "  if stat_stdzed_resid and status == 'X':\n",
    "    status += \",R\"\n",
    "  if stat_stdzed_resid and status == '':\n",
    "    status += 'R'\n",
    "\n",
    "  status_arr.append(status)\n",
    "\n",
    "df_observation[\"Observe\"] = status_arr \n",
    "\n",
    "df_observation"
   ]
  },
  {
   "cell_type": "code",
   "execution_count": 161,
   "metadata": {},
   "outputs": [
    {
     "data": {
      "text/html": [
       "<div>\n",
       "<style scoped>\n",
       "    .dataframe tbody tr th:only-of-type {\n",
       "        vertical-align: middle;\n",
       "    }\n",
       "\n",
       "    .dataframe tbody tr th {\n",
       "        vertical-align: top;\n",
       "    }\n",
       "\n",
       "    .dataframe thead th {\n",
       "        text-align: right;\n",
       "    }\n",
       "</style>\n",
       "<table border=\"1\" class=\"dataframe\">\n",
       "  <thead>\n",
       "    <tr style=\"text-align: right;\">\n",
       "      <th></th>\n",
       "      <th>Speed</th>\n",
       "      <th>Height</th>\n",
       "      <th>Drop</th>\n",
       "      <th>FitSpeed</th>\n",
       "      <th>Residual</th>\n",
       "      <th>StdzedResid</th>\n",
       "      <th>Observe</th>\n",
       "    </tr>\n",
       "  </thead>\n",
       "  <tbody>\n",
       "    <tr>\n",
       "      <th>0</th>\n",
       "      <td>120.0</td>\n",
       "      <td>420.00</td>\n",
       "      <td>400.0</td>\n",
       "      <td>115.497358</td>\n",
       "      <td>4.502642</td>\n",
       "      <td>-1.010991</td>\n",
       "      <td>X</td>\n",
       "    </tr>\n",
       "    <tr>\n",
       "      <th>1</th>\n",
       "      <td>100.0</td>\n",
       "      <td>415.00</td>\n",
       "      <td>328.1</td>\n",
       "      <td>103.577082</td>\n",
       "      <td>-3.577082</td>\n",
       "      <td>0.816484</td>\n",
       "      <td>X</td>\n",
       "    </tr>\n",
       "    <tr>\n",
       "      <th>5</th>\n",
       "      <td>82.0</td>\n",
       "      <td>160.00</td>\n",
       "      <td>228.0</td>\n",
       "      <td>77.753881</td>\n",
       "      <td>4.246119</td>\n",
       "      <td>-0.929208</td>\n",
       "      <td>X</td>\n",
       "    </tr>\n",
       "    <tr>\n",
       "      <th>6</th>\n",
       "      <td>82.0</td>\n",
       "      <td>205.00</td>\n",
       "      <td>130.0</td>\n",
       "      <td>63.434141</td>\n",
       "      <td>18.565859</td>\n",
       "      <td>-4.028381</td>\n",
       "      <td>R</td>\n",
       "    </tr>\n",
       "    <tr>\n",
       "      <th>8</th>\n",
       "      <td>80.0</td>\n",
       "      <td>165.00</td>\n",
       "      <td>133.0</td>\n",
       "      <td>62.435651</td>\n",
       "      <td>17.564349</td>\n",
       "      <td>-3.715937</td>\n",
       "      <td>R</td>\n",
       "    </tr>\n",
       "    <tr>\n",
       "      <th>23</th>\n",
       "      <td>70.0</td>\n",
       "      <td>155.00</td>\n",
       "      <td>80.0</td>\n",
       "      <td>53.413891</td>\n",
       "      <td>16.586109</td>\n",
       "      <td>-3.609180</td>\n",
       "      <td>R</td>\n",
       "    </tr>\n",
       "    <tr>\n",
       "      <th>26</th>\n",
       "      <td>67.0</td>\n",
       "      <td>110.00</td>\n",
       "      <td>105.0</td>\n",
       "      <td>55.819844</td>\n",
       "      <td>11.180156</td>\n",
       "      <td>-2.359537</td>\n",
       "      <td>R</td>\n",
       "    </tr>\n",
       "    <tr>\n",
       "      <th>71</th>\n",
       "      <td>100.0</td>\n",
       "      <td>377.33</td>\n",
       "      <td>328.1</td>\n",
       "      <td>102.175666</td>\n",
       "      <td>-2.175666</td>\n",
       "      <td>0.479626</td>\n",
       "      <td>X</td>\n",
       "    </tr>\n",
       "    <tr>\n",
       "      <th>76</th>\n",
       "      <td>68.0</td>\n",
       "      <td>65.00</td>\n",
       "      <td>180.0</td>\n",
       "      <td>66.385925</td>\n",
       "      <td>1.614075</td>\n",
       "      <td>-0.374518</td>\n",
       "      <td>X</td>\n",
       "    </tr>\n",
       "    <tr>\n",
       "      <th>87</th>\n",
       "      <td>83.0</td>\n",
       "      <td>170.60</td>\n",
       "      <td>196.8</td>\n",
       "      <td>73.056307</td>\n",
       "      <td>9.943693</td>\n",
       "      <td>-2.111415</td>\n",
       "      <td>R</td>\n",
       "    </tr>\n",
       "    <tr>\n",
       "      <th>91</th>\n",
       "      <td>35.0</td>\n",
       "      <td>51.80</td>\n",
       "      <td>49.8</td>\n",
       "      <td>44.645880</td>\n",
       "      <td>-9.645880</td>\n",
       "      <td>2.050912</td>\n",
       "      <td>R</td>\n",
       "    </tr>\n",
       "    <tr>\n",
       "      <th>110</th>\n",
       "      <td>38.0</td>\n",
       "      <td>120.00</td>\n",
       "      <td>54.0</td>\n",
       "      <td>47.868539</td>\n",
       "      <td>-9.868539</td>\n",
       "      <td>2.139438</td>\n",
       "      <td>R</td>\n",
       "    </tr>\n",
       "  </tbody>\n",
       "</table>\n",
       "</div>"
      ],
      "text/plain": [
       "     Speed  Height   Drop    FitSpeed   Residual  StdzedResid Observe\n",
       "0    120.0  420.00  400.0  115.497358   4.502642    -1.010991       X\n",
       "1    100.0  415.00  328.1  103.577082  -3.577082     0.816484       X\n",
       "5     82.0  160.00  228.0   77.753881   4.246119    -0.929208       X\n",
       "6     82.0  205.00  130.0   63.434141  18.565859    -4.028381       R\n",
       "8     80.0  165.00  133.0   62.435651  17.564349    -3.715937       R\n",
       "23    70.0  155.00   80.0   53.413891  16.586109    -3.609180       R\n",
       "26    67.0  110.00  105.0   55.819844  11.180156    -2.359537       R\n",
       "71   100.0  377.33  328.1  102.175666  -2.175666     0.479626       X\n",
       "76    68.0   65.00  180.0   66.385925   1.614075    -0.374518       X\n",
       "87    83.0  170.60  196.8   73.056307   9.943693    -2.111415       R\n",
       "91    35.0   51.80   49.8   44.645880  -9.645880     2.050912       R\n",
       "110   38.0  120.00   54.0   47.868539  -9.868539     2.139438       R"
      ]
     },
     "execution_count": 161,
     "metadata": {},
     "output_type": "execute_result"
    }
   ],
   "source": [
    "df_observation.iloc[is_outlier+is_large_stdzed_residual]"
   ]
  }
 ],
 "metadata": {
  "kernelspec": {
   "display_name": "Python 3.8.10 ('base')",
   "language": "python",
   "name": "python3"
  },
  "language_info": {
   "codemirror_mode": {
    "name": "ipython",
    "version": 3
   },
   "file_extension": ".py",
   "mimetype": "text/x-python",
   "name": "python",
   "nbconvert_exporter": "python",
   "pygments_lexer": "ipython3",
   "version": "3.8.10"
  },
  "orig_nbformat": 4,
  "vscode": {
   "interpreter": {
    "hash": "b68217c4fa6011267e0d81cc47bb50822e9770eb46de3a1f506be20c9f89249d"
   }
  }
 },
 "nbformat": 4,
 "nbformat_minor": 2
}
