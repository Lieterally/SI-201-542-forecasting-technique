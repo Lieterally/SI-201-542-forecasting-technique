{
 "cells": [
  {
   "cell_type": "code",
   "execution_count": 1,
   "metadata": {},
   "outputs": [],
   "source": [
    "import matplotlib.pyplot as plt\n",
    "import numpy as np\n",
    "import pandas as pd\n",
    "\n",
    "from sklearn.linear_model import LinearRegression\n",
    "from sklearn.preprocessing import PolynomialFeatures\n",
    "from sklearn.pipeline import Pipeline\n",
    "\n",
    "import plotly.graph_objects as go"
   ]
  },
  {
   "cell_type": "code",
   "execution_count": 2,
   "metadata": {},
   "outputs": [],
   "source": [
    "plt.rcParams.update(plt.rcParamsDefault)\n",
    "plt.rcParams.update({\n",
    "  'font.size': 12,\n",
    "  'grid.alpha': 0.25})"
   ]
  },
  {
   "cell_type": "markdown",
   "metadata": {},
   "source": [
    "## Function declarations\n",
    "\n",
    "### Read `ods` to `DataFrame`\n"
   ]
  },
  {
   "cell_type": "code",
   "execution_count": 3,
   "metadata": {},
   "outputs": [],
   "source": [
    "def read_ods(filename, columns=None):\n",
    "  if columns is None:\n",
    "    df = pd.read_excel(filename, engine=\"odf\", header=0)\n",
    "  else:\n",
    "    key_arr = (k for k in columns.keys())\n",
    "    df = pd.read_excel(filename, engine=\"odf\", header=0,\n",
    "                      usecols=columns)\n",
    "    df = df.rename(columns=columns)\n",
    "  return df"
   ]
  },
  {
   "cell_type": "markdown",
   "metadata": {},
   "source": [
    "### Get linear regression coefficients ($b_0$ and $b_1$)"
   ]
  },
  {
   "cell_type": "code",
   "execution_count": 4,
   "metadata": {},
   "outputs": [],
   "source": [
    "def get_multiple_regress_coeff(df, n_vars=2):\n",
    "  \n",
    "  num_of_samples = len(df)\n",
    "  X_arr = np.zeros((num_of_samples, n_vars))\n",
    "  Y = df[\"Y\"].to_numpy()\n",
    "\n",
    "  for i in range(n_vars):\n",
    "    key = f\"X_{i+1}\"\n",
    "    X_arr[:, i] = df[key].to_numpy()\n",
    "\n",
    "  regress = LinearRegression().fit(X_arr, Y)\n",
    "\n",
    "  df[\"hat_Y\"] = regress.intercept_ + X_arr.dot(regress.coef_) \n",
    "\n",
    "  return regress, df\n"
   ]
  },
  {
   "cell_type": "markdown",
   "metadata": {},
   "source": [
    "## Load the data"
   ]
  },
  {
   "cell_type": "code",
   "execution_count": 5,
   "metadata": {},
   "outputs": [
    {
     "data": {
      "text/html": [
       "<div>\n",
       "<style scoped>\n",
       "    .dataframe tbody tr th:only-of-type {\n",
       "        vertical-align: middle;\n",
       "    }\n",
       "\n",
       "    .dataframe tbody tr th {\n",
       "        vertical-align: top;\n",
       "    }\n",
       "\n",
       "    .dataframe thead th {\n",
       "        text-align: right;\n",
       "    }\n",
       "</style>\n",
       "<table border=\"1\" class=\"dataframe\">\n",
       "  <thead>\n",
       "    <tr style=\"text-align: right;\">\n",
       "      <th></th>\n",
       "      <th>Week</th>\n",
       "      <th>Sales (1,000s) Y</th>\n",
       "      <th>Price per Gallon ($) X_1</th>\n",
       "      <th>Advertising ($100s) X_2</th>\n",
       "    </tr>\n",
       "  </thead>\n",
       "  <tbody>\n",
       "    <tr>\n",
       "      <th>0</th>\n",
       "      <td>1</td>\n",
       "      <td>10</td>\n",
       "      <td>1.3</td>\n",
       "      <td>9</td>\n",
       "    </tr>\n",
       "    <tr>\n",
       "      <th>1</th>\n",
       "      <td>2</td>\n",
       "      <td>6</td>\n",
       "      <td>2.0</td>\n",
       "      <td>7</td>\n",
       "    </tr>\n",
       "    <tr>\n",
       "      <th>2</th>\n",
       "      <td>3</td>\n",
       "      <td>5</td>\n",
       "      <td>1.7</td>\n",
       "      <td>5</td>\n",
       "    </tr>\n",
       "    <tr>\n",
       "      <th>3</th>\n",
       "      <td>4</td>\n",
       "      <td>12</td>\n",
       "      <td>1.5</td>\n",
       "      <td>14</td>\n",
       "    </tr>\n",
       "    <tr>\n",
       "      <th>4</th>\n",
       "      <td>5</td>\n",
       "      <td>10</td>\n",
       "      <td>1.6</td>\n",
       "      <td>15</td>\n",
       "    </tr>\n",
       "    <tr>\n",
       "      <th>5</th>\n",
       "      <td>6</td>\n",
       "      <td>15</td>\n",
       "      <td>1.2</td>\n",
       "      <td>12</td>\n",
       "    </tr>\n",
       "    <tr>\n",
       "      <th>6</th>\n",
       "      <td>7</td>\n",
       "      <td>5</td>\n",
       "      <td>1.6</td>\n",
       "      <td>6</td>\n",
       "    </tr>\n",
       "    <tr>\n",
       "      <th>7</th>\n",
       "      <td>8</td>\n",
       "      <td>12</td>\n",
       "      <td>1.4</td>\n",
       "      <td>10</td>\n",
       "    </tr>\n",
       "    <tr>\n",
       "      <th>8</th>\n",
       "      <td>9</td>\n",
       "      <td>17</td>\n",
       "      <td>1.0</td>\n",
       "      <td>15</td>\n",
       "    </tr>\n",
       "    <tr>\n",
       "      <th>9</th>\n",
       "      <td>10</td>\n",
       "      <td>20</td>\n",
       "      <td>1.1</td>\n",
       "      <td>21</td>\n",
       "    </tr>\n",
       "  </tbody>\n",
       "</table>\n",
       "</div>"
      ],
      "text/plain": [
       "   Week  Sales (1,000s) Y  Price per Gallon ($) X_1  Advertising ($100s) X_2\n",
       "0     1                10                       1.3                        9\n",
       "1     2                 6                       2.0                        7\n",
       "2     3                 5                       1.7                        5\n",
       "3     4                12                       1.5                       14\n",
       "4     5                10                       1.6                       15\n",
       "5     6                15                       1.2                       12\n",
       "6     7                 5                       1.6                        6\n",
       "7     8                12                       1.4                       10\n",
       "8     9                17                       1.0                       15\n",
       "9    10                20                       1.1                       21"
      ]
     },
     "execution_count": 5,
     "metadata": {},
     "output_type": "execute_result"
    }
   ],
   "source": [
    "filename = \"06-table-04-milk-gallons.ods\"\n",
    "\n",
    "df = read_ods(filename)\n",
    "\n",
    "df\n"
   ]
  },
  {
   "cell_type": "markdown",
   "metadata": {},
   "source": [
    "## Fit multiple linear regression $b_0 + b_1 X_1 + b_2 X_2$"
   ]
  },
  {
   "cell_type": "code",
   "execution_count": 6,
   "metadata": {},
   "outputs": [
    {
     "name": "stdout",
     "output_type": "stream",
     "text": [
      "regress.intercept_ : 16.40636514633729\n",
      "regress.coef_ : [-8.24758014  0.5851009 ]\n"
     ]
    },
    {
     "data": {
      "text/html": [
       "<div>\n",
       "<style scoped>\n",
       "    .dataframe tbody tr th:only-of-type {\n",
       "        vertical-align: middle;\n",
       "    }\n",
       "\n",
       "    .dataframe tbody tr th {\n",
       "        vertical-align: top;\n",
       "    }\n",
       "\n",
       "    .dataframe thead th {\n",
       "        text-align: right;\n",
       "    }\n",
       "</style>\n",
       "<table border=\"1\" class=\"dataframe\">\n",
       "  <thead>\n",
       "    <tr style=\"text-align: right;\">\n",
       "      <th></th>\n",
       "      <th>Week</th>\n",
       "      <th>Y</th>\n",
       "      <th>X_1</th>\n",
       "      <th>X_2</th>\n",
       "      <th>hat_Y</th>\n",
       "    </tr>\n",
       "  </thead>\n",
       "  <tbody>\n",
       "    <tr>\n",
       "      <th>0</th>\n",
       "      <td>1</td>\n",
       "      <td>10</td>\n",
       "      <td>1.3</td>\n",
       "      <td>9</td>\n",
       "      <td>10.950419</td>\n",
       "    </tr>\n",
       "    <tr>\n",
       "      <th>1</th>\n",
       "      <td>2</td>\n",
       "      <td>6</td>\n",
       "      <td>2.0</td>\n",
       "      <td>7</td>\n",
       "      <td>4.006911</td>\n",
       "    </tr>\n",
       "    <tr>\n",
       "      <th>2</th>\n",
       "      <td>3</td>\n",
       "      <td>5</td>\n",
       "      <td>1.7</td>\n",
       "      <td>5</td>\n",
       "      <td>5.310983</td>\n",
       "    </tr>\n",
       "    <tr>\n",
       "      <th>3</th>\n",
       "      <td>4</td>\n",
       "      <td>12</td>\n",
       "      <td>1.5</td>\n",
       "      <td>14</td>\n",
       "      <td>12.226408</td>\n",
       "    </tr>\n",
       "    <tr>\n",
       "      <th>4</th>\n",
       "      <td>5</td>\n",
       "      <td>10</td>\n",
       "      <td>1.6</td>\n",
       "      <td>15</td>\n",
       "      <td>11.986750</td>\n",
       "    </tr>\n",
       "    <tr>\n",
       "      <th>5</th>\n",
       "      <td>6</td>\n",
       "      <td>15</td>\n",
       "      <td>1.2</td>\n",
       "      <td>12</td>\n",
       "      <td>13.530480</td>\n",
       "    </tr>\n",
       "    <tr>\n",
       "      <th>6</th>\n",
       "      <td>7</td>\n",
       "      <td>5</td>\n",
       "      <td>1.6</td>\n",
       "      <td>6</td>\n",
       "      <td>6.720842</td>\n",
       "    </tr>\n",
       "    <tr>\n",
       "      <th>7</th>\n",
       "      <td>8</td>\n",
       "      <td>12</td>\n",
       "      <td>1.4</td>\n",
       "      <td>10</td>\n",
       "      <td>10.710762</td>\n",
       "    </tr>\n",
       "    <tr>\n",
       "      <th>8</th>\n",
       "      <td>9</td>\n",
       "      <td>17</td>\n",
       "      <td>1.0</td>\n",
       "      <td>15</td>\n",
       "      <td>16.935298</td>\n",
       "    </tr>\n",
       "    <tr>\n",
       "      <th>9</th>\n",
       "      <td>10</td>\n",
       "      <td>20</td>\n",
       "      <td>1.1</td>\n",
       "      <td>21</td>\n",
       "      <td>19.621146</td>\n",
       "    </tr>\n",
       "  </tbody>\n",
       "</table>\n",
       "</div>"
      ],
      "text/plain": [
       "   Week   Y  X_1  X_2      hat_Y\n",
       "0     1  10  1.3    9  10.950419\n",
       "1     2   6  2.0    7   4.006911\n",
       "2     3   5  1.7    5   5.310983\n",
       "3     4  12  1.5   14  12.226408\n",
       "4     5  10  1.6   15  11.986750\n",
       "5     6  15  1.2   12  13.530480\n",
       "6     7   5  1.6    6   6.720842\n",
       "7     8  12  1.4   10  10.710762\n",
       "8     9  17  1.0   15  16.935298\n",
       "9    10  20  1.1   21  19.621146"
      ]
     },
     "execution_count": 6,
     "metadata": {},
     "output_type": "execute_result"
    }
   ],
   "source": [
    "n_vars = 2\n",
    "\n",
    "df_regress = df.copy()\n",
    "df_regress = df_regress.rename(columns={\n",
    "  \"Sales (1,000s) Y\": \"Y\",\n",
    "  \"Price per Gallon ($) X_1\": \"X_1\",\n",
    "  \"Advertising ($100s) X_2\": \"X_2\"})\n",
    "\n",
    "regress, df_regress = get_multiple_regress_coeff(df_regress, n_vars=n_vars)\n",
    "\n",
    "print(f\"regress.intercept_ : {regress.intercept_}\")\n",
    "print(f\"regress.coef_ : {regress.coef_}\")\n",
    "df_regress"
   ]
  },
  {
   "cell_type": "code",
   "execution_count": 7,
   "metadata": {},
   "outputs": [],
   "source": [
    "x_min = df_regress['X_1'].min()\n",
    "x_max = df_regress['X_1'].max()\n",
    "x_data = np.linspace(0, x_max, 10)\n",
    "\n",
    "y_min = df_regress['X_2'].min()\n",
    "y_max = df_regress['X_2'].max()\n",
    "y_data = np.linspace(0, y_max, 10)\n",
    "\n",
    "z_data = regress.intercept_ + regress.coef_[0]*x_data.reshape((-1, 1)) \\\n",
    "  + regress.coef_[1]*y_data\n",
    "#z_data"
   ]
  },
  {
   "cell_type": "code",
   "execution_count": 21,
   "metadata": {},
   "outputs": [
    {
     "data": {
      "application/vnd.plotly.v1+json": {
       "config": {
        "plotlyServerURL": "https://plot.ly"
       },
       "data": [
        {
         "colorscale": [
          [
           0,
           "rgb(247,251,255)"
          ],
          [
           0.125,
           "rgb(222,235,247)"
          ],
          [
           0.25,
           "rgb(198,219,239)"
          ],
          [
           0.375,
           "rgb(158,202,225)"
          ],
          [
           0.5,
           "rgb(107,174,214)"
          ],
          [
           0.625,
           "rgb(66,146,198)"
          ],
          [
           0.75,
           "rgb(33,113,181)"
          ],
          [
           0.875,
           "rgb(8,81,156)"
          ],
          [
           1,
           "rgb(8,48,107)"
          ]
         ],
         "opacity": 0.7,
         "showscale": false,
         "surfacecolor": [
          [
           0,
           0,
           0,
           0,
           0,
           0,
           0,
           0,
           0,
           0
          ],
          [
           0,
           0,
           0,
           0,
           0,
           0,
           0,
           0,
           0,
           0
          ],
          [
           0,
           0,
           0,
           0,
           0,
           0,
           0,
           0,
           0,
           0
          ],
          [
           0,
           0,
           0,
           0,
           0,
           0,
           0,
           0,
           0,
           0
          ],
          [
           0,
           0,
           0,
           0,
           0,
           0,
           0,
           0,
           0,
           0
          ],
          [
           0,
           0,
           0,
           0,
           0,
           0,
           0,
           0,
           0,
           0
          ],
          [
           0,
           0,
           0,
           0,
           0,
           0,
           0,
           0,
           0,
           0
          ],
          [
           0,
           0,
           0,
           0,
           0,
           0,
           0,
           0,
           0,
           0
          ],
          [
           0,
           0,
           0,
           0,
           0,
           0,
           0,
           0,
           0,
           0
          ],
          [
           0,
           0,
           0,
           0,
           0,
           0,
           0,
           0,
           0,
           0
          ]
         ],
         "type": "surface",
         "x": [
          0,
          0.2222222222222222,
          0.4444444444444444,
          0.6666666666666666,
          0.8888888888888888,
          1.1111111111111112,
          1.3333333333333333,
          1.5555555555555554,
          1.7777777777777777,
          2
         ],
         "y": [
          0,
          2.3333333333333335,
          4.666666666666667,
          7,
          9.333333333333334,
          11.666666666666668,
          14,
          16.333333333333336,
          18.666666666666668,
          21
         ],
         "z": [
          [
           16.40636514633729,
           14.57356956031999,
           12.74077397430269,
           10.907978388285393,
           9.075182802268092,
           7.242387216250792,
           5.4095916302334945,
           3.576796044216197,
           1.7440004581988955,
           -0.08879512781840404
          ],
          [
           17.771600577839735,
           15.938804991822437,
           14.106009405805137,
           12.27321381978784,
           10.440418233770538,
           8.607622647753239,
           6.774827061735941,
           4.942031475718643,
           3.109235889701342,
           1.2764403036840422
          ],
          [
           19.136836009342183,
           17.30404042332488,
           15.471244837307584,
           13.638449251290286,
           11.805653665272985,
           9.972858079255685,
           8.140062493238387,
           6.30726690722109,
           4.474471321203788,
           2.6416757351864883
          ],
          [
           20.502071440844627,
           18.66927585482733,
           16.83648026881003,
           15.00368468279273,
           13.17088909677543,
           11.338093510758132,
           9.505297924740834,
           7.672502338723535,
           5.839706752706234,
           4.006911166688934
          ],
          [
           21.867306872347076,
           20.034511286329774,
           18.201715700312477,
           16.36892011429518,
           14.536124528277877,
           12.703328942260576,
           10.870533356243278,
           9.03773777022598,
           7.20494218420868,
           5.372146598191381
          ],
          [
           23.23254230384952,
           21.399746717832222,
           19.56695113181492,
           17.734155545797623,
           15.901359959780322,
           14.068564373763024,
           12.235768787745727,
           10.402973201728429,
           8.570177615711128,
           6.737382029693827
          ],
          [
           24.59777773535197,
           22.764982149334667,
           20.932186563317366,
           19.099390977300068,
           17.26659539128277,
           15.433799805265469,
           13.601004219248171,
           11.768208633230874,
           9.935413047213572,
           8.102617461196273
          ],
          [
           25.963013166854413,
           24.13021758083711,
           22.297421994819814,
           20.464626408802516,
           18.631830822785215,
           16.799035236767914,
           14.966239650750618,
           13.13344406473332,
           11.300648478716019,
           9.467852892698719
          ],
          [
           27.328248598356858,
           25.49545301233956,
           23.662657426322262,
           21.829861840304964,
           19.99706625428766,
           18.164270668270362,
           16.331475082253064,
           14.498679496235766,
           12.665883910218465,
           10.833088324201166
          ],
          [
           28.693484029859306,
           26.860688443842005,
           25.027892857824703,
           23.195097271807406,
           21.362301685790108,
           19.529506099772806,
           17.69671051375551,
           15.863914927738211,
           14.03111934172091,
           12.19832375570361
          ]
         ]
        },
        {
         "marker": {
          "size": 4
         },
         "mode": "markers",
         "type": "scatter3d",
         "x": [
          1.3,
          2,
          1.7,
          1.5,
          1.6,
          1.2,
          1.6,
          1.4,
          1,
          1.1
         ],
         "y": [
          9,
          7,
          5,
          14,
          15,
          12,
          6,
          10,
          15,
          21
         ],
         "z": [
          10,
          6,
          5,
          12,
          10,
          15,
          5,
          12,
          17,
          20
         ]
        }
       ],
       "layout": {
        "autosize": true,
        "height": 500,
        "margin": {
         "b": 15,
         "l": 35,
         "r": 30,
         "t": 50
        },
        "scene": {
         "camera": {
          "center": {
           "x": 0,
           "y": -0.1,
           "z": -0.2
          },
          "eye": {
           "x": 2.1665770566268576,
           "y": 0.3820259908672469,
           "z": 0.7524443153164715
          }
         },
         "xaxis": {
          "title": {
           "text": "Price per gallon ($)"
          }
         },
         "yaxis": {
          "title": {
           "text": "Advertising ($100s)"
          }
         },
         "zaxis": {
          "title": {
           "text": "Sales (1000s)"
          }
         }
        },
        "template": {
         "data": {
          "bar": [
           {
            "error_x": {
             "color": "#2a3f5f"
            },
            "error_y": {
             "color": "#2a3f5f"
            },
            "marker": {
             "line": {
              "color": "#E5ECF6",
              "width": 0.5
             }
            },
            "type": "bar"
           }
          ],
          "barpolar": [
           {
            "marker": {
             "line": {
              "color": "#E5ECF6",
              "width": 0.5
             }
            },
            "type": "barpolar"
           }
          ],
          "carpet": [
           {
            "aaxis": {
             "endlinecolor": "#2a3f5f",
             "gridcolor": "white",
             "linecolor": "white",
             "minorgridcolor": "white",
             "startlinecolor": "#2a3f5f"
            },
            "baxis": {
             "endlinecolor": "#2a3f5f",
             "gridcolor": "white",
             "linecolor": "white",
             "minorgridcolor": "white",
             "startlinecolor": "#2a3f5f"
            },
            "type": "carpet"
           }
          ],
          "choropleth": [
           {
            "colorbar": {
             "outlinewidth": 0,
             "ticks": ""
            },
            "type": "choropleth"
           }
          ],
          "contour": [
           {
            "colorbar": {
             "outlinewidth": 0,
             "ticks": ""
            },
            "colorscale": [
             [
              0,
              "#0d0887"
             ],
             [
              0.1111111111111111,
              "#46039f"
             ],
             [
              0.2222222222222222,
              "#7201a8"
             ],
             [
              0.3333333333333333,
              "#9c179e"
             ],
             [
              0.4444444444444444,
              "#bd3786"
             ],
             [
              0.5555555555555556,
              "#d8576b"
             ],
             [
              0.6666666666666666,
              "#ed7953"
             ],
             [
              0.7777777777777778,
              "#fb9f3a"
             ],
             [
              0.8888888888888888,
              "#fdca26"
             ],
             [
              1,
              "#f0f921"
             ]
            ],
            "type": "contour"
           }
          ],
          "contourcarpet": [
           {
            "colorbar": {
             "outlinewidth": 0,
             "ticks": ""
            },
            "type": "contourcarpet"
           }
          ],
          "heatmap": [
           {
            "colorbar": {
             "outlinewidth": 0,
             "ticks": ""
            },
            "colorscale": [
             [
              0,
              "#0d0887"
             ],
             [
              0.1111111111111111,
              "#46039f"
             ],
             [
              0.2222222222222222,
              "#7201a8"
             ],
             [
              0.3333333333333333,
              "#9c179e"
             ],
             [
              0.4444444444444444,
              "#bd3786"
             ],
             [
              0.5555555555555556,
              "#d8576b"
             ],
             [
              0.6666666666666666,
              "#ed7953"
             ],
             [
              0.7777777777777778,
              "#fb9f3a"
             ],
             [
              0.8888888888888888,
              "#fdca26"
             ],
             [
              1,
              "#f0f921"
             ]
            ],
            "type": "heatmap"
           }
          ],
          "heatmapgl": [
           {
            "colorbar": {
             "outlinewidth": 0,
             "ticks": ""
            },
            "colorscale": [
             [
              0,
              "#0d0887"
             ],
             [
              0.1111111111111111,
              "#46039f"
             ],
             [
              0.2222222222222222,
              "#7201a8"
             ],
             [
              0.3333333333333333,
              "#9c179e"
             ],
             [
              0.4444444444444444,
              "#bd3786"
             ],
             [
              0.5555555555555556,
              "#d8576b"
             ],
             [
              0.6666666666666666,
              "#ed7953"
             ],
             [
              0.7777777777777778,
              "#fb9f3a"
             ],
             [
              0.8888888888888888,
              "#fdca26"
             ],
             [
              1,
              "#f0f921"
             ]
            ],
            "type": "heatmapgl"
           }
          ],
          "histogram": [
           {
            "marker": {
             "colorbar": {
              "outlinewidth": 0,
              "ticks": ""
             }
            },
            "type": "histogram"
           }
          ],
          "histogram2d": [
           {
            "colorbar": {
             "outlinewidth": 0,
             "ticks": ""
            },
            "colorscale": [
             [
              0,
              "#0d0887"
             ],
             [
              0.1111111111111111,
              "#46039f"
             ],
             [
              0.2222222222222222,
              "#7201a8"
             ],
             [
              0.3333333333333333,
              "#9c179e"
             ],
             [
              0.4444444444444444,
              "#bd3786"
             ],
             [
              0.5555555555555556,
              "#d8576b"
             ],
             [
              0.6666666666666666,
              "#ed7953"
             ],
             [
              0.7777777777777778,
              "#fb9f3a"
             ],
             [
              0.8888888888888888,
              "#fdca26"
             ],
             [
              1,
              "#f0f921"
             ]
            ],
            "type": "histogram2d"
           }
          ],
          "histogram2dcontour": [
           {
            "colorbar": {
             "outlinewidth": 0,
             "ticks": ""
            },
            "colorscale": [
             [
              0,
              "#0d0887"
             ],
             [
              0.1111111111111111,
              "#46039f"
             ],
             [
              0.2222222222222222,
              "#7201a8"
             ],
             [
              0.3333333333333333,
              "#9c179e"
             ],
             [
              0.4444444444444444,
              "#bd3786"
             ],
             [
              0.5555555555555556,
              "#d8576b"
             ],
             [
              0.6666666666666666,
              "#ed7953"
             ],
             [
              0.7777777777777778,
              "#fb9f3a"
             ],
             [
              0.8888888888888888,
              "#fdca26"
             ],
             [
              1,
              "#f0f921"
             ]
            ],
            "type": "histogram2dcontour"
           }
          ],
          "mesh3d": [
           {
            "colorbar": {
             "outlinewidth": 0,
             "ticks": ""
            },
            "type": "mesh3d"
           }
          ],
          "parcoords": [
           {
            "line": {
             "colorbar": {
              "outlinewidth": 0,
              "ticks": ""
             }
            },
            "type": "parcoords"
           }
          ],
          "pie": [
           {
            "automargin": true,
            "type": "pie"
           }
          ],
          "scatter": [
           {
            "marker": {
             "colorbar": {
              "outlinewidth": 0,
              "ticks": ""
             }
            },
            "type": "scatter"
           }
          ],
          "scatter3d": [
           {
            "line": {
             "colorbar": {
              "outlinewidth": 0,
              "ticks": ""
             }
            },
            "marker": {
             "colorbar": {
              "outlinewidth": 0,
              "ticks": ""
             }
            },
            "type": "scatter3d"
           }
          ],
          "scattercarpet": [
           {
            "marker": {
             "colorbar": {
              "outlinewidth": 0,
              "ticks": ""
             }
            },
            "type": "scattercarpet"
           }
          ],
          "scattergeo": [
           {
            "marker": {
             "colorbar": {
              "outlinewidth": 0,
              "ticks": ""
             }
            },
            "type": "scattergeo"
           }
          ],
          "scattergl": [
           {
            "marker": {
             "colorbar": {
              "outlinewidth": 0,
              "ticks": ""
             }
            },
            "type": "scattergl"
           }
          ],
          "scattermapbox": [
           {
            "marker": {
             "colorbar": {
              "outlinewidth": 0,
              "ticks": ""
             }
            },
            "type": "scattermapbox"
           }
          ],
          "scatterpolar": [
           {
            "marker": {
             "colorbar": {
              "outlinewidth": 0,
              "ticks": ""
             }
            },
            "type": "scatterpolar"
           }
          ],
          "scatterpolargl": [
           {
            "marker": {
             "colorbar": {
              "outlinewidth": 0,
              "ticks": ""
             }
            },
            "type": "scatterpolargl"
           }
          ],
          "scatterternary": [
           {
            "marker": {
             "colorbar": {
              "outlinewidth": 0,
              "ticks": ""
             }
            },
            "type": "scatterternary"
           }
          ],
          "surface": [
           {
            "colorbar": {
             "outlinewidth": 0,
             "ticks": ""
            },
            "colorscale": [
             [
              0,
              "#0d0887"
             ],
             [
              0.1111111111111111,
              "#46039f"
             ],
             [
              0.2222222222222222,
              "#7201a8"
             ],
             [
              0.3333333333333333,
              "#9c179e"
             ],
             [
              0.4444444444444444,
              "#bd3786"
             ],
             [
              0.5555555555555556,
              "#d8576b"
             ],
             [
              0.6666666666666666,
              "#ed7953"
             ],
             [
              0.7777777777777778,
              "#fb9f3a"
             ],
             [
              0.8888888888888888,
              "#fdca26"
             ],
             [
              1,
              "#f0f921"
             ]
            ],
            "type": "surface"
           }
          ],
          "table": [
           {
            "cells": {
             "fill": {
              "color": "#EBF0F8"
             },
             "line": {
              "color": "white"
             }
            },
            "header": {
             "fill": {
              "color": "#C8D4E3"
             },
             "line": {
              "color": "white"
             }
            },
            "type": "table"
           }
          ]
         },
         "layout": {
          "annotationdefaults": {
           "arrowcolor": "#2a3f5f",
           "arrowhead": 0,
           "arrowwidth": 1
          },
          "autotypenumbers": "strict",
          "coloraxis": {
           "colorbar": {
            "outlinewidth": 0,
            "ticks": ""
           }
          },
          "colorscale": {
           "diverging": [
            [
             0,
             "#8e0152"
            ],
            [
             0.1,
             "#c51b7d"
            ],
            [
             0.2,
             "#de77ae"
            ],
            [
             0.3,
             "#f1b6da"
            ],
            [
             0.4,
             "#fde0ef"
            ],
            [
             0.5,
             "#f7f7f7"
            ],
            [
             0.6,
             "#e6f5d0"
            ],
            [
             0.7,
             "#b8e186"
            ],
            [
             0.8,
             "#7fbc41"
            ],
            [
             0.9,
             "#4d9221"
            ],
            [
             1,
             "#276419"
            ]
           ],
           "sequential": [
            [
             0,
             "#0d0887"
            ],
            [
             0.1111111111111111,
             "#46039f"
            ],
            [
             0.2222222222222222,
             "#7201a8"
            ],
            [
             0.3333333333333333,
             "#9c179e"
            ],
            [
             0.4444444444444444,
             "#bd3786"
            ],
            [
             0.5555555555555556,
             "#d8576b"
            ],
            [
             0.6666666666666666,
             "#ed7953"
            ],
            [
             0.7777777777777778,
             "#fb9f3a"
            ],
            [
             0.8888888888888888,
             "#fdca26"
            ],
            [
             1,
             "#f0f921"
            ]
           ],
           "sequentialminus": [
            [
             0,
             "#0d0887"
            ],
            [
             0.1111111111111111,
             "#46039f"
            ],
            [
             0.2222222222222222,
             "#7201a8"
            ],
            [
             0.3333333333333333,
             "#9c179e"
            ],
            [
             0.4444444444444444,
             "#bd3786"
            ],
            [
             0.5555555555555556,
             "#d8576b"
            ],
            [
             0.6666666666666666,
             "#ed7953"
            ],
            [
             0.7777777777777778,
             "#fb9f3a"
            ],
            [
             0.8888888888888888,
             "#fdca26"
            ],
            [
             1,
             "#f0f921"
            ]
           ]
          },
          "colorway": [
           "#636efa",
           "#EF553B",
           "#00cc96",
           "#ab63fa",
           "#FFA15A",
           "#19d3f3",
           "#FF6692",
           "#B6E880",
           "#FF97FF",
           "#FECB52"
          ],
          "font": {
           "color": "#2a3f5f"
          },
          "geo": {
           "bgcolor": "white",
           "lakecolor": "white",
           "landcolor": "#E5ECF6",
           "showlakes": true,
           "showland": true,
           "subunitcolor": "white"
          },
          "hoverlabel": {
           "align": "left"
          },
          "hovermode": "closest",
          "mapbox": {
           "style": "light"
          },
          "paper_bgcolor": "white",
          "plot_bgcolor": "#E5ECF6",
          "polar": {
           "angularaxis": {
            "gridcolor": "white",
            "linecolor": "white",
            "ticks": ""
           },
           "bgcolor": "#E5ECF6",
           "radialaxis": {
            "gridcolor": "white",
            "linecolor": "white",
            "ticks": ""
           }
          },
          "scene": {
           "xaxis": {
            "backgroundcolor": "#E5ECF6",
            "gridcolor": "white",
            "gridwidth": 2,
            "linecolor": "white",
            "showbackground": true,
            "ticks": "",
            "zerolinecolor": "white"
           },
           "yaxis": {
            "backgroundcolor": "#E5ECF6",
            "gridcolor": "white",
            "gridwidth": 2,
            "linecolor": "white",
            "showbackground": true,
            "ticks": "",
            "zerolinecolor": "white"
           },
           "zaxis": {
            "backgroundcolor": "#E5ECF6",
            "gridcolor": "white",
            "gridwidth": 2,
            "linecolor": "white",
            "showbackground": true,
            "ticks": "",
            "zerolinecolor": "white"
           }
          },
          "shapedefaults": {
           "line": {
            "color": "#2a3f5f"
           }
          },
          "ternary": {
           "aaxis": {
            "gridcolor": "white",
            "linecolor": "white",
            "ticks": ""
           },
           "baxis": {
            "gridcolor": "white",
            "linecolor": "white",
            "ticks": ""
           },
           "bgcolor": "#E5ECF6",
           "caxis": {
            "gridcolor": "white",
            "linecolor": "white",
            "ticks": ""
           }
          },
          "title": {
           "x": 0.05
          },
          "xaxis": {
           "automargin": true,
           "gridcolor": "white",
           "linecolor": "white",
           "ticks": "",
           "title": {
            "standoff": 15
           },
           "zerolinecolor": "white",
           "zerolinewidth": 2
          },
          "yaxis": {
           "automargin": true,
           "gridcolor": "white",
           "linecolor": "white",
           "ticks": "",
           "title": {
            "standoff": 15
           },
           "zerolinecolor": "white",
           "zerolinewidth": 2
          }
         }
        },
        "title": {
         "text": "Fitted regression plane"
        },
        "width": 500
       }
      }
     },
     "metadata": {},
     "output_type": "display_data"
    }
   ],
   "source": [
    "z_color = np.zeros_like(z_data)\n",
    "# selected_point = [1, 8]\n",
    "selected_point = list(range(10))\n",
    "x_scatter_data = df_regress['X_1'].iloc[selected_point].to_numpy()\n",
    "y_scatter_data = df_regress['X_2'].iloc[selected_point].to_numpy()\n",
    "z_scatter_data = df_regress['Y'].iloc[selected_point].to_numpy()\n",
    "\n",
    "fig = go.Figure(data=[\n",
    "  go.Surface(z=z_data.T, x=x_data, y=y_data, \n",
    "    colorscale=\"Blues\", surfacecolor=z_color,\n",
    "    showscale=False, opacity=0.7),\n",
    "  go.Scatter3d(x=x_scatter_data, y=y_scatter_data, z=z_scatter_data, \n",
    "    mode=\"markers\", marker_size=4)])\n",
    "\n",
    "#go.Figure(data=[go.Scatter3d(x=df_regress['X_1'], y=df_regress['X_2'], \n",
    "#  z=df_regress['Y'], mode=\"markers\")])\n",
    "\n",
    "theta = [10, 80, 70]\n",
    "theta = np.deg2rad(theta)\n",
    "a = 2.2\n",
    "camera = {\n",
    "  'center': {'x': 0, 'y': -0.1, 'z': -0.2},\n",
    "  'eye': {'x': a*np.cos(theta[0]), 'y': a*np.cos(theta[1]), 'z': a*np.cos(theta[2])}}\n",
    "\n",
    "fig.update_layout(\n",
    "  title=\"Fitted regression plane\", autosize=True,\n",
    "  width=500, height=500,\n",
    "  margin={'l':35, 'r': 30, 'b':15, 't':50,},\n",
    "  scene={\n",
    "    \"xaxis_title\": \"Price per gallon ($)\",\n",
    "    \"yaxis_title\": \"Advertising ($100s)\",\n",
    "    \"zaxis_title\": \"Sales (1000s)\"},\n",
    "  scene_camera=camera)\n",
    "\n",
    "\n",
    "\n",
    "fig.show()"
   ]
  },
  {
   "cell_type": "markdown",
   "metadata": {},
   "source": [
    "## Forecast"
   ]
  },
  {
   "cell_type": "code",
   "execution_count": 10,
   "metadata": {},
   "outputs": [
    {
     "name": "stdout",
     "output_type": "stream",
     "text": [
      "(b0, b1, b2): (16.41, -8.25, 0.59)\n",
      "at (X_1, X_): (1.5, 10)\n",
      "hat_Y: 9.935\n"
     ]
    }
   ],
   "source": [
    "X_1_forecast = 1.5\n",
    "X_2_forecast = 10\n",
    "\n",
    "b0 = np.round(regress.intercept_, 2)\n",
    "b1, b2 = np.round(regress.coef_, 2)\n",
    "print(f\"(b0, b1, b2): {b0, b1, b2}\")\n",
    "# hat_Y = regress.intercept_ + regress.coef_.dot([X_1_forecast, X_2_forecast])\n",
    "hat_Y = b0 + b1*X_1_forecast + b2*X_2_forecast\n",
    "\n",
    "print(f\"at (X_1, X_): {X_1_forecast, X_2_forecast}\")\n",
    "print(f\"hat_Y: {hat_Y:.3f}\")"
   ]
  },
  {
   "cell_type": "markdown",
   "metadata": {},
   "source": [
    "## Interpretation of regression coefficient"
   ]
  },
  {
   "cell_type": "markdown",
   "metadata": {},
   "source": [
    "To illustrate the net effects of individual $X$'s on the response, consider the situtation in which price is to be \\$1.00 per gallon and \\$1,000 is to be spent on advertising. Then "
   ]
  },
  {
   "cell_type": "code",
   "execution_count": 33,
   "metadata": {},
   "outputs": [
    {
     "name": "stdout",
     "output_type": "stream",
     "text": [
      "hat_Y: 14.060\n",
      "Sales are forecast to be 14,060 gallons of milk.\n"
     ]
    }
   ],
   "source": [
    "X_1_forecast = 1.00\n",
    "X_2_forecast = 10\n",
    "\n",
    "hat_Y = b0 + b1*X_1_forecast + b2*X_2_forecast\n",
    "print(f\"hat_Y: {hat_Y:.3f}\")\n",
    "print(f\"Sales are forecast to be {int(round(hat_Y, 2)*1000):,d} gallons of milk.\")\n",
    "\n",
    "hat_Y_1 = hat_Y"
   ]
  },
  {
   "cell_type": "markdown",
   "metadata": {},
   "source": [
    "### Small increase in $X_1$\n",
    "What is the effect on sales of a 1-cent price increase if \\$1,000 is still spent on advertising?"
   ]
  },
  {
   "cell_type": "code",
   "execution_count": 34,
   "metadata": {},
   "outputs": [
    {
     "name": "stdout",
     "output_type": "stream",
     "text": [
      "hat_Y: 13.977\n",
      "Sales are forecast to be 13,980 gallons of milk.\n"
     ]
    }
   ],
   "source": [
    "X_1_forecast = 1.01\n",
    "X_2_forecast = 10\n",
    "\n",
    "hat_Y = b0 + b1*X_1_forecast + b2*X_2_forecast\n",
    "print(f\"hat_Y: {hat_Y:.3f}\")\n",
    "print(f\"Sales are forecast to be {int(round(hat_Y, 2)*1000):,d} gallons of milk.\")\n",
    "\n",
    "hat_Y_2 = hat_Y"
   ]
  },
  {
   "cell_type": "code",
   "execution_count": 40,
   "metadata": {},
   "outputs": [
    {
     "name": "stdout",
     "output_type": "stream",
     "text": [
      "Note that sales decrease by = 82.5 gallons\n"
     ]
    }
   ],
   "source": [
    "print(f\"Note that sales decrease by = {(hat_Y_1-hat_Y_2)*1000:.1f} gallons\")"
   ]
  },
  {
   "cell_type": "markdown",
   "metadata": {},
   "source": [
    "### Small increase in $X_2$\n",
    "\n",
    "What is the effect on sales of a \\$100 increase in advertising if price remains constant at \\$1.00?"
   ]
  },
  {
   "cell_type": "code",
   "execution_count": 41,
   "metadata": {},
   "outputs": [
    {
     "name": "stdout",
     "output_type": "stream",
     "text": [
      "hat_Y: 14.650\n",
      "Sales are forecast to be 14,650 gallons of milk.\n"
     ]
    }
   ],
   "source": [
    "X_1_forecast = 1.00\n",
    "X_2_forecast = 11\n",
    "\n",
    "hat_Y = b0 + b1*X_1_forecast + b2*X_2_forecast\n",
    "print(f\"hat_Y: {hat_Y:.3f}\")\n",
    "print(f\"Sales are forecast to be {int(round(hat_Y, 2)*1000):,d} gallons of milk.\")\n",
    "\n",
    "hat_Y_3 = hat_Y\n"
   ]
  },
  {
   "cell_type": "code",
   "execution_count": 43,
   "metadata": {},
   "outputs": [
    {
     "name": "stdout",
     "output_type": "stream",
     "text": [
      "Note that sales increase by = 590 gallons\n"
     ]
    }
   ],
   "source": [
    "print(f\"Note that sales increase by = {(hat_Y_3-hat_Y_1)*1000:.0f} gallons\")"
   ]
  }
 ],
 "metadata": {
  "kernelspec": {
   "display_name": "Python 3.8.10 ('base')",
   "language": "python",
   "name": "python3"
  },
  "language_info": {
   "codemirror_mode": {
    "name": "ipython",
    "version": 3
   },
   "file_extension": ".py",
   "mimetype": "text/x-python",
   "name": "python",
   "nbconvert_exporter": "python",
   "pygments_lexer": "ipython3",
   "version": "3.8.10"
  },
  "orig_nbformat": 4,
  "vscode": {
   "interpreter": {
    "hash": "b68217c4fa6011267e0d81cc47bb50822e9770eb46de3a1f506be20c9f89249d"
   }
  }
 },
 "nbformat": 4,
 "nbformat_minor": 2
}
