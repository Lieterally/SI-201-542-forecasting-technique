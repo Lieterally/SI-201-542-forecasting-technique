{
 "cells": [
  {
   "cell_type": "code",
   "execution_count": 1,
   "metadata": {},
   "outputs": [],
   "source": [
    "import matplotlib.pyplot as plt\n",
    "import numpy as np\n",
    "import pandas as pd\n",
    "import tabulate\n",
    "import scipy.stats as sc_stats\n",
    "\n",
    "from IPython.display import display\n",
    "\n",
    "from sklearn.linear_model import LinearRegression\n",
    "from sklearn.preprocessing import PolynomialFeatures\n",
    "from sklearn.pipeline import Pipeline\n"
   ]
  },
  {
   "cell_type": "code",
   "execution_count": 2,
   "metadata": {},
   "outputs": [],
   "source": [
    "plt.rcParams.update(plt.rcParamsDefault)\n",
    "plt.rcParams.update({\n",
    "  'font.size': 12,\n",
    "  'grid.alpha': 0.25})"
   ]
  },
  {
   "cell_type": "markdown",
   "metadata": {},
   "source": [
    "## Function declarations\n",
    "\n"
   ]
  },
  {
   "cell_type": "markdown",
   "metadata": {},
   "source": [
    "### Read `ods` to `DataFrame`"
   ]
  },
  {
   "cell_type": "code",
   "execution_count": 3,
   "metadata": {},
   "outputs": [],
   "source": [
    "def read_ods(filename, columns=None):\n",
    "  if columns is None:\n",
    "    df = pd.read_excel(filename, engine=\"odf\", header=0)\n",
    "  elif isinstance(columns, list):\n",
    "    df = pd.read_excel(filename, engine=\"odf\", header=0,\n",
    "                       usecols=columns)\n",
    "  else:\n",
    "    key_arr = (k for k in columns.keys())\n",
    "    df = pd.read_excel(filename, engine=\"odf\", header=0,\n",
    "                      usecols=key_arr)\n",
    "    df = df.rename(columns=columns)\n",
    "  return df"
   ]
  },
  {
   "cell_type": "markdown",
   "metadata": {},
   "source": [
    "### Get multiple regression coefficients"
   ]
  },
  {
   "cell_type": "code",
   "execution_count": 4,
   "metadata": {},
   "outputs": [],
   "source": [
    "def get_multiple_regress_coeff(df, n_vars=2):\n",
    "  \n",
    "  num_of_samples = len(df)\n",
    "  X_arr = np.zeros((num_of_samples, n_vars))\n",
    "  Y = df[\"Y\"].to_numpy()\n",
    "\n",
    "  for i in range(n_vars):\n",
    "    key = f\"X_{i+1}\"\n",
    "    X_arr[:, i] = df[key].to_numpy()\n",
    "\n",
    "  regress = LinearRegression().fit(X_arr, Y)\n",
    "\n",
    "  df[\"hat_Y\"] = regress.intercept_ + X_arr.dot(regress.coef_) \n",
    "\n",
    "  return regress, df\n"
   ]
  },
  {
   "cell_type": "markdown",
   "metadata": {},
   "source": [
    "### Get Minitab's output of Regression Analysis"
   ]
  },
  {
   "cell_type": "code",
   "execution_count": 39,
   "metadata": {},
   "outputs": [],
   "source": [
    "def get_minitab_out(df, n_vars=2, new_column=None):\n",
    "  \"\"\"\n",
    "  new_column (dict) : a dictionary mapping to rename df header\n",
    "  \"\"\"\n",
    "  \n",
    "  data_struct = np.zeros((len(df), 1+n_vars))\n",
    "  data_struct[:, 0] = df['Y']\n",
    "  for i in range(n_vars):\n",
    "    key = f\"X_{i+1}\"\n",
    "    data_struct[:, i+1] = df[key]\n",
    "\n",
    "  # -- compute correlation matrix\n",
    "  corr_matrix = np.corrcoef(data_struct, rowvar=False)\n",
    "  corr_matrix = corr_matrix[1:, 0:-1]    # only show lower triangle part of correlation matrix\n",
    "\n",
    "  # -- compute regression intercept and coefficients\n",
    "  regress, _ = get_multiple_regress_coeff(df, n_vars=n_vars)\n",
    "  b_arr = [regress.intercept_] + regress.coef_.tolist()\n",
    "\n",
    "  # -- compute cofactor matrix \n",
    "  X_arr = np.ones_like(data_struct)\n",
    "  X_arr[:,1:] = data_struct[:,1:]\n",
    "  cofactor_matrix = np.linalg.inv(X_arr.transpose().dot(X_arr))   # this matrix is closely related to covariance matrix\n",
    "\n",
    "  # -- compute standad error of the estimates\n",
    "  num_of_samples = len(df)\n",
    "  hat_Y =  regress.intercept_ + data_struct[:,1:].dot(regress.coef_)\n",
    "  sumSq_Y_hat_Y = ((data_struct[:, 0] - hat_Y)**2).sum()\n",
    "  s_yxs = np.sqrt(sumSq_Y_hat_Y/(num_of_samples - n_vars - 1))\n",
    "\n",
    "  # -- compute standard error of intercept_ and coef_\n",
    "  # -- compute t-score of intecept_ and coef_\n",
    "  # -- compute p-values of intercept_ and coef_\n",
    "  SE_coef = np.zeros(1+n_vars)\n",
    "  t_scores = np.zeros(1+n_vars)\n",
    "  p_values = np.zeros(1+n_vars)\n",
    "  dof = num_of_samples - 2;          # degrees of freedom\n",
    "  for i in range(1+n_vars):\n",
    "    SE_coef[i] = s_yxs*np.sqrt(cofactor_matrix[i, i])\n",
    "    t_scores[i] = b_arr[i] / SE_coef[i]\n",
    "    p_values[i] = sc_stats.t.pdf(t_scores[i], dof)\n",
    "\n",
    "  # -- compute ANOVA table\n",
    "  meanY = data_struct[:, 0].mean()\n",
    "  SST = ((data_struct[:, 0] - meanY)**2).sum()\n",
    "  SSR = ((hat_Y - meanY)**2).sum()\n",
    "  SSE = ((data_struct[:, 0] - hat_Y)**2).sum()\n",
    "  anova_sumSq = np.array([SSR, SSE, SST])\n",
    "  anova_dof = np.array([n_vars, num_of_samples - n_vars - 1, num_of_samples - 1], dtype=int)\n",
    "  anova_meanSq = (anova_sumSq/anova_dof)[:2]\n",
    "  anova_F_score = anova_meanSq[0] / anova_meanSq[1]\n",
    "  anova_p_value = sc_stats.f.pdf(anova_F_score, anova_dof[0], anova_dof[1])\n",
    "\n",
    "  # -- compute R_sq (coefficient of determination)\n",
    "  R_sq = SSR/SST\n",
    "\n",
    "  # -- compute adjusted R_sq\n",
    "  adj_R_sq = 1 - (1 - R_sq)*(num_of_samples-1)/(num_of_samples-n_vars-1)\n",
    "\n",
    "  # -- create tabular form for correlation \n",
    "  data = []\n",
    "  for i in range(n_vars):\n",
    "    data_row = [new_column[i+1], *corr_matrix[i,:]]\n",
    "    data.append(data_row)\n",
    "\n",
    "  table_corr = tabulate.tabulate(data, tablefmt='html', \n",
    "    headers=[\"\"] + new_column[:n_vars], \n",
    "    floatfmt=[None] + [\".2f\"]*n_vars)\n",
    "\n",
    "  print(f\"Correlations: {', '.join(new_column)}\")\n",
    "  display(table_corr)\n",
    "\n",
    "  # -- create tabular form for predictor\n",
    "  data = [[\"Constant\", b_arr[0], SE_coef[0], t_scores[0], p_values[0]]]\n",
    "  for i in range(1, n_vars+1):\n",
    "    data_row = [new_column[i], b_arr[i], SE_coef[i], t_scores[i], p_values[i]]\n",
    "    data.append(data_row)\n",
    "\n",
    "  # print(data)\n",
    "  table_predictor = tabulate.tabulate(data, tablefmt='html', \n",
    "    headers=[\"Predictor\", \"Coef\", \"SE Coef\", \"T\", \"P\"], \n",
    "    floatfmt=[None, \".4f\", \".4f\", \".2f\", \".3f\"])\n",
    "\n",
    "  print(f\"Regression Analysis: {new_column[0]} versus {', '.join(new_column[1:])}\")\n",
    "  display(table_predictor)\n",
    "  print(f\"s_yxs = {s_yxs:.4f}   R_sq = {R_sq*100:.1f}%   R-sq(adj) = {adj_R_sq*100:.1f}%\")\n",
    "\n",
    "  # -- create ANOVA table (with F-score and its p-value)\n",
    "  data = [\n",
    "    [\"Regression\",     anova_dof[0], anova_sumSq[0], f\"{anova_meanSq[0]:.3f}\", f\"{anova_F_score:.3f}\", f\"{anova_p_value:.3f}\"],\n",
    "    [\"Residual error\", anova_dof[1], anova_sumSq[1], f\"{anova_meanSq[1]:.3f}\", \"\", \"\"],\n",
    "    [\"Total\",          anova_dof[2], anova_sumSq[2], \"\", \"\", \"\"]] \n",
    "  table_anova = tabulate.tabulate(data, tablefmt='html', \n",
    "    headers=[\"Source\", \"d.o.f\", \"sumSq\", \"meanSq\", \"F-score\", \"p-value\"], \n",
    "    floatfmt=[None, \".0f\", \".3f\", \"s\", \"s\", \"s\"])\n",
    "\n",
    "  print(f\"Analyis of Variance\")\n",
    "  display(table_anova)\n",
    "\n",
    "  return {\"regress\": regress, \"corr_matrix\": corr_matrix, \n",
    "    \"R_sq\": R_sq}\n"
   ]
  },
  {
   "cell_type": "markdown",
   "metadata": {},
   "source": [
    "## Load the data"
   ]
  },
  {
   "cell_type": "code",
   "execution_count": 6,
   "metadata": {},
   "outputs": [
    {
     "data": {
      "text/html": [
       "<div>\n",
       "<style scoped>\n",
       "    .dataframe tbody tr th:only-of-type {\n",
       "        vertical-align: middle;\n",
       "    }\n",
       "\n",
       "    .dataframe tbody tr th {\n",
       "        vertical-align: top;\n",
       "    }\n",
       "\n",
       "    .dataframe thead th {\n",
       "        text-align: right;\n",
       "    }\n",
       "</style>\n",
       "<table border=\"1\" class=\"dataframe\">\n",
       "  <thead>\n",
       "    <tr style=\"text-align: right;\">\n",
       "      <th></th>\n",
       "      <th>Subject</th>\n",
       "      <th>Job Performance Rating Y</th>\n",
       "      <th>Aptitude Test Score X_1</th>\n",
       "      <th>Gender X_2</th>\n",
       "    </tr>\n",
       "  </thead>\n",
       "  <tbody>\n",
       "    <tr>\n",
       "      <th>0</th>\n",
       "      <td>1</td>\n",
       "      <td>5</td>\n",
       "      <td>60</td>\n",
       "      <td>0</td>\n",
       "    </tr>\n",
       "    <tr>\n",
       "      <th>1</th>\n",
       "      <td>2</td>\n",
       "      <td>4</td>\n",
       "      <td>55</td>\n",
       "      <td>0</td>\n",
       "    </tr>\n",
       "    <tr>\n",
       "      <th>2</th>\n",
       "      <td>3</td>\n",
       "      <td>3</td>\n",
       "      <td>35</td>\n",
       "      <td>0</td>\n",
       "    </tr>\n",
       "    <tr>\n",
       "      <th>3</th>\n",
       "      <td>4</td>\n",
       "      <td>10</td>\n",
       "      <td>96</td>\n",
       "      <td>0</td>\n",
       "    </tr>\n",
       "    <tr>\n",
       "      <th>4</th>\n",
       "      <td>5</td>\n",
       "      <td>2</td>\n",
       "      <td>35</td>\n",
       "      <td>0</td>\n",
       "    </tr>\n",
       "  </tbody>\n",
       "</table>\n",
       "</div>"
      ],
      "text/plain": [
       "   Subject  Job Performance Rating Y  Aptitude Test Score X_1  Gender X_2\n",
       "0        1                         5                       60           0\n",
       "1        2                         4                       55           0\n",
       "2        3                         3                       35           0\n",
       "3        4                        10                       96           0\n",
       "4        5                         2                       35           0"
      ]
     },
     "execution_count": 6,
     "metadata": {},
     "output_type": "execute_result"
    }
   ],
   "source": [
    "filename = \"06-table-09-electronics-assemblers.ods\"\n",
    "\n",
    "df = read_ods(filename, columns=[\n",
    "  \"Subject\", \"Job Performance Rating Y\",\n",
    "  \"Aptitude Test Score X_1\", \"Gender X_2\"])\n",
    "\n",
    "df.head()\n"
   ]
  },
  {
   "cell_type": "markdown",
   "metadata": {},
   "source": [
    "### Descriptive statistics"
   ]
  },
  {
   "cell_type": "code",
   "execution_count": 26,
   "metadata": {},
   "outputs": [
    {
     "name": "stdout",
     "output_type": "stream",
     "text": [
      "meanY_female = 5.75\n",
      "meanY_male = 5.86\n",
      "meanX_1_female = 64\n",
      "meanX_1_male = 83\n"
     ]
    }
   ],
   "source": [
    "meanY_female = df[df[\"Gender X_2\"] == 0][\"Job Performance Rating Y\"].mean()\n",
    "meanY_male = df[df[\"Gender X_2\"] == 1][\"Job Performance Rating Y\"].mean()\n",
    "\n",
    "meanX_1_female = df[df[\"Gender X_2\"] == 0][\"Aptitude Test Score X_1\"].mean()\n",
    "meanX_1_male = df[df[\"Gender X_2\"] == 1][\"Aptitude Test Score X_1\"].mean()\n",
    "\n",
    "print(f\"meanY_female = {meanY_female:.2f}\")\n",
    "print(f\"meanY_male = {meanY_male:.2f}\")\n",
    "print(f\"meanX_1_female = {meanX_1_female:.0f}\")\n",
    "print(f\"meanX_1_male = {meanX_1_male:.0f}\")\n"
   ]
  },
  {
   "cell_type": "markdown",
   "metadata": {},
   "source": [
    "## Plot scatter for each different gender"
   ]
  },
  {
   "cell_type": "code",
   "execution_count": 7,
   "metadata": {},
   "outputs": [],
   "source": [
    "df_scatter = df.copy()\n",
    "\n",
    "df_scatter = df.rename(columns={\n",
    "  \"Job Performance Rating Y\": 'Y',\n",
    "  \"Aptitude Test Score X_1\": \"X_1\",\n",
    "  \"Gender X_2\": \"X_2\"})"
   ]
  },
  {
   "cell_type": "code",
   "execution_count": 8,
   "metadata": {},
   "outputs": [
    {
     "data": {
      "image/png": "[encoded data removed]",
      "text/plain": [
       "<Figure size 600x500 with 1 Axes>"
      ]
     },
     "metadata": {},
     "output_type": "display_data"
    }
   ],
   "source": [
    "fig, ax = plt.subplots(figsize=(6,5))\n",
    "\n",
    "x_female = df_scatter[df_scatter[\"X_2\"] == 0][\"X_1\"].to_numpy()\n",
    "y_female = df_scatter[df_scatter[\"X_2\"] == 0][\"Y\"].to_numpy()\n",
    "\n",
    "x_male = df_scatter[df_scatter[\"X_2\"] == 1][\"X_1\"].to_numpy()\n",
    "y_male = df_scatter[df_scatter[\"X_2\"] == 1][\"Y\"].to_numpy()\n",
    "\n",
    "ax.plot(x_female, y_female, marker=r'$0$', \n",
    "  markersize=10, linestyle=\"None\", label=\"female\")\n",
    "\n",
    "ax.plot(x_male, y_male, marker=r\"$1$\", \n",
    "  markersize=10, linestyle=\"None\", label=\"male\")\n",
    "\n",
    "ax.set_xlabel(r\"Aptitude Test Score, $X$\")\n",
    "ax.set_ylabel(r\"Job Performance Rating, $Y$\")\n",
    "ax.set_xlim([-10, 110])\n",
    "ax.set_ylim([-1, 11])\n",
    "ax.grid(\"on\")\n",
    "ax.legend(loc=\"best\")\n",
    "\n",
    "plt.show(fig)"
   ]
  },
  {
   "cell_type": "markdown",
   "metadata": {},
   "source": [
    "## Fitted regression line\n",
    "\n",
    "A fitted regression function has the form\n",
    "$$\n",
    "  \\hat{Y} = b_0 + b_1 X_1 + b_2 X_2\n",
    "$$\n",
    "where\n",
    "$$\n",
    "\\begin{align*}\n",
    "  &X_1 = \\text{the test score} \\\\\n",
    "  &X_2 = \\left\\{\n",
    "  \\begin{aligned}\n",
    "    &0 \\text{ for females} \\\\\n",
    "    &1 \\text{ for males}\n",
    "  \\end{aligned}\n",
    "  \\right. \\qquad \\text{dummy variable}\n",
    "\\end{align*}\n",
    "$$ \n",
    "\n",
    "The single equation above is equivalent to the following two equations:\n",
    "$$\n",
    "\\begin{align*}\n",
    "  &\\hat{Y} = b_0 + b_1 X_1, &\\text{for females}\\\\\n",
    "  &\\hat{Y} = b_0 + b_1 X_1 + b_2 = (b_0 + b_2) + b_1 X_1, &\\text{for males}\n",
    "\\end{align*}\n",
    "$$\n",
    "\n",
    "One might envisage $X_2$ as a \"switching\" variable that is \"on\" when an observation is made for a male and \"off\" when it is made for a female."
   ]
  },
  {
   "cell_type": "code",
   "execution_count": 9,
   "metadata": {},
   "outputs": [
    {
     "name": "stdout",
     "output_type": "stream",
     "text": [
      "regress.intercept_ : -1.9564709806537728\n",
      "regress.coef_ : [ 0.12041361 -2.18071572]\n"
     ]
    },
    {
     "data": {
      "text/html": [
       "<div>\n",
       "<style scoped>\n",
       "    .dataframe tbody tr th:only-of-type {\n",
       "        vertical-align: middle;\n",
       "    }\n",
       "\n",
       "    .dataframe tbody tr th {\n",
       "        vertical-align: top;\n",
       "    }\n",
       "\n",
       "    .dataframe thead th {\n",
       "        text-align: right;\n",
       "    }\n",
       "</style>\n",
       "<table border=\"1\" class=\"dataframe\">\n",
       "  <thead>\n",
       "    <tr style=\"text-align: right;\">\n",
       "      <th></th>\n",
       "      <th>Subject</th>\n",
       "      <th>Y</th>\n",
       "      <th>X_1</th>\n",
       "      <th>X_2</th>\n",
       "      <th>hat_Y</th>\n",
       "    </tr>\n",
       "  </thead>\n",
       "  <tbody>\n",
       "    <tr>\n",
       "      <th>0</th>\n",
       "      <td>1</td>\n",
       "      <td>5</td>\n",
       "      <td>60</td>\n",
       "      <td>0</td>\n",
       "      <td>5.268346</td>\n",
       "    </tr>\n",
       "    <tr>\n",
       "      <th>1</th>\n",
       "      <td>2</td>\n",
       "      <td>4</td>\n",
       "      <td>55</td>\n",
       "      <td>0</td>\n",
       "      <td>4.666278</td>\n",
       "    </tr>\n",
       "    <tr>\n",
       "      <th>2</th>\n",
       "      <td>3</td>\n",
       "      <td>3</td>\n",
       "      <td>35</td>\n",
       "      <td>0</td>\n",
       "      <td>2.258005</td>\n",
       "    </tr>\n",
       "    <tr>\n",
       "      <th>3</th>\n",
       "      <td>4</td>\n",
       "      <td>10</td>\n",
       "      <td>96</td>\n",
       "      <td>0</td>\n",
       "      <td>9.603235</td>\n",
       "    </tr>\n",
       "    <tr>\n",
       "      <th>4</th>\n",
       "      <td>5</td>\n",
       "      <td>2</td>\n",
       "      <td>35</td>\n",
       "      <td>0</td>\n",
       "      <td>2.258005</td>\n",
       "    </tr>\n",
       "    <tr>\n",
       "      <th>5</th>\n",
       "      <td>6</td>\n",
       "      <td>7</td>\n",
       "      <td>81</td>\n",
       "      <td>0</td>\n",
       "      <td>7.797031</td>\n",
       "    </tr>\n",
       "    <tr>\n",
       "      <th>6</th>\n",
       "      <td>7</td>\n",
       "      <td>6</td>\n",
       "      <td>65</td>\n",
       "      <td>0</td>\n",
       "      <td>5.870414</td>\n",
       "    </tr>\n",
       "    <tr>\n",
       "      <th>7</th>\n",
       "      <td>8</td>\n",
       "      <td>9</td>\n",
       "      <td>85</td>\n",
       "      <td>0</td>\n",
       "      <td>8.278686</td>\n",
       "    </tr>\n",
       "    <tr>\n",
       "      <th>8</th>\n",
       "      <td>9</td>\n",
       "      <td>9</td>\n",
       "      <td>99</td>\n",
       "      <td>1</td>\n",
       "      <td>7.783761</td>\n",
       "    </tr>\n",
       "    <tr>\n",
       "      <th>9</th>\n",
       "      <td>10</td>\n",
       "      <td>2</td>\n",
       "      <td>43</td>\n",
       "      <td>1</td>\n",
       "      <td>1.040598</td>\n",
       "    </tr>\n",
       "    <tr>\n",
       "      <th>10</th>\n",
       "      <td>11</td>\n",
       "      <td>8</td>\n",
       "      <td>98</td>\n",
       "      <td>1</td>\n",
       "      <td>7.663347</td>\n",
       "    </tr>\n",
       "    <tr>\n",
       "      <th>11</th>\n",
       "      <td>12</td>\n",
       "      <td>6</td>\n",
       "      <td>91</td>\n",
       "      <td>1</td>\n",
       "      <td>6.820452</td>\n",
       "    </tr>\n",
       "    <tr>\n",
       "      <th>12</th>\n",
       "      <td>13</td>\n",
       "      <td>7</td>\n",
       "      <td>95</td>\n",
       "      <td>1</td>\n",
       "      <td>7.302106</td>\n",
       "    </tr>\n",
       "    <tr>\n",
       "      <th>13</th>\n",
       "      <td>14</td>\n",
       "      <td>3</td>\n",
       "      <td>70</td>\n",
       "      <td>1</td>\n",
       "      <td>4.291766</td>\n",
       "    </tr>\n",
       "    <tr>\n",
       "      <th>14</th>\n",
       "      <td>15</td>\n",
       "      <td>6</td>\n",
       "      <td>85</td>\n",
       "      <td>1</td>\n",
       "      <td>6.097970</td>\n",
       "    </tr>\n",
       "  </tbody>\n",
       "</table>\n",
       "</div>"
      ],
      "text/plain": [
       "    Subject   Y  X_1  X_2     hat_Y\n",
       "0         1   5   60    0  5.268346\n",
       "1         2   4   55    0  4.666278\n",
       "2         3   3   35    0  2.258005\n",
       "3         4  10   96    0  9.603235\n",
       "4         5   2   35    0  2.258005\n",
       "5         6   7   81    0  7.797031\n",
       "6         7   6   65    0  5.870414\n",
       "7         8   9   85    0  8.278686\n",
       "8         9   9   99    1  7.783761\n",
       "9        10   2   43    1  1.040598\n",
       "10       11   8   98    1  7.663347\n",
       "11       12   6   91    1  6.820452\n",
       "12       13   7   95    1  7.302106\n",
       "13       14   3   70    1  4.291766\n",
       "14       15   6   85    1  6.097970"
      ]
     },
     "execution_count": 9,
     "metadata": {},
     "output_type": "execute_result"
    }
   ],
   "source": [
    "regress, df_regress = get_multiple_regress_coeff(df_scatter, n_vars=2)\n",
    "\n",
    "print(f\"regress.intercept_ : {regress.intercept_}\")\n",
    "print(f\"regress.coef_ : {regress.coef_}\")\n",
    "df_regress"
   ]
  },
  {
   "cell_type": "markdown",
   "metadata": {},
   "source": [
    "### Several formulas to calculate values in Minitab's output\n",
    "\n",
    "\n",
    "The following from is from [this link](https://stats.stackexchange.com/questions/173271/what-exactly-is-the-standard-error-of-the-intercept-in-multiple-regression-analy)\n",
    "$$\n",
    "  \\textrm{std. err. of } b_i = s_{y\\cdot x's} \\sqrt{\\operatorname*{diag}\\left((\\mathbf{X}^\\mathsf{T} \\mathbf{X})^{-1}\\right)}\n",
    "$$\n",
    "\n",
    "where $\\operatorname*{diag}(\\mathbf{A})$ is an operator to take only the diagonal elements of a matrix $\\mathbf{A}$.    \n",
    "The matrix $\\mathbf{X}$ is a $(n\\times k)$ matrix where $n$ is the number of observation and $k$ is the number of independent (predictor) variables. This matrix has the explicit form:\n",
    "$$\n",
    "  \\mathbf{X}\n",
    "  = \\begin{bmatrix}\n",
    "    1 & X_{1, 1} & X_{1, 2} & \\ldots & X_{1, k} \\\\\n",
    "    1 & X_{2, 1} & X_{2, 2} & \\ldots & X_{2, k} \\\\\n",
    "      & \\vdots   &          &        & \\vdots   \\\\\n",
    "    1 & X_{n, 1} & X_{n, 2} & \\ldots & X_{n, k}\n",
    "  \\end{bmatrix}\n",
    "$$"
   ]
  },
  {
   "cell_type": "code",
   "execution_count": 40,
   "metadata": {},
   "outputs": [
    {
     "name": "stdout",
     "output_type": "stream",
     "text": [
      "Correlations: Ratings, Test, Gender\n"
     ]
    },
    {
     "data": {
      "text/html": [
       "<table>\n",
       "<thead>\n",
       "<tr><th>      </th><th style=\"text-align: right;\">  Ratings</th><th style=\"text-align: right;\">  Test</th></tr>\n",
       "</thead>\n",
       "<tbody>\n",
       "<tr><td>Test  </td><td style=\"text-align: right;\">     0.88</td><td style=\"text-align: right;\">  1.00</td></tr>\n",
       "<tr><td>Gender</td><td style=\"text-align: right;\">     0.02</td><td style=\"text-align: right;\">  0.43</td></tr>\n",
       "</tbody>\n",
       "</table>"
      ],
      "text/plain": [
       "'<table>\\n<thead>\\n<tr><th>      </th><th style=\"text-align: right;\">  Ratings</th><th style=\"text-align: right;\">  Test</th></tr>\\n</thead>\\n<tbody>\\n<tr><td>Test  </td><td style=\"text-align: right;\">     0.88</td><td style=\"text-align: right;\">  1.00</td></tr>\\n<tr><td>Gender</td><td style=\"text-align: right;\">     0.02</td><td style=\"text-align: right;\">  0.43</td></tr>\\n</tbody>\\n</table>'"
      ]
     },
     "metadata": {},
     "output_type": "display_data"
    },
    {
     "name": "stdout",
     "output_type": "stream",
     "text": [
      "Regression Analysis: Ratings versus Test, Gender\n"
     ]
    },
    {
     "data": {
      "text/html": [
       "<table>\n",
       "<thead>\n",
       "<tr><th>Predictor  </th><th style=\"text-align: right;\">   Coef</th><th style=\"text-align: right;\">  SE Coef</th><th style=\"text-align: right;\">    T</th><th style=\"text-align: right;\">    P</th></tr>\n",
       "</thead>\n",
       "<tbody>\n",
       "<tr><td>Constant   </td><td style=\"text-align: right;\">-1.9565</td><td style=\"text-align: right;\">   0.7068</td><td style=\"text-align: right;\">-2.77</td><td style=\"text-align: right;\">0.015</td></tr>\n",
       "<tr><td>Test       </td><td style=\"text-align: right;\"> 0.1204</td><td style=\"text-align: right;\">   0.0102</td><td style=\"text-align: right;\">11.86</td><td style=\"text-align: right;\">0.000</td></tr>\n",
       "<tr><td>Gender     </td><td style=\"text-align: right;\">-2.1807</td><td style=\"text-align: right;\">   0.4503</td><td style=\"text-align: right;\">-4.84</td><td style=\"text-align: right;\">0.000</td></tr>\n",
       "</tbody>\n",
       "</table>"
      ],
      "text/plain": [
       "'<table>\\n<thead>\\n<tr><th>Predictor  </th><th style=\"text-align: right;\">   Coef</th><th style=\"text-align: right;\">  SE Coef</th><th style=\"text-align: right;\">    T</th><th style=\"text-align: right;\">    P</th></tr>\\n</thead>\\n<tbody>\\n<tr><td>Constant   </td><td style=\"text-align: right;\">-1.9565</td><td style=\"text-align: right;\">   0.7068</td><td style=\"text-align: right;\">-2.77</td><td style=\"text-align: right;\">0.015</td></tr>\\n<tr><td>Test       </td><td style=\"text-align: right;\"> 0.1204</td><td style=\"text-align: right;\">   0.0102</td><td style=\"text-align: right;\">11.86</td><td style=\"text-align: right;\">0.000</td></tr>\\n<tr><td>Gender     </td><td style=\"text-align: right;\">-2.1807</td><td style=\"text-align: right;\">   0.4503</td><td style=\"text-align: right;\">-4.84</td><td style=\"text-align: right;\">0.000</td></tr>\\n</tbody>\\n</table>'"
      ]
     },
     "metadata": {},
     "output_type": "display_data"
    },
    {
     "name": "stdout",
     "output_type": "stream",
     "text": [
      "s_yxs = 0.7863   R_sq = 92.1%   R-sq(adj) = 90.8%\n",
      "Analyis of Variance\n"
     ]
    },
    {
     "data": {
      "text/html": [
       "<table>\n",
       "<thead>\n",
       "<tr><th>Source        </th><th style=\"text-align: right;\">  d.o.f</th><th style=\"text-align: right;\">  sumSq</th><th>meanSq  </th><th>F-score  </th><th>p-value  </th></tr>\n",
       "</thead>\n",
       "<tbody>\n",
       "<tr><td>Regression    </td><td style=\"text-align: right;\">      2</td><td style=\"text-align: right;\"> 86.981</td><td>43.491  </td><td>70.349   </td><td>0.000    </td></tr>\n",
       "<tr><td>Residual error</td><td style=\"text-align: right;\">     12</td><td style=\"text-align: right;\">  7.419</td><td>0.618   </td><td>         </td><td>         </td></tr>\n",
       "<tr><td>Total         </td><td style=\"text-align: right;\">     14</td><td style=\"text-align: right;\"> 94.400</td><td>        </td><td>         </td><td>         </td></tr>\n",
       "</tbody>\n",
       "</table>"
      ],
      "text/plain": [
       "'<table>\\n<thead>\\n<tr><th>Source        </th><th style=\"text-align: right;\">  d.o.f</th><th style=\"text-align: right;\">  sumSq</th><th>meanSq  </th><th>F-score  </th><th>p-value  </th></tr>\\n</thead>\\n<tbody>\\n<tr><td>Regression    </td><td style=\"text-align: right;\">      2</td><td style=\"text-align: right;\"> 86.981</td><td>43.491  </td><td>70.349   </td><td>0.000    </td></tr>\\n<tr><td>Residual error</td><td style=\"text-align: right;\">     12</td><td style=\"text-align: right;\">  7.419</td><td>0.618   </td><td>         </td><td>         </td></tr>\\n<tr><td>Total         </td><td style=\"text-align: right;\">     14</td><td style=\"text-align: right;\"> 94.400</td><td>        </td><td>         </td><td>         </td></tr>\\n</tbody>\\n</table>'"
      ]
     },
     "metadata": {},
     "output_type": "display_data"
    }
   ],
   "source": [
    "column_name = [\"Ratings\", \"Test\", \"Gender\"]\n",
    "out_dict = get_minitab_out(df_regress, n_vars=2, new_column=column_name)"
   ]
  },
  {
   "cell_type": "markdown",
   "metadata": {},
   "source": [
    "## Plot of regression model"
   ]
  },
  {
   "cell_type": "code",
   "execution_count": 11,
   "metadata": {},
   "outputs": [],
   "source": [
    "x_female = df_scatter[df_scatter[\"X_2\"] == 0][\"X_1\"].to_numpy()\n",
    "y_female = df_scatter[df_scatter[\"X_2\"] == 0][\"Y\"].to_numpy()\n",
    "\n",
    "x_male = df_scatter[df_scatter[\"X_2\"] == 1][\"X_1\"].to_numpy()\n",
    "y_male = df_scatter[df_scatter[\"X_2\"] == 1][\"Y\"].to_numpy()\n",
    "\n",
    "regress = out_dict[\"regress\"]\n",
    "b0 = regress.intercept_\n",
    "bk = regress.coef_\n",
    "\n",
    "x_female_min = x_female.min()\n",
    "x_female_max = x_female.max()\n",
    "x_female_offset = 0.1*(x_female_max - x_female_min)\n",
    "x_regress_female = np.array(\n",
    "  [x_female_min - x_female_offset, x_female_max + x_female_max])\n",
    "y_regress_female = b0 + bk[0]*x_regress_female + bk[1]*0\n",
    "\n",
    "x_male_min = x_male.min()\n",
    "x_male_max = x_male.max()\n",
    "x_male_offset = 0.1*(x_male_max - x_male_min)\n",
    "x_regress_male = np.array(\n",
    "  [x_male_min - x_male_offset, x_male_max + x_male_max])\n",
    "y_regress_male = b0 + bk[0]*x_regress_male + bk[1]*1"
   ]
  },
  {
   "cell_type": "code",
   "execution_count": 12,
   "metadata": {},
   "outputs": [
    {
     "data": {
      "image/png": "[encoded data removed]",
      "text/plain": [
       "<Figure size 600x500 with 1 Axes>"
      ]
     },
     "metadata": {},
     "output_type": "display_data"
    }
   ],
   "source": [
    "fig, ax = plt.subplots(figsize=(6,5))\n",
    "\n",
    "\n",
    "data_handler = ax.plot(x_female, y_female, marker=r'$0$', \n",
    "  markersize=10, linestyle=\"None\", label=\"female\")\n",
    "color = data_handler[0]._color\n",
    "ax.plot(x_regress_female, y_regress_female, color=color, \n",
    "  linestyle=\"--\", label=r\"${:.2f} + {:.2f}X_1$\".format(b0, bk[0]))\n",
    "\n",
    "data_handler = ax.plot(x_male, y_male, marker=r\"$1$\", \n",
    "  markersize=10, linestyle=\"None\", label=\"male\")\n",
    "color = data_handler[0]._color\n",
    "ax.plot(x_regress_male, y_regress_male, color=color, \n",
    "  linestyle=\"--\", label=r\"${:.2f} + {:.2f}X_1$\".format(b0 + bk[1], bk[0]))\n",
    "\n",
    "ax.set_xlabel(r\"Aptitude Test Score, $X$\")\n",
    "ax.set_ylabel(r\"Job Performance Rating, $Y$\")\n",
    "ax.set_xlim([-10, 110])\n",
    "ax.set_ylim([-1, 11])\n",
    "ax.grid(\"on\")\n",
    "ax.legend(loc=\"best\")\n",
    "\n",
    "plt.show(fig)\n"
   ]
  },
  {
   "cell_type": "markdown",
   "metadata": {},
   "source": [
    "## Interpretation of the regression line equation\n",
    "\n",
    "The regression coefficient value $b_1 = 0.12$, \n",
    "which is the slope of each of the lines, \n",
    "is the estimated average incerase in performance rating \n",
    "for each one-unit increase in aptitude test score. \n",
    "This coefficient applies to both males and females.\n",
    "\n",
    "The other regression coefficient, $b_2 = -2.18$, \n",
    "applies only to males. For a male test taker, \n",
    "the estimated job performance rating is reduced, \n",
    "relative to female test takers, by $2.18 (= b_2)$ units \n",
    "when the aptitude score is held constant.\n",
    "\n",
    "The mean job performance ratings were approximately equal for\n",
    "males, $\\overline{Y}_M = 5.86$, and females, $\\overline{Y}_F = 5.75$. \n",
    "However, the males scored significantly higher ($\\overline{X}_{1,M} = 83$) \n",
    "on the aptitude test than did the females ($\\overline{X}_{1,F} = 64$). \n",
    "Therefore, if two applicants, one male and one female, took the aptitude test \n",
    "and both scored $70$, the female's estimated job performance rating\n",
    "would be $2.18$ ($b_2$) points higher than the male's, since"
   ]
  },
  {
   "cell_type": "markdown",
   "metadata": {},
   "source": [
    "### Difference of job performance at specific the score of aptitude test"
   ]
  },
  {
   "cell_type": "code",
   "execution_count": 30,
   "metadata": {},
   "outputs": [
    {
     "name": "stdout",
     "output_type": "stream",
     "text": [
      "performance rating difference: 2.18\n"
     ]
    }
   ],
   "source": [
    "X_1_atPoint = 70   # the aptitude test score for both male and female\n",
    "\n",
    "hat_Y_female = b0 + bk[0]*X_1_atPoint\n",
    "hat_Y_male = (b0 + bk[1]) + bk[0]*X_1_atPoint\n",
    "\n",
    "print(f\"performance rating difference: {hat_Y_female - hat_Y_male:.2f}\")"
   ]
  },
  {
   "cell_type": "markdown",
   "metadata": {},
   "source": [
    "### Correlation and Coefficient of determination $R^2$\n",
    "\n",
    "A strong linear relationship exists between job performance and the aptitude test because"
   ]
  },
  {
   "cell_type": "code",
   "execution_count": 38,
   "metadata": {},
   "outputs": [
    {
     "name": "stdout",
     "output_type": "stream",
     "text": [
      "r_Y_X_1: 0.876\n"
     ]
    }
   ],
   "source": [
    "corr_matrix = out_dict[\"corr_matrix\"]\n",
    "\n",
    "r_Y_X_1 = corr_matrix[0, 0]\n",
    "print(f\"r_Y_X_1: {r_Y_X_1:.3f}\")"
   ]
  },
  {
   "cell_type": "markdown",
   "metadata": {},
   "source": [
    "If the aptitude test score ($X_1$) alone were used to predict performance, it would explain about "
   ]
  },
  {
   "cell_type": "code",
   "execution_count": 49,
   "metadata": {},
   "outputs": [
    {
     "name": "stdout",
     "output_type": "stream",
     "text": [
      "R_sq_X_1 = 77% of the variation in job performance scores (Y)\n"
     ]
    }
   ],
   "source": [
    "R_sq_X_1 = r_Y_X_1**2 \n",
    "print(f\"R_sq_X_1 = {round(R_sq_X_1, 2)*100:.0f}%\", end=\"\")\n",
    "print(\" of the variation in job performance scores (Y)\")"
   ]
  },
  {
   "cell_type": "markdown",
   "metadata": {},
   "source": [
    "The correlation coefficient  "
   ]
  },
  {
   "cell_type": "code",
   "execution_count": 53,
   "metadata": {},
   "outputs": [
    {
     "name": "stdout",
     "output_type": "stream",
     "text": [
      "r_X_2_Y = 0.02 indicates virtually no relationship between gender (X_2) and job performance (Y)\n"
     ]
    }
   ],
   "source": [
    "r_X_2_Y = corr_matrix[1, 0]\n",
    "print(f\"r_X_2_Y = {r_X_2_Y:.2f}\", end=\"\")\n",
    "print(\" indicates virtually no relationship between\" + \n",
    "  \" gender (X_2) and job performance (Y)\")"
   ]
  },
  {
   "cell_type": "markdown",
   "metadata": {},
   "source": [
    "This conclusion is also evident from the fact that the mean performance\n",
    "ratings for males and females are nearly equal ($\\overline{Y}_M = 5.85$ and \n",
    "$\\overline{Y}_F = 5.75$).   \n",
    "At first glance, one might conclude that knowledge of whether an applicant \n",
    "is male or female is not useful information.     \n",
    "However, the moderate relationship "
   ]
  },
  {
   "cell_type": "code",
   "execution_count": 55,
   "metadata": {},
   "outputs": [
    {
     "name": "stdout",
     "output_type": "stream",
     "text": [
      "r_X_2_X_1 =  0.43%\n"
     ]
    }
   ],
   "source": [
    "r_X_2_X_1 = corr_matrix[1, 1]\n",
    "print(f\"r_X_2_X_1 =  {r_X_2_X_1:.2f}%\")"
   ]
  },
  {
   "cell_type": "markdown",
   "metadata": {},
   "source": [
    "between gender ($X_2$) and aptitude test score ($X_1$) indicates that the test \n",
    "might discriminate between sexes.    \n",
    "Males seems to do better on the test than do females ($\\overline{X}_M = 83$ \n",
    "versus $\\overline{X}_F = 64$).    \n",
    "Perhaps some element of strength is required on the test that is not required   \n",
    "on the job.\n",
    "\n"
   ]
  },
  {
   "cell_type": "markdown",
   "metadata": {},
   "source": [
    "When both test results and gender are used to forecast job performance, \n",
    "92% ($R^2$) of the variance is explained by the regression model. \n",
    "This result suggests that both variables make a valuable contribution\n",
    "to predicting performance. The aptitude test scores explain 77% of the variance,\n",
    "and gender used in conjuction with the aptitude test scores add \n",
    "another (99% - 77% = 15%).  \n",
    "The computed $t$ statistics, for $t_{X_1} = 11.86$ ($p$-value = .000) \n",
    "and for $t_{X_2} = -4.84$ ($p$-value = .000), \n",
    "for aptitude test score and gender, respectively, indicate that both \n",
    "predictor variables should be included in the final regression function."
   ]
  },
  {
   "cell_type": "markdown",
   "metadata": {},
   "source": []
  }
 ],
 "metadata": {
  "kernelspec": {
   "display_name": "Python 3.8.10 ('base')",
   "language": "python",
   "name": "python3"
  },
  "language_info": {
   "codemirror_mode": {
    "name": "ipython",
    "version": 3
   },
   "file_extension": ".py",
   "mimetype": "text/x-python",
   "name": "python",
   "nbconvert_exporter": "python",
   "pygments_lexer": "ipython3",
   "version": "3.8.10"
  },
  "orig_nbformat": 4,
  "vscode": {
   "interpreter": {
    "hash": "b68217c4fa6011267e0d81cc47bb50822e9770eb46de3a1f506be20c9f89249d"
   }
  }
 },
 "nbformat": 4,
 "nbformat_minor": 2
}
