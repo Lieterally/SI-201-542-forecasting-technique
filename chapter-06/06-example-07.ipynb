{
 "cells": [
  {
   "cell_type": "markdown",
   "metadata": {},
   "source": [
    "# Example 07 - Multicollinearity\n",
    "This example will use different data that is presented in the textbook.    \n",
    "I could not find the book by (Johnson and Wichern, 1997) - *Business statistics - Decision making with data*.  \n",
    "\n",
    "Therefore, I replaced the data with the data from (Donnelly, 2020) - *Business statistics*. Figure 15.15A"
   ]
  },
  {
   "cell_type": "code",
   "execution_count": 2,
   "metadata": {},
   "outputs": [],
   "source": [
    "import matplotlib.pyplot as plt\n",
    "import numpy as np\n",
    "import pandas as pd\n",
    "import tabulate\n",
    "import scipy.stats as sc_stats\n",
    "\n",
    "from IPython.display import display\n",
    "\n",
    "from sklearn.linear_model import LinearRegression\n",
    "from sklearn.preprocessing import PolynomialFeatures\n",
    "from sklearn.pipeline import Pipeline\n"
   ]
  },
  {
   "cell_type": "code",
   "execution_count": 3,
   "metadata": {},
   "outputs": [],
   "source": [
    "plt.rcParams.update(plt.rcParamsDefault)\n",
    "plt.rcParams.update({\n",
    "  'font.size': 12,\n",
    "  'grid.alpha': 0.25})"
   ]
  },
  {
   "cell_type": "markdown",
   "metadata": {},
   "source": [
    "## Function declarations\n",
    "\n"
   ]
  },
  {
   "cell_type": "markdown",
   "metadata": {},
   "source": [
    "### Read `ods` to `DataFrame`"
   ]
  },
  {
   "cell_type": "code",
   "execution_count": 4,
   "metadata": {},
   "outputs": [],
   "source": [
    "def read_ods(filename, columns=None):\n",
    "  if columns is None:\n",
    "    df = pd.read_excel(filename, engine=\"odf\", header=0)\n",
    "  elif isinstance(columns, list):\n",
    "    df = pd.read_excel(filename, engine=\"odf\", header=0,\n",
    "                       usecols=columns)\n",
    "  else:\n",
    "    key_arr = (k for k in columns.keys())\n",
    "    df = pd.read_excel(filename, engine=\"odf\", header=0,\n",
    "                      usecols=key_arr)\n",
    "    df = df.rename(columns=columns)\n",
    "  return df"
   ]
  },
  {
   "cell_type": "markdown",
   "metadata": {},
   "source": [
    "### Get multiple regression coefficients"
   ]
  },
  {
   "cell_type": "code",
   "execution_count": 5,
   "metadata": {},
   "outputs": [],
   "source": [
    "def get_multiple_regress_coeff(df, n_vars=2):\n",
    "  \n",
    "  if isinstance(df, pd.DataFrame):\n",
    "    num_of_samples = len(df)\n",
    "    X_arr = np.zeros((num_of_samples, n_vars))\n",
    "    Y = df[\"Y\"].to_numpy()\n",
    "\n",
    "    for i in range(n_vars):\n",
    "      key = f\"X_{i+1}\"\n",
    "      X_arr[:, i] = df[key].to_numpy()\n",
    "\n",
    "    regress = LinearRegression().fit(X_arr, Y)\n",
    "    df[\"hat_Y\"] = regress.intercept_ + X_arr.dot(regress.coef_) \n",
    "  \n",
    "  elif isinstance(df, np.ndarray):\n",
    "    Y = df[:, 0]\n",
    "    X_arr = df[:, 1:]\n",
    "\n",
    "\n",
    "    regress = LinearRegression().fit(X_arr, Y)\n",
    "    Y_hat = regress.intercept_ + X_arr.dot(regress.coef_)\n",
    "    df = np.column_stack([df, Y_hat])\n",
    "\n",
    "  return regress, df\n"
   ]
  },
  {
   "cell_type": "markdown",
   "metadata": {},
   "source": [
    "### Get sum of square of $[Y, \\mathbf{X}]$"
   ]
  },
  {
   "cell_type": "code",
   "execution_count": 6,
   "metadata": {},
   "outputs": [],
   "source": [
    "def get_sumSq(data_struct, n_vars=2):\n",
    "  regress, _ = get_multiple_regress_coeff(data_struct, n_vars=n_vars)\n",
    "\n",
    "  hat_Y =  regress.intercept_ + data_struct[:,1:].dot(regress.coef_)\n",
    "  \n",
    "  meanY = data_struct[:, 0].mean()\n",
    "  SST = ((data_struct[:, 0] - meanY)**2).sum()\n",
    "  SSR = ((hat_Y - meanY)**2).sum()\n",
    "  SSE = ((data_struct[:, 0] - hat_Y)**2).sum()\n",
    "\n",
    "  return SST, SSR, SSE"
   ]
  },
  {
   "cell_type": "markdown",
   "metadata": {},
   "source": [
    "### Get Minitab output of Regression Analysis"
   ]
  },
  {
   "cell_type": "code",
   "execution_count": 7,
   "metadata": {},
   "outputs": [],
   "source": [
    "def get_minitab_out(df, n_vars=2, new_column=None, withVIF=False):\n",
    "  \"\"\"\n",
    "  new_column (dict) : a dictionary mapping to rename df header\n",
    "  \"\"\"\n",
    "  \n",
    "  data_struct = np.zeros((len(df), 1+n_vars))\n",
    "  data_struct[:, 0] = df['Y']\n",
    "  for i in range(n_vars):\n",
    "    key = f\"X_{i+1}\"\n",
    "    data_struct[:, i+1] = df[key]\n",
    "\n",
    "  # -- compute correlation matrix\n",
    "  corr_matrix = np.corrcoef(data_struct, rowvar=False)\n",
    "  corr_matrix = corr_matrix[1:, 0:-1]    # only show lower triangle part of correlation matrix\n",
    "\n",
    "  # -- compute regression intercept and coefficients\n",
    "  regress, _ = get_multiple_regress_coeff(df, n_vars=n_vars)\n",
    "  b_arr = [regress.intercept_] + regress.coef_.tolist()\n",
    "  is_positive_b_arr = [b_j > 0 for b_j in b_arr]\n",
    "\n",
    "  # -- compute cofactor matrix \n",
    "  X_arr = np.ones_like(data_struct)\n",
    "  X_arr[:,1:] = data_struct[:,1:]\n",
    "  cofactor_matrix = np.linalg.inv(X_arr.transpose().dot(X_arr))   # this matrix is closely related to covariance matrix\n",
    "\n",
    "  # -- compute standad error of the estimates\n",
    "  num_of_samples = len(df)\n",
    "  hat_Y =  regress.intercept_ + data_struct[:,1:].dot(regress.coef_)\n",
    "  sumSq_Y_hat_Y = ((data_struct[:, 0] - hat_Y)**2).sum()\n",
    "  s_yxs = np.sqrt(sumSq_Y_hat_Y/(num_of_samples - n_vars - 1))\n",
    "\n",
    "  # -- compute standard error of intercept_ and coef_\n",
    "  # -- compute t-score of intecept_ and coef_\n",
    "  # -- compute p-values of intercept_ and coef_\n",
    "  SE_coef = np.zeros(1+n_vars)\n",
    "  t_scores = np.zeros(1+n_vars)\n",
    "  p_values = np.zeros(1+n_vars)\n",
    "  dof = num_of_samples - 2;          # degrees of freedom\n",
    "  for i in range(1+n_vars):\n",
    "    SE_coef[i] = s_yxs*np.sqrt(cofactor_matrix[i, i])\n",
    "    t_scores[i] = b_arr[i] / SE_coef[i]\n",
    "    p_values[i] = sc_stats.t.pdf(t_scores[i], dof)\n",
    "\n",
    "  # -- compute VIF of coef_\n",
    "  if withVIF:\n",
    "    # if n_vars == 2, we calculate VIF from correlation matrix\n",
    "    VIF_arr = np.zeros(n_vars)\n",
    "    if n_vars == 2:\n",
    "      VIF_arr[0] = 1/(1-corr_matrix[1, 1]**2)\n",
    "      VIF_arr[1] = 1/(1-corr_matrix[1, 1]**2)\n",
    "    else:\n",
    "      for i in range(n_vars):\n",
    "        # take a predictor column and put the other predictor after it\n",
    "        predictor_data_struct = np.zeros((num_of_samples, n_vars))\n",
    "        predictor_data_struct[:,0] = data_struct[:, i+1]   \n",
    "        predictor_data_struct[:,1:] = np.delete(data_struct, i+1, axis=1)[:,1:]  \n",
    "        #print(predictor_data_struct)\n",
    "        predictor_SST, predictor_SSR, _ = get_sumSq(predictor_data_struct, n_vars=n_vars)\n",
    "        predictor_R_sq = predictor_SSR/predictor_SST\n",
    "        #print(predictor_R_sq)\n",
    "        VIF_arr[i] = 1/(1 - predictor_R_sq)\n",
    "\n",
    "\n",
    "  # -- compute ANOVA table\n",
    "  meanY = data_struct[:, 0].mean()\n",
    "  SST = ((data_struct[:, 0] - meanY)**2).sum()\n",
    "  SSR = ((hat_Y - meanY)**2).sum()\n",
    "  SSE = ((data_struct[:, 0] - hat_Y)**2).sum()\n",
    "  anova_sumSq = np.array([SSR, SSE, SST])\n",
    "  anova_dof = np.array([n_vars, num_of_samples - n_vars - 1, num_of_samples - 1], dtype=int)\n",
    "  anova_meanSq = (anova_sumSq/anova_dof)[:2]\n",
    "  anova_F_score = anova_meanSq[0] / anova_meanSq[1]\n",
    "  anova_p_value = sc_stats.f.pdf(anova_F_score, anova_dof[0], anova_dof[1])\n",
    "\n",
    "  # -- compute R_sq (coefficient of determination)\n",
    "  R_sq = SSR/SST\n",
    "\n",
    "  # -- compute adjusted R_sq\n",
    "  adj_R_sq = 1 - (1 - R_sq)*(num_of_samples-1)/(num_of_samples-n_vars-1)\n",
    "\n",
    "  # -- create tabular form for correlation \n",
    "  data = []\n",
    "  for i in range(n_vars):\n",
    "    data_row = [new_column[i+1], *corr_matrix[i,:]]\n",
    "    data.append(data_row)\n",
    "\n",
    "  table_corr = tabulate.tabulate(data, tablefmt='html', \n",
    "    headers=[\"\"] + new_column[:n_vars], \n",
    "    floatfmt=[None] + [\".2f\"]*n_vars)\n",
    "\n",
    "  print(f\"Correlations: {', '.join(new_column)}\")\n",
    "  display(table_corr)\n",
    "\n",
    "  # -- create tabular form for predictor\n",
    "  data = [[\"Constant\", b_arr[0], SE_coef[0], t_scores[0], p_values[0]]]\n",
    "  if withVIF:\n",
    "    for i in range(1, n_vars+1):\n",
    "      data_row = [new_column[i], b_arr[i], SE_coef[i], t_scores[i], p_values[i], VIF_arr[i-1]]\n",
    "      data.append(data_row)\n",
    "    table_predictor = tabulate.tabulate(data, tablefmt='html', \n",
    "      headers=[\"Predictor\", \"Coef\", \"SE Coef\", \"t-score\", \"p-value\", \"VIF\"], \n",
    "      floatfmt=[None, \".4f\", \".4f\", \".2f\", \".3f\", \".3f\"])\n",
    "  else:\n",
    "    for i in range(1, n_vars+1):\n",
    "      data_row = [new_column[i], b_arr[i], SE_coef[i], t_scores[i], p_values[i]]\n",
    "      data.append(data_row)\n",
    "    table_predictor = tabulate.tabulate(data, tablefmt='html', \n",
    "      headers=[\"Predictor\", \"Coef\", \"SE Coef\", \"t-score\", \"p-value\"], \n",
    "      floatfmt=[None, \".4f\", \".4f\", \".2f\", \".3f\"])\n",
    "\n",
    "\n",
    "  print(f\"Regression Analysis: {new_column[0]} versus {', '.join(new_column[1:])}\")\n",
    "  print(\"The regression equation is\")\n",
    "  str_b_predictor = \"\" \n",
    "  for i in range(n_vars):\n",
    "    sign = \"+\" if is_positive_b_arr[i+1] else \"-\"\n",
    "    str_b_predictor += f\" {sign} {abs(b_arr[i+1]):.3f} {new_column[i+1]}\"\n",
    "  print(f\"{new_column[0]} = {b_arr[0]:.3f}{str_b_predictor}\")\n",
    "  display(table_predictor)\n",
    "  print(f\"s_yxs = {s_yxs:.4f}   R_sq = {R_sq*100:.1f}%   R-sq(adj) = {adj_R_sq*100:.1f}%\")\n",
    "\n",
    "  # -- create ANOVA table (with F-score and its p-value)\n",
    "  data = [\n",
    "    [\"Regression\",     anova_dof[0], anova_sumSq[0], f\"{anova_meanSq[0]:.3f}\", f\"{anova_F_score:.3f}\", f\"{anova_p_value:.3f}\"],\n",
    "    [\"Residual error\", anova_dof[1], anova_sumSq[1], f\"{anova_meanSq[1]:.3f}\", \"\", \"\"],\n",
    "    [\"Total\",          anova_dof[2], anova_sumSq[2], \"\", \"\", \"\"]] \n",
    "  table_anova = tabulate.tabulate(data, tablefmt='html', \n",
    "    headers=[\"Source\", \"d.o.f\", \"sumSq\", \"meanSq\", \"F-score\", \"p-value\"], \n",
    "    floatfmt=[None, \".0f\", \".3f\", \"s\", \"s\", \"s\"])\n",
    "\n",
    "  print(f\"Analyis of Variance\")\n",
    "  display(table_anova)\n",
    "\n",
    "  return {\"regress\": regress, \"corr_matrix\": corr_matrix, \n",
    "    \"R_sq\": R_sq}\n"
   ]
  },
  {
   "cell_type": "markdown",
   "metadata": {},
   "source": [
    "## Load the data"
   ]
  },
  {
   "cell_type": "code",
   "execution_count": 11,
   "metadata": {},
   "outputs": [],
   "source": [
    "# For testing\n",
    "\n",
    "# filename = \"black-2009-14-table-06-crude-oil-production.ods\"\n",
    "# -- Full table\n",
    "# df = read_ods(filename, columns=[\n",
    "#   \"World Crude Oil Production (million barrels per day)\", \n",
    "#   \"U.S. Energy Consumption (quadrillion BTUs generation per year)\", \n",
    "#   \"U.S. Nuclear Electricity (billion kilowatt-hours)\", \n",
    "#   \"U.S. Coal Gross Production (million short-tons)\", \n",
    "#   \"U.S. Total Dry Gas Production (trillion cubic feet)\", \n",
    "#   \"U.S. Fuel Rate for Automobiles (miles per gallon)\"])\n",
    "\n",
    "# filename = \"donnelly-2020-15-your-turn-05-mba-gpa.ods\"\n",
    "# -- Full table\n",
    "# df = read_ods(filename, columns=[\n",
    "#   \"MBAGPA\", \"MGMAT\", \"VGMAT\", \"UGGPA\", \"DEGREE\"])\n",
    "# -- Select two predictor variables with high VIF and one with close to one\n",
    "# df = read_ods(filename, columns=[\n",
    "#   \"MBAGPA\", \"MGMAT\", \"VGMAT\", \"UGGPA\"])\n",
    "\n",
    "# filename = \"donnelly-2020-15-problems-57-laptops.ods\"\n",
    "# -- Full table\n",
    "# df = read_ods(filename, columns=[\n",
    "#   \"Price ($)\", \"Screen Size (in.)\", \"RAM Memory (GB)\", \n",
    "#   \"Hard drive (GB)\", \"USB Ports\", \"Weight (oz.)\"])\n",
    "# df = read_ods(filename, columns=[\n",
    "#   \"Price ($)\", \"RAM Memory (GB)\", \"USB Ports\", \"Weight (oz.)\"])\n",
    "\n",
    "# filename = \"black-2009-14-case-discussion-01-size-purchase.ods\"\n",
    "# # -- Full table\n",
    "# df = read_ods(filename, columns=[\n",
    "#   \"Size of Purchase ($1,000)\", \"Company Size ($ million sales)\",\n",
    "#   \"Percent of Customer Imports\", \"Distance from Virginia Semiconductor\"])\n",
    "\n",
    "# filename = \"neter-1983-11-table-02-body-fat.ods\"\n",
    "# -- Full table\n",
    "# df = read_ods(filename, columns=[\n",
    "#   \"Body Fat Y_i\",\n",
    "#   \"Triceps Skinfold Thickness X_i1\",\n",
    "#   \"Thigh Circumference X_i2\",\n",
    "#   \"Midarm Circumference X_i3\"])"
   ]
  },
  {
   "cell_type": "code",
   "execution_count": 17,
   "metadata": {},
   "outputs": [
    {
     "data": {
      "text/html": [
       "<div>\n",
       "<style scoped>\n",
       "    .dataframe tbody tr th:only-of-type {\n",
       "        vertical-align: middle;\n",
       "    }\n",
       "\n",
       "    .dataframe tbody tr th {\n",
       "        vertical-align: top;\n",
       "    }\n",
       "\n",
       "    .dataframe thead th {\n",
       "        text-align: right;\n",
       "    }\n",
       "</style>\n",
       "<table border=\"1\" class=\"dataframe\">\n",
       "  <thead>\n",
       "    <tr style=\"text-align: right;\">\n",
       "      <th></th>\n",
       "      <th>Activations</th>\n",
       "      <th>Perf</th>\n",
       "      <th>Age</th>\n",
       "      <th>Salary ($)</th>\n",
       "    </tr>\n",
       "  </thead>\n",
       "  <tbody>\n",
       "    <tr>\n",
       "      <th>0</th>\n",
       "      <td>19</td>\n",
       "      <td>80</td>\n",
       "      <td>27</td>\n",
       "      <td>810</td>\n",
       "    </tr>\n",
       "    <tr>\n",
       "      <th>1</th>\n",
       "      <td>20</td>\n",
       "      <td>76</td>\n",
       "      <td>32</td>\n",
       "      <td>720</td>\n",
       "    </tr>\n",
       "    <tr>\n",
       "      <th>2</th>\n",
       "      <td>20</td>\n",
       "      <td>82</td>\n",
       "      <td>46</td>\n",
       "      <td>960</td>\n",
       "    </tr>\n",
       "    <tr>\n",
       "      <th>3</th>\n",
       "      <td>22</td>\n",
       "      <td>82</td>\n",
       "      <td>35</td>\n",
       "      <td>750</td>\n",
       "    </tr>\n",
       "    <tr>\n",
       "      <th>4</th>\n",
       "      <td>23</td>\n",
       "      <td>80</td>\n",
       "      <td>41</td>\n",
       "      <td>850</td>\n",
       "    </tr>\n",
       "  </tbody>\n",
       "</table>\n",
       "</div>"
      ],
      "text/plain": [
       "   Activations  Perf  Age  Salary ($)\n",
       "0           19    80   27         810\n",
       "1           20    76   32         720\n",
       "2           20    82   46         960\n",
       "3           22    82   35         750\n",
       "4           23    80   41         850"
      ]
     },
     "execution_count": 17,
     "metadata": {},
     "output_type": "execute_result"
    }
   ],
   "source": [
    "filename = \"donnelly-2020-15-figure-15a-cell-phone-activation.ods\"\n",
    "\n",
    "# -- Full table\n",
    "# df = read_ods(filename, columns=[\n",
    "#   \"Activations\", \"Exp\", \"Gend\", \"Perf\", \"Age\", \"Salary ($)\"])\n",
    "\n",
    "# -- Select two predictor variables with high VIF and one with close to one\n",
    "df = read_ods(filename, columns=[\n",
    "  \"Activations\", \"Perf\", \"Age\", \"Salary ($)\"])\n",
    "\n",
    "\n",
    "df.head()\n"
   ]
  },
  {
   "cell_type": "markdown",
   "metadata": {},
   "source": [
    "## Calculate Minitab's output with VIF (3 predictors)"
   ]
  },
  {
   "cell_type": "code",
   "execution_count": 18,
   "metadata": {},
   "outputs": [
    {
     "name": "stdout",
     "output_type": "stream",
     "text": [
      "header: ['Activations', 'Perf', 'Age', 'Salary ($)']\n"
     ]
    },
    {
     "data": {
      "text/html": [
       "<div>\n",
       "<style scoped>\n",
       "    .dataframe tbody tr th:only-of-type {\n",
       "        vertical-align: middle;\n",
       "    }\n",
       "\n",
       "    .dataframe tbody tr th {\n",
       "        vertical-align: top;\n",
       "    }\n",
       "\n",
       "    .dataframe thead th {\n",
       "        text-align: right;\n",
       "    }\n",
       "</style>\n",
       "<table border=\"1\" class=\"dataframe\">\n",
       "  <thead>\n",
       "    <tr style=\"text-align: right;\">\n",
       "      <th></th>\n",
       "      <th>Y</th>\n",
       "      <th>X_1</th>\n",
       "      <th>X_2</th>\n",
       "      <th>X_3</th>\n",
       "    </tr>\n",
       "  </thead>\n",
       "  <tbody>\n",
       "    <tr>\n",
       "      <th>0</th>\n",
       "      <td>19</td>\n",
       "      <td>80</td>\n",
       "      <td>27</td>\n",
       "      <td>810</td>\n",
       "    </tr>\n",
       "    <tr>\n",
       "      <th>1</th>\n",
       "      <td>20</td>\n",
       "      <td>76</td>\n",
       "      <td>32</td>\n",
       "      <td>720</td>\n",
       "    </tr>\n",
       "    <tr>\n",
       "      <th>2</th>\n",
       "      <td>20</td>\n",
       "      <td>82</td>\n",
       "      <td>46</td>\n",
       "      <td>960</td>\n",
       "    </tr>\n",
       "    <tr>\n",
       "      <th>3</th>\n",
       "      <td>22</td>\n",
       "      <td>82</td>\n",
       "      <td>35</td>\n",
       "      <td>750</td>\n",
       "    </tr>\n",
       "    <tr>\n",
       "      <th>4</th>\n",
       "      <td>23</td>\n",
       "      <td>80</td>\n",
       "      <td>41</td>\n",
       "      <td>850</td>\n",
       "    </tr>\n",
       "  </tbody>\n",
       "</table>\n",
       "</div>"
      ],
      "text/plain": [
       "    Y  X_1  X_2  X_3\n",
       "0  19   80   27  810\n",
       "1  20   76   32  720\n",
       "2  20   82   46  960\n",
       "3  22   82   35  750\n",
       "4  23   80   41  850"
      ]
     },
     "execution_count": 18,
     "metadata": {},
     "output_type": "execute_result"
    }
   ],
   "source": [
    "df_minitab = df.copy()\n",
    "from_column_names = df_minitab.columns.to_list()\n",
    "print(f\"header: {from_column_names}\")\n",
    "to_column_names = [\"Y\"] + [f\"X_{i+1}\" for i in range(len(from_column_names) - 1)]\n",
    "\n",
    "\n",
    "df_minitab = df_minitab.rename(columns=\n",
    "  {k: v for k, v in zip(from_column_names, to_column_names)})\n",
    "\n",
    "df_minitab.head()"
   ]
  },
  {
   "cell_type": "code",
   "execution_count": 20,
   "metadata": {},
   "outputs": [
    {
     "name": "stdout",
     "output_type": "stream",
     "text": [
      "Correlations: Activations, Perf, Age, Salary\n"
     ]
    },
    {
     "data": {
      "text/html": [
       "<table>\n",
       "<thead>\n",
       "<tr><th>      </th><th style=\"text-align: right;\">  Activations</th><th style=\"text-align: right;\">  Perf</th><th style=\"text-align: right;\">  Age</th></tr>\n",
       "</thead>\n",
       "<tbody>\n",
       "<tr><td>Perf  </td><td style=\"text-align: right;\">         0.67</td><td style=\"text-align: right;\">  1.00</td><td style=\"text-align: right;\"> 0.31</td></tr>\n",
       "<tr><td>Age   </td><td style=\"text-align: right;\">         0.06</td><td style=\"text-align: right;\">  0.31</td><td style=\"text-align: right;\"> 1.00</td></tr>\n",
       "<tr><td>Salary</td><td style=\"text-align: right;\">         0.76</td><td style=\"text-align: right;\">  0.89</td><td style=\"text-align: right;\"> 0.21</td></tr>\n",
       "</tbody>\n",
       "</table>"
      ],
      "text/plain": [
       "'<table>\\n<thead>\\n<tr><th>      </th><th style=\"text-align: right;\">  Activations</th><th style=\"text-align: right;\">  Perf</th><th style=\"text-align: right;\">  Age</th></tr>\\n</thead>\\n<tbody>\\n<tr><td>Perf  </td><td style=\"text-align: right;\">         0.67</td><td style=\"text-align: right;\">  1.00</td><td style=\"text-align: right;\"> 0.31</td></tr>\\n<tr><td>Age   </td><td style=\"text-align: right;\">         0.06</td><td style=\"text-align: right;\">  0.31</td><td style=\"text-align: right;\"> 1.00</td></tr>\\n<tr><td>Salary</td><td style=\"text-align: right;\">         0.76</td><td style=\"text-align: right;\">  0.89</td><td style=\"text-align: right;\"> 0.21</td></tr>\\n</tbody>\\n</table>'"
      ]
     },
     "metadata": {},
     "output_type": "display_data"
    },
    {
     "name": "stdout",
     "output_type": "stream",
     "text": [
      "Regression Analysis: Activations versus Perf, Age, Salary\n",
      "The regression equation is\n",
      "Activations = 3.117 + 0.046 Perf - 0.089 Age + 0.028 Salary\n"
     ]
    },
    {
     "data": {
      "text/html": [
       "<table>\n",
       "<thead>\n",
       "<tr><th>Predictor  </th><th style=\"text-align: right;\">   Coef</th><th style=\"text-align: right;\">  SE Coef</th><th style=\"text-align: right;\">  t-score</th><th style=\"text-align: right;\">  p-value</th><th style=\"text-align: right;\">  VIF</th></tr>\n",
       "</thead>\n",
       "<tbody>\n",
       "<tr><td>Constant   </td><td style=\"text-align: right;\"> 3.1167</td><td style=\"text-align: right;\">  11.9997</td><td style=\"text-align: right;\">     0.26</td><td style=\"text-align: right;\">    0.381</td><td style=\"text-align: right;\">     </td></tr>\n",
       "<tr><td>Perf       </td><td style=\"text-align: right;\"> 0.0463</td><td style=\"text-align: right;\">   0.2569</td><td style=\"text-align: right;\">     0.18</td><td style=\"text-align: right;\">    0.388</td><td style=\"text-align: right;\">5.192</td></tr>\n",
       "<tr><td>Age        </td><td style=\"text-align: right;\">-0.0892</td><td style=\"text-align: right;\">   0.1199</td><td style=\"text-align: right;\">    -0.74</td><td style=\"text-align: right;\">    0.297</td><td style=\"text-align: right;\">1.134</td></tr>\n",
       "<tr><td>Salary     </td><td style=\"text-align: right;\"> 0.0278</td><td style=\"text-align: right;\">   0.0118</td><td style=\"text-align: right;\">     2.37</td><td style=\"text-align: right;\">    0.029</td><td style=\"text-align: right;\">4.904</td></tr>\n",
       "</tbody>\n",
       "</table>"
      ],
      "text/plain": [
       "'<table>\\n<thead>\\n<tr><th>Predictor  </th><th style=\"text-align: right;\">   Coef</th><th style=\"text-align: right;\">  SE Coef</th><th style=\"text-align: right;\">  t-score</th><th style=\"text-align: right;\">  p-value</th><th style=\"text-align: right;\">  VIF</th></tr>\\n</thead>\\n<tbody>\\n<tr><td>Constant   </td><td style=\"text-align: right;\"> 3.1167</td><td style=\"text-align: right;\">  11.9997</td><td style=\"text-align: right;\">     0.26</td><td style=\"text-align: right;\">    0.381</td><td style=\"text-align: right;\">     </td></tr>\\n<tr><td>Perf       </td><td style=\"text-align: right;\"> 0.0463</td><td style=\"text-align: right;\">   0.2569</td><td style=\"text-align: right;\">     0.18</td><td style=\"text-align: right;\">    0.388</td><td style=\"text-align: right;\">5.192</td></tr>\\n<tr><td>Age        </td><td style=\"text-align: right;\">-0.0892</td><td style=\"text-align: right;\">   0.1199</td><td style=\"text-align: right;\">    -0.74</td><td style=\"text-align: right;\">    0.297</td><td style=\"text-align: right;\">1.134</td></tr>\\n<tr><td>Salary     </td><td style=\"text-align: right;\"> 0.0278</td><td style=\"text-align: right;\">   0.0118</td><td style=\"text-align: right;\">     2.37</td><td style=\"text-align: right;\">    0.029</td><td style=\"text-align: right;\">4.904</td></tr>\\n</tbody>\\n</table>'"
      ]
     },
     "metadata": {},
     "output_type": "display_data"
    },
    {
     "name": "stdout",
     "output_type": "stream",
     "text": [
      "s_yxs = 4.3753   R_sq = 59.0%   R-sq(adj) = 53.1%\n",
      "Analyis of Variance\n"
     ]
    },
    {
     "data": {
      "text/html": [
       "<table>\n",
       "<thead>\n",
       "<tr><th>Source        </th><th style=\"text-align: right;\">  d.o.f</th><th style=\"text-align: right;\">  sumSq</th><th>meanSq  </th><th>F-score  </th><th>p-value  </th></tr>\n",
       "</thead>\n",
       "<tbody>\n",
       "<tr><td>Regression    </td><td style=\"text-align: right;\">      3</td><td style=\"text-align: right;\">578.560</td><td>192.853 </td><td>10.074   </td><td>0.000    </td></tr>\n",
       "<tr><td>Residual error</td><td style=\"text-align: right;\">     21</td><td style=\"text-align: right;\">402.000</td><td>19.143  </td><td>         </td><td>         </td></tr>\n",
       "<tr><td>Total         </td><td style=\"text-align: right;\">     24</td><td style=\"text-align: right;\">980.560</td><td>        </td><td>         </td><td>         </td></tr>\n",
       "</tbody>\n",
       "</table>"
      ],
      "text/plain": [
       "'<table>\\n<thead>\\n<tr><th>Source        </th><th style=\"text-align: right;\">  d.o.f</th><th style=\"text-align: right;\">  sumSq</th><th>meanSq  </th><th>F-score  </th><th>p-value  </th></tr>\\n</thead>\\n<tbody>\\n<tr><td>Regression    </td><td style=\"text-align: right;\">      3</td><td style=\"text-align: right;\">578.560</td><td>192.853 </td><td>10.074   </td><td>0.000    </td></tr>\\n<tr><td>Residual error</td><td style=\"text-align: right;\">     21</td><td style=\"text-align: right;\">402.000</td><td>19.143  </td><td>         </td><td>         </td></tr>\\n<tr><td>Total         </td><td style=\"text-align: right;\">     24</td><td style=\"text-align: right;\">980.560</td><td>        </td><td>         </td><td>         </td></tr>\\n</tbody>\\n</table>'"
      ]
     },
     "metadata": {},
     "output_type": "display_data"
    }
   ],
   "source": [
    "column_name = [\"Activations\", \"Perf\", \"Age\", \"Salary\"]\n",
    "out_dict = get_minitab_out(df_minitab, n_vars=len(column_name)-1, \n",
    "  new_column=column_name, withVIF=True)"
   ]
  },
  {
   "cell_type": "markdown",
   "metadata": {},
   "source": [
    "The $F$ statistic ($10.98$) and its $p$-value ($.000$) clearly indicate \n",
    "that the regression is significant. \n",
    "The $t$ statistic for `Perf` is small with a relatively large $p$-value. \n",
    "It must be concluded, that the variable `Perf` is not significant, \n",
    "provided the other predictor variables remain in th regression function.\n",
    "This suggest that the term $\\beta_1 X_1$ can be dropped from the regression \n",
    "function if the remaining terms, $\\beta_2 X_2$ and $\\beta_3 X_3$, are retained.\n",
    "Similarly, it appears as if $\\beta_2 X_2$ can be dropped if $\\beta_1 X_1$\n",
    "and $\\beta_3 X_3$ remain in the regression function. The $t$ value ($2.37$)\n",
    "associated with `Salary` is marginally significant.\n",
    "\n",
    "Since $\\textrm{VIF} = 1.1$ for `Age`, this predictor variable is very weakly related\n",
    "($\\textrm{VIF}$ near $1$) to the remaining predictor variables, `Perf` and `Salary`.  \n",
    "The $\\textrm{VIF} = 5.2$ for `Perf` is relatively large, indicating this variable\n",
    "is linearly related to the remaining predictor variables. \n",
    "Also, the $\\textrm{VIF} = 4.9$ for `Salary` indicates that `Salary` is \n",
    "related to the remaining predictor variables. Since `Age` is weakly related\n",
    "to `Perf` and `Salary`, the relationship among the predictor\n",
    "variables is essentially the relationship between `Perf` and `Salary`.\n",
    "In fact, the sample correlation between `Perf` and `Salary` is \n",
    "$r = 0.89$, showing strong linear association.\n",
    "\n",
    "Because of the strong linear relation between `Perf` and `Salary`. \n",
    "Those variables are very similar in their ability to explain `Activations`.\n",
    "We need only one, but not both, in the regression function. The\n",
    "Minitab output from a regression analysis with `Perf` \n",
    "(smallest absolute value of $t$ statistic)\n",
    "deleted from the regression function is shown in the below cell output."
   ]
  },
  {
   "cell_type": "markdown",
   "metadata": {},
   "source": [
    "## Calculate Minitab's output with VIF (2 predictors)"
   ]
  },
  {
   "cell_type": "code",
   "execution_count": 21,
   "metadata": {},
   "outputs": [
    {
     "name": "stdout",
     "output_type": "stream",
     "text": [
      "header: ['Activations', 'Age', 'Salary ($)']\n"
     ]
    },
    {
     "data": {
      "text/html": [
       "<div>\n",
       "<style scoped>\n",
       "    .dataframe tbody tr th:only-of-type {\n",
       "        vertical-align: middle;\n",
       "    }\n",
       "\n",
       "    .dataframe tbody tr th {\n",
       "        vertical-align: top;\n",
       "    }\n",
       "\n",
       "    .dataframe thead th {\n",
       "        text-align: right;\n",
       "    }\n",
       "</style>\n",
       "<table border=\"1\" class=\"dataframe\">\n",
       "  <thead>\n",
       "    <tr style=\"text-align: right;\">\n",
       "      <th></th>\n",
       "      <th>Y</th>\n",
       "      <th>X_1</th>\n",
       "      <th>X_2</th>\n",
       "    </tr>\n",
       "  </thead>\n",
       "  <tbody>\n",
       "    <tr>\n",
       "      <th>0</th>\n",
       "      <td>19</td>\n",
       "      <td>27</td>\n",
       "      <td>810</td>\n",
       "    </tr>\n",
       "    <tr>\n",
       "      <th>1</th>\n",
       "      <td>20</td>\n",
       "      <td>32</td>\n",
       "      <td>720</td>\n",
       "    </tr>\n",
       "    <tr>\n",
       "      <th>2</th>\n",
       "      <td>20</td>\n",
       "      <td>46</td>\n",
       "      <td>960</td>\n",
       "    </tr>\n",
       "    <tr>\n",
       "      <th>3</th>\n",
       "      <td>22</td>\n",
       "      <td>35</td>\n",
       "      <td>750</td>\n",
       "    </tr>\n",
       "    <tr>\n",
       "      <th>4</th>\n",
       "      <td>23</td>\n",
       "      <td>41</td>\n",
       "      <td>850</td>\n",
       "    </tr>\n",
       "  </tbody>\n",
       "</table>\n",
       "</div>"
      ],
      "text/plain": [
       "    Y  X_1  X_2\n",
       "0  19   27  810\n",
       "1  20   32  720\n",
       "2  20   46  960\n",
       "3  22   35  750\n",
       "4  23   41  850"
      ]
     },
     "execution_count": 21,
     "metadata": {},
     "output_type": "execute_result"
    }
   ],
   "source": [
    "df_minitab_2predictors = df.copy()\n",
    "df_minitab_2predictors = df_minitab_2predictors.drop(columns=[\"Perf\"])\n",
    "\n",
    "from_column_names = df_minitab_2predictors.columns.to_list()\n",
    "print(f\"header: {from_column_names}\")\n",
    "to_column_names = [\"Y\"] + [f\"X_{i+1}\" for i in range(len(from_column_names) - 1)]\n",
    "\n",
    "\n",
    "df_minitab_2predictors = df_minitab_2predictors.rename(columns=\n",
    "  {k: v for k, v in zip(from_column_names, to_column_names)})\n",
    "\n",
    "df_minitab_2predictors.head()\n"
   ]
  },
  {
   "cell_type": "code",
   "execution_count": 23,
   "metadata": {},
   "outputs": [
    {
     "name": "stdout",
     "output_type": "stream",
     "text": [
      "Correlations: Activations, Age, Salary\n"
     ]
    },
    {
     "data": {
      "text/html": [
       "<table>\n",
       "<thead>\n",
       "<tr><th>      </th><th style=\"text-align: right;\">  Activations</th><th style=\"text-align: right;\">  Age</th></tr>\n",
       "</thead>\n",
       "<tbody>\n",
       "<tr><td>Age   </td><td style=\"text-align: right;\">         0.06</td><td style=\"text-align: right;\"> 1.00</td></tr>\n",
       "<tr><td>Salary</td><td style=\"text-align: right;\">         0.76</td><td style=\"text-align: right;\"> 0.21</td></tr>\n",
       "</tbody>\n",
       "</table>"
      ],
      "text/plain": [
       "'<table>\\n<thead>\\n<tr><th>      </th><th style=\"text-align: right;\">  Activations</th><th style=\"text-align: right;\">  Age</th></tr>\\n</thead>\\n<tbody>\\n<tr><td>Age   </td><td style=\"text-align: right;\">         0.06</td><td style=\"text-align: right;\"> 1.00</td></tr>\\n<tr><td>Salary</td><td style=\"text-align: right;\">         0.76</td><td style=\"text-align: right;\"> 0.21</td></tr>\\n</tbody>\\n</table>'"
      ]
     },
     "metadata": {},
     "output_type": "display_data"
    },
    {
     "name": "stdout",
     "output_type": "stream",
     "text": [
      "Regression Analysis: Activations versus Age, Salary\n",
      "The regression equation is\n",
      "Activations = 5.006 - 0.083 Age + 0.030 Salary\n"
     ]
    },
    {
     "data": {
      "text/html": [
       "<table>\n",
       "<thead>\n",
       "<tr><th>Predictor  </th><th style=\"text-align: right;\">   Coef</th><th style=\"text-align: right;\">  SE Coef</th><th style=\"text-align: right;\">  t-score</th><th style=\"text-align: right;\">  p-value</th><th style=\"text-align: right;\">  VIF</th></tr>\n",
       "</thead>\n",
       "<tbody>\n",
       "<tr><td>Constant   </td><td style=\"text-align: right;\"> 5.0065</td><td style=\"text-align: right;\">   5.6963</td><td style=\"text-align: right;\">     0.88</td><td style=\"text-align: right;\">    0.265</td><td style=\"text-align: right;\">     </td></tr>\n",
       "<tr><td>Age        </td><td style=\"text-align: right;\">-0.0832</td><td style=\"text-align: right;\">   0.1125</td><td style=\"text-align: right;\">    -0.74</td><td style=\"text-align: right;\">    0.298</td><td style=\"text-align: right;\">1.044</td></tr>\n",
       "<tr><td>Salary     </td><td style=\"text-align: right;\"> 0.0297</td><td style=\"text-align: right;\">   0.0053</td><td style=\"text-align: right;\">     5.60</td><td style=\"text-align: right;\">    0.000</td><td style=\"text-align: right;\">1.044</td></tr>\n",
       "</tbody>\n",
       "</table>"
      ],
      "text/plain": [
       "'<table>\\n<thead>\\n<tr><th>Predictor  </th><th style=\"text-align: right;\">   Coef</th><th style=\"text-align: right;\">  SE Coef</th><th style=\"text-align: right;\">  t-score</th><th style=\"text-align: right;\">  p-value</th><th style=\"text-align: right;\">  VIF</th></tr>\\n</thead>\\n<tbody>\\n<tr><td>Constant   </td><td style=\"text-align: right;\"> 5.0065</td><td style=\"text-align: right;\">   5.6963</td><td style=\"text-align: right;\">     0.88</td><td style=\"text-align: right;\">    0.265</td><td style=\"text-align: right;\">     </td></tr>\\n<tr><td>Age        </td><td style=\"text-align: right;\">-0.0832</td><td style=\"text-align: right;\">   0.1125</td><td style=\"text-align: right;\">    -0.74</td><td style=\"text-align: right;\">    0.298</td><td style=\"text-align: right;\">1.044</td></tr>\\n<tr><td>Salary     </td><td style=\"text-align: right;\"> 0.0297</td><td style=\"text-align: right;\">   0.0053</td><td style=\"text-align: right;\">     5.60</td><td style=\"text-align: right;\">    0.000</td><td style=\"text-align: right;\">1.044</td></tr>\\n</tbody>\\n</table>'"
      ]
     },
     "metadata": {},
     "output_type": "display_data"
    },
    {
     "name": "stdout",
     "output_type": "stream",
     "text": [
      "s_yxs = 4.2780   R_sq = 58.9%   R-sq(adj) = 55.2%\n",
      "Analyis of Variance\n"
     ]
    },
    {
     "data": {
      "text/html": [
       "<table>\n",
       "<thead>\n",
       "<tr><th>Source        </th><th style=\"text-align: right;\">  d.o.f</th><th style=\"text-align: right;\">  sumSq</th><th>meanSq  </th><th>F-score  </th><th>p-value  </th></tr>\n",
       "</thead>\n",
       "<tbody>\n",
       "<tr><td>Regression    </td><td style=\"text-align: right;\">      2</td><td style=\"text-align: right;\">577.939</td><td>288.969 </td><td>15.790   </td><td>0.000    </td></tr>\n",
       "<tr><td>Residual error</td><td style=\"text-align: right;\">     22</td><td style=\"text-align: right;\">402.621</td><td>18.301  </td><td>         </td><td>         </td></tr>\n",
       "<tr><td>Total         </td><td style=\"text-align: right;\">     24</td><td style=\"text-align: right;\">980.560</td><td>        </td><td>         </td><td>         </td></tr>\n",
       "</tbody>\n",
       "</table>"
      ],
      "text/plain": [
       "'<table>\\n<thead>\\n<tr><th>Source        </th><th style=\"text-align: right;\">  d.o.f</th><th style=\"text-align: right;\">  sumSq</th><th>meanSq  </th><th>F-score  </th><th>p-value  </th></tr>\\n</thead>\\n<tbody>\\n<tr><td>Regression    </td><td style=\"text-align: right;\">      2</td><td style=\"text-align: right;\">577.939</td><td>288.969 </td><td>15.790   </td><td>0.000    </td></tr>\\n<tr><td>Residual error</td><td style=\"text-align: right;\">     22</td><td style=\"text-align: right;\">402.621</td><td>18.301  </td><td>         </td><td>         </td></tr>\\n<tr><td>Total         </td><td style=\"text-align: right;\">     24</td><td style=\"text-align: right;\">980.560</td><td>        </td><td>         </td><td>         </td></tr>\\n</tbody>\\n</table>'"
      ]
     },
     "metadata": {},
     "output_type": "display_data"
    }
   ],
   "source": [
    "column_name = [\"Activations\", \"Age\", \"Salary\"] \n",
    "out_dict = get_minitab_out(df_minitab_2predictors, \n",
    "  n_vars=len(column_name) - 1, new_column=column_name, withVIF=True)\n"
   ]
  },
  {
   "cell_type": "markdown",
   "metadata": {},
   "source": [
    "Notice that the coefficient of `Age` and `Salary` is about the same for the \n",
    "two regressions. \n",
    "Also, for the second regression, the variable `Salary` is\n",
    "clearly significant ($t = 5.60$ with $p$-value $=.000$).\n",
    "With `Age` in the model, `Salary` is an additional important\n",
    "predictor of `Activations`. The $R^2$'s for the two regressions\n",
    "are nearly the same, approximately $.59$, as are the standard\n",
    "error of the estimates, $s_{y\\cdot x's} = 4.375$ and \n",
    "$s_{y\\cdot x's} = 4.278$, respectively. Finally, the common\n",
    "$\\textrm{VIF} = 1.0$ for the two predictors in the second model\n",
    "indicates that multicollinearity is no longer a problem."
   ]
  },
  {
   "cell_type": "markdown",
   "metadata": {},
   "source": []
  }
 ],
 "metadata": {
  "kernelspec": {
   "display_name": "Python 3.8.10 ('base')",
   "language": "python",
   "name": "python3"
  },
  "language_info": {
   "codemirror_mode": {
    "name": "ipython",
    "version": 3
   },
   "file_extension": ".py",
   "mimetype": "text/x-python",
   "name": "python",
   "nbconvert_exporter": "python",
   "pygments_lexer": "ipython3",
   "version": "3.8.10"
  },
  "orig_nbformat": 4,
  "vscode": {
   "interpreter": {
    "hash": "b68217c4fa6011267e0d81cc47bb50822e9770eb46de3a1f506be20c9f89249d"
   }
  }
 },
 "nbformat": 4,
 "nbformat_minor": 2
}
