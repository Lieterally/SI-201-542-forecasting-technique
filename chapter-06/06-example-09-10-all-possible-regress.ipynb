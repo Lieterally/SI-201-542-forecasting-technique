{
 "cells": [
  {
   "cell_type": "markdown",
   "metadata": {},
   "source": [
    "# Example 9 and 10"
   ]
  },
  {
   "cell_type": "code",
   "execution_count": 6,
   "metadata": {},
   "outputs": [],
   "source": [
    "import matplotlib.pyplot as plt\n",
    "import numpy as np\n",
    "import pandas as pd\n",
    "import tabulate\n",
    "import scipy.stats as sc_stats\n",
    "import itertools\n",
    "\n",
    "from IPython.display import display\n",
    "\n",
    "from sklearn.linear_model import LinearRegression\n",
    "from sklearn.preprocessing import PolynomialFeatures\n",
    "from sklearn.pipeline import Pipeline"
   ]
  },
  {
   "cell_type": "code",
   "execution_count": 2,
   "metadata": {},
   "outputs": [],
   "source": [
    "plt.rcParams.update(plt.rcParamsDefault)\n",
    "plt.rcParams.update({\n",
    "  'font.size': 12,\n",
    "  'grid.alpha': 0.25})"
   ]
  },
  {
   "cell_type": "markdown",
   "metadata": {},
   "source": [
    "## Function declarations\n",
    "\n"
   ]
  },
  {
   "cell_type": "markdown",
   "metadata": {},
   "source": [
    "### Read `ods` to `DataFrame`"
   ]
  },
  {
   "cell_type": "code",
   "execution_count": 3,
   "metadata": {},
   "outputs": [],
   "source": [
    "def read_ods(filename, columns=None):\n",
    "  if columns is None:\n",
    "    df = pd.read_excel(filename, engine=\"odf\", header=0)\n",
    "  elif isinstance(columns, list):\n",
    "    df = pd.read_excel(filename, engine=\"odf\", header=0,\n",
    "                       usecols=columns)\n",
    "  else:\n",
    "    key_arr = (k for k in columns.keys())\n",
    "    df = pd.read_excel(filename, engine=\"odf\", header=0,\n",
    "                      usecols=key_arr)\n",
    "    df = df.rename(columns=columns)\n",
    "  return df"
   ]
  },
  {
   "cell_type": "markdown",
   "metadata": {},
   "source": [
    "### Get multiple regression coefficients"
   ]
  },
  {
   "cell_type": "code",
   "execution_count": 34,
   "metadata": {},
   "outputs": [],
   "source": [
    "def get_multiple_regress_coeff(df, n_vars=2):\n",
    "  \n",
    "  if isinstance(df, pd.DataFrame):\n",
    "    num_of_samples = len(df)\n",
    "    X_arr = np.zeros((num_of_samples, n_vars))\n",
    "    Y = df[\"Y\"].to_numpy()\n",
    "\n",
    "    for i in range(n_vars):\n",
    "      key = f\"X_{i+1}\"\n",
    "      X_arr[:, i] = df[key].to_numpy()\n",
    "\n",
    "    regress = LinearRegression().fit(X_arr, Y)\n",
    "    df[\"hat_Y\"] = regress.intercept_ + X_arr.dot(regress.coef_) \n",
    "  \n",
    "  elif isinstance(df, np.ndarray):\n",
    "    Y = df[:, 0]\n",
    "    X_arr = df[:, 1:]\n",
    "\n",
    "\n",
    "    regress = LinearRegression().fit(X_arr, Y)\n",
    "    Y_hat = regress.intercept_ + X_arr.dot(regress.coef_)\n",
    "    df = np.column_stack([df, Y_hat])\n",
    "\n",
    "  return regress, df\n"
   ]
  },
  {
   "cell_type": "markdown",
   "metadata": {},
   "source": [
    "### Get sum of square of $[Y, \\mathbf{X}]$"
   ]
  },
  {
   "cell_type": "code",
   "execution_count": 35,
   "metadata": {},
   "outputs": [],
   "source": [
    "def get_sumSq(data_struct, n_vars=2):\n",
    "  regress, _ = get_multiple_regress_coeff(data_struct, n_vars=n_vars)\n",
    "\n",
    "  hat_Y =  regress.intercept_ + data_struct[:,1:].dot(regress.coef_)\n",
    "  \n",
    "  meanY = data_struct[:, 0].mean()\n",
    "  SST = ((data_struct[:, 0] - meanY)**2).sum()\n",
    "  SSR = ((hat_Y - meanY)**2).sum()\n",
    "  SSE = ((data_struct[:, 0] - hat_Y)**2).sum()\n",
    "\n",
    "  return SST, SSR, SSE"
   ]
  },
  {
   "cell_type": "markdown",
   "metadata": {},
   "source": [
    "### Get all possible combination of predictors"
   ]
  },
  {
   "cell_type": "code",
   "execution_count": 32,
   "metadata": {},
   "outputs": [],
   "source": [
    "def get_all_possible_predictors(df):\n",
    "  num_of_vars = len(df.columns) - 1\n",
    "  predictor_vars = [f\"X_{i+1}\" for i in range(num_of_vars)]\n",
    "\n",
    "  all_possible_predictors = [[\"\"]]\n",
    "  for k in range(1, num_of_vars+1):\n",
    "    combination_predictor_vars = itertools.combinations(predictor_vars, k)\n",
    "    for predictors in combination_predictor_vars:\n",
    "      all_possible_predictors.append(list(predictors))\n",
    "    # all_possible_predictors.append(combination_predictor_vars)\n",
    "    # print(combination_predictor_vars)\n",
    "\n",
    "  return all_possible_predictors"
   ]
  },
  {
   "cell_type": "markdown",
   "metadata": {},
   "source": [
    "### Get coefficient of determination $R^2$"
   ]
  },
  {
   "cell_type": "code",
   "execution_count": 49,
   "metadata": {},
   "outputs": [],
   "source": [
    "def get_R_sq(df):\n",
    "  all_possible_predictors = get_all_possible_predictors(df)\n",
    "  # all_possible_predictors\n",
    "  num_of_samples = len(df)\n",
    "  R_sq_predictors = np.zeros(len(all_possible_predictors))\n",
    "\n",
    "  for i, predictors in enumerate(all_possible_predictors[1:]):\n",
    "    num_of_vars = len(predictors)\n",
    "    data_struct = np.zeros([num_of_samples, 1+num_of_vars])\n",
    "    data_struct[:, 0] = df[\"Y\"]\n",
    "    for j ,X_j in enumerate(predictors):\n",
    "      data_struct[:, j+1] = df[X_j]\n",
    "\n",
    "    sumSqT, sumSqR, _ = get_sumSq(data_struct, n_vars=num_of_vars)\n",
    "    R_sq_predictors[1+i] = sumSqR/sumSqT\n",
    "\n",
    "    # print(data_struct)\n",
    "    # if i > 6:\n",
    "    #   break\n",
    "  \n",
    "  return R_sq_predictors\n"
   ]
  },
  {
   "cell_type": "markdown",
   "metadata": {},
   "source": [
    "## Load the data"
   ]
  },
  {
   "cell_type": "code",
   "execution_count": 5,
   "metadata": {},
   "outputs": [
    {
     "data": {
      "text/html": [
       "<div>\n",
       "<style scoped>\n",
       "    .dataframe tbody tr th:only-of-type {\n",
       "        vertical-align: middle;\n",
       "    }\n",
       "\n",
       "    .dataframe tbody tr th {\n",
       "        vertical-align: top;\n",
       "    }\n",
       "\n",
       "    .dataframe thead th {\n",
       "        text-align: right;\n",
       "    }\n",
       "</style>\n",
       "<table border=\"1\" class=\"dataframe\">\n",
       "  <thead>\n",
       "    <tr style=\"text-align: right;\">\n",
       "      <th></th>\n",
       "      <th>One Month’s Sales (units)</th>\n",
       "      <th>Aptitude Test Score</th>\n",
       "      <th>Age (years)</th>\n",
       "      <th>Anxiety Test Score</th>\n",
       "      <th>Experience (years)</th>\n",
       "      <th>High School GPA</th>\n",
       "    </tr>\n",
       "  </thead>\n",
       "  <tbody>\n",
       "    <tr>\n",
       "      <th>0</th>\n",
       "      <td>44</td>\n",
       "      <td>10</td>\n",
       "      <td>22.1</td>\n",
       "      <td>4.9</td>\n",
       "      <td>0</td>\n",
       "      <td>2.4</td>\n",
       "    </tr>\n",
       "    <tr>\n",
       "      <th>1</th>\n",
       "      <td>47</td>\n",
       "      <td>19</td>\n",
       "      <td>22.5</td>\n",
       "      <td>3.0</td>\n",
       "      <td>1</td>\n",
       "      <td>2.6</td>\n",
       "    </tr>\n",
       "    <tr>\n",
       "      <th>2</th>\n",
       "      <td>60</td>\n",
       "      <td>27</td>\n",
       "      <td>23.1</td>\n",
       "      <td>1.5</td>\n",
       "      <td>0</td>\n",
       "      <td>2.8</td>\n",
       "    </tr>\n",
       "    <tr>\n",
       "      <th>3</th>\n",
       "      <td>71</td>\n",
       "      <td>31</td>\n",
       "      <td>24.0</td>\n",
       "      <td>0.6</td>\n",
       "      <td>3</td>\n",
       "      <td>2.7</td>\n",
       "    </tr>\n",
       "    <tr>\n",
       "      <th>4</th>\n",
       "      <td>61</td>\n",
       "      <td>64</td>\n",
       "      <td>22.6</td>\n",
       "      <td>1.8</td>\n",
       "      <td>2</td>\n",
       "      <td>2.0</td>\n",
       "    </tr>\n",
       "  </tbody>\n",
       "</table>\n",
       "</div>"
      ],
      "text/plain": [
       "   One Month’s Sales (units)  Aptitude Test Score  Age (years)  \\\n",
       "0                         44                   10         22.1   \n",
       "1                         47                   19         22.5   \n",
       "2                         60                   27         23.1   \n",
       "3                         71                   31         24.0   \n",
       "4                         61                   64         22.6   \n",
       "\n",
       "   Anxiety Test Score  Experience (years)  High School GPA  \n",
       "0                 4.9                   0              2.4  \n",
       "1                 3.0                   1              2.6  \n",
       "2                 1.5                   0              2.8  \n",
       "3                 0.6                   3              2.7  \n",
       "4                 1.8                   2              2.0  "
      ]
     },
     "execution_count": 5,
     "metadata": {},
     "output_type": "execute_result"
    }
   ],
   "source": [
    "filename = \"06-table-13-zurenko-pharmaceutical-data.ods\"\n",
    "\n",
    "df = read_ods(filename)\n",
    "\n",
    "df.head()\n"
   ]
  },
  {
   "cell_type": "markdown",
   "metadata": {},
   "source": [
    "## $R^2$ for all possible combination of predictors"
   ]
  },
  {
   "cell_type": "code",
   "execution_count": 7,
   "metadata": {},
   "outputs": [
    {
     "name": "stdout",
     "output_type": "stream",
     "text": [
      "header: ['One Month’s Sales (units)', 'Aptitude Test Score', 'Age (years)', 'Anxiety Test Score', 'Experience (years)', 'High School GPA']\n"
     ]
    },
    {
     "data": {
      "text/html": [
       "<div>\n",
       "<style scoped>\n",
       "    .dataframe tbody tr th:only-of-type {\n",
       "        vertical-align: middle;\n",
       "    }\n",
       "\n",
       "    .dataframe tbody tr th {\n",
       "        vertical-align: top;\n",
       "    }\n",
       "\n",
       "    .dataframe thead th {\n",
       "        text-align: right;\n",
       "    }\n",
       "</style>\n",
       "<table border=\"1\" class=\"dataframe\">\n",
       "  <thead>\n",
       "    <tr style=\"text-align: right;\">\n",
       "      <th></th>\n",
       "      <th>Y</th>\n",
       "      <th>X_1</th>\n",
       "      <th>X_2</th>\n",
       "      <th>X_3</th>\n",
       "      <th>X_4</th>\n",
       "      <th>X_5</th>\n",
       "    </tr>\n",
       "  </thead>\n",
       "  <tbody>\n",
       "    <tr>\n",
       "      <th>0</th>\n",
       "      <td>44</td>\n",
       "      <td>10</td>\n",
       "      <td>22.1</td>\n",
       "      <td>4.9</td>\n",
       "      <td>0</td>\n",
       "      <td>2.4</td>\n",
       "    </tr>\n",
       "    <tr>\n",
       "      <th>1</th>\n",
       "      <td>47</td>\n",
       "      <td>19</td>\n",
       "      <td>22.5</td>\n",
       "      <td>3.0</td>\n",
       "      <td>1</td>\n",
       "      <td>2.6</td>\n",
       "    </tr>\n",
       "    <tr>\n",
       "      <th>2</th>\n",
       "      <td>60</td>\n",
       "      <td>27</td>\n",
       "      <td>23.1</td>\n",
       "      <td>1.5</td>\n",
       "      <td>0</td>\n",
       "      <td>2.8</td>\n",
       "    </tr>\n",
       "    <tr>\n",
       "      <th>3</th>\n",
       "      <td>71</td>\n",
       "      <td>31</td>\n",
       "      <td>24.0</td>\n",
       "      <td>0.6</td>\n",
       "      <td>3</td>\n",
       "      <td>2.7</td>\n",
       "    </tr>\n",
       "    <tr>\n",
       "      <th>4</th>\n",
       "      <td>61</td>\n",
       "      <td>64</td>\n",
       "      <td>22.6</td>\n",
       "      <td>1.8</td>\n",
       "      <td>2</td>\n",
       "      <td>2.0</td>\n",
       "    </tr>\n",
       "  </tbody>\n",
       "</table>\n",
       "</div>"
      ],
      "text/plain": [
       "    Y  X_1   X_2  X_3  X_4  X_5\n",
       "0  44   10  22.1  4.9    0  2.4\n",
       "1  47   19  22.5  3.0    1  2.6\n",
       "2  60   27  23.1  1.5    0  2.8\n",
       "3  71   31  24.0  0.6    3  2.7\n",
       "4  61   64  22.6  1.8    2  2.0"
      ]
     },
     "execution_count": 7,
     "metadata": {},
     "output_type": "execute_result"
    }
   ],
   "source": [
    "df_generic = df.copy()\n",
    "from_column_names = df_generic.columns.to_list()\n",
    "print(f\"header: {from_column_names}\")\n",
    "to_column_names = [\"Y\"] + [f\"X_{i+1}\" for i in range(len(from_column_names) - 1)]\n",
    "\n",
    "\n",
    "df_generic = df_generic.rename(columns=\n",
    "  {k: v for k, v in zip(from_column_names, to_column_names)})\n",
    "\n",
    "df_generic.head()"
   ]
  },
  {
   "cell_type": "code",
   "execution_count": 71,
   "metadata": {},
   "outputs": [],
   "source": [
    "def get_table_all_regressions(df):\n",
    "  all_possible_predictors = get_all_possible_predictors(df)\n",
    "\n",
    "  R_sq_arr = get_R_sq(df)\n",
    "\n",
    "  # -- create a table for all possible values of R_sq for a given combination of predictor(s)\n",
    "  num_of_samples = len(df)\n",
    "  data = [[\"None\", 1, num_of_samples - 1, R_sq_arr[0]]]\n",
    "  for i, predictors in enumerate(all_possible_predictors[1:]):\n",
    "    num_of_params = len(predictors) + 1 \n",
    "    dof = num_of_samples - num_of_params   # degrees of freedom\n",
    "    data_row = [\", \".join(predictors), num_of_params, dof, R_sq_arr[i+1]]\n",
    "    #print(data_row)\n",
    "\n",
    "    data.append(data_row)\n",
    "\n",
    "  table_R_sq = tabulate.tabulate(data, tablefmt='html', \n",
    "    headers=[\"Independent Variables Used\", \"Number of Parameters\",\n",
    "      \"Error Degrees of Freedom\", \"R^2\"], \n",
    "    floatfmt=[\"s\", \"d\", \"d\", \".4f\"])\n",
    "\n",
    "  display(table_R_sq)\n",
    "\n",
    "  # -- create dataframe\n",
    "  df_R_sq = pd.DataFrame()\n",
    "  df_R_sq[\"predictor\"] = [row[0] for row in data]\n",
    "  df_R_sq[\"numOfParams\"]  = [row[1] for row in data]\n",
    "  df_R_sq[\"d.o.f\"] = [row[2] for row in data]\n",
    "  df_R_sq[\"R_sq\"] = [row[3] for row in data]\n",
    "\n",
    "  return df_R_sq "
   ]
  },
  {
   "cell_type": "markdown",
   "metadata": {},
   "source": [
    "number of parameters for no predictor variables is a constant: $\\hat{Y} = b_0$.\n",
    "This constant is a mean of $Y$."
   ]
  },
  {
   "cell_type": "code",
   "execution_count": 72,
   "metadata": {},
   "outputs": [
    {
     "data": {
      "text/html": [
       "<table>\n",
       "<thead>\n",
       "<tr><th>Independent Variables Used  </th><th style=\"text-align: right;\">  Number of Parameters</th><th style=\"text-align: right;\">  Error Degrees of Freedom</th><th style=\"text-align: right;\">   R^2</th></tr>\n",
       "</thead>\n",
       "<tbody>\n",
       "<tr><td>None                        </td><td style=\"text-align: right;\">                     1</td><td style=\"text-align: right;\">                        29</td><td style=\"text-align: right;\">0.0000</td></tr>\n",
       "<tr><td>X_1                         </td><td style=\"text-align: right;\">                     2</td><td style=\"text-align: right;\">                        28</td><td style=\"text-align: right;\">0.4571</td></tr>\n",
       "<tr><td>X_2                         </td><td style=\"text-align: right;\">                     2</td><td style=\"text-align: right;\">                        28</td><td style=\"text-align: right;\">0.6370</td></tr>\n",
       "<tr><td>X_3                         </td><td style=\"text-align: right;\">                     2</td><td style=\"text-align: right;\">                        28</td><td style=\"text-align: right;\">0.0875</td></tr>\n",
       "<tr><td>X_4                         </td><td style=\"text-align: right;\">                     2</td><td style=\"text-align: right;\">                        28</td><td style=\"text-align: right;\">0.3023</td></tr>\n",
       "<tr><td>X_5                         </td><td style=\"text-align: right;\">                     2</td><td style=\"text-align: right;\">                        28</td><td style=\"text-align: right;\">0.3866</td></tr>\n",
       "<tr><td>X_1, X_2                    </td><td style=\"text-align: right;\">                     3</td><td style=\"text-align: right;\">                        27</td><td style=\"text-align: right;\">0.8948</td></tr>\n",
       "<tr><td>X_1, X_3                    </td><td style=\"text-align: right;\">                     3</td><td style=\"text-align: right;\">                        27</td><td style=\"text-align: right;\">0.4795</td></tr>\n",
       "<tr><td>X_1, X_4                    </td><td style=\"text-align: right;\">                     3</td><td style=\"text-align: right;\">                        27</td><td style=\"text-align: right;\">0.5691</td></tr>\n",
       "<tr><td>X_1, X_5                    </td><td style=\"text-align: right;\">                     3</td><td style=\"text-align: right;\">                        27</td><td style=\"text-align: right;\">0.6413</td></tr>\n",
       "<tr><td>X_2, X_3                    </td><td style=\"text-align: right;\">                     3</td><td style=\"text-align: right;\">                        27</td><td style=\"text-align: right;\">0.6419</td></tr>\n",
       "<tr><td>X_2, X_4                    </td><td style=\"text-align: right;\">                     3</td><td style=\"text-align: right;\">                        27</td><td style=\"text-align: right;\">0.6571</td></tr>\n",
       "<tr><td>X_2, X_5                    </td><td style=\"text-align: right;\">                     3</td><td style=\"text-align: right;\">                        27</td><td style=\"text-align: right;\">0.6458</td></tr>\n",
       "<tr><td>X_3, X_4                    </td><td style=\"text-align: right;\">                     3</td><td style=\"text-align: right;\">                        27</td><td style=\"text-align: right;\">0.3244</td></tr>\n",
       "<tr><td>X_3, X_5                    </td><td style=\"text-align: right;\">                     3</td><td style=\"text-align: right;\">                        27</td><td style=\"text-align: right;\">0.4086</td></tr>\n",
       "<tr><td>X_4, X_5                    </td><td style=\"text-align: right;\">                     3</td><td style=\"text-align: right;\">                        27</td><td style=\"text-align: right;\">0.5268</td></tr>\n",
       "<tr><td>X_1, X_2, X_3               </td><td style=\"text-align: right;\">                     4</td><td style=\"text-align: right;\">                        26</td><td style=\"text-align: right;\">0.8950</td></tr>\n",
       "<tr><td>X_1, X_2, X_4               </td><td style=\"text-align: right;\">                     4</td><td style=\"text-align: right;\">                        26</td><td style=\"text-align: right;\">0.8948</td></tr>\n",
       "<tr><td>X_1, X_2, X_5               </td><td style=\"text-align: right;\">                     4</td><td style=\"text-align: right;\">                        26</td><td style=\"text-align: right;\">0.8953</td></tr>\n",
       "<tr><td>X_1, X_3, X_4               </td><td style=\"text-align: right;\">                     4</td><td style=\"text-align: right;\">                        26</td><td style=\"text-align: right;\">0.5751</td></tr>\n",
       "<tr><td>X_1, X_3, X_5               </td><td style=\"text-align: right;\">                     4</td><td style=\"text-align: right;\">                        26</td><td style=\"text-align: right;\">0.6462</td></tr>\n",
       "<tr><td>X_1, X_4, X_5               </td><td style=\"text-align: right;\">                     4</td><td style=\"text-align: right;\">                        26</td><td style=\"text-align: right;\">0.7007</td></tr>\n",
       "<tr><td>X_2, X_3, X_4               </td><td style=\"text-align: right;\">                     4</td><td style=\"text-align: right;\">                        26</td><td style=\"text-align: right;\">0.6594</td></tr>\n",
       "<tr><td>X_2, X_3, X_5               </td><td style=\"text-align: right;\">                     4</td><td style=\"text-align: right;\">                        26</td><td style=\"text-align: right;\">0.6499</td></tr>\n",
       "<tr><td>X_2, X_4, X_5               </td><td style=\"text-align: right;\">                     4</td><td style=\"text-align: right;\">                        26</td><td style=\"text-align: right;\">0.6689</td></tr>\n",
       "<tr><td>X_3, X_4, X_5               </td><td style=\"text-align: right;\">                     4</td><td style=\"text-align: right;\">                        26</td><td style=\"text-align: right;\">0.5314</td></tr>\n",
       "<tr><td>X_1, X_2, X_3, X_4          </td><td style=\"text-align: right;\">                     5</td><td style=\"text-align: right;\">                        25</td><td style=\"text-align: right;\">0.8951</td></tr>\n",
       "<tr><td>X_1, X_2, X_3, X_5          </td><td style=\"text-align: right;\">                     5</td><td style=\"text-align: right;\">                        25</td><td style=\"text-align: right;\">0.8955</td></tr>\n",
       "<tr><td>X_1, X_2, X_4, X_5          </td><td style=\"text-align: right;\">                     5</td><td style=\"text-align: right;\">                        25</td><td style=\"text-align: right;\">0.8953</td></tr>\n",
       "<tr><td>X_1, X_3, X_4, X_5          </td><td style=\"text-align: right;\">                     5</td><td style=\"text-align: right;\">                        25</td><td style=\"text-align: right;\">0.7014</td></tr>\n",
       "<tr><td>X_2, X_3, X_4, X_5          </td><td style=\"text-align: right;\">                     5</td><td style=\"text-align: right;\">                        25</td><td style=\"text-align: right;\">0.6705</td></tr>\n",
       "<tr><td>X_1, X_2, X_3, X_4, X_5     </td><td style=\"text-align: right;\">                     6</td><td style=\"text-align: right;\">                        24</td><td style=\"text-align: right;\">0.8955</td></tr>\n",
       "</tbody>\n",
       "</table>"
      ],
      "text/plain": [
       "'<table>\\n<thead>\\n<tr><th>Independent Variables Used  </th><th style=\"text-align: right;\">  Number of Parameters</th><th style=\"text-align: right;\">  Error Degrees of Freedom</th><th style=\"text-align: right;\">   R^2</th></tr>\\n</thead>\\n<tbody>\\n<tr><td>None                        </td><td style=\"text-align: right;\">                     1</td><td style=\"text-align: right;\">                        29</td><td style=\"text-align: right;\">0.0000</td></tr>\\n<tr><td>X_1                         </td><td style=\"text-align: right;\">                     2</td><td style=\"text-align: right;\">                        28</td><td style=\"text-align: right;\">0.4571</td></tr>\\n<tr><td>X_2                         </td><td style=\"text-align: right;\">                     2</td><td style=\"text-align: right;\">                        28</td><td style=\"text-align: right;\">0.6370</td></tr>\\n<tr><td>X_3                         </td><td style=\"text-align: right;\">                     2</td><td style=\"text-align: right;\">                        28</td><td style=\"text-align: right;\">0.0875</td></tr>\\n<tr><td>X_4                         </td><td style=\"text-align: right;\">                     2</td><td style=\"text-align: right;\">                        28</td><td style=\"text-align: right;\">0.3023</td></tr>\\n<tr><td>X_5                         </td><td style=\"text-align: right;\">                     2</td><td style=\"text-align: right;\">                        28</td><td style=\"text-align: right;\">0.3866</td></tr>\\n<tr><td>X_1, X_2                    </td><td style=\"text-align: right;\">                     3</td><td style=\"text-align: right;\">                        27</td><td style=\"text-align: right;\">0.8948</td></tr>\\n<tr><td>X_1, X_3                    </td><td style=\"text-align: right;\">                     3</td><td style=\"text-align: right;\">                        27</td><td style=\"text-align: right;\">0.4795</td></tr>\\n<tr><td>X_1, X_4                    </td><td style=\"text-align: right;\">                     3</td><td style=\"text-align: right;\">                        27</td><td style=\"text-align: right;\">0.5691</td></tr>\\n<tr><td>X_1, X_5                    </td><td style=\"text-align: right;\">                     3</td><td style=\"text-align: right;\">                        27</td><td style=\"text-align: right;\">0.6413</td></tr>\\n<tr><td>X_2, X_3                    </td><td style=\"text-align: right;\">                     3</td><td style=\"text-align: right;\">                        27</td><td style=\"text-align: right;\">0.6419</td></tr>\\n<tr><td>X_2, X_4                    </td><td style=\"text-align: right;\">                     3</td><td style=\"text-align: right;\">                        27</td><td style=\"text-align: right;\">0.6571</td></tr>\\n<tr><td>X_2, X_5                    </td><td style=\"text-align: right;\">                     3</td><td style=\"text-align: right;\">                        27</td><td style=\"text-align: right;\">0.6458</td></tr>\\n<tr><td>X_3, X_4                    </td><td style=\"text-align: right;\">                     3</td><td style=\"text-align: right;\">                        27</td><td style=\"text-align: right;\">0.3244</td></tr>\\n<tr><td>X_3, X_5                    </td><td style=\"text-align: right;\">                     3</td><td style=\"text-align: right;\">                        27</td><td style=\"text-align: right;\">0.4086</td></tr>\\n<tr><td>X_4, X_5                    </td><td style=\"text-align: right;\">                     3</td><td style=\"text-align: right;\">                        27</td><td style=\"text-align: right;\">0.5268</td></tr>\\n<tr><td>X_1, X_2, X_3               </td><td style=\"text-align: right;\">                     4</td><td style=\"text-align: right;\">                        26</td><td style=\"text-align: right;\">0.8950</td></tr>\\n<tr><td>X_1, X_2, X_4               </td><td style=\"text-align: right;\">                     4</td><td style=\"text-align: right;\">                        26</td><td style=\"text-align: right;\">0.8948</td></tr>\\n<tr><td>X_1, X_2, X_5               </td><td style=\"text-align: right;\">                     4</td><td style=\"text-align: right;\">                        26</td><td style=\"text-align: right;\">0.8953</td></tr>\\n<tr><td>X_1, X_3, X_4               </td><td style=\"text-align: right;\">                     4</td><td style=\"text-align: right;\">                        26</td><td style=\"text-align: right;\">0.5751</td></tr>\\n<tr><td>X_1, X_3, X_5               </td><td style=\"text-align: right;\">                     4</td><td style=\"text-align: right;\">                        26</td><td style=\"text-align: right;\">0.6462</td></tr>\\n<tr><td>X_1, X_4, X_5               </td><td style=\"text-align: right;\">                     4</td><td style=\"text-align: right;\">                        26</td><td style=\"text-align: right;\">0.7007</td></tr>\\n<tr><td>X_2, X_3, X_4               </td><td style=\"text-align: right;\">                     4</td><td style=\"text-align: right;\">                        26</td><td style=\"text-align: right;\">0.6594</td></tr>\\n<tr><td>X_2, X_3, X_5               </td><td style=\"text-align: right;\">                     4</td><td style=\"text-align: right;\">                        26</td><td style=\"text-align: right;\">0.6499</td></tr>\\n<tr><td>X_2, X_4, X_5               </td><td style=\"text-align: right;\">                     4</td><td style=\"text-align: right;\">                        26</td><td style=\"text-align: right;\">0.6689</td></tr>\\n<tr><td>X_3, X_4, X_5               </td><td style=\"text-align: right;\">                     4</td><td style=\"text-align: right;\">                        26</td><td style=\"text-align: right;\">0.5314</td></tr>\\n<tr><td>X_1, X_2, X_3, X_4          </td><td style=\"text-align: right;\">                     5</td><td style=\"text-align: right;\">                        25</td><td style=\"text-align: right;\">0.8951</td></tr>\\n<tr><td>X_1, X_2, X_3, X_5          </td><td style=\"text-align: right;\">                     5</td><td style=\"text-align: right;\">                        25</td><td style=\"text-align: right;\">0.8955</td></tr>\\n<tr><td>X_1, X_2, X_4, X_5          </td><td style=\"text-align: right;\">                     5</td><td style=\"text-align: right;\">                        25</td><td style=\"text-align: right;\">0.8953</td></tr>\\n<tr><td>X_1, X_3, X_4, X_5          </td><td style=\"text-align: right;\">                     5</td><td style=\"text-align: right;\">                        25</td><td style=\"text-align: right;\">0.7014</td></tr>\\n<tr><td>X_2, X_3, X_4, X_5          </td><td style=\"text-align: right;\">                     5</td><td style=\"text-align: right;\">                        25</td><td style=\"text-align: right;\">0.6705</td></tr>\\n<tr><td>X_1, X_2, X_3, X_4, X_5     </td><td style=\"text-align: right;\">                     6</td><td style=\"text-align: right;\">                        24</td><td style=\"text-align: right;\">0.8955</td></tr>\\n</tbody>\\n</table>'"
      ]
     },
     "metadata": {},
     "output_type": "display_data"
    }
   ],
   "source": [
    "df_R_sq = get_table_all_regressions(df_generic)"
   ]
  },
  {
   "cell_type": "markdown",
   "metadata": {},
   "source": [
    "## \"Best\" regression equations"
   ]
  },
  {
   "cell_type": "code",
   "execution_count": 79,
   "metadata": {},
   "outputs": [
    {
     "name": "stdout",
     "output_type": "stream",
     "text": [
      "  predictor  numOfParams  d.o.f  R_sq\n",
      "0      None            1     29   0.0\n",
      "  predictor  numOfParams  d.o.f      R_sq\n",
      "1       X_1            2     28  0.457139\n",
      "2       X_2            2     28  0.637028\n",
      "3       X_3            2     28  0.087533\n",
      "4       X_4            2     28  0.302317\n",
      "5       X_5            2     28  0.386615\n",
      "   predictor  numOfParams  d.o.f      R_sq\n",
      "6   X_1, X_2            3     27  0.894805\n",
      "7   X_1, X_3            3     27  0.479489\n",
      "8   X_1, X_4            3     27  0.569063\n",
      "9   X_1, X_5            3     27  0.641332\n",
      "10  X_2, X_3            3     27  0.641914\n",
      "11  X_2, X_4            3     27  0.657067\n",
      "12  X_2, X_5            3     27  0.645811\n",
      "13  X_3, X_4            3     27  0.324373\n",
      "14  X_3, X_5            3     27  0.408640\n",
      "15  X_4, X_5            3     27  0.526840\n",
      "        predictor  numOfParams  d.o.f      R_sq\n",
      "16  X_1, X_2, X_3            4     26  0.895048\n",
      "17  X_1, X_2, X_4            4     26  0.894806\n",
      "18  X_1, X_2, X_5            4     26  0.895314\n",
      "19  X_1, X_3, X_4            4     26  0.575111\n",
      "20  X_1, X_3, X_5            4     26  0.646239\n",
      "21  X_1, X_4, X_5            4     26  0.700748\n",
      "22  X_2, X_3, X_4            4     26  0.659440\n",
      "23  X_2, X_3, X_5            4     26  0.649892\n",
      "24  X_2, X_4, X_5            4     26  0.668934\n",
      "25  X_3, X_4, X_5            4     26  0.531435\n",
      "             predictor  numOfParams  d.o.f      R_sq\n",
      "26  X_1, X_2, X_3, X_4            5     25  0.895057\n",
      "27  X_1, X_2, X_3, X_5            5     25  0.895538\n",
      "28  X_1, X_2, X_4, X_5            5     25  0.895322\n",
      "29  X_1, X_3, X_4, X_5            5     25  0.701385\n",
      "30  X_2, X_3, X_4, X_5            5     25  0.670520\n"
     ]
    }
   ],
   "source": [
    "for i in range(num_of_vars):\n",
    "  row_df = df_R_sq[df_R_sq[\"numOfParams\"] == i+1][\"R_sq\"]\n",
    "  print(row_df)"
   ]
  },
  {
   "cell_type": "code",
   "execution_count": null,
   "metadata": {},
   "outputs": [],
   "source": []
  }
 ],
 "metadata": {
  "kernelspec": {
   "display_name": "Python 3.8.10 ('base')",
   "language": "python",
   "name": "python3"
  },
  "language_info": {
   "codemirror_mode": {
    "name": "ipython",
    "version": 3
   },
   "file_extension": ".py",
   "mimetype": "text/x-python",
   "name": "python",
   "nbconvert_exporter": "python",
   "pygments_lexer": "ipython3",
   "version": "3.8.10"
  },
  "orig_nbformat": 4,
  "vscode": {
   "interpreter": {
    "hash": "b68217c4fa6011267e0d81cc47bb50822e9770eb46de3a1f506be20c9f89249d"
   }
  }
 },
 "nbformat": 4,
 "nbformat_minor": 2
}
